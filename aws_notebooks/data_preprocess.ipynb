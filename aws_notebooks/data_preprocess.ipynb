{
 "cells": [
  {
   "cell_type": "code",
   "execution_count": null,
   "metadata": {},
   "outputs": [
    {
     "data": {
      "application/vnd.jupyter.widget-view+json": {
       "model_id": "860fd72e55244eb9a6b9a08ac2457e5f",
       "version_major": 2,
       "version_minor": 0
      },
      "text/plain": [
       "VBox()"
      ]
     },
     "metadata": {},
     "output_type": "display_data"
    },
    {
     "name": "stdout",
     "output_type": "stream",
     "text": [
      "Starting Spark application\n"
     ]
    },
    {
     "data": {
      "text/html": [
       "<table>\n",
       "<tr><th>ID</th><th>YARN Application ID</th><th>Kind</th><th>State</th><th>Spark UI</th><th>Driver log</th><th>Current session?</th></tr><tr><td>1</td><td>application_1680481360355_0002</td><td>pyspark</td><td>idle</td><td><a target=\"_blank\" href=\"http://ip-172-31-43-196.ap-southeast-1.compute.internal:20888/proxy/application_1680481360355_0002/\">Link</a></td><td><a target=\"_blank\" href=\"http://ip-172-31-40-54.ap-southeast-1.compute.internal:8042/node/containerlogs/container_1680481360355_0002_01_000001/livy\">Link</a></td><td>✔</td></tr></table>"
      ],
      "text/plain": [
       "<IPython.core.display.HTML object>"
      ]
     },
     "metadata": {},
     "output_type": "display_data"
    },
    {
     "data": {
      "application/vnd.jupyter.widget-view+json": {
       "model_id": "",
       "version_major": 2,
       "version_minor": 0
      },
      "text/plain": [
       "FloatProgress(value=0.0, bar_style='info', description='Progress:', layout=Layout(height='25px', width='50%'),…"
      ]
     },
     "metadata": {},
     "output_type": "display_data"
    },
    {
     "name": "stdout",
     "output_type": "stream",
     "text": [
      "SparkSession available as 'spark'.\n"
     ]
    },
    {
     "data": {
      "application/vnd.jupyter.widget-view+json": {
       "model_id": "",
       "version_major": 2,
       "version_minor": 0
      },
      "text/plain": [
       "FloatProgress(value=0.0, bar_style='info', description='Progress:', layout=Layout(height='25px', width='50%'),…"
      ]
     },
     "metadata": {},
     "output_type": "display_data"
    }
   ],
   "source": [
    "from pyspark.sql import functions"
   ]
  },
  {
   "cell_type": "code",
   "execution_count": null,
   "metadata": {},
   "outputs": [
    {
     "data": {
      "application/vnd.jupyter.widget-view+json": {
       "model_id": "d069cc659ac14169b4e6979fb0147d93",
       "version_major": 2,
       "version_minor": 0
      },
      "text/plain": [
       "VBox()"
      ]
     },
     "metadata": {},
     "output_type": "display_data"
    },
    {
     "data": {
      "application/vnd.jupyter.widget-view+json": {
       "model_id": "",
       "version_major": 2,
       "version_minor": 0
      },
      "text/plain": [
       "FloatProgress(value=0.0, bar_style='info', description='Progress:', layout=Layout(height='25px', width='50%'),…"
      ]
     },
     "metadata": {},
     "output_type": "display_data"
    }
   ],
   "source": [
    "from py4j.protocol import Py4JJavaError\n",
    "from pyspark import SparkConf, SparkContext\n",
    "import pyspark\n",
    "from pyspark.sql import SparkSession, SQLContext\n",
    "from pyspark.sql.functions import explode, col, udf, concat_ws, from_json, lit, array, expr, size\n",
    "from pyspark.sql.functions import sum as _sum\n",
    "from pyspark.sql.types import *\n",
    "import json\n",
    "import os\n",
    "import gc\n",
    "from pyspark.sql.types import BooleanType"
   ]
  },
  {
   "cell_type": "code",
   "execution_count": null,
   "metadata": {},
   "outputs": [
    {
     "data": {
      "application/vnd.jupyter.widget-view+json": {
       "model_id": "1ca38b079f2a4fc68e04e04be2de7987",
       "version_major": 2,
       "version_minor": 0
      },
      "text/plain": [
       "VBox()"
      ]
     },
     "metadata": {},
     "output_type": "display_data"
    },
    {
     "data": {
      "application/vnd.jupyter.widget-view+json": {
       "model_id": "",
       "version_major": 2,
       "version_minor": 0
      },
      "text/plain": [
       "FloatProgress(value=0.0, bar_style='info', description='Progress:', layout=Layout(height='25px', width='50%'),…"
      ]
     },
     "metadata": {},
     "output_type": "display_data"
    }
   ],
   "source": [
    "input_bucket = 's3://cs5344-twitter-project'\n",
    "path = '/{}/*.json.gz'\n",
    "folder_list = ['20220122', '20220123','20220124','20220125', \n",
    "               '20220126', '20220127','20220128', '20220129',\n",
    "               '20220130', '20220131', '20220201', '20220202',\n",
    "               '20220203', '20220204', '20220205', '20220206',\n",
    "               '20220207', '20220208', '20220209', '20220210',\n",
    "               '20220211', '20220212', '20220213', '20220214',\n",
    "               '20220215', '20220224', '20220225', '20220226', '20220228']"
   ]
  },
  {
   "cell_type": "code",
   "execution_count": null,
   "metadata": {},
   "outputs": [
    {
     "data": {
      "application/vnd.jupyter.widget-view+json": {
       "model_id": "4081130607a746efbd719f00372127ee",
       "version_major": 2,
       "version_minor": 0
      },
      "text/plain": [
       "VBox()"
      ]
     },
     "metadata": {},
     "output_type": "display_data"
    },
    {
     "data": {
      "application/vnd.jupyter.widget-view+json": {
       "model_id": "",
       "version_major": 2,
       "version_minor": 0
      },
      "text/plain": [
       "FloatProgress(value=0.0, bar_style='info', description='Progress:', layout=Layout(height='25px', width='50%'),…"
      ]
     },
     "metadata": {},
     "output_type": "display_data"
    }
   ],
   "source": [
    "test_list = ['nintendo', 'pokemon', 'video game', 'game', 'pokémon legends: arceus', 'pokémon', 'legend of arceus',\n",
    "             'legend arceus', 'legends of arceus', 'pokemon legends: arceus', 'arceus', 'twitch']\n",
    "# regex for filter\n",
    "regex_pattern = \"(?i)\" + \"|\".join(test_list)\n",
    "regex_pattern_hashtag = \"(?i)\" + \"|\".join([x.strip(' ') for x in test_list])"
   ]
  },
  {
   "cell_type": "code",
   "execution_count": null,
   "metadata": {},
   "outputs": [
    {
     "data": {
      "application/vnd.jupyter.widget-view+json": {
       "model_id": "a3e945c6278840e6afa475faee6e5337",
       "version_major": 2,
       "version_minor": 0
      },
      "text/plain": [
       "VBox()"
      ]
     },
     "metadata": {},
     "output_type": "display_data"
    },
    {
     "data": {
      "application/vnd.jupyter.widget-view+json": {
       "model_id": "",
       "version_major": 2,
       "version_minor": 0
      },
      "text/plain": [
       "FloatProgress(value=0.0, bar_style='info', description='Progress:', layout=Layout(height='25px', width='50%'),…"
      ]
     },
     "metadata": {},
     "output_type": "display_data"
    }
   ],
   "source": [
    "def pre_process(folder):\n",
    "    raw = spark.read.json(folder, allowBackslashEscapingAnyCharacter=True)\n",
    "    # twitter json counts\n",
    "    # print(raw.count())\n",
    "    '''\n",
    "        Step 1:\n",
    "        Save all tweets, include original tweets in the dataset and retweeted / quoted tweets\n",
    "\n",
    "        only select necessary columns\n",
    "        can refer to twitter API for better understanding:\n",
    "        https://developer.twitter.com/en/docs/twitter-api/v1/data-dictionary/object-model/tweet\n",
    "    '''\n",
    "\n",
    "    twitter_df = raw.select(\"created_at\", \"id_str\", col(\"user.id_str\").alias(\"user_id_str\"),\n",
    "                            col(\"user.screen_name\").alias(\"user_twitter_handle\"),\n",
    "                            \"in_reply_to_status_id_str\", \"in_reply_to_user_id_str\", \"in_reply_to_screen_name\",\n",
    "                            \"retweeted_status\",\n",
    "                            \"quoted_status\",\n",
    "                            \"text\", col(\"entities.hashtags.text\").alias(\"hashtags\"),\n",
    "                            col(\"quoted_status.created_at\").alias(\"quoted_time\"),\n",
    "                            col(\"quoted_status.id_str\").alias(\"quoted_original_tweet_id_str\"),\n",
    "                            col(\"quoted_status.user.id_str\").alias(\"quoted_original_user_id_str\"),\n",
    "                            col(\"quoted_status.user.screen_name\").alias(\"quoted_original_user_twitter_handle\"),\n",
    "                            col(\"retweeted_status.created_at\").alias(\"retweeted_time\"),\n",
    "                            col(\"retweeted_status.id_str\").alias(\"retweeted_original_tweet_id_str\"),\n",
    "                            col(\"retweeted_status.user.screen_name\").alias(\"retweeted_original_user_twitter_handle\"),\n",
    "                            col(\"retweeted_status.user.id_str\").alias(\"retweeted_original_user_id_str\")\n",
    "                            )\n",
    "\n",
    "    # add all retweeted / quoted original tweet themselves to the twitter df\n",
    "    retweet_rdd = twitter_df.filter(twitter_df.retweeted_status.isNotNull()).select('retweeted_status.*')\n",
    "    quoted_rdd = twitter_df.filter(twitter_df.quoted_status.isNotNull()).select('quoted_status.*')\n",
    "\n",
    "    # select columns\n",
    "    retweet_rdd = retweet_rdd.select(\"created_at\", \"id_str\",\n",
    "                                     col(\"user.id_str\").alias(\"user_id_str\"),\n",
    "                                     col(\"user.screen_name\").alias(\"user_twitter_handle\"),\n",
    "                                     \"in_reply_to_status_id_str\", \"in_reply_to_user_id_str\", \"in_reply_to_screen_name\",\n",
    "                                     # \"quoted_status\",\n",
    "                                     \"text\",\n",
    "                                     col(\"entities.hashtags.text\").alias(\"hashtags\"),\n",
    "                                     col(\"quoted_status.created_at\").alias(\"quoted_time\"),\n",
    "                                     col(\"quoted_status.id_str\").alias(\"quoted_original_tweet_id_str\"),\n",
    "                                     col(\"quoted_status.user.id_str\").alias(\"quoted_original_user_id_str\"),\n",
    "                                     col(\"quoted_status.user.screen_name\").alias(\"quoted_original_user_twitter_handle\")\n",
    "                                     )\n",
    "\n",
    "    quoted_rdd = quoted_rdd.select(\"created_at\", \"id_str\", col(\"user.id_str\").alias(\"user_id_str\"),\n",
    "                                   \"in_reply_to_status_id_str\", \"in_reply_to_user_id_str\", \"in_reply_to_screen_name\",\n",
    "                                   \"text\", col(\"entities.hashtags.text\").alias(\"hashtags\")\n",
    "                                   )\n",
    "    twitter_df = twitter_df.drop(\"retweeted_status\", \"quoted_status\")\n",
    "\n",
    "    # add missing columns to make sure all columns match in the above 3 DFs\n",
    "    for c in retweet_rdd.columns:\n",
    "        if c not in twitter_df.columns:\n",
    "            twitter_df = twitter_df.withColumn(c, lit(None))\n",
    "        if c not in quoted_rdd.columns:\n",
    "            quoted_rdd = quoted_rdd.withColumn(c, lit(None))\n",
    "    for c in quoted_rdd.columns:\n",
    "        if c not in twitter_df.columns:\n",
    "            twitter_df = twitter_df.withColumn(c, lit(None))\n",
    "        if c not in retweet_rdd.columns:\n",
    "            retweet_rdd = retweet_rdd.withColumn(c, lit(None))\n",
    "\n",
    "    for c in twitter_df.columns:\n",
    "        if c not in quoted_rdd.columns:\n",
    "            quoted_rdd = quoted_rdd.withColumn(c, lit(None))\n",
    "        if c not in retweet_rdd.columns:\n",
    "            retweet_rdd = retweet_rdd.withColumn(c, lit(None))\n",
    "\n",
    "    # final twitter DFs\n",
    "    combined_raw = twitter_df.unionByName(retweet_rdd).unionByName(quoted_rdd)\n",
    "    del retweet_rdd\n",
    "    del quoted_rdd\n",
    "    del twitter_df\n",
    "    gc.collect()\n",
    "\n",
    "    # convert hashtag column (array type) to str for regex expression filter\n",
    "    raw_df = combined_raw.withColumn(\"text_hashtag\", concat_ws(\",\", col(\"hashtags\")))\n",
    "\n",
    "    filter_df = raw_df.filter(raw_df.text.rlike(regex_pattern) | raw_df.text_hashtag.rlike(regex_pattern)).distinct()\n",
    "    del raw_df\n",
    "    del combined_raw\n",
    "    gc.collect()\n",
    "    print(\"date \" + folder[2:] + \" # of tweets analyzed: \" + str(filter_df.count()))\n",
    "    return filter_df"
   ]
  },
  {
   "cell_type": "code",
   "execution_count": null,
   "metadata": {},
   "outputs": [
    {
     "data": {
      "application/vnd.jupyter.widget-view+json": {
       "model_id": "67add6e850e34ef8b33d803162de726f",
       "version_major": 2,
       "version_minor": 0
      },
      "text/plain": [
       "VBox()"
      ]
     },
     "metadata": {},
     "output_type": "display_data"
    },
    {
     "data": {
      "application/vnd.jupyter.widget-view+json": {
       "model_id": "",
       "version_major": 2,
       "version_minor": 0
      },
      "text/plain": [
       "FloatProgress(value=0.0, bar_style='info', description='Progress:', layout=Layout(height='25px', width='50%'),…"
      ]
     },
     "metadata": {},
     "output_type": "display_data"
    },
    {
     "name": "stdout",
     "output_type": "stream",
     "text": [
      "date ://cs5344-twitter-project/20220122/*.json.gz # of tweets analyzed: 39213\n",
      "7\n",
      "date ://cs5344-twitter-project/20220123/*.json.gz # of tweets analyzed: 44996\n",
      "25\n",
      "date ://cs5344-twitter-project/20220124/*.json.gz # of tweets analyzed: 47045\n",
      "23\n",
      "date ://cs5344-twitter-project/20220125/*.json.gz # of tweets analyzed: 40003\n",
      "23\n",
      "date ://cs5344-twitter-project/20220126/*.json.gz # of tweets analyzed: 36168\n",
      "23\n",
      "date ://cs5344-twitter-project/20220127/*.json.gz # of tweets analyzed: 38718\n",
      "23\n",
      "date ://cs5344-twitter-project/20220128/*.json.gz # of tweets analyzed: 47934\n",
      "23\n",
      "date ://cs5344-twitter-project/20220129/*.json.gz # of tweets analyzed: 54479\n",
      "23\n",
      "date ://cs5344-twitter-project/20220130/*.json.gz # of tweets analyzed: 49244\n",
      "23\n",
      "date ://cs5344-twitter-project/20220131/*.json.gz # of tweets analyzed: 42603\n",
      "23\n",
      "date ://cs5344-twitter-project/20220201/*.json.gz # of tweets analyzed: 41113\n",
      "23\n",
      "date ://cs5344-twitter-project/20220202/*.json.gz # of tweets analyzed: 38464\n",
      "23\n",
      "date ://cs5344-twitter-project/20220203/*.json.gz # of tweets analyzed: 39036\n",
      "23\n",
      "date ://cs5344-twitter-project/20220204/*.json.gz # of tweets analyzed: 41754\n",
      "23\n",
      "date ://cs5344-twitter-project/20220205/*.json.gz # of tweets analyzed: 38003\n",
      "23\n",
      "date ://cs5344-twitter-project/20220206/*.json.gz # of tweets analyzed: 36649\n",
      "23\n",
      "date ://cs5344-twitter-project/20220207/*.json.gz # of tweets analyzed: 34933\n",
      "23\n",
      "date ://cs5344-twitter-project/20220208/*.json.gz # of tweets analyzed: 40043\n",
      "23\n",
      "date ://cs5344-twitter-project/20220209/*.json.gz # of tweets analyzed: 49452\n",
      "23\n",
      "date ://cs5344-twitter-project/20220210/*.json.gz # of tweets analyzed: 46114\n",
      "23\n",
      "date ://cs5344-twitter-project/20220211/*.json.gz # of tweets analyzed: 38327\n",
      "23\n",
      "date ://cs5344-twitter-project/20220212/*.json.gz # of tweets analyzed: 37238\n",
      "23\n",
      "date ://cs5344-twitter-project/20220213/*.json.gz # of tweets analyzed: 39386\n",
      "23\n",
      "date ://cs5344-twitter-project/20220214/*.json.gz # of tweets analyzed: 44576\n",
      "23\n",
      "date ://cs5344-twitter-project/20220215/*.json.gz # of tweets analyzed: 38571\n",
      "23\n",
      "date ://cs5344-twitter-project/20220224/*.json.gz # of tweets analyzed: 36972\n",
      "23\n",
      "date ://cs5344-twitter-project/20220225/*.json.gz # of tweets analyzed: 37921\n",
      "23\n",
      "date ://cs5344-twitter-project/20220226/*.json.gz # of tweets analyzed: 37612\n",
      "23\n",
      "date ://cs5344-twitter-project/20220228/*.json.gz # of tweets analyzed: 47163\n",
      "23"
     ]
    }
   ],
   "source": [
    "cnt = 0\n",
    "filter_df = None\n",
    "for f in folder_list:\n",
    "#     if f[0:7] == '2022013':\n",
    "    folder = input_bucket + path.format(f)\n",
    "    try:\n",
    "        partial_df = pre_process(folder)\n",
    "        if cnt == 0:\n",
    "            filter_df = partial_df\n",
    "        else:\n",
    "            filter_df = filter_df.unionByName(partial_df)\n",
    "        del partial_df\n",
    "        gc.collect()\n",
    "    except Py4JJavaError:\n",
    "        print(folder+\" failed\")\n",
    "    cnt += 1"
   ]
  },
  {
   "cell_type": "code",
   "execution_count": null,
   "metadata": {},
   "outputs": [
    {
     "data": {
      "application/vnd.jupyter.widget-view+json": {
       "model_id": "d4e0b5b20c514edb931268d94cf23374",
       "version_major": 2,
       "version_minor": 0
      },
      "text/plain": [
       "VBox()"
      ]
     },
     "metadata": {},
     "output_type": "display_data"
    },
    {
     "data": {
      "application/vnd.jupyter.widget-view+json": {
       "model_id": "",
       "version_major": 2,
       "version_minor": 0
      },
      "text/plain": [
       "FloatProgress(value=0.0, bar_style='info', description='Progress:', layout=Layout(height='25px', width='50%'),…"
      ]
     },
     "metadata": {},
     "output_type": "display_data"
    },
    {
     "name": "stdout",
     "output_type": "stream",
     "text": [
      "id name done"
     ]
    }
   ],
   "source": [
    "output_bucket = 's3://cs5344-twitter-project/input/'\n",
    "id_name = filter_df.select('user_id_str', 'user_twitter_handle') \\\n",
    "    .union(filter_df.select('in_reply_to_user_id_str', 'in_reply_to_screen_name')).na.drop().distinct()\n",
    "id_name.write.option(\"header\", True).mode('overwrite').csv(output_bucket+'id_name_dict_aws')\n",
    "print('id name done')\n",
    "del id_name\n",
    "gc.collect()\n",
    "\n",
    "filter_df = filter_df.drop(\"user_twitter_handle\", \"in_reply_to_screen_name\",\n",
    "                           \"quoted_original_user_twitter_handle\", \"retweeted_original_user_twitter_handle\")"
   ]
  },
  {
   "cell_type": "code",
   "execution_count": null,
   "metadata": {},
   "outputs": [
    {
     "data": {
      "application/vnd.jupyter.widget-view+json": {
       "model_id": "c9f933a673c44b079cc084317cb9f4a8",
       "version_major": 2,
       "version_minor": 0
      },
      "text/plain": [
       "VBox()"
      ]
     },
     "metadata": {},
     "output_type": "display_data"
    },
    {
     "data": {
      "application/vnd.jupyter.widget-view+json": {
       "model_id": "",
       "version_major": 2,
       "version_minor": 0
      },
      "text/plain": [
       "FloatProgress(value=0.0, bar_style='info', description='Progress:', layout=Layout(height='25px', width='50%'),…"
      ]
     },
     "metadata": {},
     "output_type": "display_data"
    }
   ],
   "source": [
    "'''\n",
    "    Step 2:\n",
    "    Find all interacted (reply, retweet, quote) users.\n",
    "    if a user A retweet user B's tweet, there will be a directional edge between A and B, A -> B.\n",
    "'''\n",
    "filtered_df = filter_df.withColumn(\"connected_user\",\n",
    "                                 array(filter_df.quoted_original_user_id_str, filter_df.in_reply_to_user_id_str,\n",
    "                                       filter_df.retweeted_original_user_id_str))\n",
    "filtered_df = filtered_df.withColumn(\"connected_user_clean\", expr('filter(connected_user, x -> x is not null)')).drop(\n",
    "    \"connected_user\", \"hashtags\")"
   ]
  },
  {
   "cell_type": "code",
   "execution_count": null,
   "metadata": {},
   "outputs": [
    {
     "data": {
      "application/vnd.jupyter.widget-view+json": {
       "model_id": "af96d69c4b244aacb9b22166500b5fec",
       "version_major": 2,
       "version_minor": 0
      },
      "text/plain": [
       "VBox()"
      ]
     },
     "metadata": {},
     "output_type": "display_data"
    },
    {
     "data": {
      "application/vnd.jupyter.widget-view+json": {
       "model_id": "",
       "version_major": 2,
       "version_minor": 0
      },
      "text/plain": [
       "FloatProgress(value=0.0, bar_style='info', description='Progress:', layout=Layout(height='25px', width='50%'),…"
      ]
     },
     "metadata": {},
     "output_type": "display_data"
    },
    {
     "name": "stdout",
     "output_type": "stream",
     "text": [
      "+--------------------+-------------------+-------------------+-------------------------+-----------------------+--------------------+-----------+----------------------------+---------------------------+--------------------+-------------------------------+------------------------------+------------------+--------------------+\n",
      "|          created_at|             id_str|        user_id_str|in_reply_to_status_id_str|in_reply_to_user_id_str|                text|quoted_time|quoted_original_tweet_id_str|quoted_original_user_id_str|      retweeted_time|retweeted_original_tweet_id_str|retweeted_original_user_id_str|      text_hashtag|connected_user_clean|\n",
      "+--------------------+-------------------+-------------------+-------------------------+-----------------------+--------------------+-----------+----------------------------+---------------------------+--------------------+-------------------------------+------------------------------+------------------+--------------------+\n",
      "|Sat Jan 22 13:44:...|1484884581287444481|         1198816724|                     null|                   null|RT @SokenGames: M...|       null|                        null|                       null|Sat Jan 22 12:40:...|            1484868658241417223|           1193871394410565633|                  |[1193871394410565...|\n",
      "|Sat Jan 22 13:44:...|1484884581300211714|1000355922437263360|                     null|                   null|RT @mcumagik: the...|       null|                        null|                       null|Thu Jan 20 21:30:...|            1484277145903972368|                    2887836579|                  |        [2887836579]|\n",
      "|Sat Jan 22 13:42:...|1484884270908907525|1318315411360878596|                     null|                   null|RT @BSCGemsAlert:...|       null|                        null|                       null|Fri Jan 21 22:49:...|            1484659372416552965|                    2424259633|           SAITAMA|        [2424259633]|\n",
      "|Sat Jan 22 13:42:...|1484884078000472068|1404783282684776454|      1484864518375505925|    1273914883852005376|@anime_game_0523 ...|       null|                        null|                       null|                null|                           null|                          null|                  |[1273914883852005...|\n",
      "|Sat Jan 22 13:26:...|1484880160495378434|1264075963689693184|                     null|                   null|RT @Kommunitas1: ...|       null|                        null|                       null|Fri Jan 21 03:49:...|            1484372551849889793|           1389870631735414787|                  |[1389870631735414...|\n",
      "|Sat Jan 22 14:16:...|1484892789573885961|         2862464895|                     null|                   null|Dialed in! Anothe...|       null|                        null|                       null|                null|                           null|                          null|                  |                  []|\n",
      "|Sat Jan 22 12:38:...|1484867959290048516|1344597638767898625|                     null|                   null|RT @BinanceLabs: ...|       null|                        null|                       null|Fri Jan 21 09:24:...|            1484456799633690624|            960036444885565442|                  |[960036444885565442]|\n",
      "|Sat Jan 22 13:53:...|1484887043360624646|1171832163966304258|                     null|                   null|RT @309KTYSS: [EN...|       null|                        null|                       null|Sat Jan 22 13:23:...|            1484879297114677254|                     141371251|                  |         [141371251]|\n",
      "|Sat Jan 22 13:35:...|1484882408654655491|1483753662388260864|                     null|                   null|RT @So_Ethereal: ...|       null|                        null|                       null|Fri Jan 21 17:18:...|            1484576189700313095|            755629865097920512|NationalHuggingDay|[755629865097920512]|\n",
      "|Sat Jan 22 14:12:...|1484891690657800200| 775545812772265984|      1484891689324060672|     775545812772265984|17: video games a...|       null|                        null|                       null|                null|                           null|                          null|                  |[775545812772265984]|\n",
      "|Sat Jan 22 13:15:...|1484877341943685123|1379136193716051968|                     null|                   null|RT @plutoniansgam...|       null|                        null|                       null|Thu Jan 20 13:12:...|            1484151750655627265|           1393158384627507201|      MetaverseNFT|[1393158384627507...|\n",
      "|Sat Jan 22 14:25:...|1484895058659020807|1343081190585106433|                     null|                   null|RT @ihs_heeseung:...|       null|                        null|                       null|Sat Jan 22 13:26:...|            1484880208826347525|           1282624606927335425|                  |[1282624606927335...|\n",
      "|Sat Jan 22 13:48:...|1484885785061044227|1461428880401743880|                     null|                   null|RT @TASNoContext:...|       null|                        null|                       null|Sat Jan 22 07:00:...|            1484782888126074885|           1468757814847934471|                  |[1468757814847934...|\n",
      "|Sat Jan 22 13:15:...|1484877434193330178|1317538069638270976|                     null|                   null|RT @Aigameuf: Si ...|       null|                        null|                       null|Sat Jan 22 13:04:...|            1484874604485222401|                    4054222462|                  |        [4054222462]|\n",
      "|Sat Jan 22 13:44:...|1484884736476684288|         1862249532|                     null|                   null|just played mario...|       null|                        null|                       null|                null|                           null|                          null|                  |                  []|\n",
      "|Sat Jan 22 13:48:...|1484885596338155522|1470988499222294531|      1483743206697488387|    1305904514487083008|@Bang_Garr @hunte...|       null|                        null|                       null|                null|                           null|                          null|                  |[1305904514487083...|\n",
      "|Sat Jan 22 12:38:...|1484867963479998466|1479715337482371073|                     null|                   null|RT @RGAMER6873983...|       null|                        null|                       null|Sat Jan 22 12:37:...|            1484867938943324160|           1479715337482371073|                  |[1479715337482371...|\n",
      "|Sat Jan 22 14:22:...|1484894282733744128|1457317724368306176|      1484891306346221570|    1461315516191051779|@girIfromhell the...|       null|                        null|                       null|                null|                           null|                          null|                  |[1461315516191051...|\n",
      "|Sat Jan 22 14:40:...|1484898766431920134|1294733183800532999|                     null|                   null|RT @Landonlmaoo: ...|       null|                        null|                       null|Sat Jan 22 14:37:...|            1484897913780244486|           1169723240673107968|                  |[1169723240673107...|\n",
      "|Sat Jan 22 13:07:...|1484875286726742016|1469867486497542144|      1484650616677093378|    1448958154633465856|@DreamlandGEN @th...|       null|                        null|                       null|                null|                           null|                          null|                  |[1448958154633465...|\n",
      "+--------------------+-------------------+-------------------+-------------------------+-----------------------+--------------------+-----------+----------------------------+---------------------------+--------------------+-------------------------------+------------------------------+------------------+--------------------+\n",
      "only showing top 20 rows"
     ]
    }
   ],
   "source": [
    "filtered_df.show()"
   ]
  },
  {
   "cell_type": "code",
   "execution_count": null,
   "metadata": {},
   "outputs": [
    {
     "data": {
      "application/vnd.jupyter.widget-view+json": {
       "model_id": "1659eebaa28446738234201b25f683a6",
       "version_major": 2,
       "version_minor": 0
      },
      "text/plain": [
       "VBox()"
      ]
     },
     "metadata": {},
     "output_type": "display_data"
    },
    {
     "data": {
      "application/vnd.jupyter.widget-view+json": {
       "model_id": "",
       "version_major": 2,
       "version_minor": 0
      },
      "text/plain": [
       "FloatProgress(value=0.0, bar_style='info', description='Progress:', layout=Layout(height='25px', width='50%'),…"
      ]
     },
     "metadata": {},
     "output_type": "display_data"
    },
    {
     "name": "stdout",
     "output_type": "stream",
     "text": [
      "268"
     ]
    }
   ],
   "source": [
    "# save intermediate results for later\n",
    "original_df = filtered_df.filter(size(filtered_df.connected_user_clean) == 0)\n",
    "df = original_df.drop(\"connected_user_clean\")\n",
    "df.write.mode('overwrite').json(output_bucket+'original_tweet_intermediate_full')\n",
    "# each line make sure have only one user and one connected user\n",
    "filtered_df = filtered_df.filter(size(filtered_df.connected_user_clean) > 0)\n",
    "rdd = filtered_df.withColumn(\"connected_user_single\", explode(filtered_df.connected_user_clean)).drop(\"connected_user_clean\")\n",
    "rdd.write.mode('overwrite').json(output_bucket+'retweeted_tweet_intermediate_full')\n",
    "rdd = rdd.rdd \n",
    "\n",
    "del original_df\n",
    "del filtered_df\n",
    "del df\n",
    "gc.collect()"
   ]
  },
  {
   "cell_type": "code",
   "execution_count": null,
   "metadata": {},
   "outputs": [
    {
     "data": {
      "application/vnd.jupyter.widget-view+json": {
       "model_id": "b1d1000a7f46402191cbcf7e542b255d",
       "version_major": 2,
       "version_minor": 0
      },
      "text/plain": [
       "VBox()"
      ]
     },
     "metadata": {},
     "output_type": "display_data"
    },
    {
     "data": {
      "application/vnd.jupyter.widget-view+json": {
       "model_id": "",
       "version_major": 2,
       "version_minor": 0
      },
      "text/plain": [
       "FloatProgress(value=0.0, bar_style='info', description='Progress:', layout=Layout(height='25px', width='50%'),…"
      ]
     },
     "metadata": {},
     "output_type": "display_data"
    }
   ],
   "source": [
    "# for each user how many times retweet/replay/quote other tweets\n",
    "user_interact_rdd = rdd.map(lambda x: (x[2], 1))\n",
    "user_interact_rdd = user_interact_rdd.reduceByKey(lambda a, b: a + b)\n",
    "\n",
    "# each pair of users (A, B), how many times A retweet this person B\n",
    "user_pair_rdd = rdd.map(lambda x: ((x[2], x[13]), 1)).reduceByKey(lambda a, b: a + b)\n",
    "user_pair_rdd = user_pair_rdd.map(lambda x: (x[0][0], x[0][1], x[1]))\n",
    "\n",
    "user_pair_rdd.toDF().write.mode('overwrite').csv(output_bucket+'user_pair_aws') #coalesce(1, shuffle = True).\n",
    "user_interact_rdd.toDF().write.mode('overwrite').csv(output_bucket+'user_interact_aws') #coalesce(1, shuffle = True).\n",
    "\n",
    "\n",
    "# spark.stop()"
   ]
  },
  {
   "cell_type": "code",
   "execution_count": null,
   "metadata": {},
   "outputs": [],
   "source": []
  }
 ],
 "metadata": {
  "kernelspec": {
   "display_name": "PySpark",
   "language": "python",
   "name": "pysparkkernel"
  },
  "language_info": {
   "codemirror_mode": {
    "name": "python",
    "version": 3
   },
   "file_extension": ".py",
   "mimetype": "text/x-python",
   "name": "pyspark",
   "pygments_lexer": "python3"
  }
 },
 "nbformat": 4,
 "nbformat_minor": 4
}
