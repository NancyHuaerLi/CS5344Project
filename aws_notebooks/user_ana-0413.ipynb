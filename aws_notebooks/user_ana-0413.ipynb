{
 "cells": [
  {
   "cell_type": "code",
   "execution_count": null,
   "metadata": {},
   "outputs": [
    {
     "data": {
      "application/vnd.jupyter.widget-view+json": {
       "model_id": "b84b315e9b2e47a7b41b28be2f9621f7",
       "version_major": 2,
       "version_minor": 0
      },
      "text/plain": [
       "VBox()"
      ]
     },
     "metadata": {},
     "output_type": "display_data"
    },
    {
     "data": {
      "application/vnd.jupyter.widget-view+json": {
       "model_id": "",
       "version_major": 2,
       "version_minor": 0
      },
      "text/plain": [
       "FloatProgress(value=0.0, bar_style='info', description='Progress:', layout=Layout(height='25px', width='50%'),…"
      ]
     },
     "metadata": {},
     "output_type": "display_data"
    }
   ],
   "source": [
    "from py4j.protocol import Py4JJavaError\n",
    "from pyspark import SparkConf, SparkContext\n",
    "import pyspark\n",
    "from pyspark.sql import functions,SparkSession, SQLContext\n",
    "from pyspark.sql.functions import explode, col, udf, concat_ws, from_json, lit, array, expr, size\n",
    "from pyspark.sql.functions import sum as _sum\n",
    "from pyspark.sql.types import *\n",
    "import json\n",
    "import os\n",
    "import gc\n",
    "from pyspark.sql.types import BooleanType\n",
    "# from pyspark.sql import SparkSession\n",
    "spark = SparkSession.builder.master(\"local[*]\").getOrCreate()"
   ]
  },
  {
   "cell_type": "code",
   "execution_count": null,
   "metadata": {},
   "outputs": [
    {
     "data": {
      "application/vnd.jupyter.widget-view+json": {
       "model_id": "2c28a0bddac34843b51c07a65a2c1443",
       "version_major": 2,
       "version_minor": 0
      },
      "text/plain": [
       "VBox()"
      ]
     },
     "metadata": {},
     "output_type": "display_data"
    },
    {
     "data": {
      "application/vnd.jupyter.widget-view+json": {
       "model_id": "",
       "version_major": 2,
       "version_minor": 0
      },
      "text/plain": [
       "FloatProgress(value=0.0, bar_style='info', description='Progress:', layout=Layout(height='25px', width='50%'),…"
      ]
     },
     "metadata": {},
     "output_type": "display_data"
    }
   ],
   "source": [
    "input_bucket = 's3://cs5344-twitter-project'\n",
    "test_pokemon_damping_sdf = spark.read.format('csv').options(header='False').load('s3://cs5344-twitter-project/test_pokemon_damping').cache()"
   ]
  },
  {
   "cell_type": "code",
   "execution_count": null,
   "metadata": {},
   "outputs": [
    {
     "data": {
      "application/vnd.jupyter.widget-view+json": {
       "model_id": "c5d00c6ef06742369c56582dfebd2ecb",
       "version_major": 2,
       "version_minor": 0
      },
      "text/plain": [
       "VBox()"
      ]
     },
     "metadata": {},
     "output_type": "display_data"
    },
    {
     "data": {
      "application/vnd.jupyter.widget-view+json": {
       "model_id": "",
       "version_major": 2,
       "version_minor": 0
      },
      "text/plain": [
       "FloatProgress(value=0.0, bar_style='info', description='Progress:', layout=Layout(height='25px', width='50%'),…"
      ]
     },
     "metadata": {},
     "output_type": "display_data"
    }
   ],
   "source": [
    "pokemon = test_pokemon_damping_sdf.select(col(\"_c0\").alias(\"user_id_str\")).cache()\n",
    "pokemon.createOrReplaceTempView(\"pokemon\")"
   ]
  },
  {
   "cell_type": "code",
   "execution_count": null,
   "metadata": {},
   "outputs": [
    {
     "data": {
      "application/vnd.jupyter.widget-view+json": {
       "model_id": "ba28abf8165c4b92b86bca5c9f51d220",
       "version_major": 2,
       "version_minor": 0
      },
      "text/plain": [
       "VBox()"
      ]
     },
     "metadata": {},
     "output_type": "display_data"
    },
    {
     "data": {
      "application/vnd.jupyter.widget-view+json": {
       "model_id": "",
       "version_major": 2,
       "version_minor": 0
      },
      "text/plain": [
       "FloatProgress(value=0.0, bar_style='info', description='Progress:', layout=Layout(height='25px', width='50%'),…"
      ]
     },
     "metadata": {},
     "output_type": "display_data"
    }
   ],
   "source": [
    "input_bucket = 's3://cs5344-twitter-project'\n",
    "path = '/{}/*.json.gz'\n",
    "folder_list = ['20220122', '20220123','20220124','20220125', \n",
    "               '20220126', '20220127','20220128', '20220129',\n",
    "               '20220130', '20220131', '20220201', '20220202',\n",
    "               '20220203', '20220204', '20220205', '20220206',\n",
    "               '20220207', '20220208', '20220209', '20220210',\n",
    "               '20220211', '20220212', '20220213', '20220214',\n",
    "               '20220215']"
   ]
  },
  {
   "cell_type": "code",
   "execution_count": null,
   "metadata": {},
   "outputs": [
    {
     "data": {
      "application/vnd.jupyter.widget-view+json": {
       "model_id": "45a77702a9d94efc8e7804262571a135",
       "version_major": 2,
       "version_minor": 0
      },
      "text/plain": [
       "VBox()"
      ]
     },
     "metadata": {},
     "output_type": "display_data"
    },
    {
     "data": {
      "application/vnd.jupyter.widget-view+json": {
       "model_id": "",
       "version_major": 2,
       "version_minor": 0
      },
      "text/plain": [
       "FloatProgress(value=0.0, bar_style='info', description='Progress:', layout=Layout(height='25px', width='50%'),…"
      ]
     },
     "metadata": {},
     "output_type": "display_data"
    }
   ],
   "source": [
    "def pre_process(folder):\n",
    "    raw = spark.read.json(folder, allowBackslashEscapingAnyCharacter=True)\n",
    "\n",
    "    user_df = raw.select(\n",
    "        col(\"user.id_str\").alias(\"user_id_str\"),\n",
    "        col(\"user.screen_name\").alias(\"user_twitter_handle\"),\n",
    "        \"user.verified\",\n",
    "        \"user.followers_count\",\n",
    "        \"user.friends_count\",\n",
    "        \"user.favourites_count\",\n",
    "        \"user.statuses_count\",\n",
    "        \"user.created_at\",\n",
    "        col(\"created_at\").alias(\"tweet_created_at\"),\n",
    "        \"retweet_count\"\n",
    "    )\n",
    "\n",
    "    user_df.createOrReplaceTempView(\"user_df\")\n",
    "\n",
    "    user_filter = spark.sql(\"\"\"\n",
    "    select *\n",
    "        from\n",
    "            (select user_id_str, \n",
    "                    user_twitter_handle, \n",
    "                    verified, \n",
    "                    followers_count, \n",
    "                    friends_count, \n",
    "                    favourites_count, \n",
    "                    statuses_count, \n",
    "                    created_at,\n",
    "                    tweet_created_at,\n",
    "                    rank() over(partition by user_id_str order by tweet_created_at desc) create_rank\n",
    "            from user_df\n",
    "            where user_id_str is not null) u\n",
    "        where create_rank = 1\n",
    "    \"\"\")\n",
    "    user_filter.createOrReplaceTempView(\"user_filter\")\n",
    "\n",
    "    user_join = spark.sql(\"\"\"\n",
    "    select user_filter.*\n",
    "    from\n",
    "    user_filter\n",
    "    join\n",
    "    pokemon\n",
    "    on user_filter.user_id_str = pokemon.user_id_str\"\"\")\n",
    "    return user_join"
   ]
  },
  {
   "cell_type": "code",
   "execution_count": null,
   "metadata": {},
   "outputs": [
    {
     "data": {
      "application/vnd.jupyter.widget-view+json": {
       "model_id": "126a10d900e74fc0bb7bc639e79f5fff",
       "version_major": 2,
       "version_minor": 0
      },
      "text/plain": [
       "VBox()"
      ]
     },
     "metadata": {},
     "output_type": "display_data"
    },
    {
     "data": {
      "application/vnd.jupyter.widget-view+json": {
       "model_id": "",
       "version_major": 2,
       "version_minor": 0
      },
      "text/plain": [
       "FloatProgress(value=0.0, bar_style='info', description='Progress:', layout=Layout(height='25px', width='50%'),…"
      ]
     },
     "metadata": {},
     "output_type": "display_data"
    },
    {
     "name": "stdout",
     "output_type": "stream",
     "text": [
      "['20220215', '20220214', '20220213', '20220212', '20220211', '20220210', '20220209', '20220208']"
     ]
    }
   ],
   "source": [
    "folder_list[:-9:-1]"
   ]
  },
  {
   "cell_type": "code",
   "execution_count": null,
   "metadata": {},
   "outputs": [
    {
     "data": {
      "application/vnd.jupyter.widget-view+json": {
       "model_id": "44fa15029de84c0b87b8e1fc1d0f5076",
       "version_major": 2,
       "version_minor": 0
      },
      "text/plain": [
       "VBox()"
      ]
     },
     "metadata": {},
     "output_type": "display_data"
    },
    {
     "data": {
      "application/vnd.jupyter.widget-view+json": {
       "model_id": "",
       "version_major": 2,
       "version_minor": 0
      },
      "text/plain": [
       "FloatProgress(value=0.0, bar_style='info', description='Progress:', layout=Layout(height='25px', width='50%'),…"
      ]
     },
     "metadata": {},
     "output_type": "display_data"
    },
    {
     "name": "stdout",
     "output_type": "stream",
     "text": [
      "['20220207', '20220206', '20220205', '20220204', '20220203', '20220202', '20220201', '20220131']"
     ]
    }
   ],
   "source": [
    "folder_list[-9:-17:-1]"
   ]
  },
  {
   "cell_type": "code",
   "execution_count": null,
   "metadata": {},
   "outputs": [
    {
     "data": {
      "application/vnd.jupyter.widget-view+json": {
       "model_id": "29b9d37b41814d8fbbc404584621e9fa",
       "version_major": 2,
       "version_minor": 0
      },
      "text/plain": [
       "VBox()"
      ]
     },
     "metadata": {},
     "output_type": "display_data"
    },
    {
     "data": {
      "application/vnd.jupyter.widget-view+json": {
       "model_id": "",
       "version_major": 2,
       "version_minor": 0
      },
      "text/plain": [
       "FloatProgress(value=0.0, bar_style='info', description='Progress:', layout=Layout(height='25px', width='50%'),…"
      ]
     },
     "metadata": {},
     "output_type": "display_data"
    },
    {
     "name": "stdout",
     "output_type": "stream",
     "text": [
      "['20220130', '20220129', '20220128', '20220127', '20220126', '20220125', '20220124', '20220123', '20220122']"
     ]
    }
   ],
   "source": [
    "folder_list[-17:-26:-1]"
   ]
  },
  {
   "cell_type": "code",
   "execution_count": null,
   "metadata": {},
   "outputs": [
    {
     "data": {
      "application/vnd.jupyter.widget-view+json": {
       "model_id": "6132b9d302ba46f3a680074d738d46df",
       "version_major": 2,
       "version_minor": 0
      },
      "text/plain": [
       "VBox()"
      ]
     },
     "metadata": {},
     "output_type": "display_data"
    },
    {
     "data": {
      "application/vnd.jupyter.widget-view+json": {
       "model_id": "",
       "version_major": 2,
       "version_minor": 0
      },
      "text/plain": [
       "FloatProgress(value=0.0, bar_style='info', description='Progress:', layout=Layout(height='25px', width='50%'),…"
      ]
     },
     "metadata": {},
     "output_type": "display_data"
    },
    {
     "name": "stdout",
     "output_type": "stream",
     "text": [
      "138\n",
      "174\n",
      "176\n",
      "176\n",
      "176\n",
      "176\n",
      "176\n",
      "176"
     ]
    }
   ],
   "source": [
    "# diff = pokemon.alias(\"diff\")\n",
    "pokemon_inf = None\n",
    "# i = 0\n",
    "for f in folder_list[:-9:-1]:\n",
    "    folder = input_bucket + path.format(f)\n",
    "    try:\n",
    "        user_join = pre_process(folder)\n",
    "        if pokemon_inf:\n",
    "            pokemon_inf = pokemon_inf.union(user_join).cache()\n",
    "        else:\n",
    "            pokemon_inf = user_join.alias(\"pokemon_inf\")\n",
    "        del user_join\n",
    "        gc.collect()\n",
    "    except Py4JJavaError:\n",
    "        print(folder+\" failed\")\n"
   ]
  },
  {
   "cell_type": "code",
   "execution_count": null,
   "metadata": {},
   "outputs": [
    {
     "data": {
      "application/vnd.jupyter.widget-view+json": {
       "model_id": "87a40e1d9f894310badaba919017e357",
       "version_major": 2,
       "version_minor": 0
      },
      "text/plain": [
       "VBox()"
      ]
     },
     "metadata": {},
     "output_type": "display_data"
    },
    {
     "data": {
      "application/vnd.jupyter.widget-view+json": {
       "model_id": "5a030068c5264882853b1e1b8722a025",
       "version_major": 2,
       "version_minor": 0
      },
      "text/plain": [
       "FloatProgress(value=0.0, bar_style='info', description='Progress:', layout=Layout(height='25px', width='50%'),…"
      ]
     },
     "metadata": {},
     "output_type": "display_data"
    }
   ],
   "source": [
    "for f in folder_list[-9:-17:-1]:\n",
    "    folder = input_bucket + path.format(f)\n",
    "    try:\n",
    "        user_join = pre_process(folder)\n",
    "        pokemon_inf = pokemon_inf.union(user_join).cache()\n",
    "        del user_join\n",
    "        gc.collect()\n",
    "    except Py4JJavaError:\n",
    "        print(folder+\" failed\")"
   ]
  },
  {
   "cell_type": "code",
   "execution_count": null,
   "metadata": {},
   "outputs": [],
   "source": [
    "for f in folder_list[-17:-26:-1]:\n",
    "    \n",
    "    folder = input_bucket + path.format(f)\n",
    "    try:\n",
    "        user_join = pre_process(folder)\n",
    "        pokemon_inf = pokemon_inf.union(user_join).cache()\n",
    "        del user_join\n",
    "        gc.collect()\n",
    "    except Py4JJavaError:\n",
    "        print(folder+\" failed\")"
   ]
  },
  {
   "cell_type": "code",
   "execution_count": null,
   "metadata": {},
   "outputs": [],
   "source": [
    "pokemon_inf.show(1000)"
   ]
  },
  {
   "cell_type": "code",
   "execution_count": null,
   "metadata": {},
   "outputs": [],
   "source": []
  },
  {
   "cell_type": "code",
   "execution_count": null,
   "metadata": {},
   "outputs": [],
   "source": []
  },
  {
   "cell_type": "code",
   "execution_count": null,
   "metadata": {},
   "outputs": [],
   "source": []
  },
  {
   "cell_type": "code",
   "execution_count": null,
   "metadata": {},
   "outputs": [
    {
     "data": {
      "application/vnd.jupyter.widget-view+json": {
       "model_id": "7a2e09ef882b4a0aab748ce4657f90d2",
       "version_major": 2,
       "version_minor": 0
      },
      "text/plain": [
       "VBox()"
      ]
     },
     "metadata": {},
     "output_type": "display_data"
    },
    {
     "data": {
      "application/vnd.jupyter.widget-view+json": {
       "model_id": "",
       "version_major": 2,
       "version_minor": 0
      },
      "text/plain": [
       "FloatProgress(value=0.0, bar_style='info', description='Progress:', layout=Layout(height='25px', width='50%'),…"
      ]
     },
     "metadata": {},
     "output_type": "display_data"
    }
   ],
   "source": [
    "output_bucket = 's3://cs5344-twitter-project/'\n",
    "# # pokemon_inf.toDF().write.mode('overwrite').csv(output_bucket+'pokemon_inf_24_aws') \n",
    "pokemon_inf.write.format(\"csv\").save(output_bucket+'user_ana/pokemon_inf_0414') "
   ]
  },
  {
   "cell_type": "code",
   "execution_count": null,
   "metadata": {},
   "outputs": [],
   "source": []
  },
  {
   "cell_type": "code",
   "execution_count": null,
   "metadata": {},
   "outputs": [
    {
     "data": {
      "application/vnd.jupyter.widget-view+json": {
       "model_id": "85e3c344384347729ea7cca9b2d02fe0",
       "version_major": 2,
       "version_minor": 0
      },
      "text/plain": [
       "VBox()"
      ]
     },
     "metadata": {},
     "output_type": "display_data"
    },
    {
     "data": {
      "application/vnd.jupyter.widget-view+json": {
       "model_id": "",
       "version_major": 2,
       "version_minor": 0
      },
      "text/plain": [
       "FloatProgress(value=0.0, bar_style='info', description='Progress:', layout=Layout(height='25px', width='50%'),…"
      ]
     },
     "metadata": {},
     "output_type": "display_data"
    },
    {
     "name": "stdout",
     "output_type": "stream",
     "text": [
      "+-------------------+-------------------+--------+---------------+-------------+----------------+--------------+--------------------+--------------------+-----------+\n",
      "|        user_id_str|user_twitter_handle|verified|followers_count|friends_count|favourites_count|statuses_count|          created_at|    tweet_created_at|create_rank|\n",
      "+-------------------+-------------------+--------+---------------+-------------+----------------+--------------+--------------------+--------------------+-----------+\n",
      "|1200355745600069635|       GiveAwayHost|   false|         308830|          798|            7874|         40311|Fri Nov 29 10:08:...|Tue Feb 15 21:55:...|          1|\n",
      "|           34429906|     SoulRebornGame|   false|          72990|           59|             210|            99|Wed Apr 22 22:48:...|Tue Feb 15 08:44:...|          1|\n",
      "|1156269110545793024|       ladyincrypto|   false|         353342|          726|            1546|         13953|Tue Jul 30 18:23:...|Tue Feb 15 06:52:...|          1|\n",
      "|1409917553514848257|        PokemonGems|   false|          48683|          383|            6517|          1041|Tue Jun 29 16:52:...|Tue Feb 15 23:27:...|          1|\n",
      "|         4920946291|        sof1azara03|   false|         282622|         3404|           22789|         72950|Wed Feb 17 12:34:...|Tue Feb 15 22:52:...|          1|\n",
      "|1235177017441529861|           game7400|   false|          18430|         2215|            8277|          7677|Wed Mar 04 12:15:...|Tue Feb 15 15:23:...|          1|\n",
      "|           18927441|                IGN|    true|        8618524|         1372|           16341|        160711|Tue Jan 13 03:56:...|Tue Feb 15 16:01:...|          1|\n",
      "|          501558917|           TheJenus|   false|        1048839|         1019|            7316|          5945|Fri Feb 24 07:53:...|Tue Feb 15 23:02:...|          1|\n",
      "|1483999454244274178|       ashward_game|   false|          54211|            4|              17|            27|Thu Jan 20 03:07:...|Tue Feb 15 09:49:...|          1|\n",
      "|          297169759|      SamsungMobile|    true|       12443079|          424|             522|          8772|Thu May 12 01:59:...|Tue Feb 15 09:33:...|          1|\n",
      "|1302006102364745728|      strokegamexxx|   false|         185542|         1917|            1310|         71732|Fri Sep 04 22:10:...|Tue Feb 15 18:02:...|          1|\n",
      "|            7157132|           GameSpot|    true|        4670967|          707|           21694|        155232|Fri Jun 29 17:54:...|Tue Feb 15 21:46:...|          1|\n",
      "|1449414811436023812|      chitaglorya__|   false|         231770|          441|             296|         12526|Sat Oct 16 16:40:...|Tue Feb 15 10:17:...|          1|\n",
      "|            5921162|            famitsu|    true|         902131|        44835|              70|        265474|Thu May 10 05:03:...|Tue Feb 15 06:30:...|          1|\n",
      "|           19426551|                NFL|    true|       28837319|         2723|            3080|        234547|Sat Jan 24 01:28:...|Tue Feb 15 22:55:...|          1|\n",
      "|           26257166|       SportsCenter|    true|       39519520|          732|            1984|        132561|Tue Mar 24 15:28:...|Tue Feb 15 21:38:...|          1|\n",
      "|1200355745600069635|       GiveAwayHost|   false|         308072|          799|            7878|         40195|Fri Nov 29 10:08:...|Mon Feb 14 16:06:...|          1|\n",
      "|1409917553514848257|        PokemonGems|   false|          48436|          379|            6473|          1029|Tue Jun 29 16:52:...|Mon Feb 14 23:57:...|          1|\n",
      "|         4920946291|        sof1azara03|   false|         282073|         3404|           22747|         72733|Wed Feb 17 12:34:...|Mon Feb 14 16:04:...|          1|\n",
      "|         1149178590|         MarDGamero|   false|          29117|          626|          145033|          7436|Mon Feb 04 22:05:...|Mon Feb 14 20:27:...|          1|\n",
      "|           18927441|                IGN|    true|        8615991|         1372|           16340|        160666|Tue Jan 13 03:56:...|Mon Feb 14 18:31:...|          1|\n",
      "|          501558917|           TheJenus|   false|        1048879|         1004|            7310|          5828|Fri Feb 24 07:53:...|Mon Feb 14 00:05:...|          1|\n",
      "|1302006102364745728|      strokegamexxx|   false|         185041|         1917|            1308|         71455|Fri Sep 04 22:10:...|Mon Feb 14 22:36:...|          1|\n",
      "|            7157132|           GameSpot|    true|        4669144|          707|           21695|        155189|Fri Jun 29 17:54:...|Mon Feb 14 19:30:...|          1|\n",
      "|1449414811436023812|      chitaglorya__|   false|         230786|          435|             295|         12412|Sat Oct 16 16:40:...|Mon Feb 14 05:09:...|          1|\n",
      "|            5921162|            famitsu|    true|         901951|        44835|              70|        265405|Thu May 10 05:03:...|Mon Feb 14 06:30:...|          1|\n",
      "|           19426551|                NFL|    true|       28784602|         2723|            3077|        234386|Sat Jan 24 01:28:...|Mon Feb 14 00:14:...|          1|\n",
      "|           26257166|       SportsCenter|    true|       39498870|          731|            1985|        132498|Tue Mar 24 15:28:...|Mon Feb 14 00:43:...|          1|\n",
      "|             890891|     BleacherReport|    true|       11034356|          714|             401|        150602|Sat Mar 10 23:52:...|Sun Feb 13 20:05:...|          1|\n",
      "|1200355745600069635|       GiveAwayHost|   false|         308998|          801|            7877|         40105|Fri Nov 29 10:08:...|Sun Feb 13 19:44:...|          1|\n",
      "|1156269110545793024|       ladyincrypto|   false|         353991|          723|            1546|         13898|Tue Jul 30 18:23:...|Sun Feb 13 12:28:...|          1|\n",
      "|           96879107|            Pokemon|    true|        6884322|           44|             511|         94101|Tue Dec 15 00:53:...|Sun Feb 13 20:00:...|          1|\n",
      "|         2597010860|       arigameplays|    true|        5167878|         1634|          103143|         78675|Mon Jun 30 22:41:...|Sun Feb 13 03:11:...|          1|\n",
      "|           19631395|     videogamedeals|    true|         461007|          429|            3087|        141423|Wed Jan 28 02:21:...|Sun Feb 13 14:10:...|          1|\n",
      "|          501558917|           TheJenus|   false|        1048889|         1004|            7310|          5816|Fri Feb 24 07:53:...|Sun Feb 13 23:49:...|          1|\n",
      "|          347831597|     TheSandboxGame|    true|         829845|         1151|            7370|         10875|Wed Aug 03 12:46:...|Sun Feb 13 02:02:...|          1|\n",
      "|1302006102364745728|      strokegamexxx|   false|         184488|         1918|            1299|         71134|Fri Sep 04 22:10:...|Sun Feb 13 11:31:...|          1|\n",
      "|1449414811436023812|      chitaglorya__|   false|         231187|          436|             295|         12373|Sat Oct 16 16:40:...|Sun Feb 13 15:38:...|          1|\n",
      "|1282594694095134720|     Braindompuzzle|   false|          76207|          716|              12|           170|Mon Jul 13 08:37:...|Sun Feb 13 20:37:...|          1|\n",
      "|           19426551|                NFL|    true|       28781844|         2723|            3075|        234365|Sat Jan 24 01:28:...|Sun Feb 13 23:35:...|          1|\n",
      "|           26257166|       SportsCenter|    true|       39496222|          731|            1985|        132482|Tue Mar 24 15:28:...|Sun Feb 13 21:05:...|          1|\n",
      "|1200355745600069635|       GiveAwayHost|   false|         306867|          798|            7894|         39975|Fri Nov 29 10:08:...|Sat Feb 12 12:16:...|          1|\n",
      "|1156269110545793024|       ladyincrypto|   false|         354019|          723|            1545|         13854|Tue Jul 30 18:23:...|Sat Feb 12 12:27:...|          1|\n",
      "|1409917553514848257|        PokemonGems|   false|          47774|          380|            6381|          1016|Tue Jun 29 16:52:...|Sat Feb 12 02:23:...|          1|\n",
      "|         4920946291|        sof1azara03|   false|         281253|         3404|           22675|         72445|Wed Feb 17 12:34:...|Sat Feb 12 18:37:...|          1|\n",
      "|1235177017441529861|           game7400|   false|          18397|         2213|            8273|          7657|Wed Mar 04 12:15:...|Sat Feb 12 13:53:...|          1|\n",
      "|          501558917|           TheJenus|   false|        1048902|         1000|            7300|          5733|Fri Feb 24 07:53:...|Sat Feb 12 12:06:...|          1|\n",
      "|          252087695|         ggame_____|   false|         209794|          415|            5623|        215915|Mon Feb 14 13:23:...|Sat Feb 12 11:03:...|          1|\n",
      "|           19426551|                NFL|    true|       28756123|         2722|            3074|        234214|Sat Jan 24 01:28:...|Sat Feb 12 21:44:...|          1|\n",
      "|            5162861|    NintendoAmerica|    true|       11828728|          230|             315|         22575|Wed Apr 18 22:43:...|Fri Feb 11 20:06:...|          1|\n",
      "|1200355745600069635|       GiveAwayHost|   false|         305819|          799|            7895|         39848|Fri Nov 29 10:08:...|Fri Feb 11 03:29:...|          1|\n",
      "|1409917553514848257|        PokemonGems|   false|          47704|          379|            6373|          1008|Tue Jun 29 16:52:...|Fri Feb 11 20:27:...|          1|\n",
      "|           19631395|     videogamedeals|    true|         461000|          429|            3086|        141332|Wed Jan 28 02:21:...|Fri Feb 11 15:00:...|          1|\n",
      "|         4920946291|        sof1azara03|   false|         280934|         3406|           22612|         72227|Wed Feb 17 12:34:...|Fri Feb 11 22:40:...|          1|\n",
      "|          252087695|         ggame_____|   false|         209779|          414|            5617|        215886|Mon Feb 14 13:23:...|Fri Feb 11 15:31:...|          1|\n",
      "|1302006102364745728|      strokegamexxx|   false|         184196|         1918|            1291|         71019|Fri Sep 04 22:10:...|Fri Feb 11 12:26:...|          1|\n",
      "|            5921162|            famitsu|    true|         901798|        44840|              70|        265279|Thu May 10 05:03:...|Fri Feb 11 06:00:...|          1|\n",
      "|           19426551|                NFL|    true|       28722544|         2723|            3073|        234113|Sat Jan 24 01:28:...|Fri Feb 11 03:52:...|          1|\n",
      "|1441557548427927554|       Gamersnanet_|   false|         103859|          597|           49618|         19492|Sat Sep 25 00:18:...|Thu Feb 10 18:36:...|          1|\n",
      "|1441557548427927554|       Gamersnanet_|   false|         103859|          597|           49618|         19492|Sat Sep 25 00:18:...|Thu Feb 10 18:36:...|          1|\n",
      "|1200355745600069635|       GiveAwayHost|   false|         305953|          798|            7896|         39812|Fri Nov 29 10:08:...|Thu Feb 10 15:34:...|          1|\n",
      "|1156269110545793024|       ladyincrypto|   false|         351395|          724|            1536|         13750|Tue Jul 30 18:23:...|Thu Feb 10 05:06:...|          1|\n",
      "|         4920946291|        sof1azara03|   false|         278446|         3400|           22564|         72012|Wed Feb 17 12:34:...|Thu Feb 10 16:29:...|          1|\n",
      "|          501558917|           TheJenus|   false|        1049906|          998|            7296|          5619|Fri Feb 24 07:53:...|Thu Feb 10 18:58:...|          1|\n",
      "|1302006102364745728|      strokegamexxx|   false|         184079|         1918|            1291|         70921|Fri Sep 04 22:10:...|Thu Feb 10 16:49:...|          1|\n",
      "|            7157132|           GameSpot|    true|        4662107|          707|           21699|        155047|Fri Jun 29 17:54:...|Thu Feb 10 15:29:...|          1|\n",
      "|            5921162|            famitsu|    true|         901628|        44841|              70|        265191|Thu May 10 05:03:...|Thu Feb 10 07:30:...|          1|\n",
      "|             890891|     BleacherReport|    true|       10999859|          714|             399|        150453|Sat Mar 10 23:52:...|Wed Feb 09 03:52:...|          1|\n",
      "|1441557548427927554|       Gamersnanet_|   false|         102328|          451|           49597|         19422|Sat Sep 25 00:18:...|Wed Feb 09 16:48:...|          1|\n",
      "|1441557548427927554|       Gamersnanet_|   false|         102328|          451|           49597|         19422|Sat Sep 25 00:18:...|Wed Feb 09 16:48:...|          1|\n",
      "|1200355745600069635|       GiveAwayHost|   false|         305572|          797|            7897|         39759|Fri Nov 29 10:08:...|Wed Feb 09 23:19:...|          1|\n",
      "|1156269110545793024|       ladyincrypto|   false|         352803|          723|            1536|         13724|Tue Jul 30 18:23:...|Wed Feb 09 18:24:...|          1|\n",
      "|           19631395|     videogamedeals|    true|         460909|          429|            3085|        141204|Wed Jan 28 02:21:...|Wed Feb 09 22:38:...|          1|\n",
      "|         4920946291|        sof1azara03|   false|         279807|         3403|           22512|         71770|Wed Feb 17 12:34:...|Wed Feb 09 15:04:...|          1|\n",
      "|         1149178590|         MarDGamero|   false|          28784|          625|          143710|          7386|Mon Feb 04 22:05:...|Wed Feb 09 14:38:...|          1|\n",
      "|           18927441|                IGN|    true|        8601061|         1371|           16327|        160407|Tue Jan 13 03:56:...|Wed Feb 09 22:36:...|          1|\n",
      "|          501558917|           TheJenus|   false|        1049054|         1000|            7294|          5526|Fri Feb 24 07:53:...|Wed Feb 09 14:02:...|          1|\n",
      "|         2786677338|    denfaminicogame|    true|         418198|         3330|            8410|         44343|Tue Sep 02 21:20:...|Wed Feb 09 22:26:...|          1|\n",
      "|         4644145430|           R_GameTV|   false|          45714|          229|           30090|         52518|Thu Dec 24 16:16:...|Wed Feb 09 22:27:...|          1|\n",
      "|          297169759|      SamsungMobile|    true|       12403685|          425|             523|          8618|Thu May 12 01:59:...|Wed Feb 09 17:41:...|          1|\n",
      "|            5921162|            famitsu|    true|         901080|        44842|              70|        265141|Thu May 10 05:03:...|Wed Feb 09 23:02:...|          1|\n",
      "|1441557548427927554|      Gamersnanet_3|   false|         101258|          272|           49582|         19308|Sat Sep 25 00:18:...|Tue Feb 08 16:35:...|          1|\n",
      "|1441557548427927554|      Gamersnanet_3|   false|         101258|          272|           49582|         19308|Sat Sep 25 00:18:...|Tue Feb 08 16:35:...|          1|\n",
      "|1409917553514848257|        PokemonGems|   false|          46955|          373|            6250|           992|Tue Jun 29 16:52:...|Tue Feb 08 18:19:...|          1|\n",
      "|         4920946291|        sof1azara03|   false|         279245|         3404|           22457|         71593|Wed Feb 17 12:34:...|Tue Feb 08 15:32:...|          1|\n",
      "|           18927441|                IGN|    true|        8597166|         1370|           16325|        160322|Tue Jan 13 03:56:...|Tue Feb 08 19:31:...|          1|\n",
      "|         2786677338|    denfaminicogame|    true|         417933|         3330|            8410|         44262|Tue Sep 02 21:20:...|Tue Feb 08 04:34:...|          1|\n",
      "|          252087695|         ggame_____|   false|         209737|          421|            5599|        215713|Mon Feb 14 13:23:...|Tue Feb 08 16:23:...|          1|\n",
      "|          297169759|      SamsungMobile|    true|       12395696|          425|             523|          8481|Thu May 12 01:59:...|Tue Feb 08 09:50:...|          1|\n",
      "|1302006102364745728|      strokegamexxx|   false|         183615|         1918|            1290|         70834|Fri Sep 04 22:10:...|Tue Feb 08 23:53:...|          1|\n",
      "|            7157132|           GameSpot|    true|        4658647|          707|           21702|        154979|Fri Jun 29 17:54:...|Tue Feb 08 18:00:...|          1|\n",
      "|1449414811436023812|      chitaglorya__|   false|         226862|          436|             294|         12096|Sat Oct 16 16:40:...|Tue Feb 08 15:10:...|          1|\n",
      "|1034478294677250048|       CryptoTownEU|   false|        1235962|           52|            1367|          4082|Tue Aug 28 16:30:...|Tue Feb 08 07:52:...|          1|\n",
      "|           26257166|       SportsCenter|    true|       39439593|          731|            1980|        132361|Tue Mar 24 15:28:...|Tue Feb 08 21:53:...|          1|\n",
      "|1200355745600069635|       GiveAwayHost|   false|         304416|          798|            7895|         39543|Fri Nov 29 10:08:...|Mon Feb 07 11:50:...|          1|\n",
      "|         1328954190|     DyingLightGame|    true|         278607|          110|            3318|          7872|Fri Apr 05 11:18:...|Mon Feb 07 19:00:...|          1|\n",
      "|          501558917|           TheJenus|   false|        1046092|          977|            7285|          5403|Fri Feb 24 07:53:...|Mon Feb 07 11:42:...|          1|\n",
      "| 839280506931924992|       VideoArtGame|   false|         101809|           81|            6764|          5542|Wed Mar 08 01:04:...|Mon Feb 07 08:49:...|          1|\n",
      "|          252087695|         ggame_____|   false|         209724|          420|            5592|        215659|Mon Feb 14 13:23:...|Mon Feb 07 16:13:...|          1|\n",
      "|1302006102364745728|      strokegamexxx|   false|         183063|         1923|            1283|         70483|Fri Sep 04 22:10:...|Mon Feb 07 01:28:...|          1|\n",
      "|1449414811436023812|      chitaglorya__|   false|         224010|          433|             287|         11987|Sat Oct 16 16:40:...|Mon Feb 07 15:12:...|          1|\n",
      "|            5921162|            famitsu|    true|         900639|        44841|              70|        264948|Thu May 10 05:03:...|Mon Feb 07 12:20:...|          1|\n",
      "|           19426551|                NFL|    true|       28654120|         2723|            3067|        233856|Sat Jan 24 01:28:...|Mon Feb 07 22:00:...|          1|\n",
      "|           26257166|       SportsCenter|    true|       39418676|          731|            1979|        132327|Tue Mar 24 15:28:...|Mon Feb 07 00:52:...|          1|\n",
      "|1200355745600069635|       GiveAwayHost|   false|         306108|          800|            7894|         39507|Fri Nov 29 10:08:...|Sun Feb 06 22:40:...|          1|\n",
      "|1156269110545793024|       ladyincrypto|   false|         351932|          719|            1534|         13577|Tue Jul 30 18:23:...|Sun Feb 06 11:49:...|          1|\n",
      "|           18927441|                IGN|    true|        8590705|         1370|           16324|        160225|Tue Jan 13 03:56:...|Sun Feb 06 14:00:...|          1|\n",
      "|          501558917|           TheJenus|   false|        1046730|          977|            7286|          5375|Fri Feb 24 07:53:...|Sun Feb 06 18:28:...|          1|\n",
      "|1302006102364745728|      strokegamexxx|   false|         182553|         1925|            1280|         70404|Fri Sep 04 22:10:...|Sun Feb 06 07:18:...|          1|\n",
      "|1449414811436023812|      chitaglorya__|   false|         222570|          431|             280|         11901|Sat Oct 16 16:40:...|Sun Feb 06 15:23:...|          1|\n",
      "|1200355745600069635|       GiveAwayHost|   false|         305453|          801|            7895|         39398|Fri Nov 29 10:08:...|Sat Feb 05 18:36:...|          1|\n",
      "|1409917553514848257|        PokemonGems|   false|          44923|          364|            6121|           980|Tue Jun 29 16:52:...|Sat Feb 05 02:19:...|          1|\n",
      "|         4920946291|        sof1azara03|   false|         276811|         3408|           22334|         71172|Wed Feb 17 12:34:...|Sat Feb 05 22:00:...|          1|\n",
      "|1235177017441529861|           game7400|   false|          17823|         2215|            8262|          7603|Wed Mar 04 12:15:...|Sat Feb 05 15:52:...|          1|\n",
      "|           18927441|                IGN|    true|        8588755|         1370|           16324|        160208|Tue Jan 13 03:56:...|Sat Feb 05 22:01:...|          1|\n",
      "|         1328954190|     DyingLightGame|    true|         269294|          110|            3308|          7803|Fri Apr 05 11:18:...|Sat Feb 05 17:01:...|          1|\n",
      "|          501558917|           TheJenus|   false|        1047089|          975|            7270|          5292|Fri Feb 24 07:53:...|Sat Feb 05 01:33:...|          1|\n",
      "|          252087695|         ggame_____|   false|         209708|          422|            5588|        215515|Mon Feb 14 13:23:...|Sat Feb 05 09:40:...|          1|\n",
      "|1302006102364745728|      strokegamexxx|   false|         182419|         1923|            1280|         70376|Fri Sep 04 22:10:...|Sat Feb 05 22:49:...|          1|\n",
      "|1470439914953011204|       DarkLandGame|   false|          43478|            1|             120|            43|Mon Dec 13 17:06:...|Sat Feb 05 09:01:...|          1|\n",
      "|1449414811436023812|      chitaglorya__|   false|         219786|          431|             280|         11856|Sat Oct 16 16:40:...|Sat Feb 05 11:18:...|          1|\n",
      "|            5921162|            famitsu|    true|         900658|        44842|              70|        264872|Thu May 10 05:03:...|Sat Feb 05 11:00:...|          1|\n",
      "|             890891|     BleacherReport|    true|       10968909|          714|             398|        150296|Sat Mar 10 23:52:...|Fri Feb 04 00:46:...|          1|\n",
      "|          130447415|            hikakin|    true|        6253721|         6590|           12415|         41512|Wed Apr 07 09:33:...|Fri Feb 04 11:34:...|          1|\n",
      "|1200355745600069635|       GiveAwayHost|   false|         305384|          801|            7892|         39314|Fri Nov 29 10:08:...|Fri Feb 04 21:49:...|          1|\n",
      "|1156269110545793024|       ladyincrypto|   false|         352238|          717|            1535|         13489|Tue Jul 30 18:23:...|Fri Feb 04 03:06:...|          1|\n",
      "|         4920946291|        sof1azara03|   false|         273257|         3406|           22289|         70997|Wed Feb 17 12:34:...|Fri Feb 04 16:18:...|          1|\n",
      "|         1149178590|         MarDGamero|   false|          28658|          627|          142956|          7323|Mon Feb 04 22:05:...|Fri Feb 04 08:17:...|          1|\n",
      "|          252087695|         ggame_____|   false|         209717|          421|            5582|        215462|Mon Feb 14 13:23:...|Fri Feb 04 11:45:...|          1|\n",
      "|          297169759|      SamsungMobile|    true|       12386318|          425|             522|          8436|Thu May 12 01:59:...|Fri Feb 04 04:26:...|          1|\n",
      "|1302006102364745728|      strokegamexxx|   false|         181712|         1922|            1268|         70142|Fri Sep 04 22:10:...|Fri Feb 04 18:08:...|          1|\n",
      "|1449414811436023812|      chitaglorya__|   false|         220056|          430|             278|         11808|Sat Oct 16 16:40:...|Fri Feb 04 16:18:...|          1|\n",
      "|            5921162|            famitsu|    true|         900523|        44845|              70|        264774|Thu May 10 05:03:...|Fri Feb 04 04:03:...|          1|\n",
      "|           19426551|                NFL|    true|       28597885|         2721|            3060|        233610|Sat Jan 24 01:28:...|Fri Feb 04 22:07:...|          1|\n",
      "|1441557548427927554|       Gamersnanet_|   false|         100212|         1029|           49656|         22428|Sat Sep 25 00:18:...|Thu Feb 03 18:42:...|          1|\n",
      "|1441557548427927554|       Gamersnanet_|   false|         100212|         1029|           49656|         22428|Sat Sep 25 00:18:...|Thu Feb 03 18:42:...|          1|\n",
      "|1200355745600069635|       GiveAwayHost|   false|         302191|          798|            7893|         39185|Fri Nov 29 10:08:...|Thu Feb 03 05:41:...|          1|\n",
      "|1156269110545793024|       ladyincrypto|   false|         352221|          716|            1533|         13485|Tue Jul 30 18:23:...|Thu Feb 03 15:16:...|          1|\n",
      "|           19631395|     videogamedeals|    true|         460453|          428|            3085|        140833|Wed Jan 28 02:21:...|Thu Feb 03 17:03:...|          1|\n",
      "|         4920946291|        sof1azara03|   false|         270404|         3407|           22243|         70834|Wed Feb 17 12:34:...|Thu Feb 03 17:11:...|          1|\n",
      "|           18927441|                IGN|    true|        8578564|         1370|           16318|        160061|Tue Jan 13 03:56:...|Thu Feb 03 00:01:...|          1|\n",
      "|         3095001124|         OoCPokemon|   false|         749566|           31|            1406|          6084|Wed Mar 18 17:02:...|Thu Feb 03 04:20:...|          1|\n",
      "|1302006102364745728|      strokegamexxx|   false|         180857|         1921|            1266|         69926|Fri Sep 04 22:10:...|Thu Feb 03 13:50:...|          1|\n",
      "|            7157132|           GameSpot|    true|        4649532|          707|           21709|        154822|Fri Jun 29 17:54:...|Thu Feb 03 21:38:...|          1|\n",
      "|1449414811436023812|      chitaglorya__|   false|         219325|          429|             275|         11711|Sat Oct 16 16:40:...|Thu Feb 03 15:19:...|          1|\n",
      "|            5921162|            famitsu|    true|         900486|        44849|              70|        264688|Thu May 10 05:03:...|Thu Feb 03 03:30:...|          1|\n",
      "|           19426551|                NFL|    true|       28572242|         2720|            3055|        233533|Sat Jan 24 01:28:...|Thu Feb 03 19:29:...|          1|\n",
      "|             890891|     BleacherReport|    true|       10959014|          714|             398|        150249|Sat Mar 10 23:52:...|Wed Feb 02 15:21:...|          1|\n",
      "|1441557548427927554|       Gamersnanet_|   false|          98906|         1020|           49624|         22308|Sat Sep 25 00:18:...|Wed Feb 02 19:23:...|          1|\n",
      "|1441557548427927554|       Gamersnanet_|   false|          98906|         1020|           49624|         22308|Sat Sep 25 00:18:...|Wed Feb 02 19:23:...|          1|\n",
      "|1200355745600069635|       GiveAwayHost|   false|         302735|          798|            7894|         39171|Fri Nov 29 10:08:...|Wed Feb 02 23:33:...|          1|\n",
      "|         4920946291|        sof1azara03|   false|         265946|         3406|           22171|         70582|Wed Feb 17 12:34:...|Wed Feb 02 04:17:...|          1|\n",
      "|1235177017441529861|           game7400|   false|          17313|         2216|            8261|          7583|Wed Mar 04 12:15:...|Wed Feb 02 05:52:...|          1|\n",
      "|           18927441|                IGN|    true|        8577737|         1370|           16314|        160040|Tue Jan 13 03:56:...|Wed Feb 02 17:47:...|          1|\n",
      "|          501558917|           TheJenus|   false|        1043511|          963|            7259|          5167|Fri Feb 24 07:53:...|Wed Feb 02 13:30:...|          1|\n",
      "| 839280506931924992|       VideoArtGame|   false|         100454|           79|            6778|          5489|Wed Mar 08 01:04:...|Wed Feb 02 12:52:...|          1|\n",
      "|         2786677338|    denfaminicogame|    true|         419048|         3328|            8409|         44129|Tue Sep 02 21:20:...|Wed Feb 02 03:30:...|          1|\n",
      "|          252087695|         ggame_____|   false|         209650|          418|            5569|        215278|Mon Feb 14 13:23:...|Wed Feb 02 04:48:...|          1|\n",
      "|1302006102364745728|      strokegamexxx|   false|         179773|         1910|            1265|         69805|Fri Sep 04 22:10:...|Wed Feb 02 09:24:...|          1|\n",
      "|1449414811436023812|      chitaglorya__|   false|         217826|          427|             270|         11591|Sat Oct 16 16:40:...|Wed Feb 02 13:19:...|          1|\n",
      "|             890891|     BleacherReport|    true|       10952465|          714|             398|        150209|Sat Mar 10 23:52:...|Tue Feb 01 17:06:...|          1|\n",
      "|1200355745600069635|       GiveAwayHost|   false|         302312|          797|            7892|         39058|Fri Nov 29 10:08:...|Tue Feb 01 18:35:...|          1|\n",
      "|1156269110545793024|       ladyincrypto|   false|         350551|          714|            1530|         13344|Tue Jul 30 18:23:...|Tue Feb 01 05:48:...|          1|\n",
      "|           19631395|     videogamedeals|    true|         460405|          429|            3085|        140686|Wed Jan 28 02:21:...|Tue Feb 01 06:41:...|          1|\n",
      "|         4920946291|        sof1azara03|   false|         268897|         3410|           22154|         70515|Wed Feb 17 12:34:...|Tue Feb 01 23:10:...|          1|\n",
      "|1235177017441529861|           game7400|   false|          15830|         2217|            8265|          7577|Wed Mar 04 12:15:...|Tue Feb 01 05:31:...|          1|\n",
      "|           18927441|                IGN|    true|        8575499|         1370|           16312|        159991|Tue Jan 13 03:56:...|Tue Feb 01 21:01:...|          1|\n",
      "|          501558917|           TheJenus|   false|        1042428|          962|            7249|          5113|Fri Feb 24 07:53:...|Tue Feb 01 18:56:...|          1|\n",
      "|         2786677338|    denfaminicogame|    true|         419250|         3327|            8409|         44114|Tue Sep 02 21:20:...|Tue Feb 01 11:16:...|          1|\n",
      "|          252087695|         ggame_____|   false|         209644|          423|            5565|        215220|Mon Feb 14 13:23:...|Tue Feb 01 06:57:...|          1|\n",
      "|1302006102364745728|      strokegamexxx|   false|         179261|         1908|            1265|         69627|Fri Sep 04 22:10:...|Tue Feb 01 17:27:...|          1|\n",
      "|            7157132|           GameSpot|    true|        4645675|          706|           21710|        154735|Fri Jun 29 17:54:...|Tue Feb 01 08:00:...|          1|\n",
      "|1449414811436023812|      chitaglorya__|   false|         216799|          427|             261|         11473|Sat Oct 16 16:40:...|Tue Feb 01 03:27:...|          1|\n",
      "|           19426551|                NFL|    true|       28515096|         2719|            3051|        233446|Sat Jan 24 01:28:...|Tue Feb 01 00:03:...|          1|\n",
      "|             890891|     BleacherReport|    true|       10945878|          714|             398|        150168|Sat Mar 10 23:52:...|Mon Jan 31 16:28:...|          1|\n",
      "|1200355745600069635|       GiveAwayHost|   false|         302916|          795|            7890|         38978|Fri Nov 29 10:08:...|Mon Jan 31 19:36:...|          1|\n",
      "|1156269110545793024|       ladyincrypto|   false|         351622|          711|            1531|         13319|Tue Jul 30 18:23:...|Mon Jan 31 13:00:...|          1|\n",
      "|           19631395|     videogamedeals|    true|         460387|          429|            3085|        140655|Wed Jan 28 02:21:...|Mon Jan 31 21:45:...|          1|\n",
      "|         4920946291|        sof1azara03|   false|         264431|         3407|           22079|         70196|Wed Feb 17 12:34:...|Mon Jan 31 04:24:...|          1|\n",
      "|          501558917|           TheJenus|   false|        1039187|          957|            7222|          4974|Fri Feb 24 07:53:...|Mon Jan 31 06:31:...|          1|\n",
      "|         2786677338|    denfaminicogame|    true|         419437|         3328|            8409|         44084|Tue Sep 02 21:20:...|Mon Jan 31 11:45:...|          1|\n",
      "|1302006102364745728|      strokegamexxx|   false|         178927|         1906|            1262|         69422|Fri Sep 04 22:10:...|Mon Jan 31 16:45:...|          1|\n",
      "|            7157132|           GameSpot|    true|        4645165|          706|           21712|        154719|Fri Jun 29 17:54:...|Mon Jan 31 21:15:...|          1|\n",
      "|1449414811436023812|      chitaglorya__|   false|         216394|          426|             261|         11443|Sat Oct 16 16:40:...|Mon Jan 31 15:49:...|          1|\n",
      "|            5921162|            famitsu|    true|         899532|        44853|              70|        264501|Thu May 10 05:03:...|Mon Jan 31 13:00:...|          1|\n",
      "|1441557548427927554|       Gamersnanet_|   false|          95018|          995|           49625|         22149|Sat Sep 25 00:18:...|Sun Jan 30 12:10:...|          1|\n",
      "|1441557548427927554|       Gamersnanet_|   false|          95018|          995|           49625|         22149|Sat Sep 25 00:18:...|Sun Jan 30 12:10:...|          1|\n",
      "|1200355745600069635|       GiveAwayHost|   false|         299606|          792|            7887|         38859|Fri Nov 29 10:08:...|Sun Jan 30 08:03:...|          1|\n",
      "|         2597010860|       arigameplays|    true|        4938174|         1625|          102768|         78549|Mon Jun 30 22:41:...|Sun Jan 30 06:55:...|          1|\n",
      "|1409917553514848257|        PokemonGems|   false|          43421|          354|            5971|           951|Tue Jun 29 16:52:...|Sun Jan 30 22:24:...|          1|\n",
      "|         4920946291|        sof1azara03|   false|         265120|         3407|           22072|         70138|Wed Feb 17 12:34:...|Sun Jan 30 15:29:...|          1|\n",
      "|          501558917|           TheJenus|   false|        1038191|          950|            7211|          4890|Fri Feb 24 07:53:...|Sun Jan 30 07:49:...|          1|\n",
      "|            7157132|           GameSpot|    true|        4643077|          706|           21712|        154672|Fri Jun 29 17:54:...|Sun Jan 30 11:00:...|          1|\n",
      "|1449414811436023812|      chitaglorya__|   false|         215509|          420|             257|         11359|Sat Oct 16 16:40:...|Sun Jan 30 16:33:...|          1|\n",
      "|            5921162|            famitsu|    true|         899195|        44856|              70|        264433|Thu May 10 05:03:...|Sun Jan 30 09:00:...|          1|\n",
      "|           19426551|                NFL|    true|       28482532|         2720|            3049|        233270|Sat Jan 24 01:28:...|Sun Jan 30 21:00:...|          1|\n",
      "|1200355745600069635|       GiveAwayHost|   false|         300080|          792|            7884|         38774|Fri Nov 29 10:08:...|Sat Jan 29 04:43:...|          1|\n",
      "|1156269110545793024|       ladyincrypto|   false|         351211|          707|            1528|         13242|Tue Jul 30 18:23:...|Sat Jan 29 18:49:...|          1|\n",
      "|         4920946291|        sof1azara03|   false|         266678|         3411|           22028|         69998|Wed Feb 17 12:34:...|Sat Jan 29 16:37:...|          1|\n",
      "|           18927441|                IGN|    true|        8567640|         1370|           16305|        159857|Tue Jan 13 03:56:...|Sat Jan 29 16:30:...|          1|\n",
      "|          501558917|           TheJenus|   false|        1038958|          950|            7193|          4879|Fri Feb 24 07:53:...|Sat Jan 29 20:10:...|          1|\n",
      "| 839280506931924992|       VideoArtGame|   false|          99530|           78|            6778|          5455|Wed Mar 08 01:04:...|Sat Jan 29 15:19:...|          1|\n",
      "|          252087695|         ggame_____|   false|         209596|          419|            5548|        215009|Mon Feb 14 13:23:...|Sat Jan 29 17:23:...|          1|\n",
      "|1302006102364745728|      strokegamexxx|   false|         178400|         1910|            1260|         69239|Fri Sep 04 22:10:...|Sat Jan 29 18:27:...|          1|\n",
      "|            7157132|           GameSpot|    true|        4641333|          706|           21713|        154634|Fri Jun 29 17:54:...|Sat Jan 29 03:00:...|          1|\n",
      "|1449414811436023812|      chitaglorya__|   false|         213256|          417|             254|         11263|Sat Oct 16 16:40:...|Sat Jan 29 03:25:...|          1|\n",
      "|            5921162|            famitsu|    true|         899234|        44856|              70|        264414|Thu May 10 05:03:...|Sat Jan 29 12:03:...|          1|\n",
      "|          425871040|       FortniteGame|    true|       14129285|          100|            2514|         15217|Thu Dec 01 14:57:...|Sat Jan 29 00:00:...|          1|\n",
      "|           19426551|                NFL|    true|       28457271|         2719|            3048|        233207|Sat Jan 24 01:28:...|Sat Jan 29 20:22:...|          1|\n",
      "|           26257166|       SportsCenter|    true|       39318083|          730|            1974|        132100|Tue Mar 24 15:28:...|Sat Jan 29 16:00:...|          1|\n",
      "|1441557548427927554|       Gamersnanet_|   false|          93017|          978|           49698|         22128|Sat Sep 25 00:18:...|Fri Jan 28 19:11:...|          1|\n",
      "|1441557548427927554|       Gamersnanet_|   false|          93017|          978|           49698|         22128|Sat Sep 25 00:18:...|Fri Jan 28 19:11:...|          1|\n",
      "|         2597010860|       arigameplays|    true|        4912525|         1623|          102699|         78522|Mon Jun 30 22:41:...|Fri Jan 28 19:11:...|          1|\n",
      "|         4920946291|        sof1azara03|   false|         262795|         3409|           21979|         69812|Wed Feb 17 12:34:...|Fri Jan 28 12:12:...|          1|\n",
      "|           18927441|                IGN|    true|        8565410|         1370|           16304|        159808|Tue Jan 13 03:56:...|Fri Jan 28 18:01:...|          1|\n",
      "|1302006102364745728|      strokegamexxx|   false|         177860|         1908|            1259|         69113|Fri Sep 04 22:10:...|Fri Jan 28 11:36:...|          1|\n",
      "|           19426551|                NFL|    true|       28435941|         2720|            3048|        233185|Sat Jan 24 01:28:...|Fri Jan 28 19:32:...|          1|\n",
      "|             890891|     BleacherReport|    true|       10916960|          714|             398|        149988|Sat Mar 10 23:52:...|Thu Jan 27 03:05:...|          1|\n",
      "|1200355745600069635|       GiveAwayHost|   false|         297412|          790|            7881|         38641|Fri Nov 29 10:08:...|Thu Jan 27 11:28:...|          1|\n",
      "|1156269110545793024|       ladyincrypto|   false|         350871|          705|            1528|         13186|Tue Jul 30 18:23:...|Thu Jan 27 15:41:...|          1|\n",
      "|           19631395|     videogamedeals|    true|         460251|          430|            3086|        140426|Wed Jan 28 02:21:...|Thu Jan 27 18:05:...|          1|\n",
      "|         4920946291|        sof1azara03|   false|         262447|         3411|           21956|         69713|Wed Feb 17 12:34:...|Thu Jan 27 15:12:...|          1|\n",
      "|           18927441|                IGN|    true|        8562146|         1370|           16300|        159736|Tue Jan 13 03:56:...|Thu Jan 27 07:00:...|          1|\n",
      "|         2786677338|    denfaminicogame|    true|         419813|         3329|            8411|         43988|Tue Sep 02 21:20:...|Thu Jan 27 05:25:...|          1|\n",
      "|          252087695|         ggame_____|   false|         209591|          421|            5537|        214935|Mon Feb 14 13:23:...|Thu Jan 27 17:37:...|          1|\n",
      "|1302006102364745728|      strokegamexxx|   false|         177341|         1911|            1243|         68940|Fri Sep 04 22:10:...|Thu Jan 27 12:25:...|          1|\n",
      "|1449414811436023812|      chitaglorya__|   false|         212431|          426|             252|         11127|Sat Oct 16 16:40:...|Thu Jan 27 13:22:...|          1|\n",
      "|           19426551|                NFL|    true|       28422785|         2721|            3048|        233168|Sat Jan 24 01:28:...|Thu Jan 27 23:54:...|          1|\n",
      "|1200355745600069635|       GiveAwayHost|   false|         298322|          791|            7881|         38563|Fri Nov 29 10:08:...|Wed Jan 26 11:54:...|          1|\n",
      "|           19631395|     videogamedeals|    true|         460153|          430|            3086|        140350|Wed Jan 28 02:21:...|Wed Jan 26 21:15:...|          1|\n",
      "|           18927441|                IGN|    true|        8559482|         1369|           16298|        159652|Tue Jan 13 03:56:...|Wed Jan 26 00:01:...|          1|\n",
      "|          501558917|           TheJenus|   false|        1037374|          912|            7222|          4670|Fri Feb 24 07:53:...|Wed Jan 26 08:45:...|          1|\n",
      "|1302006102364745728|      strokegamexxx|   false|         177136|         1909|            1243|         68819|Fri Sep 04 22:10:...|Wed Jan 26 23:31:...|          1|\n",
      "|1449414811436023812|      chitaglorya__|   false|         212056|          425|             251|         11048|Sat Oct 16 16:40:...|Wed Jan 26 16:16:...|          1|\n",
      "|           19426551|                NFL|    true|       28408986|         2722|            3044|        233105|Sat Jan 24 01:28:...|Wed Jan 26 20:03:...|          1|\n",
      "|1441557548427927554|       Gamersnanet_|   false|          88634|          988|           50219|         21988|Sat Sep 25 00:18:...|Tue Jan 25 13:01:...|          1|\n",
      "|1441557548427927554|       Gamersnanet_|   false|          88634|          988|           50219|         21988|Sat Sep 25 00:18:...|Tue Jan 25 13:01:...|          1|\n",
      "|1200355745600069635|       GiveAwayHost|   false|         298252|          791|            7880|         38514|Fri Nov 29 10:08:...|Tue Jan 25 21:44:...|          1|\n",
      "|1156269110545793024|       ladyincrypto|   false|         348305|          704|            1523|         13097|Tue Jul 30 18:23:...|Tue Jan 25 06:42:...|          1|\n",
      "|         4920946291|        sof1azara03|   false|         262884|         3415|           21897|         69447|Wed Feb 17 12:34:...|Tue Jan 25 02:50:...|          1|\n",
      "|          501558917|           TheJenus|   false|        1037858|          874|            7154|          4635|Fri Feb 24 07:53:...|Tue Jan 25 09:47:...|          1|\n",
      "|          252087695|         ggame_____|   false|         209576|          421|            5523|        214799|Mon Feb 14 13:23:...|Tue Jan 25 15:37:...|          1|\n",
      "|1302006102364745728|      strokegamexxx|   false|         176700|         1911|            1237|         68359|Fri Sep 04 22:10:...|Tue Jan 25 20:48:...|          1|\n",
      "|1449414811436023812|      chitaglorya__|   false|         209746|          424|             246|         10860|Sat Oct 16 16:40:...|Tue Jan 25 04:16:...|          1|\n",
      "|            5921162|            famitsu|    true|         899258|        44860|              70|        264091|Thu May 10 05:03:...|Tue Jan 25 08:30:...|          1|\n",
      "|1200355745600069635|       GiveAwayHost|   false|         297662|          789|            7887|         38427|Fri Nov 29 10:08:...|Mon Jan 24 16:24:...|          1|\n",
      "|           19631395|     videogamedeals|    true|         460006|          430|            3086|        140192|Wed Jan 28 02:21:...|Mon Jan 24 14:42:...|          1|\n",
      "|         4920946291|        sof1azara03|   false|         262841|         3416|           21884|         69420|Wed Feb 17 12:34:...|Mon Jan 24 18:52:...|          1|\n",
      "|1302006102364745728|      strokegamexxx|   false|         176294|         1905|            1238|         68043|Fri Sep 04 22:10:...|Mon Jan 24 12:29:...|          1|\n",
      "|1449414811436023812|      chitaglorya__|   false|         210748|          420|             243|         10791|Sat Oct 16 16:40:...|Mon Jan 24 13:29:...|          1|\n",
      "|            5921162|            famitsu|    true|         899374|        44861|              70|        264014|Thu May 10 05:03:...|Mon Jan 24 09:00:...|          1|\n",
      "|1200355745600069635|       GiveAwayHost|   false|         296845|          787|            7880|         38352|Fri Nov 29 10:08:...|Sun Jan 23 16:09:...|          1|\n",
      "|1156269110545793024|       ladyincrypto|   false|         348032|          704|            1515|         13038|Tue Jul 30 18:23:...|Sun Jan 23 12:41:...|          1|\n",
      "|           19631395|     videogamedeals|    true|         459940|          430|            3087|        140147|Wed Jan 28 02:21:...|Sun Jan 23 20:15:...|          1|\n",
      "|         4920946291|        sof1azara03|   false|         261717|         3415|           21866|         69319|Wed Feb 17 12:34:...|Sun Jan 23 15:08:...|          1|\n",
      "|          252087695|         ggame_____|   false|         209574|          418|            5510|        214641|Mon Feb 14 13:23:...|Sun Jan 23 13:44:...|          1|\n",
      "|1302006102364745728|      strokegamexxx|   false|         175881|         1910|            1238|         67934|Fri Sep 04 22:10:...|Sun Jan 23 18:41:...|          1|\n",
      "|1449414811436023812|      chitaglorya__|   false|         209697|          418|             243|         10663|Sat Oct 16 16:40:...|Sun Jan 23 04:35:...|          1|\n",
      "|           19426551|                NFL|    true|       28355336|         2717|            3042|        232877|Sat Jan 24 01:28:...|Sun Jan 23 21:35:...|          1|\n",
      "|           26257166|       SportsCenter|    true|       39262564|          731|            1969|        131970|Tue Mar 24 15:28:...|Sun Jan 23 23:24:...|          1|\n",
      "|1200355745600069635|       GiveAwayHost|   false|         296187|          788|            7876|         38286|Fri Nov 29 10:08:...|Sat Jan 22 20:09:...|          1|\n",
      "|1156269110545793024|       ladyincrypto|   false|         347889|          702|            1515|         13012|Tue Jul 30 18:23:...|Sat Jan 22 11:29:...|          1|\n",
      "|           19631395|     videogamedeals|    true|         459783|          430|            3087|        140084|Wed Jan 28 02:21:...|Sat Jan 22 18:01:...|          1|\n",
      "|           18927441|                IGN|    true|        8553999|         1369|           16296|        159518|Tue Jan 13 03:56:...|Sat Jan 22 17:01:...|          1|\n",
      "|          501558917|           TheJenus|   false|        1038471|          795|            7093|          4508|Fri Feb 24 07:53:...|Sat Jan 22 13:21:...|          1|\n",
      "|          252087695|         ggame_____|   false|         209589|          421|            5497|        214537|Mon Feb 14 13:23:...|Sat Jan 22 02:35:...|          1|\n",
      "|          347831597|     TheSandboxGame|    true|         766382|         1147|            7097|         10662|Wed Aug 03 12:46:...|Sat Jan 22 18:54:...|          1|\n",
      "|1302006102364745728|      strokegamexxx|   false|         175502|         1911|            1238|         67741|Fri Sep 04 22:10:...|Sat Jan 22 20:42:...|          1|\n",
      "|            7157132|           GameSpot|    true|        4635608|          706|           21719|        154430|Fri Jun 29 17:54:...|Sat Jan 22 23:00:...|          1|\n",
      "|1449414811436023812|      chitaglorya__|   false|         209034|          419|             243|         10603|Sat Oct 16 16:40:...|Sat Jan 22 13:14:...|          1|\n",
      "+-------------------+-------------------+--------+---------------+-------------+----------------+--------------+--------------------+--------------------+-----------+"
     ]
    }
   ],
   "source": [
    "pokemon_inf.show(1000)"
   ]
  },
  {
   "cell_type": "code",
   "execution_count": null,
   "metadata": {},
   "outputs": [],
   "source": [
    "#  diff = diff.join(user_join, on=\"user_id_str\", how=\"left_anti\")\n",
    "\n",
    "#     if pokemon_inf:\n",
    "#         pokemon_inf = pokemon_inf.union(user_join)\n",
    "#     else:\n",
    "#         pokemon_inf = user_join.alias(\"pokemon_inf\")\n",
    "        \n",
    "        #     if diff.count() == 0:\n",
    "#         print('okaykkk')\n",
    "#         break"
   ]
  },
  {
   "cell_type": "code",
   "execution_count": null,
   "metadata": {},
   "outputs": [],
   "source": [
    "# folder_list[:-6:-1]\n",
    "\n",
    "# folder_list[-6:-11:-1]\n",
    "\n",
    "# folder_list[-11:-16:-1]\n",
    "\n",
    "# folder_list[-16:-21:-1]\n",
    "\n",
    "# folder_list[-21:-26:-1]"
   ]
  },
  {
   "cell_type": "code",
   "execution_count": null,
   "metadata": {},
   "outputs": [
    {
     "data": {
      "application/vnd.jupyter.widget-view+json": {
       "model_id": "1ce6ba4bb8ff4ce3b4d41b773ac0f61a",
       "version_major": 2,
       "version_minor": 0
      },
      "text/plain": [
       "VBox()"
      ]
     },
     "metadata": {},
     "output_type": "display_data"
    },
    {
     "data": {
      "application/vnd.jupyter.widget-view+json": {
       "model_id": "",
       "version_major": 2,
       "version_minor": 0
      },
      "text/plain": [
       "FloatProgress(value=0.0, bar_style='info', description='Progress:', layout=Layout(height='25px', width='50%'),…"
      ]
     },
     "metadata": {},
     "output_type": "display_data"
    },
    {
     "name": "stderr",
     "output_type": "stream",
     "text": [
      "An error was encountered:\n",
      "name 'folder_list' is not defined\n",
      "Traceback (most recent call last):\n",
      "NameError: name 'folder_list' is not defined\n",
      "\n"
     ]
    }
   ],
   "source": [
    "folder_list[:-15:-1]"
   ]
  },
  {
   "cell_type": "code",
   "execution_count": null,
   "metadata": {},
   "outputs": [
    {
     "data": {
      "application/vnd.jupyter.widget-view+json": {
       "model_id": "fc4e0cc34cc047309248f0344d0e751d",
       "version_major": 2,
       "version_minor": 0
      },
      "text/plain": [
       "VBox()"
      ]
     },
     "metadata": {},
     "output_type": "display_data"
    },
    {
     "data": {
      "application/vnd.jupyter.widget-view+json": {
       "model_id": "",
       "version_major": 2,
       "version_minor": 0
      },
      "text/plain": [
       "FloatProgress(value=0.0, bar_style='info', description='Progress:', layout=Layout(height='25px', width='50%'),…"
      ]
     },
     "metadata": {},
     "output_type": "display_data"
    },
    {
     "name": "stdout",
     "output_type": "stream",
     "text": [
      "(['20220215', '20220214', '20220213', '20220212', '20220211'], ['20220210', '20220209', '20220208', '20220207', '20220206', '20220205', '20220204', '20220203', '20220202', '20220201'], ['20220131', '20220130', '20220129', '20220128', '20220127', '20220126', '20220125', '20220124', '20220123', '20220122'])"
     ]
    }
   ],
   "source": [
    "folder_list[:-6:-1],folder_list[-6:-16:-1], folder_list[-16:-26:-1]"
   ]
  },
  {
   "cell_type": "code",
   "execution_count": null,
   "metadata": {},
   "outputs": [
    {
     "data": {
      "application/vnd.jupyter.widget-view+json": {
       "model_id": "fdd6d7401ee0495bb3313db8c0512db9",
       "version_major": 2,
       "version_minor": 0
      },
      "text/plain": [
       "VBox()"
      ]
     },
     "metadata": {},
     "output_type": "display_data"
    },
    {
     "data": {
      "application/vnd.jupyter.widget-view+json": {
       "model_id": "",
       "version_major": 2,
       "version_minor": 0
      },
      "text/plain": [
       "FloatProgress(value=0.0, bar_style='info', description='Progress:', layout=Layout(height='25px', width='50%'),…"
      ]
     },
     "metadata": {},
     "output_type": "display_data"
    },
    {
     "name": "stdout",
     "output_type": "stream",
     "text": [
      "201\n",
      "204\n",
      "204\n",
      "204\n",
      "204"
     ]
    }
   ],
   "source": []
  },
  {
   "cell_type": "code",
   "execution_count": null,
   "metadata": {},
   "outputs": [
    {
     "data": {
      "application/vnd.jupyter.widget-view+json": {
       "model_id": "ac66edc7dd664504803edd9c9dcdd33b",
       "version_major": 2,
       "version_minor": 0
      },
      "text/plain": [
       "VBox()"
      ]
     },
     "metadata": {},
     "output_type": "display_data"
    },
    {
     "data": {
      "application/vnd.jupyter.widget-view+json": {
       "model_id": "",
       "version_major": 2,
       "version_minor": 0
      },
      "text/plain": [
       "FloatProgress(value=0.0, bar_style='info', description='Progress:', layout=Layout(height='25px', width='50%'),…"
      ]
     },
     "metadata": {},
     "output_type": "display_data"
    },
    {
     "name": "stdout",
     "output_type": "stream",
     "text": [
      "DataFrame[user_id_str: string, user_twitter_handle: string, verified: boolean, followers_count: bigint, friends_count: bigint, favourites_count: bigint, statuses_count: bigint, created_at: string, tweet_created_at: string, create_rank: int]"
     ]
    }
   ],
   "source": [
    "pokemon_inf.cache()"
   ]
  },
  {
   "cell_type": "code",
   "execution_count": null,
   "metadata": {},
   "outputs": [],
   "source": [
    "# pokemon_inf.write.format(\"csv\").save(\"path/to/csv\")"
   ]
  },
  {
   "cell_type": "code",
   "execution_count": null,
   "metadata": {},
   "outputs": [
    {
     "data": {
      "application/vnd.jupyter.widget-view+json": {
       "model_id": "360fa6b89b3c4cd8a09d74b9b65090c1",
       "version_major": 2,
       "version_minor": 0
      },
      "text/plain": [
       "VBox()"
      ]
     },
     "metadata": {},
     "output_type": "display_data"
    },
    {
     "data": {
      "application/vnd.jupyter.widget-view+json": {
       "model_id": "",
       "version_major": 2,
       "version_minor": 0
      },
      "text/plain": [
       "FloatProgress(value=0.0, bar_style='info', description='Progress:', layout=Layout(height='25px', width='50%'),…"
      ]
     },
     "metadata": {},
     "output_type": "display_data"
    }
   ],
   "source": [
    "# output_bucket = 's3://cs5344-twitter-project/'\n",
    "# # pokemon_inf.toDF().write.mode('overwrite').csv(output_bucket+'pokemon_inf_24_aws') \n",
    "# pokemon_inf.write.format(\"csv\").save(output_bucket+'pokemon_inf_24_aws') "
   ]
  },
  {
   "cell_type": "code",
   "execution_count": null,
   "metadata": {},
   "outputs": [
    {
     "data": {
      "application/vnd.jupyter.widget-view+json": {
       "model_id": "877d6f060897419ba57c6a38ec31bdeb",
       "version_major": 2,
       "version_minor": 0
      },
      "text/plain": [
       "VBox()"
      ]
     },
     "metadata": {},
     "output_type": "display_data"
    },
    {
     "data": {
      "application/vnd.jupyter.widget-view+json": {
       "model_id": "",
       "version_major": 2,
       "version_minor": 0
      },
      "text/plain": [
       "FloatProgress(value=0.0, bar_style='info', description='Progress:', layout=Layout(height='25px', width='50%'),…"
      ]
     },
     "metadata": {},
     "output_type": "display_data"
    },
    {
     "name": "stdout",
     "output_type": "stream",
     "text": [
      "24"
     ]
    }
   ],
   "source": [
    "# pokemon_inf.count()"
   ]
  },
  {
   "cell_type": "code",
   "execution_count": null,
   "metadata": {},
   "outputs": [],
   "source": []
  },
  {
   "cell_type": "code",
   "execution_count": null,
   "metadata": {},
   "outputs": [
    {
     "data": {
      "application/vnd.jupyter.widget-view+json": {
       "model_id": "a4c9e30194b548768f43619f081c034c",
       "version_major": 2,
       "version_minor": 0
      },
      "text/plain": [
       "VBox()"
      ]
     },
     "metadata": {},
     "output_type": "display_data"
    },
    {
     "data": {
      "application/vnd.jupyter.widget-view+json": {
       "model_id": "",
       "version_major": 2,
       "version_minor": 0
      },
      "text/plain": [
       "FloatProgress(value=0.0, bar_style='info', description='Progress:', layout=Layout(height='25px', width='50%'),…"
      ]
     },
     "metadata": {},
     "output_type": "display_data"
    },
    {
     "name": "stdout",
     "output_type": "stream",
     "text": [
      "138\n",
      "167\n",
      "167\n",
      "167\n",
      "167\n",
      "167\n",
      "167\n",
      "167\n",
      "167\n",
      "167"
     ]
    }
   ],
   "source": [
    "diff = pokemon.alias(\"diff\")\n",
    "pokemon_inf = None\n",
    "for f in folder_list[-6:-16:-1]:\n",
    "    folder = input_bucket + path.format(f)\n",
    "    try:\n",
    "        user_join = pre_process(folder)\n",
    "#         diff = diff.join(user_join, on=\"user_id_str\", how=\"left_anti\")\n",
    "        pokemon_inf = user_join.alias(\"pokemon_inf\")\n",
    "        del user_join\n",
    "        gc.collect()\n",
    "    except Py4JJavaError:\n",
    "        print(folder+\" failed\")"
   ]
  },
  {
   "cell_type": "code",
   "execution_count": null,
   "metadata": {},
   "outputs": [
    {
     "data": {
      "application/vnd.jupyter.widget-view+json": {
       "model_id": "e8f6ef9fbba541aca0f6397c94d9d9cd",
       "version_major": 2,
       "version_minor": 0
      },
      "text/plain": [
       "VBox()"
      ]
     },
     "metadata": {},
     "output_type": "display_data"
    },
    {
     "data": {
      "application/vnd.jupyter.widget-view+json": {
       "model_id": "",
       "version_major": 2,
       "version_minor": 0
      },
      "text/plain": [
       "FloatProgress(value=0.0, bar_style='info', description='Progress:', layout=Layout(height='25px', width='50%'),…"
      ]
     },
     "metadata": {},
     "output_type": "display_data"
    }
   ],
   "source": []
  },
  {
   "cell_type": "code",
   "execution_count": null,
   "metadata": {},
   "outputs": [
    {
     "data": {
      "application/vnd.jupyter.widget-view+json": {
       "model_id": "738d7ac8f5784dd1b686c3ad18504277",
       "version_major": 2,
       "version_minor": 0
      },
      "text/plain": [
       "VBox()"
      ]
     },
     "metadata": {},
     "output_type": "display_data"
    },
    {
     "data": {
      "application/vnd.jupyter.widget-view+json": {
       "model_id": "",
       "version_major": 2,
       "version_minor": 0
      },
      "text/plain": [
       "FloatProgress(value=0.0, bar_style='info', description='Progress:', layout=Layout(height='25px', width='50%'),…"
      ]
     },
     "metadata": {},
     "output_type": "display_data"
    }
   ],
   "source": [
    "output_bucket = 's3://cs5344-twitter-project/'\n",
    "# # pokemon_inf.toDF().write.mode('overwrite').csv(output_bucket+'pokemon_inf_24_aws') \n",
    "user_join_2.write.format(\"csv\").save(output_bucket+'user_ana/pokemon_inf_16_26_aws') "
   ]
  },
  {
   "cell_type": "code",
   "execution_count": null,
   "metadata": {},
   "outputs": [
    {
     "data": {
      "application/vnd.jupyter.widget-view+json": {
       "model_id": "e0720f4bd10c4a60824cbefdfaa2ba99",
       "version_major": 2,
       "version_minor": 0
      },
      "text/plain": [
       "VBox()"
      ]
     },
     "metadata": {},
     "output_type": "display_data"
    },
    {
     "data": {
      "application/vnd.jupyter.widget-view+json": {
       "model_id": "",
       "version_major": 2,
       "version_minor": 0
      },
      "text/plain": [
       "FloatProgress(value=0.0, bar_style='info', description='Progress:', layout=Layout(height='25px', width='50%'),…"
      ]
     },
     "metadata": {},
     "output_type": "display_data"
    },
    {
     "name": "stderr",
     "output_type": "stream",
     "text": [
      "An error was encountered:\n",
      "'NoneType' object has no attribute 'show'\n",
      "Traceback (most recent call last):\n",
      "AttributeError: 'NoneType' object has no attribute 'show'\n",
      "\n"
     ]
    }
   ],
   "source": [
    "pokemon_inf.show(50, truncate= False)"
   ]
  },
  {
   "cell_type": "code",
   "execution_count": null,
   "metadata": {},
   "outputs": [
    {
     "data": {
      "application/vnd.jupyter.widget-view+json": {
       "model_id": "6c5a5570b46644b7ba120a5826776ea6",
       "version_major": 2,
       "version_minor": 0
      },
      "text/plain": [
       "VBox()"
      ]
     },
     "metadata": {},
     "output_type": "display_data"
    },
    {
     "data": {
      "application/vnd.jupyter.widget-view+json": {
       "model_id": "",
       "version_major": 2,
       "version_minor": 0
      },
      "text/plain": [
       "FloatProgress(value=0.0, bar_style='info', description='Progress:', layout=Layout(height='25px', width='50%'),…"
      ]
     },
     "metadata": {},
     "output_type": "display_data"
    },
    {
     "name": "stdout",
     "output_type": "stream",
     "text": [
      "+-------------------+-------------------+--------+---------------+-------------+----------------+--------------+------------------------------+------------------------------+-----------+\n",
      "|user_id_str        |user_twitter_handle|verified|followers_count|friends_count|favourites_count|statuses_count|created_at                    |tweet_created_at              |create_rank|\n",
      "+-------------------+-------------------+--------+---------------+-------------+----------------+--------------+------------------------------+------------------------------+-----------+\n",
      "|1235177017441529861|game7400           |false   |15830          |2217         |8265            |7577          |Wed Mar 04 12:15:36 +0000 2020|Tue Feb 01 05:31:43 +0000 2022|1          |\n",
      "|2786677338         |denfaminicogame    |true    |419250         |3327         |8409            |44114         |Tue Sep 02 21:20:04 +0000 2014|Tue Feb 01 11:16:05 +0000 2022|1          |\n",
      "|19426551           |NFL                |true    |28515096       |2719         |3051            |233446        |Sat Jan 24 01:28:06 +0000 2009|Tue Feb 01 00:03:08 +0000 2022|1          |\n",
      "|1302006102364745728|strokegamexxx      |false   |179261         |1908         |1265            |69627         |Fri Sep 04 22:10:31 +0000 2020|Tue Feb 01 17:27:57 +0000 2022|1          |\n",
      "|1200355745600069635|GiveAwayHost       |false   |302312         |797          |7892            |39058         |Fri Nov 29 10:08:11 +0000 2019|Tue Feb 01 18:35:12 +0000 2022|1          |\n",
      "|890891             |BleacherReport     |true    |10952465       |714          |398             |150209        |Sat Mar 10 23:52:36 +0000 2007|Tue Feb 01 17:06:25 +0000 2022|1          |\n",
      "|19631395           |videogamedeals     |true    |460405         |429          |3085            |140686        |Wed Jan 28 02:21:53 +0000 2009|Tue Feb 01 06:41:08 +0000 2022|1          |\n",
      "|1156269110545793024|ladyincrypto       |false   |350551         |714          |1530            |13344         |Tue Jul 30 18:23:33 +0000 2019|Tue Feb 01 05:48:00 +0000 2022|1          |\n",
      "|18927441           |IGN                |true    |8575499        |1370         |16312           |159991        |Tue Jan 13 03:56:38 +0000 2009|Tue Feb 01 21:01:03 +0000 2022|1          |\n",
      "|501558917          |TheJenus           |false   |1042428        |962          |7249            |5113          |Fri Feb 24 07:53:19 +0000 2012|Tue Feb 01 18:56:35 +0000 2022|1          |\n",
      "|7157132            |GameSpot           |true    |4645675        |706          |21710           |154735        |Fri Jun 29 17:54:14 +0000 2007|Tue Feb 01 08:00:11 +0000 2022|1          |\n",
      "|4920946291         |sof1azara03        |false   |268897         |3410         |22154           |70515         |Wed Feb 17 12:34:53 +0000 2016|Tue Feb 01 23:10:04 +0000 2022|1          |\n",
      "|252087695          |ggame_____         |false   |209644         |423          |5565            |215220        |Mon Feb 14 13:23:18 +0000 2011|Tue Feb 01 06:57:45 +0000 2022|1          |\n",
      "|1449414811436023812|chitaglorya__      |false   |216799         |427          |261             |11473         |Sat Oct 16 16:40:14 +0000 2021|Tue Feb 01 03:27:44 +0000 2022|1          |\n",
      "+-------------------+-------------------+--------+---------------+-------------+----------------+--------------+------------------------------+------------------------------+-----------+"
     ]
    }
   ],
   "source": [
    "pokemon_inf.show(50, truncate= False)"
   ]
  },
  {
   "cell_type": "code",
   "execution_count": null,
   "metadata": {},
   "outputs": [
    {
     "data": {
      "application/vnd.jupyter.widget-view+json": {
       "model_id": "2445ce62172541198a3849c0228bb558",
       "version_major": 2,
       "version_minor": 0
      },
      "text/plain": [
       "VBox()"
      ]
     },
     "metadata": {},
     "output_type": "display_data"
    },
    {
     "data": {
      "application/vnd.jupyter.widget-view+json": {
       "model_id": "",
       "version_major": 2,
       "version_minor": 0
      },
      "text/plain": [
       "FloatProgress(value=0.0, bar_style='info', description='Progress:', layout=Layout(height='25px', width='50%'),…"
      ]
     },
     "metadata": {},
     "output_type": "display_data"
    },
    {
     "name": "stdout",
     "output_type": "stream",
     "text": [
      "187\n",
      "160\n",
      "160\n",
      "160\n",
      "160\n",
      "160\n",
      "160\n",
      "160\n",
      "160\n",
      "160"
     ]
    }
   ],
   "source": [
    "# diff = pokemon.alias(\"diff\")\n",
    "pokemon_inf = None\n",
    "for f in folder_list[-16:-26:-1]:\n",
    "    folder = input_bucket + path.format(f)\n",
    "    try:\n",
    "        user_join_2 = pre_process(folder)\n",
    "#         diff = diff.join(user_join, on=\"user_id_str\", how=\"left_anti\")\n",
    "#         pokemon_inf = user_join.alias(\"pokemon_inf\")\n",
    "#         del user_join\n",
    "        gc.collect()\n",
    "    except Py4JJavaError:\n",
    "        print(folder+\" failed\")"
   ]
  },
  {
   "cell_type": "code",
   "execution_count": null,
   "metadata": {},
   "outputs": [
    {
     "data": {
      "application/vnd.jupyter.widget-view+json": {
       "model_id": "a67435904e714568b291816715f5266d",
       "version_major": 2,
       "version_minor": 0
      },
      "text/plain": [
       "VBox()"
      ]
     },
     "metadata": {},
     "output_type": "display_data"
    },
    {
     "data": {
      "application/vnd.jupyter.widget-view+json": {
       "model_id": "",
       "version_major": 2,
       "version_minor": 0
      },
      "text/plain": [
       "FloatProgress(value=0.0, bar_style='info', description='Progress:', layout=Layout(height='25px', width='50%'),…"
      ]
     },
     "metadata": {},
     "output_type": "display_data"
    },
    {
     "name": "stdout",
     "output_type": "stream",
     "text": [
      "+-------------------+-------------------+--------+---------------+-------------+----------------+--------------+------------------------------+------------------------------+-----------+\n",
      "|user_id_str        |user_twitter_handle|verified|followers_count|friends_count|favourites_count|statuses_count|created_at                    |tweet_created_at              |create_rank|\n",
      "+-------------------+-------------------+--------+---------------+-------------+----------------+--------------+------------------------------+------------------------------+-----------+\n",
      "|1302006102364745728|strokegamexxx      |false   |175502         |1911         |1238            |67741         |Fri Sep 04 22:10:31 +0000 2020|Sat Jan 22 20:42:30 +0000 2022|1          |\n",
      "|1200355745600069635|GiveAwayHost       |false   |296187         |788          |7876            |38286         |Fri Nov 29 10:08:11 +0000 2019|Sat Jan 22 20:09:25 +0000 2022|1          |\n",
      "|19631395           |videogamedeals     |true    |459783         |430          |3087            |140084        |Wed Jan 28 02:21:53 +0000 2009|Sat Jan 22 18:01:33 +0000 2022|1          |\n",
      "|347831597          |TheSandboxGame     |true    |766382         |1147         |7097            |10662         |Wed Aug 03 12:46:21 +0000 2011|Sat Jan 22 18:54:13 +0000 2022|1          |\n",
      "|1156269110545793024|ladyincrypto       |false   |347889         |702          |1515            |13012         |Tue Jul 30 18:23:33 +0000 2019|Sat Jan 22 11:29:49 +0000 2022|1          |\n",
      "|18927441           |IGN                |true    |8553999        |1369         |16296           |159518        |Tue Jan 13 03:56:38 +0000 2009|Sat Jan 22 17:01:01 +0000 2022|1          |\n",
      "|501558917          |TheJenus           |false   |1038471        |795          |7093            |4508          |Fri Feb 24 07:53:19 +0000 2012|Sat Jan 22 13:21:48 +0000 2022|1          |\n",
      "|7157132            |GameSpot           |true    |4635608        |706          |21719           |154430        |Fri Jun 29 17:54:14 +0000 2007|Sat Jan 22 23:00:18 +0000 2022|1          |\n",
      "|252087695          |ggame_____         |false   |209589         |421          |5497            |214537        |Mon Feb 14 13:23:18 +0000 2011|Sat Jan 22 02:35:27 +0000 2022|1          |\n",
      "|1449414811436023812|chitaglorya__      |false   |209034         |419          |243             |10603         |Sat Oct 16 16:40:14 +0000 2021|Sat Jan 22 13:14:38 +0000 2022|1          |\n",
      "+-------------------+-------------------+--------+---------------+-------------+----------------+--------------+------------------------------+------------------------------+-----------+"
     ]
    }
   ],
   "source": [
    "user_join_2.show(50, truncate= False)"
   ]
  },
  {
   "cell_type": "code",
   "execution_count": null,
   "metadata": {},
   "outputs": [],
   "source": []
  },
  {
   "cell_type": "code",
   "execution_count": null,
   "metadata": {},
   "outputs": [],
   "source": []
  },
  {
   "cell_type": "code",
   "execution_count": null,
   "metadata": {},
   "outputs": [],
   "source": []
  },
  {
   "cell_type": "code",
   "execution_count": null,
   "metadata": {},
   "outputs": [
    {
     "data": {
      "application/vnd.jupyter.widget-view+json": {
       "model_id": "afa1a8df00334c6f8dabc7b626ae54a3",
       "version_major": 2,
       "version_minor": 0
      },
      "text/plain": [
       "VBox()"
      ]
     },
     "metadata": {},
     "output_type": "display_data"
    },
    {
     "data": {
      "application/vnd.jupyter.widget-view+json": {
       "model_id": "",
       "version_major": 2,
       "version_minor": 0
      },
      "text/plain": [
       "FloatProgress(value=0.0, bar_style='info', description='Progress:', layout=Layout(height='25px', width='50%'),…"
      ]
     },
     "metadata": {},
     "output_type": "display_data"
    },
    {
     "name": "stdout",
     "output_type": "stream",
     "text": [
      "['20220131', '20220130', '20220129', '20220128', '20220127', '20220126', '20220125', '20220124', '20220123', '20220122']"
     ]
    }
   ],
   "source": [
    "folder_list[-16:-26:-1]"
   ]
  },
  {
   "cell_type": "code",
   "execution_count": null,
   "metadata": {},
   "outputs": [
    {
     "data": {
      "application/vnd.jupyter.widget-view+json": {
       "model_id": "80e78cf9d25b49fe8fb1c29a992bff20",
       "version_major": 2,
       "version_minor": 0
      },
      "text/plain": [
       "VBox()"
      ]
     },
     "metadata": {},
     "output_type": "display_data"
    },
    {
     "name": "stderr",
     "output_type": "stream",
     "text": [
      "An error was encountered:\n",
      "Session 1 unexpectedly reached final status 'dead'. See logs:\n",
      "stdout: \n",
      "\n",
      "stderr: \n",
      "23/04/08 03:30:11 WARN NativeCodeLoader: Unable to load native-hadoop library for your platform... using builtin-java classes where applicable\n",
      "23/04/08 03:30:12 INFO DefaultNoHARMFailoverProxyProvider: Connecting to ResourceManager at ip-172-31-37-162.ap-southeast-1.compute.internal/172.31.37.162:8032\n",
      "23/04/08 03:30:12 INFO Configuration: resource-types.xml not found\n",
      "23/04/08 03:30:12 INFO ResourceUtils: Unable to find 'resource-types.xml'.\n",
      "23/04/08 03:30:12 INFO Client: Verifying our application has not requested more than the maximum memory capability of the cluster (12288 MB per container)\n",
      "23/04/08 03:30:12 INFO Client: Will allocate AM container, with 2432 MB memory including 384 MB overhead\n",
      "23/04/08 03:30:12 INFO Client: Setting up container launch context for our AM\n",
      "23/04/08 03:30:12 INFO Client: Setting up the launch environment for our AM container\n",
      "23/04/08 03:30:12 INFO Client: Preparing resources for our AM container\n",
      "23/04/08 03:30:12 WARN Client: Neither spark.yarn.jars nor spark.yarn.archive is set, falling back to uploading libraries under SPARK_HOME.\n",
      "23/04/08 03:30:15 INFO Client: Uploading resource file:/mnt/tmp/spark-cdd2700f-9dba-4b81-96fe-ca9ecb914473/__spark_libs__2055157281245084756.zip -> hdfs://ip-172-31-37-162.ap-southeast-1.compute.internal:8020/user/livy/.sparkStaging/application_1680916650044_0002/__spark_libs__2055157281245084756.zip\n",
      "23/04/08 03:30:16 INFO Client: Uploading resource file:/usr/lib/livy/rsc-jars/arpack_combined_all-0.1.jar -> hdfs://ip-172-31-37-162.ap-southeast-1.compute.internal:8020/user/livy/.sparkStaging/application_1680916650044_0002/arpack_combined_all-0.1.jar\n",
      "23/04/08 03:30:16 INFO Client: Uploading resource file:/usr/lib/livy/rsc-jars/core-1.1.2.jar -> hdfs://ip-172-31-37-162.ap-southeast-1.compute.internal:8020/user/livy/.sparkStaging/application_1680916650044_0002/core-1.1.2.jar\n",
      "23/04/08 03:30:16 INFO Client: Uploading resource file:/usr/lib/livy/rsc-jars/jniloader-1.1.jar -> hdfs://ip-172-31-37-162.ap-southeast-1.compute.internal:8020/user/livy/.sparkStaging/application_1680916650044_0002/jniloader-1.1.jar\n",
      "23/04/08 03:30:16 INFO Client: Uploading resource file:/usr/lib/livy/rsc-jars/livy-api-0.7.1-incubating.jar -> hdfs://ip-172-31-37-162.ap-southeast-1.compute.internal:8020/user/livy/.sparkStaging/application_1680916650044_0002/livy-api-0.7.1-incubating.jar\n",
      "23/04/08 03:30:16 INFO Client: Uploading resource file:/usr/lib/livy/rsc-jars/livy-rsc-0.7.1-incubating.jar -> hdfs://ip-172-31-37-162.ap-southeast-1.compute.internal:8020/user/livy/.sparkStaging/application_1680916650044_0002/livy-rsc-0.7.1-incubating.jar\n",
      "23/04/08 03:30:16 INFO Client: Uploading resource file:/usr/lib/livy/rsc-jars/livy-thriftserver-session-0.7.1-incubating.jar -> hdfs://ip-172-31-37-162.ap-southeast-1.compute.internal:8020/user/livy/.sparkStaging/application_1680916650044_0002/livy-thriftserver-session-0.7.1-incubating.jar\n",
      "23/04/08 03:30:16 INFO Client: Uploading resource file:/usr/lib/livy/rsc-jars/native_ref-java-1.1.jar -> hdfs://ip-172-31-37-162.ap-southeast-1.compute.internal:8020/user/livy/.sparkStaging/application_1680916650044_0002/native_ref-java-1.1.jar\n",
      "23/04/08 03:30:16 INFO Client: Uploading resource file:/usr/lib/livy/rsc-jars/native_system-java-1.1.jar -> hdfs://ip-172-31-37-162.ap-southeast-1.compute.internal:8020/user/livy/.sparkStaging/application_1680916650044_0002/native_system-java-1.1.jar\n",
      "23/04/08 03:30:17 INFO Client: Uploading resource file:/usr/lib/livy/rsc-jars/netlib-native_ref-linux-armhf-1.1-natives.jar -> hdfs://ip-172-31-37-162.ap-southeast-1.compute.internal:8020/user/livy/.sparkStaging/application_1680916650044_0002/netlib-native_ref-linux-armhf-1.1-natives.jar\n",
      "23/04/08 03:30:17 INFO Client: Uploading resource file:/usr/lib/livy/rsc-jars/netlib-native_ref-linux-i686-1.1-natives.jar -> hdfs://ip-172-31-37-162.ap-southeast-1.compute.internal:8020/user/livy/.sparkStaging/application_1680916650044_0002/netlib-native_ref-linux-i686-1.1-natives.jar\n",
      "23/04/08 03:30:17 INFO Client: Uploading resource file:/usr/lib/livy/rsc-jars/netlib-native_ref-linux-x86_64-1.1-natives.jar -> hdfs://ip-172-31-37-162.ap-southeast-1.compute.internal:8020/user/livy/.sparkStaging/application_1680916650044_0002/netlib-native_ref-linux-x86_64-1.1-natives.jar\n",
      "23/04/08 03:30:17 INFO Client: Uploading resource file:/usr/lib/livy/rsc-jars/netlib-native_ref-osx-x86_64-1.1-natives.jar -> hdfs://ip-172-31-37-162.ap-southeast-1.compute.internal:8020/user/livy/.sparkStaging/application_1680916650044_0002/netlib-native_ref-osx-x86_64-1.1-natives.jar\n",
      "23/04/08 03:30:17 INFO Client: Uploading resource file:/usr/lib/livy/rsc-jars/netlib-native_ref-win-i686-1.1-natives.jar -> hdfs://ip-172-31-37-162.ap-southeast-1.compute.internal:8020/user/livy/.sparkStaging/application_1680916650044_0002/netlib-native_ref-win-i686-1.1-natives.jar\n",
      "23/04/08 03:30:17 INFO Client: Uploading resource file:/usr/lib/livy/rsc-jars/netlib-native_ref-win-x86_64-1.1-natives.jar -> hdfs://ip-172-31-37-162.ap-southeast-1.compute.internal:8020/user/livy/.sparkStaging/application_1680916650044_0002/netlib-native_ref-win-x86_64-1.1-natives.jar\n",
      "23/04/08 03:30:17 INFO Client: Uploading resource file:/usr/lib/livy/rsc-jars/netlib-native_system-linux-armhf-1.1-natives.jar -> hdfs://ip-172-31-37-162.ap-southeast-1.compute.internal:8020/user/livy/.sparkStaging/application_1680916650044_0002/netlib-native_system-linux-armhf-1.1-natives.jar\n",
      "23/04/08 03:30:17 INFO Client: Uploading resource file:/usr/lib/livy/rsc-jars/netlib-native_system-linux-i686-1.1-natives.jar -> hdfs://ip-172-31-37-162.ap-southeast-1.compute.internal:8020/user/livy/.sparkStaging/application_1680916650044_0002/netlib-native_system-linux-i686-1.1-natives.jar\n",
      "23/04/08 03:30:17 INFO Client: Uploading resource file:/usr/lib/livy/rsc-jars/netlib-native_system-linux-x86_64-1.1-natives.jar -> hdfs://ip-172-31-37-162.ap-southeast-1.compute.internal:8020/user/livy/.sparkStaging/application_1680916650044_0002/netlib-native_system-linux-x86_64-1.1-natives.jar\n",
      "23/04/08 03:30:17 INFO Client: Uploading resource file:/usr/lib/livy/rsc-jars/netlib-native_system-osx-x86_64-1.1-natives.jar -> hdfs://ip-172-31-37-162.ap-southeast-1.compute.internal:8020/user/livy/.sparkStaging/application_1680916650044_0002/netlib-native_system-osx-x86_64-1.1-natives.jar\n",
      "23/04/08 03:30:17 INFO Client: Uploading resource file:/usr/lib/livy/rsc-jars/netlib-native_system-win-i686-1.1-natives.jar -> hdfs://ip-172-31-37-162.ap-southeast-1.compute.internal:8020/user/livy/.sparkStaging/application_1680916650044_0002/netlib-native_system-win-i686-1.1-natives.jar\n",
      "23/04/08 03:30:17 INFO Client: Uploading resource file:/usr/lib/livy/rsc-jars/netlib-native_system-win-x86_64-1.1-natives.jar -> hdfs://ip-172-31-37-162.ap-southeast-1.compute.internal:8020/user/livy/.sparkStaging/application_1680916650044_0002/netlib-native_system-win-x86_64-1.1-natives.jar\n",
      "23/04/08 03:30:17 INFO Client: Uploading resource file:/usr/lib/livy/rsc-jars/netty-all-4.1.17.Final.jar -> hdfs://ip-172-31-37-162.ap-southeast-1.compute.internal:8020/user/livy/.sparkStaging/application_1680916650044_0002/netty-all-4.1.17.Final.jar\n",
      "23/04/08 03:30:17 INFO Client: Uploading resource file:/usr/lib/livy/repl_2.12-jars/commons-codec-1.9.jar -> hdfs://ip-172-31-37-162.ap-southeast-1.compute.internal:8020/user/livy/.sparkStaging/application_1680916650044_0002/commons-codec-1.9.jar\n",
      "23/04/08 03:30:17 INFO Client: Uploading resource file:/usr/lib/livy/repl_2.12-jars/livy-core_2.12-0.7.1-incubating.jar -> hdfs://ip-172-31-37-162.ap-southeast-1.compute.internal:8020/user/livy/.sparkStaging/application_1680916650044_0002/livy-core_2.12-0.7.1-incubating.jar\n",
      "23/04/08 03:30:17 INFO Client: Uploading resource file:/usr/lib/livy/repl_2.12-jars/livy-repl_2.12-0.7.1-incubating.jar -> hdfs://ip-172-31-37-162.ap-southeast-1.compute.internal:8020/user/livy/.sparkStaging/application_1680916650044_0002/livy-repl_2.12-0.7.1-incubating.jar\n",
      "23/04/08 03:30:17 INFO Client: Uploading resource file:/etc/hudi/conf.dist/hudi-defaults.conf -> hdfs://ip-172-31-37-162.ap-southeast-1.compute.internal:8020/user/livy/.sparkStaging/application_1680916650044_0002/hudi-defaults.conf\n",
      "23/04/08 03:30:17 INFO Client: Uploading resource file:/usr/lib/spark/R/lib/sparkr.zip#sparkr -> hdfs://ip-172-31-37-162.ap-southeast-1.compute.internal:8020/user/livy/.sparkStaging/application_1680916650044_0002/sparkr.zip\n",
      "23/04/08 03:30:17 INFO Client: Uploading resource file:/usr/lib/spark/python/lib/pyspark.zip -> hdfs://ip-172-31-37-162.ap-southeast-1.compute.internal:8020/user/livy/.sparkStaging/application_1680916650044_0002/pyspark.zip\n",
      "23/04/08 03:30:17 INFO Client: Uploading resource file:/usr/lib/spark/python/lib/py4j-0.10.9.5-src.zip -> hdfs://ip-172-31-37-162.ap-southeast-1.compute.internal:8020/user/livy/.sparkStaging/application_1680916650044_0002/py4j-0.10.9.5-src.zip\n",
      "23/04/08 03:30:17 INFO Client: Uploading resource file:/mnt/tmp/spark-cdd2700f-9dba-4b81-96fe-ca9ecb914473/__spark_conf__8763799049417668656.zip -> hdfs://ip-172-31-37-162.ap-southeast-1.compute.internal:8020/user/livy/.sparkStaging/application_1680916650044_0002/__spark_conf__.zip\n",
      "23/04/08 03:30:17 INFO SecurityManager: Changing view acls to: livy\n",
      "23/04/08 03:30:17 INFO SecurityManager: Changing modify acls to: livy\n",
      "23/04/08 03:30:17 INFO SecurityManager: Changing view acls groups to: \n",
      "23/04/08 03:30:17 INFO SecurityManager: Changing modify acls groups to: \n",
      "23/04/08 03:30:17 INFO SecurityManager: SecurityManager: authentication disabled; ui acls disabled; users  with view permissions: Set(livy); groups with view permissions: Set(); users  with modify permissions: Set(livy); groups with modify permissions: Set()\n",
      "23/04/08 03:30:18 INFO Client: Submitting application application_1680916650044_0002 to ResourceManager\n",
      "23/04/08 03:30:18 INFO YarnClientImpl: Submitted application application_1680916650044_0002\n",
      "23/04/08 03:30:18 INFO Client: Application report for application_1680916650044_0002 (state: ACCEPTED)\n",
      "23/04/08 03:30:18 INFO Client: \n",
      "\t client token: N/A\n",
      "\t diagnostics: [Sat Apr 08 03:30:18 +0000 2023] Application is Activated, waiting for resources to be assigned for AM.  Details : AM Partition = <DEFAULT_PARTITION> ; Partition Resource = <memory:61440, vCores:20> ; Queue's Absolute capacity = 100.0 % ; Queue's Absolute used capacity = 0.0 % ; Queue's Absolute max capacity = 100.0 % ; Queue's capacity (absolute resource) = <memory:61440, vCores:20> ; Queue's used capacity (absolute resource) = <memory:0, vCores:0> ; Queue's max capacity (absolute resource) = <memory:61440, vCores:20> ; \n",
      "\t ApplicationMaster host: N/A\n",
      "\t ApplicationMaster RPC port: -1\n",
      "\t queue: default\n",
      "\t start time: 1680924618089\n",
      "\t final status: UNDEFINED\n",
      "\t tracking URL: http://ip-172-31-37-162.ap-southeast-1.compute.internal:20888/proxy/application_1680916650044_0002/\n",
      "\t user: livy\n",
      "23/04/08 03:30:18 INFO ShutdownHookManager: Shutdown hook called\n",
      "23/04/08 03:30:18 INFO ShutdownHookManager: Deleting directory /mnt/tmp/spark-cdd2700f-9dba-4b81-96fe-ca9ecb914473\n",
      "23/04/08 03:30:18 INFO ShutdownHookManager: Deleting directory /mnt/tmp/spark-21a85c60-3c89-493a-b5c7-31fd293e90ff\n",
      "\n",
      "YARN Diagnostics: \n",
      "Application application_1680916650044_0002 failed 1 times (global limit =2; local limit is =1) due to AM Container for appattempt_1680916650044_0002_000001 exited with  exitCode: 137\n",
      "Failing this attempt.Diagnostics: [2023-04-08 03:59:16.438]Container killed on request. Exit code is 137\n",
      "[2023-04-08 03:59:16.438]Container exited with a non-zero exit code 137. \n",
      "[2023-04-08 03:59:16.439]Killed by external signal\n",
      "For more detailed output, check the application tracking page: http://ip-172-31-37-162.ap-southeast-1.compute.internal:8088/cluster/app/application_1680916650044_0002 Then click on links to logs of each attempt.\n",
      ". Failing the application.\n"
     ]
    }
   ],
   "source": [
    "for f in folder_list[-11:-16:-1]:\n",
    "    folder = input_bucket + path.format(f)\n",
    "    try:\n",
    "        user_join, diff = pre_process(folder,diff)\n",
    "        if diff.count() == 0:\n",
    "            print('--------------------all influ have been found--------------------')\n",
    "            break\n",
    "        diff = diff.join(user_join, on=\"user_id_str\", how=\"left_anti\")\n",
    "        if pokemon_inf:\n",
    "            pokemon_inf = pokemon_inf.union(user_join)\n",
    "        else:\n",
    "            pokemon_inf = user_join.alias(\"pokemon_inf\")\n",
    "        del user_join\n",
    "        gc.collect()\n",
    "    except Py4JJavaError:\n",
    "        print(folder+\" failed\")"
   ]
  },
  {
   "cell_type": "code",
   "execution_count": null,
   "metadata": {},
   "outputs": [
    {
     "data": {
      "application/vnd.jupyter.widget-view+json": {
       "model_id": "6595fce251f94209a8440b1a2f059143",
       "version_major": 2,
       "version_minor": 0
      },
      "text/plain": [
       "VBox()"
      ]
     },
     "metadata": {},
     "output_type": "display_data"
    },
    {
     "name": "stderr",
     "output_type": "stream",
     "text": [
      "An error was encountered:\n",
      "Session 1 unexpectedly reached final status 'dead'. See logs:\n",
      "stdout: \n",
      "\n",
      "stderr: \n",
      "23/04/08 03:30:11 WARN NativeCodeLoader: Unable to load native-hadoop library for your platform... using builtin-java classes where applicable\n",
      "23/04/08 03:30:12 INFO DefaultNoHARMFailoverProxyProvider: Connecting to ResourceManager at ip-172-31-37-162.ap-southeast-1.compute.internal/172.31.37.162:8032\n",
      "23/04/08 03:30:12 INFO Configuration: resource-types.xml not found\n",
      "23/04/08 03:30:12 INFO ResourceUtils: Unable to find 'resource-types.xml'.\n",
      "23/04/08 03:30:12 INFO Client: Verifying our application has not requested more than the maximum memory capability of the cluster (12288 MB per container)\n",
      "23/04/08 03:30:12 INFO Client: Will allocate AM container, with 2432 MB memory including 384 MB overhead\n",
      "23/04/08 03:30:12 INFO Client: Setting up container launch context for our AM\n",
      "23/04/08 03:30:12 INFO Client: Setting up the launch environment for our AM container\n",
      "23/04/08 03:30:12 INFO Client: Preparing resources for our AM container\n",
      "23/04/08 03:30:12 WARN Client: Neither spark.yarn.jars nor spark.yarn.archive is set, falling back to uploading libraries under SPARK_HOME.\n",
      "23/04/08 03:30:15 INFO Client: Uploading resource file:/mnt/tmp/spark-cdd2700f-9dba-4b81-96fe-ca9ecb914473/__spark_libs__2055157281245084756.zip -> hdfs://ip-172-31-37-162.ap-southeast-1.compute.internal:8020/user/livy/.sparkStaging/application_1680916650044_0002/__spark_libs__2055157281245084756.zip\n",
      "23/04/08 03:30:16 INFO Client: Uploading resource file:/usr/lib/livy/rsc-jars/arpack_combined_all-0.1.jar -> hdfs://ip-172-31-37-162.ap-southeast-1.compute.internal:8020/user/livy/.sparkStaging/application_1680916650044_0002/arpack_combined_all-0.1.jar\n",
      "23/04/08 03:30:16 INFO Client: Uploading resource file:/usr/lib/livy/rsc-jars/core-1.1.2.jar -> hdfs://ip-172-31-37-162.ap-southeast-1.compute.internal:8020/user/livy/.sparkStaging/application_1680916650044_0002/core-1.1.2.jar\n",
      "23/04/08 03:30:16 INFO Client: Uploading resource file:/usr/lib/livy/rsc-jars/jniloader-1.1.jar -> hdfs://ip-172-31-37-162.ap-southeast-1.compute.internal:8020/user/livy/.sparkStaging/application_1680916650044_0002/jniloader-1.1.jar\n",
      "23/04/08 03:30:16 INFO Client: Uploading resource file:/usr/lib/livy/rsc-jars/livy-api-0.7.1-incubating.jar -> hdfs://ip-172-31-37-162.ap-southeast-1.compute.internal:8020/user/livy/.sparkStaging/application_1680916650044_0002/livy-api-0.7.1-incubating.jar\n",
      "23/04/08 03:30:16 INFO Client: Uploading resource file:/usr/lib/livy/rsc-jars/livy-rsc-0.7.1-incubating.jar -> hdfs://ip-172-31-37-162.ap-southeast-1.compute.internal:8020/user/livy/.sparkStaging/application_1680916650044_0002/livy-rsc-0.7.1-incubating.jar\n",
      "23/04/08 03:30:16 INFO Client: Uploading resource file:/usr/lib/livy/rsc-jars/livy-thriftserver-session-0.7.1-incubating.jar -> hdfs://ip-172-31-37-162.ap-southeast-1.compute.internal:8020/user/livy/.sparkStaging/application_1680916650044_0002/livy-thriftserver-session-0.7.1-incubating.jar\n",
      "23/04/08 03:30:16 INFO Client: Uploading resource file:/usr/lib/livy/rsc-jars/native_ref-java-1.1.jar -> hdfs://ip-172-31-37-162.ap-southeast-1.compute.internal:8020/user/livy/.sparkStaging/application_1680916650044_0002/native_ref-java-1.1.jar\n",
      "23/04/08 03:30:16 INFO Client: Uploading resource file:/usr/lib/livy/rsc-jars/native_system-java-1.1.jar -> hdfs://ip-172-31-37-162.ap-southeast-1.compute.internal:8020/user/livy/.sparkStaging/application_1680916650044_0002/native_system-java-1.1.jar\n",
      "23/04/08 03:30:17 INFO Client: Uploading resource file:/usr/lib/livy/rsc-jars/netlib-native_ref-linux-armhf-1.1-natives.jar -> hdfs://ip-172-31-37-162.ap-southeast-1.compute.internal:8020/user/livy/.sparkStaging/application_1680916650044_0002/netlib-native_ref-linux-armhf-1.1-natives.jar\n",
      "23/04/08 03:30:17 INFO Client: Uploading resource file:/usr/lib/livy/rsc-jars/netlib-native_ref-linux-i686-1.1-natives.jar -> hdfs://ip-172-31-37-162.ap-southeast-1.compute.internal:8020/user/livy/.sparkStaging/application_1680916650044_0002/netlib-native_ref-linux-i686-1.1-natives.jar\n",
      "23/04/08 03:30:17 INFO Client: Uploading resource file:/usr/lib/livy/rsc-jars/netlib-native_ref-linux-x86_64-1.1-natives.jar -> hdfs://ip-172-31-37-162.ap-southeast-1.compute.internal:8020/user/livy/.sparkStaging/application_1680916650044_0002/netlib-native_ref-linux-x86_64-1.1-natives.jar\n",
      "23/04/08 03:30:17 INFO Client: Uploading resource file:/usr/lib/livy/rsc-jars/netlib-native_ref-osx-x86_64-1.1-natives.jar -> hdfs://ip-172-31-37-162.ap-southeast-1.compute.internal:8020/user/livy/.sparkStaging/application_1680916650044_0002/netlib-native_ref-osx-x86_64-1.1-natives.jar\n",
      "23/04/08 03:30:17 INFO Client: Uploading resource file:/usr/lib/livy/rsc-jars/netlib-native_ref-win-i686-1.1-natives.jar -> hdfs://ip-172-31-37-162.ap-southeast-1.compute.internal:8020/user/livy/.sparkStaging/application_1680916650044_0002/netlib-native_ref-win-i686-1.1-natives.jar\n",
      "23/04/08 03:30:17 INFO Client: Uploading resource file:/usr/lib/livy/rsc-jars/netlib-native_ref-win-x86_64-1.1-natives.jar -> hdfs://ip-172-31-37-162.ap-southeast-1.compute.internal:8020/user/livy/.sparkStaging/application_1680916650044_0002/netlib-native_ref-win-x86_64-1.1-natives.jar\n",
      "23/04/08 03:30:17 INFO Client: Uploading resource file:/usr/lib/livy/rsc-jars/netlib-native_system-linux-armhf-1.1-natives.jar -> hdfs://ip-172-31-37-162.ap-southeast-1.compute.internal:8020/user/livy/.sparkStaging/application_1680916650044_0002/netlib-native_system-linux-armhf-1.1-natives.jar\n",
      "23/04/08 03:30:17 INFO Client: Uploading resource file:/usr/lib/livy/rsc-jars/netlib-native_system-linux-i686-1.1-natives.jar -> hdfs://ip-172-31-37-162.ap-southeast-1.compute.internal:8020/user/livy/.sparkStaging/application_1680916650044_0002/netlib-native_system-linux-i686-1.1-natives.jar\n",
      "23/04/08 03:30:17 INFO Client: Uploading resource file:/usr/lib/livy/rsc-jars/netlib-native_system-linux-x86_64-1.1-natives.jar -> hdfs://ip-172-31-37-162.ap-southeast-1.compute.internal:8020/user/livy/.sparkStaging/application_1680916650044_0002/netlib-native_system-linux-x86_64-1.1-natives.jar\n",
      "23/04/08 03:30:17 INFO Client: Uploading resource file:/usr/lib/livy/rsc-jars/netlib-native_system-osx-x86_64-1.1-natives.jar -> hdfs://ip-172-31-37-162.ap-southeast-1.compute.internal:8020/user/livy/.sparkStaging/application_1680916650044_0002/netlib-native_system-osx-x86_64-1.1-natives.jar\n",
      "23/04/08 03:30:17 INFO Client: Uploading resource file:/usr/lib/livy/rsc-jars/netlib-native_system-win-i686-1.1-natives.jar -> hdfs://ip-172-31-37-162.ap-southeast-1.compute.internal:8020/user/livy/.sparkStaging/application_1680916650044_0002/netlib-native_system-win-i686-1.1-natives.jar\n",
      "23/04/08 03:30:17 INFO Client: Uploading resource file:/usr/lib/livy/rsc-jars/netlib-native_system-win-x86_64-1.1-natives.jar -> hdfs://ip-172-31-37-162.ap-southeast-1.compute.internal:8020/user/livy/.sparkStaging/application_1680916650044_0002/netlib-native_system-win-x86_64-1.1-natives.jar\n",
      "23/04/08 03:30:17 INFO Client: Uploading resource file:/usr/lib/livy/rsc-jars/netty-all-4.1.17.Final.jar -> hdfs://ip-172-31-37-162.ap-southeast-1.compute.internal:8020/user/livy/.sparkStaging/application_1680916650044_0002/netty-all-4.1.17.Final.jar\n",
      "23/04/08 03:30:17 INFO Client: Uploading resource file:/usr/lib/livy/repl_2.12-jars/commons-codec-1.9.jar -> hdfs://ip-172-31-37-162.ap-southeast-1.compute.internal:8020/user/livy/.sparkStaging/application_1680916650044_0002/commons-codec-1.9.jar\n",
      "23/04/08 03:30:17 INFO Client: Uploading resource file:/usr/lib/livy/repl_2.12-jars/livy-core_2.12-0.7.1-incubating.jar -> hdfs://ip-172-31-37-162.ap-southeast-1.compute.internal:8020/user/livy/.sparkStaging/application_1680916650044_0002/livy-core_2.12-0.7.1-incubating.jar\n",
      "23/04/08 03:30:17 INFO Client: Uploading resource file:/usr/lib/livy/repl_2.12-jars/livy-repl_2.12-0.7.1-incubating.jar -> hdfs://ip-172-31-37-162.ap-southeast-1.compute.internal:8020/user/livy/.sparkStaging/application_1680916650044_0002/livy-repl_2.12-0.7.1-incubating.jar\n",
      "23/04/08 03:30:17 INFO Client: Uploading resource file:/etc/hudi/conf.dist/hudi-defaults.conf -> hdfs://ip-172-31-37-162.ap-southeast-1.compute.internal:8020/user/livy/.sparkStaging/application_1680916650044_0002/hudi-defaults.conf\n",
      "23/04/08 03:30:17 INFO Client: Uploading resource file:/usr/lib/spark/R/lib/sparkr.zip#sparkr -> hdfs://ip-172-31-37-162.ap-southeast-1.compute.internal:8020/user/livy/.sparkStaging/application_1680916650044_0002/sparkr.zip\n",
      "23/04/08 03:30:17 INFO Client: Uploading resource file:/usr/lib/spark/python/lib/pyspark.zip -> hdfs://ip-172-31-37-162.ap-southeast-1.compute.internal:8020/user/livy/.sparkStaging/application_1680916650044_0002/pyspark.zip\n",
      "23/04/08 03:30:17 INFO Client: Uploading resource file:/usr/lib/spark/python/lib/py4j-0.10.9.5-src.zip -> hdfs://ip-172-31-37-162.ap-southeast-1.compute.internal:8020/user/livy/.sparkStaging/application_1680916650044_0002/py4j-0.10.9.5-src.zip\n",
      "23/04/08 03:30:17 INFO Client: Uploading resource file:/mnt/tmp/spark-cdd2700f-9dba-4b81-96fe-ca9ecb914473/__spark_conf__8763799049417668656.zip -> hdfs://ip-172-31-37-162.ap-southeast-1.compute.internal:8020/user/livy/.sparkStaging/application_1680916650044_0002/__spark_conf__.zip\n",
      "23/04/08 03:30:17 INFO SecurityManager: Changing view acls to: livy\n",
      "23/04/08 03:30:17 INFO SecurityManager: Changing modify acls to: livy\n",
      "23/04/08 03:30:17 INFO SecurityManager: Changing view acls groups to: \n",
      "23/04/08 03:30:17 INFO SecurityManager: Changing modify acls groups to: \n",
      "23/04/08 03:30:17 INFO SecurityManager: SecurityManager: authentication disabled; ui acls disabled; users  with view permissions: Set(livy); groups with view permissions: Set(); users  with modify permissions: Set(livy); groups with modify permissions: Set()\n",
      "23/04/08 03:30:18 INFO Client: Submitting application application_1680916650044_0002 to ResourceManager\n",
      "23/04/08 03:30:18 INFO YarnClientImpl: Submitted application application_1680916650044_0002\n",
      "23/04/08 03:30:18 INFO Client: Application report for application_1680916650044_0002 (state: ACCEPTED)\n",
      "23/04/08 03:30:18 INFO Client: \n",
      "\t client token: N/A\n",
      "\t diagnostics: [Sat Apr 08 03:30:18 +0000 2023] Application is Activated, waiting for resources to be assigned for AM.  Details : AM Partition = <DEFAULT_PARTITION> ; Partition Resource = <memory:61440, vCores:20> ; Queue's Absolute capacity = 100.0 % ; Queue's Absolute used capacity = 0.0 % ; Queue's Absolute max capacity = 100.0 % ; Queue's capacity (absolute resource) = <memory:61440, vCores:20> ; Queue's used capacity (absolute resource) = <memory:0, vCores:0> ; Queue's max capacity (absolute resource) = <memory:61440, vCores:20> ; \n",
      "\t ApplicationMaster host: N/A\n",
      "\t ApplicationMaster RPC port: -1\n",
      "\t queue: default\n",
      "\t start time: 1680924618089\n",
      "\t final status: UNDEFINED\n",
      "\t tracking URL: http://ip-172-31-37-162.ap-southeast-1.compute.internal:20888/proxy/application_1680916650044_0002/\n",
      "\t user: livy\n",
      "23/04/08 03:30:18 INFO ShutdownHookManager: Shutdown hook called\n",
      "23/04/08 03:30:18 INFO ShutdownHookManager: Deleting directory /mnt/tmp/spark-cdd2700f-9dba-4b81-96fe-ca9ecb914473\n",
      "23/04/08 03:30:18 INFO ShutdownHookManager: Deleting directory /mnt/tmp/spark-21a85c60-3c89-493a-b5c7-31fd293e90ff\n",
      "\n",
      "YARN Diagnostics: \n",
      "Application application_1680916650044_0002 failed 1 times (global limit =2; local limit is =1) due to AM Container for appattempt_1680916650044_0002_000001 exited with  exitCode: 137\n",
      "Failing this attempt.Diagnostics: [2023-04-08 03:59:16.438]Container killed on request. Exit code is 137\n",
      "[2023-04-08 03:59:16.438]Container exited with a non-zero exit code 137. \n",
      "[2023-04-08 03:59:16.439]Killed by external signal\n",
      "For more detailed output, check the application tracking page: http://ip-172-31-37-162.ap-southeast-1.compute.internal:8088/cluster/app/application_1680916650044_0002 Then click on links to logs of each attempt.\n",
      ". Failing the application.\n"
     ]
    }
   ],
   "source": [
    "pokemon_inf.show()"
   ]
  },
  {
   "cell_type": "code",
   "execution_count": null,
   "metadata": {},
   "outputs": [
    {
     "data": {
      "application/vnd.jupyter.widget-view+json": {
       "model_id": "eceb54fba60943e295e33db2b038bdb9",
       "version_major": 2,
       "version_minor": 0
      },
      "text/plain": [
       "VBox()"
      ]
     },
     "metadata": {},
     "output_type": "display_data"
    },
    {
     "name": "stderr",
     "output_type": "stream",
     "text": [
      "An error was encountered:\n",
      "Session 1 unexpectedly reached final status 'dead'. See logs:\n",
      "stdout: \n",
      "\n",
      "stderr: \n",
      "23/04/08 03:30:11 WARN NativeCodeLoader: Unable to load native-hadoop library for your platform... using builtin-java classes where applicable\n",
      "23/04/08 03:30:12 INFO DefaultNoHARMFailoverProxyProvider: Connecting to ResourceManager at ip-172-31-37-162.ap-southeast-1.compute.internal/172.31.37.162:8032\n",
      "23/04/08 03:30:12 INFO Configuration: resource-types.xml not found\n",
      "23/04/08 03:30:12 INFO ResourceUtils: Unable to find 'resource-types.xml'.\n",
      "23/04/08 03:30:12 INFO Client: Verifying our application has not requested more than the maximum memory capability of the cluster (12288 MB per container)\n",
      "23/04/08 03:30:12 INFO Client: Will allocate AM container, with 2432 MB memory including 384 MB overhead\n",
      "23/04/08 03:30:12 INFO Client: Setting up container launch context for our AM\n",
      "23/04/08 03:30:12 INFO Client: Setting up the launch environment for our AM container\n",
      "23/04/08 03:30:12 INFO Client: Preparing resources for our AM container\n",
      "23/04/08 03:30:12 WARN Client: Neither spark.yarn.jars nor spark.yarn.archive is set, falling back to uploading libraries under SPARK_HOME.\n",
      "23/04/08 03:30:15 INFO Client: Uploading resource file:/mnt/tmp/spark-cdd2700f-9dba-4b81-96fe-ca9ecb914473/__spark_libs__2055157281245084756.zip -> hdfs://ip-172-31-37-162.ap-southeast-1.compute.internal:8020/user/livy/.sparkStaging/application_1680916650044_0002/__spark_libs__2055157281245084756.zip\n",
      "23/04/08 03:30:16 INFO Client: Uploading resource file:/usr/lib/livy/rsc-jars/arpack_combined_all-0.1.jar -> hdfs://ip-172-31-37-162.ap-southeast-1.compute.internal:8020/user/livy/.sparkStaging/application_1680916650044_0002/arpack_combined_all-0.1.jar\n",
      "23/04/08 03:30:16 INFO Client: Uploading resource file:/usr/lib/livy/rsc-jars/core-1.1.2.jar -> hdfs://ip-172-31-37-162.ap-southeast-1.compute.internal:8020/user/livy/.sparkStaging/application_1680916650044_0002/core-1.1.2.jar\n",
      "23/04/08 03:30:16 INFO Client: Uploading resource file:/usr/lib/livy/rsc-jars/jniloader-1.1.jar -> hdfs://ip-172-31-37-162.ap-southeast-1.compute.internal:8020/user/livy/.sparkStaging/application_1680916650044_0002/jniloader-1.1.jar\n",
      "23/04/08 03:30:16 INFO Client: Uploading resource file:/usr/lib/livy/rsc-jars/livy-api-0.7.1-incubating.jar -> hdfs://ip-172-31-37-162.ap-southeast-1.compute.internal:8020/user/livy/.sparkStaging/application_1680916650044_0002/livy-api-0.7.1-incubating.jar\n",
      "23/04/08 03:30:16 INFO Client: Uploading resource file:/usr/lib/livy/rsc-jars/livy-rsc-0.7.1-incubating.jar -> hdfs://ip-172-31-37-162.ap-southeast-1.compute.internal:8020/user/livy/.sparkStaging/application_1680916650044_0002/livy-rsc-0.7.1-incubating.jar\n",
      "23/04/08 03:30:16 INFO Client: Uploading resource file:/usr/lib/livy/rsc-jars/livy-thriftserver-session-0.7.1-incubating.jar -> hdfs://ip-172-31-37-162.ap-southeast-1.compute.internal:8020/user/livy/.sparkStaging/application_1680916650044_0002/livy-thriftserver-session-0.7.1-incubating.jar\n",
      "23/04/08 03:30:16 INFO Client: Uploading resource file:/usr/lib/livy/rsc-jars/native_ref-java-1.1.jar -> hdfs://ip-172-31-37-162.ap-southeast-1.compute.internal:8020/user/livy/.sparkStaging/application_1680916650044_0002/native_ref-java-1.1.jar\n",
      "23/04/08 03:30:16 INFO Client: Uploading resource file:/usr/lib/livy/rsc-jars/native_system-java-1.1.jar -> hdfs://ip-172-31-37-162.ap-southeast-1.compute.internal:8020/user/livy/.sparkStaging/application_1680916650044_0002/native_system-java-1.1.jar\n",
      "23/04/08 03:30:17 INFO Client: Uploading resource file:/usr/lib/livy/rsc-jars/netlib-native_ref-linux-armhf-1.1-natives.jar -> hdfs://ip-172-31-37-162.ap-southeast-1.compute.internal:8020/user/livy/.sparkStaging/application_1680916650044_0002/netlib-native_ref-linux-armhf-1.1-natives.jar\n",
      "23/04/08 03:30:17 INFO Client: Uploading resource file:/usr/lib/livy/rsc-jars/netlib-native_ref-linux-i686-1.1-natives.jar -> hdfs://ip-172-31-37-162.ap-southeast-1.compute.internal:8020/user/livy/.sparkStaging/application_1680916650044_0002/netlib-native_ref-linux-i686-1.1-natives.jar\n",
      "23/04/08 03:30:17 INFO Client: Uploading resource file:/usr/lib/livy/rsc-jars/netlib-native_ref-linux-x86_64-1.1-natives.jar -> hdfs://ip-172-31-37-162.ap-southeast-1.compute.internal:8020/user/livy/.sparkStaging/application_1680916650044_0002/netlib-native_ref-linux-x86_64-1.1-natives.jar\n",
      "23/04/08 03:30:17 INFO Client: Uploading resource file:/usr/lib/livy/rsc-jars/netlib-native_ref-osx-x86_64-1.1-natives.jar -> hdfs://ip-172-31-37-162.ap-southeast-1.compute.internal:8020/user/livy/.sparkStaging/application_1680916650044_0002/netlib-native_ref-osx-x86_64-1.1-natives.jar\n",
      "23/04/08 03:30:17 INFO Client: Uploading resource file:/usr/lib/livy/rsc-jars/netlib-native_ref-win-i686-1.1-natives.jar -> hdfs://ip-172-31-37-162.ap-southeast-1.compute.internal:8020/user/livy/.sparkStaging/application_1680916650044_0002/netlib-native_ref-win-i686-1.1-natives.jar\n",
      "23/04/08 03:30:17 INFO Client: Uploading resource file:/usr/lib/livy/rsc-jars/netlib-native_ref-win-x86_64-1.1-natives.jar -> hdfs://ip-172-31-37-162.ap-southeast-1.compute.internal:8020/user/livy/.sparkStaging/application_1680916650044_0002/netlib-native_ref-win-x86_64-1.1-natives.jar\n",
      "23/04/08 03:30:17 INFO Client: Uploading resource file:/usr/lib/livy/rsc-jars/netlib-native_system-linux-armhf-1.1-natives.jar -> hdfs://ip-172-31-37-162.ap-southeast-1.compute.internal:8020/user/livy/.sparkStaging/application_1680916650044_0002/netlib-native_system-linux-armhf-1.1-natives.jar\n",
      "23/04/08 03:30:17 INFO Client: Uploading resource file:/usr/lib/livy/rsc-jars/netlib-native_system-linux-i686-1.1-natives.jar -> hdfs://ip-172-31-37-162.ap-southeast-1.compute.internal:8020/user/livy/.sparkStaging/application_1680916650044_0002/netlib-native_system-linux-i686-1.1-natives.jar\n",
      "23/04/08 03:30:17 INFO Client: Uploading resource file:/usr/lib/livy/rsc-jars/netlib-native_system-linux-x86_64-1.1-natives.jar -> hdfs://ip-172-31-37-162.ap-southeast-1.compute.internal:8020/user/livy/.sparkStaging/application_1680916650044_0002/netlib-native_system-linux-x86_64-1.1-natives.jar\n",
      "23/04/08 03:30:17 INFO Client: Uploading resource file:/usr/lib/livy/rsc-jars/netlib-native_system-osx-x86_64-1.1-natives.jar -> hdfs://ip-172-31-37-162.ap-southeast-1.compute.internal:8020/user/livy/.sparkStaging/application_1680916650044_0002/netlib-native_system-osx-x86_64-1.1-natives.jar\n",
      "23/04/08 03:30:17 INFO Client: Uploading resource file:/usr/lib/livy/rsc-jars/netlib-native_system-win-i686-1.1-natives.jar -> hdfs://ip-172-31-37-162.ap-southeast-1.compute.internal:8020/user/livy/.sparkStaging/application_1680916650044_0002/netlib-native_system-win-i686-1.1-natives.jar\n",
      "23/04/08 03:30:17 INFO Client: Uploading resource file:/usr/lib/livy/rsc-jars/netlib-native_system-win-x86_64-1.1-natives.jar -> hdfs://ip-172-31-37-162.ap-southeast-1.compute.internal:8020/user/livy/.sparkStaging/application_1680916650044_0002/netlib-native_system-win-x86_64-1.1-natives.jar\n",
      "23/04/08 03:30:17 INFO Client: Uploading resource file:/usr/lib/livy/rsc-jars/netty-all-4.1.17.Final.jar -> hdfs://ip-172-31-37-162.ap-southeast-1.compute.internal:8020/user/livy/.sparkStaging/application_1680916650044_0002/netty-all-4.1.17.Final.jar\n",
      "23/04/08 03:30:17 INFO Client: Uploading resource file:/usr/lib/livy/repl_2.12-jars/commons-codec-1.9.jar -> hdfs://ip-172-31-37-162.ap-southeast-1.compute.internal:8020/user/livy/.sparkStaging/application_1680916650044_0002/commons-codec-1.9.jar\n",
      "23/04/08 03:30:17 INFO Client: Uploading resource file:/usr/lib/livy/repl_2.12-jars/livy-core_2.12-0.7.1-incubating.jar -> hdfs://ip-172-31-37-162.ap-southeast-1.compute.internal:8020/user/livy/.sparkStaging/application_1680916650044_0002/livy-core_2.12-0.7.1-incubating.jar\n",
      "23/04/08 03:30:17 INFO Client: Uploading resource file:/usr/lib/livy/repl_2.12-jars/livy-repl_2.12-0.7.1-incubating.jar -> hdfs://ip-172-31-37-162.ap-southeast-1.compute.internal:8020/user/livy/.sparkStaging/application_1680916650044_0002/livy-repl_2.12-0.7.1-incubating.jar\n",
      "23/04/08 03:30:17 INFO Client: Uploading resource file:/etc/hudi/conf.dist/hudi-defaults.conf -> hdfs://ip-172-31-37-162.ap-southeast-1.compute.internal:8020/user/livy/.sparkStaging/application_1680916650044_0002/hudi-defaults.conf\n",
      "23/04/08 03:30:17 INFO Client: Uploading resource file:/usr/lib/spark/R/lib/sparkr.zip#sparkr -> hdfs://ip-172-31-37-162.ap-southeast-1.compute.internal:8020/user/livy/.sparkStaging/application_1680916650044_0002/sparkr.zip\n",
      "23/04/08 03:30:17 INFO Client: Uploading resource file:/usr/lib/spark/python/lib/pyspark.zip -> hdfs://ip-172-31-37-162.ap-southeast-1.compute.internal:8020/user/livy/.sparkStaging/application_1680916650044_0002/pyspark.zip\n",
      "23/04/08 03:30:17 INFO Client: Uploading resource file:/usr/lib/spark/python/lib/py4j-0.10.9.5-src.zip -> hdfs://ip-172-31-37-162.ap-southeast-1.compute.internal:8020/user/livy/.sparkStaging/application_1680916650044_0002/py4j-0.10.9.5-src.zip\n",
      "23/04/08 03:30:17 INFO Client: Uploading resource file:/mnt/tmp/spark-cdd2700f-9dba-4b81-96fe-ca9ecb914473/__spark_conf__8763799049417668656.zip -> hdfs://ip-172-31-37-162.ap-southeast-1.compute.internal:8020/user/livy/.sparkStaging/application_1680916650044_0002/__spark_conf__.zip\n",
      "23/04/08 03:30:17 INFO SecurityManager: Changing view acls to: livy\n",
      "23/04/08 03:30:17 INFO SecurityManager: Changing modify acls to: livy\n",
      "23/04/08 03:30:17 INFO SecurityManager: Changing view acls groups to: \n",
      "23/04/08 03:30:17 INFO SecurityManager: Changing modify acls groups to: \n",
      "23/04/08 03:30:17 INFO SecurityManager: SecurityManager: authentication disabled; ui acls disabled; users  with view permissions: Set(livy); groups with view permissions: Set(); users  with modify permissions: Set(livy); groups with modify permissions: Set()\n",
      "23/04/08 03:30:18 INFO Client: Submitting application application_1680916650044_0002 to ResourceManager\n",
      "23/04/08 03:30:18 INFO YarnClientImpl: Submitted application application_1680916650044_0002\n",
      "23/04/08 03:30:18 INFO Client: Application report for application_1680916650044_0002 (state: ACCEPTED)\n",
      "23/04/08 03:30:18 INFO Client: \n",
      "\t client token: N/A\n",
      "\t diagnostics: [Sat Apr 08 03:30:18 +0000 2023] Application is Activated, waiting for resources to be assigned for AM.  Details : AM Partition = <DEFAULT_PARTITION> ; Partition Resource = <memory:61440, vCores:20> ; Queue's Absolute capacity = 100.0 % ; Queue's Absolute used capacity = 0.0 % ; Queue's Absolute max capacity = 100.0 % ; Queue's capacity (absolute resource) = <memory:61440, vCores:20> ; Queue's used capacity (absolute resource) = <memory:0, vCores:0> ; Queue's max capacity (absolute resource) = <memory:61440, vCores:20> ; \n",
      "\t ApplicationMaster host: N/A\n",
      "\t ApplicationMaster RPC port: -1\n",
      "\t queue: default\n",
      "\t start time: 1680924618089\n",
      "\t final status: UNDEFINED\n",
      "\t tracking URL: http://ip-172-31-37-162.ap-southeast-1.compute.internal:20888/proxy/application_1680916650044_0002/\n",
      "\t user: livy\n",
      "23/04/08 03:30:18 INFO ShutdownHookManager: Shutdown hook called\n",
      "23/04/08 03:30:18 INFO ShutdownHookManager: Deleting directory /mnt/tmp/spark-cdd2700f-9dba-4b81-96fe-ca9ecb914473\n",
      "23/04/08 03:30:18 INFO ShutdownHookManager: Deleting directory /mnt/tmp/spark-21a85c60-3c89-493a-b5c7-31fd293e90ff\n",
      "\n",
      "YARN Diagnostics: \n",
      "Application application_1680916650044_0002 failed 1 times (global limit =2; local limit is =1) due to AM Container for appattempt_1680916650044_0002_000001 exited with  exitCode: 137\n",
      "Failing this attempt.Diagnostics: [2023-04-08 03:59:16.438]Container killed on request. Exit code is 137\n",
      "[2023-04-08 03:59:16.438]Container exited with a non-zero exit code 137. \n",
      "[2023-04-08 03:59:16.439]Killed by external signal\n",
      "For more detailed output, check the application tracking page: http://ip-172-31-37-162.ap-southeast-1.compute.internal:8088/cluster/app/application_1680916650044_0002 Then click on links to logs of each attempt.\n",
      ". Failing the application.\n"
     ]
    }
   ],
   "source": [
    "for f in folder_list[-16:-21:-1]:\n",
    "    folder = input_bucket + path.format(f)\n",
    "    try:\n",
    "        user_join, diff = pre_process(folder,diff)\n",
    "        if diff.count() == 0:\n",
    "            print('--------------------all influ have been found--------------------')\n",
    "            break\n",
    "        diff = diff.join(user_join, on=\"user_id_str\", how=\"left_anti\")\n",
    "        if pokemon_inf:\n",
    "            pokemon_inf = pokemon_inf.union(user_join)\n",
    "        else:\n",
    "            pokemon_inf = user_join.alias(\"pokemon_inf\")\n",
    "        del user_join\n",
    "        gc.collect()\n",
    "    except Py4JJavaError:\n",
    "        print(folder+\" failed\")"
   ]
  },
  {
   "cell_type": "code",
   "execution_count": null,
   "metadata": {},
   "outputs": [
    {
     "data": {
      "application/vnd.jupyter.widget-view+json": {
       "model_id": "1cb9429e7d124fb4b7032653f588b5ac",
       "version_major": 2,
       "version_minor": 0
      },
      "text/plain": [
       "VBox()"
      ]
     },
     "metadata": {},
     "output_type": "display_data"
    },
    {
     "name": "stderr",
     "output_type": "stream",
     "text": [
      "An error was encountered:\n",
      "Session 1 unexpectedly reached final status 'dead'. See logs:\n",
      "stdout: \n",
      "\n",
      "stderr: \n",
      "23/04/08 03:30:11 WARN NativeCodeLoader: Unable to load native-hadoop library for your platform... using builtin-java classes where applicable\n",
      "23/04/08 03:30:12 INFO DefaultNoHARMFailoverProxyProvider: Connecting to ResourceManager at ip-172-31-37-162.ap-southeast-1.compute.internal/172.31.37.162:8032\n",
      "23/04/08 03:30:12 INFO Configuration: resource-types.xml not found\n",
      "23/04/08 03:30:12 INFO ResourceUtils: Unable to find 'resource-types.xml'.\n",
      "23/04/08 03:30:12 INFO Client: Verifying our application has not requested more than the maximum memory capability of the cluster (12288 MB per container)\n",
      "23/04/08 03:30:12 INFO Client: Will allocate AM container, with 2432 MB memory including 384 MB overhead\n",
      "23/04/08 03:30:12 INFO Client: Setting up container launch context for our AM\n",
      "23/04/08 03:30:12 INFO Client: Setting up the launch environment for our AM container\n",
      "23/04/08 03:30:12 INFO Client: Preparing resources for our AM container\n",
      "23/04/08 03:30:12 WARN Client: Neither spark.yarn.jars nor spark.yarn.archive is set, falling back to uploading libraries under SPARK_HOME.\n",
      "23/04/08 03:30:15 INFO Client: Uploading resource file:/mnt/tmp/spark-cdd2700f-9dba-4b81-96fe-ca9ecb914473/__spark_libs__2055157281245084756.zip -> hdfs://ip-172-31-37-162.ap-southeast-1.compute.internal:8020/user/livy/.sparkStaging/application_1680916650044_0002/__spark_libs__2055157281245084756.zip\n",
      "23/04/08 03:30:16 INFO Client: Uploading resource file:/usr/lib/livy/rsc-jars/arpack_combined_all-0.1.jar -> hdfs://ip-172-31-37-162.ap-southeast-1.compute.internal:8020/user/livy/.sparkStaging/application_1680916650044_0002/arpack_combined_all-0.1.jar\n",
      "23/04/08 03:30:16 INFO Client: Uploading resource file:/usr/lib/livy/rsc-jars/core-1.1.2.jar -> hdfs://ip-172-31-37-162.ap-southeast-1.compute.internal:8020/user/livy/.sparkStaging/application_1680916650044_0002/core-1.1.2.jar\n",
      "23/04/08 03:30:16 INFO Client: Uploading resource file:/usr/lib/livy/rsc-jars/jniloader-1.1.jar -> hdfs://ip-172-31-37-162.ap-southeast-1.compute.internal:8020/user/livy/.sparkStaging/application_1680916650044_0002/jniloader-1.1.jar\n",
      "23/04/08 03:30:16 INFO Client: Uploading resource file:/usr/lib/livy/rsc-jars/livy-api-0.7.1-incubating.jar -> hdfs://ip-172-31-37-162.ap-southeast-1.compute.internal:8020/user/livy/.sparkStaging/application_1680916650044_0002/livy-api-0.7.1-incubating.jar\n",
      "23/04/08 03:30:16 INFO Client: Uploading resource file:/usr/lib/livy/rsc-jars/livy-rsc-0.7.1-incubating.jar -> hdfs://ip-172-31-37-162.ap-southeast-1.compute.internal:8020/user/livy/.sparkStaging/application_1680916650044_0002/livy-rsc-0.7.1-incubating.jar\n",
      "23/04/08 03:30:16 INFO Client: Uploading resource file:/usr/lib/livy/rsc-jars/livy-thriftserver-session-0.7.1-incubating.jar -> hdfs://ip-172-31-37-162.ap-southeast-1.compute.internal:8020/user/livy/.sparkStaging/application_1680916650044_0002/livy-thriftserver-session-0.7.1-incubating.jar\n",
      "23/04/08 03:30:16 INFO Client: Uploading resource file:/usr/lib/livy/rsc-jars/native_ref-java-1.1.jar -> hdfs://ip-172-31-37-162.ap-southeast-1.compute.internal:8020/user/livy/.sparkStaging/application_1680916650044_0002/native_ref-java-1.1.jar\n",
      "23/04/08 03:30:16 INFO Client: Uploading resource file:/usr/lib/livy/rsc-jars/native_system-java-1.1.jar -> hdfs://ip-172-31-37-162.ap-southeast-1.compute.internal:8020/user/livy/.sparkStaging/application_1680916650044_0002/native_system-java-1.1.jar\n",
      "23/04/08 03:30:17 INFO Client: Uploading resource file:/usr/lib/livy/rsc-jars/netlib-native_ref-linux-armhf-1.1-natives.jar -> hdfs://ip-172-31-37-162.ap-southeast-1.compute.internal:8020/user/livy/.sparkStaging/application_1680916650044_0002/netlib-native_ref-linux-armhf-1.1-natives.jar\n",
      "23/04/08 03:30:17 INFO Client: Uploading resource file:/usr/lib/livy/rsc-jars/netlib-native_ref-linux-i686-1.1-natives.jar -> hdfs://ip-172-31-37-162.ap-southeast-1.compute.internal:8020/user/livy/.sparkStaging/application_1680916650044_0002/netlib-native_ref-linux-i686-1.1-natives.jar\n",
      "23/04/08 03:30:17 INFO Client: Uploading resource file:/usr/lib/livy/rsc-jars/netlib-native_ref-linux-x86_64-1.1-natives.jar -> hdfs://ip-172-31-37-162.ap-southeast-1.compute.internal:8020/user/livy/.sparkStaging/application_1680916650044_0002/netlib-native_ref-linux-x86_64-1.1-natives.jar\n",
      "23/04/08 03:30:17 INFO Client: Uploading resource file:/usr/lib/livy/rsc-jars/netlib-native_ref-osx-x86_64-1.1-natives.jar -> hdfs://ip-172-31-37-162.ap-southeast-1.compute.internal:8020/user/livy/.sparkStaging/application_1680916650044_0002/netlib-native_ref-osx-x86_64-1.1-natives.jar\n",
      "23/04/08 03:30:17 INFO Client: Uploading resource file:/usr/lib/livy/rsc-jars/netlib-native_ref-win-i686-1.1-natives.jar -> hdfs://ip-172-31-37-162.ap-southeast-1.compute.internal:8020/user/livy/.sparkStaging/application_1680916650044_0002/netlib-native_ref-win-i686-1.1-natives.jar\n",
      "23/04/08 03:30:17 INFO Client: Uploading resource file:/usr/lib/livy/rsc-jars/netlib-native_ref-win-x86_64-1.1-natives.jar -> hdfs://ip-172-31-37-162.ap-southeast-1.compute.internal:8020/user/livy/.sparkStaging/application_1680916650044_0002/netlib-native_ref-win-x86_64-1.1-natives.jar\n",
      "23/04/08 03:30:17 INFO Client: Uploading resource file:/usr/lib/livy/rsc-jars/netlib-native_system-linux-armhf-1.1-natives.jar -> hdfs://ip-172-31-37-162.ap-southeast-1.compute.internal:8020/user/livy/.sparkStaging/application_1680916650044_0002/netlib-native_system-linux-armhf-1.1-natives.jar\n",
      "23/04/08 03:30:17 INFO Client: Uploading resource file:/usr/lib/livy/rsc-jars/netlib-native_system-linux-i686-1.1-natives.jar -> hdfs://ip-172-31-37-162.ap-southeast-1.compute.internal:8020/user/livy/.sparkStaging/application_1680916650044_0002/netlib-native_system-linux-i686-1.1-natives.jar\n",
      "23/04/08 03:30:17 INFO Client: Uploading resource file:/usr/lib/livy/rsc-jars/netlib-native_system-linux-x86_64-1.1-natives.jar -> hdfs://ip-172-31-37-162.ap-southeast-1.compute.internal:8020/user/livy/.sparkStaging/application_1680916650044_0002/netlib-native_system-linux-x86_64-1.1-natives.jar\n",
      "23/04/08 03:30:17 INFO Client: Uploading resource file:/usr/lib/livy/rsc-jars/netlib-native_system-osx-x86_64-1.1-natives.jar -> hdfs://ip-172-31-37-162.ap-southeast-1.compute.internal:8020/user/livy/.sparkStaging/application_1680916650044_0002/netlib-native_system-osx-x86_64-1.1-natives.jar\n",
      "23/04/08 03:30:17 INFO Client: Uploading resource file:/usr/lib/livy/rsc-jars/netlib-native_system-win-i686-1.1-natives.jar -> hdfs://ip-172-31-37-162.ap-southeast-1.compute.internal:8020/user/livy/.sparkStaging/application_1680916650044_0002/netlib-native_system-win-i686-1.1-natives.jar\n",
      "23/04/08 03:30:17 INFO Client: Uploading resource file:/usr/lib/livy/rsc-jars/netlib-native_system-win-x86_64-1.1-natives.jar -> hdfs://ip-172-31-37-162.ap-southeast-1.compute.internal:8020/user/livy/.sparkStaging/application_1680916650044_0002/netlib-native_system-win-x86_64-1.1-natives.jar\n",
      "23/04/08 03:30:17 INFO Client: Uploading resource file:/usr/lib/livy/rsc-jars/netty-all-4.1.17.Final.jar -> hdfs://ip-172-31-37-162.ap-southeast-1.compute.internal:8020/user/livy/.sparkStaging/application_1680916650044_0002/netty-all-4.1.17.Final.jar\n",
      "23/04/08 03:30:17 INFO Client: Uploading resource file:/usr/lib/livy/repl_2.12-jars/commons-codec-1.9.jar -> hdfs://ip-172-31-37-162.ap-southeast-1.compute.internal:8020/user/livy/.sparkStaging/application_1680916650044_0002/commons-codec-1.9.jar\n",
      "23/04/08 03:30:17 INFO Client: Uploading resource file:/usr/lib/livy/repl_2.12-jars/livy-core_2.12-0.7.1-incubating.jar -> hdfs://ip-172-31-37-162.ap-southeast-1.compute.internal:8020/user/livy/.sparkStaging/application_1680916650044_0002/livy-core_2.12-0.7.1-incubating.jar\n",
      "23/04/08 03:30:17 INFO Client: Uploading resource file:/usr/lib/livy/repl_2.12-jars/livy-repl_2.12-0.7.1-incubating.jar -> hdfs://ip-172-31-37-162.ap-southeast-1.compute.internal:8020/user/livy/.sparkStaging/application_1680916650044_0002/livy-repl_2.12-0.7.1-incubating.jar\n",
      "23/04/08 03:30:17 INFO Client: Uploading resource file:/etc/hudi/conf.dist/hudi-defaults.conf -> hdfs://ip-172-31-37-162.ap-southeast-1.compute.internal:8020/user/livy/.sparkStaging/application_1680916650044_0002/hudi-defaults.conf\n",
      "23/04/08 03:30:17 INFO Client: Uploading resource file:/usr/lib/spark/R/lib/sparkr.zip#sparkr -> hdfs://ip-172-31-37-162.ap-southeast-1.compute.internal:8020/user/livy/.sparkStaging/application_1680916650044_0002/sparkr.zip\n",
      "23/04/08 03:30:17 INFO Client: Uploading resource file:/usr/lib/spark/python/lib/pyspark.zip -> hdfs://ip-172-31-37-162.ap-southeast-1.compute.internal:8020/user/livy/.sparkStaging/application_1680916650044_0002/pyspark.zip\n",
      "23/04/08 03:30:17 INFO Client: Uploading resource file:/usr/lib/spark/python/lib/py4j-0.10.9.5-src.zip -> hdfs://ip-172-31-37-162.ap-southeast-1.compute.internal:8020/user/livy/.sparkStaging/application_1680916650044_0002/py4j-0.10.9.5-src.zip\n",
      "23/04/08 03:30:17 INFO Client: Uploading resource file:/mnt/tmp/spark-cdd2700f-9dba-4b81-96fe-ca9ecb914473/__spark_conf__8763799049417668656.zip -> hdfs://ip-172-31-37-162.ap-southeast-1.compute.internal:8020/user/livy/.sparkStaging/application_1680916650044_0002/__spark_conf__.zip\n",
      "23/04/08 03:30:17 INFO SecurityManager: Changing view acls to: livy\n",
      "23/04/08 03:30:17 INFO SecurityManager: Changing modify acls to: livy\n",
      "23/04/08 03:30:17 INFO SecurityManager: Changing view acls groups to: \n",
      "23/04/08 03:30:17 INFO SecurityManager: Changing modify acls groups to: \n",
      "23/04/08 03:30:17 INFO SecurityManager: SecurityManager: authentication disabled; ui acls disabled; users  with view permissions: Set(livy); groups with view permissions: Set(); users  with modify permissions: Set(livy); groups with modify permissions: Set()\n",
      "23/04/08 03:30:18 INFO Client: Submitting application application_1680916650044_0002 to ResourceManager\n",
      "23/04/08 03:30:18 INFO YarnClientImpl: Submitted application application_1680916650044_0002\n",
      "23/04/08 03:30:18 INFO Client: Application report for application_1680916650044_0002 (state: ACCEPTED)\n",
      "23/04/08 03:30:18 INFO Client: \n",
      "\t client token: N/A\n",
      "\t diagnostics: [Sat Apr 08 03:30:18 +0000 2023] Application is Activated, waiting for resources to be assigned for AM.  Details : AM Partition = <DEFAULT_PARTITION> ; Partition Resource = <memory:61440, vCores:20> ; Queue's Absolute capacity = 100.0 % ; Queue's Absolute used capacity = 0.0 % ; Queue's Absolute max capacity = 100.0 % ; Queue's capacity (absolute resource) = <memory:61440, vCores:20> ; Queue's used capacity (absolute resource) = <memory:0, vCores:0> ; Queue's max capacity (absolute resource) = <memory:61440, vCores:20> ; \n",
      "\t ApplicationMaster host: N/A\n",
      "\t ApplicationMaster RPC port: -1\n",
      "\t queue: default\n",
      "\t start time: 1680924618089\n",
      "\t final status: UNDEFINED\n",
      "\t tracking URL: http://ip-172-31-37-162.ap-southeast-1.compute.internal:20888/proxy/application_1680916650044_0002/\n",
      "\t user: livy\n",
      "23/04/08 03:30:18 INFO ShutdownHookManager: Shutdown hook called\n",
      "23/04/08 03:30:18 INFO ShutdownHookManager: Deleting directory /mnt/tmp/spark-cdd2700f-9dba-4b81-96fe-ca9ecb914473\n",
      "23/04/08 03:30:18 INFO ShutdownHookManager: Deleting directory /mnt/tmp/spark-21a85c60-3c89-493a-b5c7-31fd293e90ff\n",
      "\n",
      "YARN Diagnostics: \n",
      "Application application_1680916650044_0002 failed 1 times (global limit =2; local limit is =1) due to AM Container for appattempt_1680916650044_0002_000001 exited with  exitCode: 137\n",
      "Failing this attempt.Diagnostics: [2023-04-08 03:59:16.438]Container killed on request. Exit code is 137\n",
      "[2023-04-08 03:59:16.438]Container exited with a non-zero exit code 137. \n",
      "[2023-04-08 03:59:16.439]Killed by external signal\n",
      "For more detailed output, check the application tracking page: http://ip-172-31-37-162.ap-southeast-1.compute.internal:8088/cluster/app/application_1680916650044_0002 Then click on links to logs of each attempt.\n",
      ". Failing the application.\n"
     ]
    }
   ],
   "source": [
    "pokemon_inf.show()"
   ]
  },
  {
   "cell_type": "code",
   "execution_count": null,
   "metadata": {},
   "outputs": [
    {
     "data": {
      "application/vnd.jupyter.widget-view+json": {
       "model_id": "99b6ddcca39746b4bd043fd4080f1575",
       "version_major": 2,
       "version_minor": 0
      },
      "text/plain": [
       "VBox()"
      ]
     },
     "metadata": {},
     "output_type": "display_data"
    },
    {
     "name": "stderr",
     "output_type": "stream",
     "text": [
      "An error was encountered:\n",
      "Session 1 unexpectedly reached final status 'dead'. See logs:\n",
      "stdout: \n",
      "\n",
      "stderr: \n",
      "23/04/08 03:30:11 WARN NativeCodeLoader: Unable to load native-hadoop library for your platform... using builtin-java classes where applicable\n",
      "23/04/08 03:30:12 INFO DefaultNoHARMFailoverProxyProvider: Connecting to ResourceManager at ip-172-31-37-162.ap-southeast-1.compute.internal/172.31.37.162:8032\n",
      "23/04/08 03:30:12 INFO Configuration: resource-types.xml not found\n",
      "23/04/08 03:30:12 INFO ResourceUtils: Unable to find 'resource-types.xml'.\n",
      "23/04/08 03:30:12 INFO Client: Verifying our application has not requested more than the maximum memory capability of the cluster (12288 MB per container)\n",
      "23/04/08 03:30:12 INFO Client: Will allocate AM container, with 2432 MB memory including 384 MB overhead\n",
      "23/04/08 03:30:12 INFO Client: Setting up container launch context for our AM\n",
      "23/04/08 03:30:12 INFO Client: Setting up the launch environment for our AM container\n",
      "23/04/08 03:30:12 INFO Client: Preparing resources for our AM container\n",
      "23/04/08 03:30:12 WARN Client: Neither spark.yarn.jars nor spark.yarn.archive is set, falling back to uploading libraries under SPARK_HOME.\n",
      "23/04/08 03:30:15 INFO Client: Uploading resource file:/mnt/tmp/spark-cdd2700f-9dba-4b81-96fe-ca9ecb914473/__spark_libs__2055157281245084756.zip -> hdfs://ip-172-31-37-162.ap-southeast-1.compute.internal:8020/user/livy/.sparkStaging/application_1680916650044_0002/__spark_libs__2055157281245084756.zip\n",
      "23/04/08 03:30:16 INFO Client: Uploading resource file:/usr/lib/livy/rsc-jars/arpack_combined_all-0.1.jar -> hdfs://ip-172-31-37-162.ap-southeast-1.compute.internal:8020/user/livy/.sparkStaging/application_1680916650044_0002/arpack_combined_all-0.1.jar\n",
      "23/04/08 03:30:16 INFO Client: Uploading resource file:/usr/lib/livy/rsc-jars/core-1.1.2.jar -> hdfs://ip-172-31-37-162.ap-southeast-1.compute.internal:8020/user/livy/.sparkStaging/application_1680916650044_0002/core-1.1.2.jar\n",
      "23/04/08 03:30:16 INFO Client: Uploading resource file:/usr/lib/livy/rsc-jars/jniloader-1.1.jar -> hdfs://ip-172-31-37-162.ap-southeast-1.compute.internal:8020/user/livy/.sparkStaging/application_1680916650044_0002/jniloader-1.1.jar\n",
      "23/04/08 03:30:16 INFO Client: Uploading resource file:/usr/lib/livy/rsc-jars/livy-api-0.7.1-incubating.jar -> hdfs://ip-172-31-37-162.ap-southeast-1.compute.internal:8020/user/livy/.sparkStaging/application_1680916650044_0002/livy-api-0.7.1-incubating.jar\n",
      "23/04/08 03:30:16 INFO Client: Uploading resource file:/usr/lib/livy/rsc-jars/livy-rsc-0.7.1-incubating.jar -> hdfs://ip-172-31-37-162.ap-southeast-1.compute.internal:8020/user/livy/.sparkStaging/application_1680916650044_0002/livy-rsc-0.7.1-incubating.jar\n",
      "23/04/08 03:30:16 INFO Client: Uploading resource file:/usr/lib/livy/rsc-jars/livy-thriftserver-session-0.7.1-incubating.jar -> hdfs://ip-172-31-37-162.ap-southeast-1.compute.internal:8020/user/livy/.sparkStaging/application_1680916650044_0002/livy-thriftserver-session-0.7.1-incubating.jar\n",
      "23/04/08 03:30:16 INFO Client: Uploading resource file:/usr/lib/livy/rsc-jars/native_ref-java-1.1.jar -> hdfs://ip-172-31-37-162.ap-southeast-1.compute.internal:8020/user/livy/.sparkStaging/application_1680916650044_0002/native_ref-java-1.1.jar\n",
      "23/04/08 03:30:16 INFO Client: Uploading resource file:/usr/lib/livy/rsc-jars/native_system-java-1.1.jar -> hdfs://ip-172-31-37-162.ap-southeast-1.compute.internal:8020/user/livy/.sparkStaging/application_1680916650044_0002/native_system-java-1.1.jar\n",
      "23/04/08 03:30:17 INFO Client: Uploading resource file:/usr/lib/livy/rsc-jars/netlib-native_ref-linux-armhf-1.1-natives.jar -> hdfs://ip-172-31-37-162.ap-southeast-1.compute.internal:8020/user/livy/.sparkStaging/application_1680916650044_0002/netlib-native_ref-linux-armhf-1.1-natives.jar\n",
      "23/04/08 03:30:17 INFO Client: Uploading resource file:/usr/lib/livy/rsc-jars/netlib-native_ref-linux-i686-1.1-natives.jar -> hdfs://ip-172-31-37-162.ap-southeast-1.compute.internal:8020/user/livy/.sparkStaging/application_1680916650044_0002/netlib-native_ref-linux-i686-1.1-natives.jar\n",
      "23/04/08 03:30:17 INFO Client: Uploading resource file:/usr/lib/livy/rsc-jars/netlib-native_ref-linux-x86_64-1.1-natives.jar -> hdfs://ip-172-31-37-162.ap-southeast-1.compute.internal:8020/user/livy/.sparkStaging/application_1680916650044_0002/netlib-native_ref-linux-x86_64-1.1-natives.jar\n",
      "23/04/08 03:30:17 INFO Client: Uploading resource file:/usr/lib/livy/rsc-jars/netlib-native_ref-osx-x86_64-1.1-natives.jar -> hdfs://ip-172-31-37-162.ap-southeast-1.compute.internal:8020/user/livy/.sparkStaging/application_1680916650044_0002/netlib-native_ref-osx-x86_64-1.1-natives.jar\n",
      "23/04/08 03:30:17 INFO Client: Uploading resource file:/usr/lib/livy/rsc-jars/netlib-native_ref-win-i686-1.1-natives.jar -> hdfs://ip-172-31-37-162.ap-southeast-1.compute.internal:8020/user/livy/.sparkStaging/application_1680916650044_0002/netlib-native_ref-win-i686-1.1-natives.jar\n",
      "23/04/08 03:30:17 INFO Client: Uploading resource file:/usr/lib/livy/rsc-jars/netlib-native_ref-win-x86_64-1.1-natives.jar -> hdfs://ip-172-31-37-162.ap-southeast-1.compute.internal:8020/user/livy/.sparkStaging/application_1680916650044_0002/netlib-native_ref-win-x86_64-1.1-natives.jar\n",
      "23/04/08 03:30:17 INFO Client: Uploading resource file:/usr/lib/livy/rsc-jars/netlib-native_system-linux-armhf-1.1-natives.jar -> hdfs://ip-172-31-37-162.ap-southeast-1.compute.internal:8020/user/livy/.sparkStaging/application_1680916650044_0002/netlib-native_system-linux-armhf-1.1-natives.jar\n",
      "23/04/08 03:30:17 INFO Client: Uploading resource file:/usr/lib/livy/rsc-jars/netlib-native_system-linux-i686-1.1-natives.jar -> hdfs://ip-172-31-37-162.ap-southeast-1.compute.internal:8020/user/livy/.sparkStaging/application_1680916650044_0002/netlib-native_system-linux-i686-1.1-natives.jar\n",
      "23/04/08 03:30:17 INFO Client: Uploading resource file:/usr/lib/livy/rsc-jars/netlib-native_system-linux-x86_64-1.1-natives.jar -> hdfs://ip-172-31-37-162.ap-southeast-1.compute.internal:8020/user/livy/.sparkStaging/application_1680916650044_0002/netlib-native_system-linux-x86_64-1.1-natives.jar\n",
      "23/04/08 03:30:17 INFO Client: Uploading resource file:/usr/lib/livy/rsc-jars/netlib-native_system-osx-x86_64-1.1-natives.jar -> hdfs://ip-172-31-37-162.ap-southeast-1.compute.internal:8020/user/livy/.sparkStaging/application_1680916650044_0002/netlib-native_system-osx-x86_64-1.1-natives.jar\n",
      "23/04/08 03:30:17 INFO Client: Uploading resource file:/usr/lib/livy/rsc-jars/netlib-native_system-win-i686-1.1-natives.jar -> hdfs://ip-172-31-37-162.ap-southeast-1.compute.internal:8020/user/livy/.sparkStaging/application_1680916650044_0002/netlib-native_system-win-i686-1.1-natives.jar\n",
      "23/04/08 03:30:17 INFO Client: Uploading resource file:/usr/lib/livy/rsc-jars/netlib-native_system-win-x86_64-1.1-natives.jar -> hdfs://ip-172-31-37-162.ap-southeast-1.compute.internal:8020/user/livy/.sparkStaging/application_1680916650044_0002/netlib-native_system-win-x86_64-1.1-natives.jar\n",
      "23/04/08 03:30:17 INFO Client: Uploading resource file:/usr/lib/livy/rsc-jars/netty-all-4.1.17.Final.jar -> hdfs://ip-172-31-37-162.ap-southeast-1.compute.internal:8020/user/livy/.sparkStaging/application_1680916650044_0002/netty-all-4.1.17.Final.jar\n",
      "23/04/08 03:30:17 INFO Client: Uploading resource file:/usr/lib/livy/repl_2.12-jars/commons-codec-1.9.jar -> hdfs://ip-172-31-37-162.ap-southeast-1.compute.internal:8020/user/livy/.sparkStaging/application_1680916650044_0002/commons-codec-1.9.jar\n",
      "23/04/08 03:30:17 INFO Client: Uploading resource file:/usr/lib/livy/repl_2.12-jars/livy-core_2.12-0.7.1-incubating.jar -> hdfs://ip-172-31-37-162.ap-southeast-1.compute.internal:8020/user/livy/.sparkStaging/application_1680916650044_0002/livy-core_2.12-0.7.1-incubating.jar\n",
      "23/04/08 03:30:17 INFO Client: Uploading resource file:/usr/lib/livy/repl_2.12-jars/livy-repl_2.12-0.7.1-incubating.jar -> hdfs://ip-172-31-37-162.ap-southeast-1.compute.internal:8020/user/livy/.sparkStaging/application_1680916650044_0002/livy-repl_2.12-0.7.1-incubating.jar\n",
      "23/04/08 03:30:17 INFO Client: Uploading resource file:/etc/hudi/conf.dist/hudi-defaults.conf -> hdfs://ip-172-31-37-162.ap-southeast-1.compute.internal:8020/user/livy/.sparkStaging/application_1680916650044_0002/hudi-defaults.conf\n",
      "23/04/08 03:30:17 INFO Client: Uploading resource file:/usr/lib/spark/R/lib/sparkr.zip#sparkr -> hdfs://ip-172-31-37-162.ap-southeast-1.compute.internal:8020/user/livy/.sparkStaging/application_1680916650044_0002/sparkr.zip\n",
      "23/04/08 03:30:17 INFO Client: Uploading resource file:/usr/lib/spark/python/lib/pyspark.zip -> hdfs://ip-172-31-37-162.ap-southeast-1.compute.internal:8020/user/livy/.sparkStaging/application_1680916650044_0002/pyspark.zip\n",
      "23/04/08 03:30:17 INFO Client: Uploading resource file:/usr/lib/spark/python/lib/py4j-0.10.9.5-src.zip -> hdfs://ip-172-31-37-162.ap-southeast-1.compute.internal:8020/user/livy/.sparkStaging/application_1680916650044_0002/py4j-0.10.9.5-src.zip\n",
      "23/04/08 03:30:17 INFO Client: Uploading resource file:/mnt/tmp/spark-cdd2700f-9dba-4b81-96fe-ca9ecb914473/__spark_conf__8763799049417668656.zip -> hdfs://ip-172-31-37-162.ap-southeast-1.compute.internal:8020/user/livy/.sparkStaging/application_1680916650044_0002/__spark_conf__.zip\n",
      "23/04/08 03:30:17 INFO SecurityManager: Changing view acls to: livy\n",
      "23/04/08 03:30:17 INFO SecurityManager: Changing modify acls to: livy\n",
      "23/04/08 03:30:17 INFO SecurityManager: Changing view acls groups to: \n",
      "23/04/08 03:30:17 INFO SecurityManager: Changing modify acls groups to: \n",
      "23/04/08 03:30:17 INFO SecurityManager: SecurityManager: authentication disabled; ui acls disabled; users  with view permissions: Set(livy); groups with view permissions: Set(); users  with modify permissions: Set(livy); groups with modify permissions: Set()\n",
      "23/04/08 03:30:18 INFO Client: Submitting application application_1680916650044_0002 to ResourceManager\n",
      "23/04/08 03:30:18 INFO YarnClientImpl: Submitted application application_1680916650044_0002\n",
      "23/04/08 03:30:18 INFO Client: Application report for application_1680916650044_0002 (state: ACCEPTED)\n",
      "23/04/08 03:30:18 INFO Client: \n",
      "\t client token: N/A\n",
      "\t diagnostics: [Sat Apr 08 03:30:18 +0000 2023] Application is Activated, waiting for resources to be assigned for AM.  Details : AM Partition = <DEFAULT_PARTITION> ; Partition Resource = <memory:61440, vCores:20> ; Queue's Absolute capacity = 100.0 % ; Queue's Absolute used capacity = 0.0 % ; Queue's Absolute max capacity = 100.0 % ; Queue's capacity (absolute resource) = <memory:61440, vCores:20> ; Queue's used capacity (absolute resource) = <memory:0, vCores:0> ; Queue's max capacity (absolute resource) = <memory:61440, vCores:20> ; \n",
      "\t ApplicationMaster host: N/A\n",
      "\t ApplicationMaster RPC port: -1\n",
      "\t queue: default\n",
      "\t start time: 1680924618089\n",
      "\t final status: UNDEFINED\n",
      "\t tracking URL: http://ip-172-31-37-162.ap-southeast-1.compute.internal:20888/proxy/application_1680916650044_0002/\n",
      "\t user: livy\n",
      "23/04/08 03:30:18 INFO ShutdownHookManager: Shutdown hook called\n",
      "23/04/08 03:30:18 INFO ShutdownHookManager: Deleting directory /mnt/tmp/spark-cdd2700f-9dba-4b81-96fe-ca9ecb914473\n",
      "23/04/08 03:30:18 INFO ShutdownHookManager: Deleting directory /mnt/tmp/spark-21a85c60-3c89-493a-b5c7-31fd293e90ff\n",
      "\n",
      "YARN Diagnostics: \n",
      "Application application_1680916650044_0002 failed 1 times (global limit =2; local limit is =1) due to AM Container for appattempt_1680916650044_0002_000001 exited with  exitCode: 137\n",
      "Failing this attempt.Diagnostics: [2023-04-08 03:59:16.438]Container killed on request. Exit code is 137\n",
      "[2023-04-08 03:59:16.438]Container exited with a non-zero exit code 137. \n",
      "[2023-04-08 03:59:16.439]Killed by external signal\n",
      "For more detailed output, check the application tracking page: http://ip-172-31-37-162.ap-southeast-1.compute.internal:8088/cluster/app/application_1680916650044_0002 Then click on links to logs of each attempt.\n",
      ". Failing the application.\n"
     ]
    }
   ],
   "source": [
    "for f in folder_list[-21:-26:-1]:\n",
    "    folder = input_bucket + path.format(f)\n",
    "    try:\n",
    "        user_join, diff = pre_process(folder,diff)\n",
    "        if diff.count() == 0:\n",
    "            print('--------------------all influ have been found--------------------')\n",
    "            break\n",
    "        diff = diff.join(user_join, on=\"user_id_str\", how=\"left_anti\")\n",
    "        if pokemon_inf:\n",
    "            pokemon_inf = pokemon_inf.union(user_join)\n",
    "        else:\n",
    "            pokemon_inf = user_join.alias(\"pokemon_inf\")\n",
    "        del user_join\n",
    "        gc.collect()\n",
    "    except Py4JJavaError:\n",
    "        print(folder+\" failed\")"
   ]
  },
  {
   "cell_type": "code",
   "execution_count": null,
   "metadata": {},
   "outputs": [
    {
     "data": {
      "application/vnd.jupyter.widget-view+json": {
       "model_id": "2ab0371d514844209c83774446d6288b",
       "version_major": 2,
       "version_minor": 0
      },
      "text/plain": [
       "VBox()"
      ]
     },
     "metadata": {},
     "output_type": "display_data"
    },
    {
     "name": "stderr",
     "output_type": "stream",
     "text": [
      "An error was encountered:\n",
      "Session 1 unexpectedly reached final status 'dead'. See logs:\n",
      "stdout: \n",
      "\n",
      "stderr: \n",
      "23/04/08 03:30:11 WARN NativeCodeLoader: Unable to load native-hadoop library for your platform... using builtin-java classes where applicable\n",
      "23/04/08 03:30:12 INFO DefaultNoHARMFailoverProxyProvider: Connecting to ResourceManager at ip-172-31-37-162.ap-southeast-1.compute.internal/172.31.37.162:8032\n",
      "23/04/08 03:30:12 INFO Configuration: resource-types.xml not found\n",
      "23/04/08 03:30:12 INFO ResourceUtils: Unable to find 'resource-types.xml'.\n",
      "23/04/08 03:30:12 INFO Client: Verifying our application has not requested more than the maximum memory capability of the cluster (12288 MB per container)\n",
      "23/04/08 03:30:12 INFO Client: Will allocate AM container, with 2432 MB memory including 384 MB overhead\n",
      "23/04/08 03:30:12 INFO Client: Setting up container launch context for our AM\n",
      "23/04/08 03:30:12 INFO Client: Setting up the launch environment for our AM container\n",
      "23/04/08 03:30:12 INFO Client: Preparing resources for our AM container\n",
      "23/04/08 03:30:12 WARN Client: Neither spark.yarn.jars nor spark.yarn.archive is set, falling back to uploading libraries under SPARK_HOME.\n",
      "23/04/08 03:30:15 INFO Client: Uploading resource file:/mnt/tmp/spark-cdd2700f-9dba-4b81-96fe-ca9ecb914473/__spark_libs__2055157281245084756.zip -> hdfs://ip-172-31-37-162.ap-southeast-1.compute.internal:8020/user/livy/.sparkStaging/application_1680916650044_0002/__spark_libs__2055157281245084756.zip\n",
      "23/04/08 03:30:16 INFO Client: Uploading resource file:/usr/lib/livy/rsc-jars/arpack_combined_all-0.1.jar -> hdfs://ip-172-31-37-162.ap-southeast-1.compute.internal:8020/user/livy/.sparkStaging/application_1680916650044_0002/arpack_combined_all-0.1.jar\n",
      "23/04/08 03:30:16 INFO Client: Uploading resource file:/usr/lib/livy/rsc-jars/core-1.1.2.jar -> hdfs://ip-172-31-37-162.ap-southeast-1.compute.internal:8020/user/livy/.sparkStaging/application_1680916650044_0002/core-1.1.2.jar\n",
      "23/04/08 03:30:16 INFO Client: Uploading resource file:/usr/lib/livy/rsc-jars/jniloader-1.1.jar -> hdfs://ip-172-31-37-162.ap-southeast-1.compute.internal:8020/user/livy/.sparkStaging/application_1680916650044_0002/jniloader-1.1.jar\n",
      "23/04/08 03:30:16 INFO Client: Uploading resource file:/usr/lib/livy/rsc-jars/livy-api-0.7.1-incubating.jar -> hdfs://ip-172-31-37-162.ap-southeast-1.compute.internal:8020/user/livy/.sparkStaging/application_1680916650044_0002/livy-api-0.7.1-incubating.jar\n",
      "23/04/08 03:30:16 INFO Client: Uploading resource file:/usr/lib/livy/rsc-jars/livy-rsc-0.7.1-incubating.jar -> hdfs://ip-172-31-37-162.ap-southeast-1.compute.internal:8020/user/livy/.sparkStaging/application_1680916650044_0002/livy-rsc-0.7.1-incubating.jar\n",
      "23/04/08 03:30:16 INFO Client: Uploading resource file:/usr/lib/livy/rsc-jars/livy-thriftserver-session-0.7.1-incubating.jar -> hdfs://ip-172-31-37-162.ap-southeast-1.compute.internal:8020/user/livy/.sparkStaging/application_1680916650044_0002/livy-thriftserver-session-0.7.1-incubating.jar\n",
      "23/04/08 03:30:16 INFO Client: Uploading resource file:/usr/lib/livy/rsc-jars/native_ref-java-1.1.jar -> hdfs://ip-172-31-37-162.ap-southeast-1.compute.internal:8020/user/livy/.sparkStaging/application_1680916650044_0002/native_ref-java-1.1.jar\n",
      "23/04/08 03:30:16 INFO Client: Uploading resource file:/usr/lib/livy/rsc-jars/native_system-java-1.1.jar -> hdfs://ip-172-31-37-162.ap-southeast-1.compute.internal:8020/user/livy/.sparkStaging/application_1680916650044_0002/native_system-java-1.1.jar\n",
      "23/04/08 03:30:17 INFO Client: Uploading resource file:/usr/lib/livy/rsc-jars/netlib-native_ref-linux-armhf-1.1-natives.jar -> hdfs://ip-172-31-37-162.ap-southeast-1.compute.internal:8020/user/livy/.sparkStaging/application_1680916650044_0002/netlib-native_ref-linux-armhf-1.1-natives.jar\n",
      "23/04/08 03:30:17 INFO Client: Uploading resource file:/usr/lib/livy/rsc-jars/netlib-native_ref-linux-i686-1.1-natives.jar -> hdfs://ip-172-31-37-162.ap-southeast-1.compute.internal:8020/user/livy/.sparkStaging/application_1680916650044_0002/netlib-native_ref-linux-i686-1.1-natives.jar\n",
      "23/04/08 03:30:17 INFO Client: Uploading resource file:/usr/lib/livy/rsc-jars/netlib-native_ref-linux-x86_64-1.1-natives.jar -> hdfs://ip-172-31-37-162.ap-southeast-1.compute.internal:8020/user/livy/.sparkStaging/application_1680916650044_0002/netlib-native_ref-linux-x86_64-1.1-natives.jar\n",
      "23/04/08 03:30:17 INFO Client: Uploading resource file:/usr/lib/livy/rsc-jars/netlib-native_ref-osx-x86_64-1.1-natives.jar -> hdfs://ip-172-31-37-162.ap-southeast-1.compute.internal:8020/user/livy/.sparkStaging/application_1680916650044_0002/netlib-native_ref-osx-x86_64-1.1-natives.jar\n",
      "23/04/08 03:30:17 INFO Client: Uploading resource file:/usr/lib/livy/rsc-jars/netlib-native_ref-win-i686-1.1-natives.jar -> hdfs://ip-172-31-37-162.ap-southeast-1.compute.internal:8020/user/livy/.sparkStaging/application_1680916650044_0002/netlib-native_ref-win-i686-1.1-natives.jar\n",
      "23/04/08 03:30:17 INFO Client: Uploading resource file:/usr/lib/livy/rsc-jars/netlib-native_ref-win-x86_64-1.1-natives.jar -> hdfs://ip-172-31-37-162.ap-southeast-1.compute.internal:8020/user/livy/.sparkStaging/application_1680916650044_0002/netlib-native_ref-win-x86_64-1.1-natives.jar\n",
      "23/04/08 03:30:17 INFO Client: Uploading resource file:/usr/lib/livy/rsc-jars/netlib-native_system-linux-armhf-1.1-natives.jar -> hdfs://ip-172-31-37-162.ap-southeast-1.compute.internal:8020/user/livy/.sparkStaging/application_1680916650044_0002/netlib-native_system-linux-armhf-1.1-natives.jar\n",
      "23/04/08 03:30:17 INFO Client: Uploading resource file:/usr/lib/livy/rsc-jars/netlib-native_system-linux-i686-1.1-natives.jar -> hdfs://ip-172-31-37-162.ap-southeast-1.compute.internal:8020/user/livy/.sparkStaging/application_1680916650044_0002/netlib-native_system-linux-i686-1.1-natives.jar\n",
      "23/04/08 03:30:17 INFO Client: Uploading resource file:/usr/lib/livy/rsc-jars/netlib-native_system-linux-x86_64-1.1-natives.jar -> hdfs://ip-172-31-37-162.ap-southeast-1.compute.internal:8020/user/livy/.sparkStaging/application_1680916650044_0002/netlib-native_system-linux-x86_64-1.1-natives.jar\n",
      "23/04/08 03:30:17 INFO Client: Uploading resource file:/usr/lib/livy/rsc-jars/netlib-native_system-osx-x86_64-1.1-natives.jar -> hdfs://ip-172-31-37-162.ap-southeast-1.compute.internal:8020/user/livy/.sparkStaging/application_1680916650044_0002/netlib-native_system-osx-x86_64-1.1-natives.jar\n",
      "23/04/08 03:30:17 INFO Client: Uploading resource file:/usr/lib/livy/rsc-jars/netlib-native_system-win-i686-1.1-natives.jar -> hdfs://ip-172-31-37-162.ap-southeast-1.compute.internal:8020/user/livy/.sparkStaging/application_1680916650044_0002/netlib-native_system-win-i686-1.1-natives.jar\n",
      "23/04/08 03:30:17 INFO Client: Uploading resource file:/usr/lib/livy/rsc-jars/netlib-native_system-win-x86_64-1.1-natives.jar -> hdfs://ip-172-31-37-162.ap-southeast-1.compute.internal:8020/user/livy/.sparkStaging/application_1680916650044_0002/netlib-native_system-win-x86_64-1.1-natives.jar\n",
      "23/04/08 03:30:17 INFO Client: Uploading resource file:/usr/lib/livy/rsc-jars/netty-all-4.1.17.Final.jar -> hdfs://ip-172-31-37-162.ap-southeast-1.compute.internal:8020/user/livy/.sparkStaging/application_1680916650044_0002/netty-all-4.1.17.Final.jar\n",
      "23/04/08 03:30:17 INFO Client: Uploading resource file:/usr/lib/livy/repl_2.12-jars/commons-codec-1.9.jar -> hdfs://ip-172-31-37-162.ap-southeast-1.compute.internal:8020/user/livy/.sparkStaging/application_1680916650044_0002/commons-codec-1.9.jar\n",
      "23/04/08 03:30:17 INFO Client: Uploading resource file:/usr/lib/livy/repl_2.12-jars/livy-core_2.12-0.7.1-incubating.jar -> hdfs://ip-172-31-37-162.ap-southeast-1.compute.internal:8020/user/livy/.sparkStaging/application_1680916650044_0002/livy-core_2.12-0.7.1-incubating.jar\n",
      "23/04/08 03:30:17 INFO Client: Uploading resource file:/usr/lib/livy/repl_2.12-jars/livy-repl_2.12-0.7.1-incubating.jar -> hdfs://ip-172-31-37-162.ap-southeast-1.compute.internal:8020/user/livy/.sparkStaging/application_1680916650044_0002/livy-repl_2.12-0.7.1-incubating.jar\n",
      "23/04/08 03:30:17 INFO Client: Uploading resource file:/etc/hudi/conf.dist/hudi-defaults.conf -> hdfs://ip-172-31-37-162.ap-southeast-1.compute.internal:8020/user/livy/.sparkStaging/application_1680916650044_0002/hudi-defaults.conf\n",
      "23/04/08 03:30:17 INFO Client: Uploading resource file:/usr/lib/spark/R/lib/sparkr.zip#sparkr -> hdfs://ip-172-31-37-162.ap-southeast-1.compute.internal:8020/user/livy/.sparkStaging/application_1680916650044_0002/sparkr.zip\n",
      "23/04/08 03:30:17 INFO Client: Uploading resource file:/usr/lib/spark/python/lib/pyspark.zip -> hdfs://ip-172-31-37-162.ap-southeast-1.compute.internal:8020/user/livy/.sparkStaging/application_1680916650044_0002/pyspark.zip\n",
      "23/04/08 03:30:17 INFO Client: Uploading resource file:/usr/lib/spark/python/lib/py4j-0.10.9.5-src.zip -> hdfs://ip-172-31-37-162.ap-southeast-1.compute.internal:8020/user/livy/.sparkStaging/application_1680916650044_0002/py4j-0.10.9.5-src.zip\n",
      "23/04/08 03:30:17 INFO Client: Uploading resource file:/mnt/tmp/spark-cdd2700f-9dba-4b81-96fe-ca9ecb914473/__spark_conf__8763799049417668656.zip -> hdfs://ip-172-31-37-162.ap-southeast-1.compute.internal:8020/user/livy/.sparkStaging/application_1680916650044_0002/__spark_conf__.zip\n",
      "23/04/08 03:30:17 INFO SecurityManager: Changing view acls to: livy\n",
      "23/04/08 03:30:17 INFO SecurityManager: Changing modify acls to: livy\n",
      "23/04/08 03:30:17 INFO SecurityManager: Changing view acls groups to: \n",
      "23/04/08 03:30:17 INFO SecurityManager: Changing modify acls groups to: \n",
      "23/04/08 03:30:17 INFO SecurityManager: SecurityManager: authentication disabled; ui acls disabled; users  with view permissions: Set(livy); groups with view permissions: Set(); users  with modify permissions: Set(livy); groups with modify permissions: Set()\n",
      "23/04/08 03:30:18 INFO Client: Submitting application application_1680916650044_0002 to ResourceManager\n",
      "23/04/08 03:30:18 INFO YarnClientImpl: Submitted application application_1680916650044_0002\n",
      "23/04/08 03:30:18 INFO Client: Application report for application_1680916650044_0002 (state: ACCEPTED)\n",
      "23/04/08 03:30:18 INFO Client: \n",
      "\t client token: N/A\n",
      "\t diagnostics: [Sat Apr 08 03:30:18 +0000 2023] Application is Activated, waiting for resources to be assigned for AM.  Details : AM Partition = <DEFAULT_PARTITION> ; Partition Resource = <memory:61440, vCores:20> ; Queue's Absolute capacity = 100.0 % ; Queue's Absolute used capacity = 0.0 % ; Queue's Absolute max capacity = 100.0 % ; Queue's capacity (absolute resource) = <memory:61440, vCores:20> ; Queue's used capacity (absolute resource) = <memory:0, vCores:0> ; Queue's max capacity (absolute resource) = <memory:61440, vCores:20> ; \n",
      "\t ApplicationMaster host: N/A\n",
      "\t ApplicationMaster RPC port: -1\n",
      "\t queue: default\n",
      "\t start time: 1680924618089\n",
      "\t final status: UNDEFINED\n",
      "\t tracking URL: http://ip-172-31-37-162.ap-southeast-1.compute.internal:20888/proxy/application_1680916650044_0002/\n",
      "\t user: livy\n",
      "23/04/08 03:30:18 INFO ShutdownHookManager: Shutdown hook called\n",
      "23/04/08 03:30:18 INFO ShutdownHookManager: Deleting directory /mnt/tmp/spark-cdd2700f-9dba-4b81-96fe-ca9ecb914473\n",
      "23/04/08 03:30:18 INFO ShutdownHookManager: Deleting directory /mnt/tmp/spark-21a85c60-3c89-493a-b5c7-31fd293e90ff\n",
      "\n",
      "YARN Diagnostics: \n",
      "Application application_1680916650044_0002 failed 1 times (global limit =2; local limit is =1) due to AM Container for appattempt_1680916650044_0002_000001 exited with  exitCode: 137\n",
      "Failing this attempt.Diagnostics: [2023-04-08 03:59:16.438]Container killed on request. Exit code is 137\n",
      "[2023-04-08 03:59:16.438]Container exited with a non-zero exit code 137. \n",
      "[2023-04-08 03:59:16.439]Killed by external signal\n",
      "For more detailed output, check the application tracking page: http://ip-172-31-37-162.ap-southeast-1.compute.internal:8088/cluster/app/application_1680916650044_0002 Then click on links to logs of each attempt.\n",
      ". Failing the application.\n"
     ]
    }
   ],
   "source": [
    "pokemon_inf.show()"
   ]
  },
  {
   "cell_type": "code",
   "execution_count": null,
   "metadata": {},
   "outputs": [
    {
     "data": {
      "application/vnd.jupyter.widget-view+json": {
       "model_id": "43b6f59cc2e44715b7eec1d518f85dd3",
       "version_major": 2,
       "version_minor": 0
      },
      "text/plain": [
       "VBox()"
      ]
     },
     "metadata": {},
     "output_type": "display_data"
    },
    {
     "name": "stderr",
     "output_type": "stream",
     "text": [
      "An error was encountered:\n",
      "Session 1 unexpectedly reached final status 'dead'. See logs:\n",
      "stdout: \n",
      "\n",
      "stderr: \n",
      "23/04/08 03:30:11 WARN NativeCodeLoader: Unable to load native-hadoop library for your platform... using builtin-java classes where applicable\n",
      "23/04/08 03:30:12 INFO DefaultNoHARMFailoverProxyProvider: Connecting to ResourceManager at ip-172-31-37-162.ap-southeast-1.compute.internal/172.31.37.162:8032\n",
      "23/04/08 03:30:12 INFO Configuration: resource-types.xml not found\n",
      "23/04/08 03:30:12 INFO ResourceUtils: Unable to find 'resource-types.xml'.\n",
      "23/04/08 03:30:12 INFO Client: Verifying our application has not requested more than the maximum memory capability of the cluster (12288 MB per container)\n",
      "23/04/08 03:30:12 INFO Client: Will allocate AM container, with 2432 MB memory including 384 MB overhead\n",
      "23/04/08 03:30:12 INFO Client: Setting up container launch context for our AM\n",
      "23/04/08 03:30:12 INFO Client: Setting up the launch environment for our AM container\n",
      "23/04/08 03:30:12 INFO Client: Preparing resources for our AM container\n",
      "23/04/08 03:30:12 WARN Client: Neither spark.yarn.jars nor spark.yarn.archive is set, falling back to uploading libraries under SPARK_HOME.\n",
      "23/04/08 03:30:15 INFO Client: Uploading resource file:/mnt/tmp/spark-cdd2700f-9dba-4b81-96fe-ca9ecb914473/__spark_libs__2055157281245084756.zip -> hdfs://ip-172-31-37-162.ap-southeast-1.compute.internal:8020/user/livy/.sparkStaging/application_1680916650044_0002/__spark_libs__2055157281245084756.zip\n",
      "23/04/08 03:30:16 INFO Client: Uploading resource file:/usr/lib/livy/rsc-jars/arpack_combined_all-0.1.jar -> hdfs://ip-172-31-37-162.ap-southeast-1.compute.internal:8020/user/livy/.sparkStaging/application_1680916650044_0002/arpack_combined_all-0.1.jar\n",
      "23/04/08 03:30:16 INFO Client: Uploading resource file:/usr/lib/livy/rsc-jars/core-1.1.2.jar -> hdfs://ip-172-31-37-162.ap-southeast-1.compute.internal:8020/user/livy/.sparkStaging/application_1680916650044_0002/core-1.1.2.jar\n",
      "23/04/08 03:30:16 INFO Client: Uploading resource file:/usr/lib/livy/rsc-jars/jniloader-1.1.jar -> hdfs://ip-172-31-37-162.ap-southeast-1.compute.internal:8020/user/livy/.sparkStaging/application_1680916650044_0002/jniloader-1.1.jar\n",
      "23/04/08 03:30:16 INFO Client: Uploading resource file:/usr/lib/livy/rsc-jars/livy-api-0.7.1-incubating.jar -> hdfs://ip-172-31-37-162.ap-southeast-1.compute.internal:8020/user/livy/.sparkStaging/application_1680916650044_0002/livy-api-0.7.1-incubating.jar\n",
      "23/04/08 03:30:16 INFO Client: Uploading resource file:/usr/lib/livy/rsc-jars/livy-rsc-0.7.1-incubating.jar -> hdfs://ip-172-31-37-162.ap-southeast-1.compute.internal:8020/user/livy/.sparkStaging/application_1680916650044_0002/livy-rsc-0.7.1-incubating.jar\n",
      "23/04/08 03:30:16 INFO Client: Uploading resource file:/usr/lib/livy/rsc-jars/livy-thriftserver-session-0.7.1-incubating.jar -> hdfs://ip-172-31-37-162.ap-southeast-1.compute.internal:8020/user/livy/.sparkStaging/application_1680916650044_0002/livy-thriftserver-session-0.7.1-incubating.jar\n",
      "23/04/08 03:30:16 INFO Client: Uploading resource file:/usr/lib/livy/rsc-jars/native_ref-java-1.1.jar -> hdfs://ip-172-31-37-162.ap-southeast-1.compute.internal:8020/user/livy/.sparkStaging/application_1680916650044_0002/native_ref-java-1.1.jar\n",
      "23/04/08 03:30:16 INFO Client: Uploading resource file:/usr/lib/livy/rsc-jars/native_system-java-1.1.jar -> hdfs://ip-172-31-37-162.ap-southeast-1.compute.internal:8020/user/livy/.sparkStaging/application_1680916650044_0002/native_system-java-1.1.jar\n",
      "23/04/08 03:30:17 INFO Client: Uploading resource file:/usr/lib/livy/rsc-jars/netlib-native_ref-linux-armhf-1.1-natives.jar -> hdfs://ip-172-31-37-162.ap-southeast-1.compute.internal:8020/user/livy/.sparkStaging/application_1680916650044_0002/netlib-native_ref-linux-armhf-1.1-natives.jar\n",
      "23/04/08 03:30:17 INFO Client: Uploading resource file:/usr/lib/livy/rsc-jars/netlib-native_ref-linux-i686-1.1-natives.jar -> hdfs://ip-172-31-37-162.ap-southeast-1.compute.internal:8020/user/livy/.sparkStaging/application_1680916650044_0002/netlib-native_ref-linux-i686-1.1-natives.jar\n",
      "23/04/08 03:30:17 INFO Client: Uploading resource file:/usr/lib/livy/rsc-jars/netlib-native_ref-linux-x86_64-1.1-natives.jar -> hdfs://ip-172-31-37-162.ap-southeast-1.compute.internal:8020/user/livy/.sparkStaging/application_1680916650044_0002/netlib-native_ref-linux-x86_64-1.1-natives.jar\n",
      "23/04/08 03:30:17 INFO Client: Uploading resource file:/usr/lib/livy/rsc-jars/netlib-native_ref-osx-x86_64-1.1-natives.jar -> hdfs://ip-172-31-37-162.ap-southeast-1.compute.internal:8020/user/livy/.sparkStaging/application_1680916650044_0002/netlib-native_ref-osx-x86_64-1.1-natives.jar\n",
      "23/04/08 03:30:17 INFO Client: Uploading resource file:/usr/lib/livy/rsc-jars/netlib-native_ref-win-i686-1.1-natives.jar -> hdfs://ip-172-31-37-162.ap-southeast-1.compute.internal:8020/user/livy/.sparkStaging/application_1680916650044_0002/netlib-native_ref-win-i686-1.1-natives.jar\n",
      "23/04/08 03:30:17 INFO Client: Uploading resource file:/usr/lib/livy/rsc-jars/netlib-native_ref-win-x86_64-1.1-natives.jar -> hdfs://ip-172-31-37-162.ap-southeast-1.compute.internal:8020/user/livy/.sparkStaging/application_1680916650044_0002/netlib-native_ref-win-x86_64-1.1-natives.jar\n",
      "23/04/08 03:30:17 INFO Client: Uploading resource file:/usr/lib/livy/rsc-jars/netlib-native_system-linux-armhf-1.1-natives.jar -> hdfs://ip-172-31-37-162.ap-southeast-1.compute.internal:8020/user/livy/.sparkStaging/application_1680916650044_0002/netlib-native_system-linux-armhf-1.1-natives.jar\n",
      "23/04/08 03:30:17 INFO Client: Uploading resource file:/usr/lib/livy/rsc-jars/netlib-native_system-linux-i686-1.1-natives.jar -> hdfs://ip-172-31-37-162.ap-southeast-1.compute.internal:8020/user/livy/.sparkStaging/application_1680916650044_0002/netlib-native_system-linux-i686-1.1-natives.jar\n",
      "23/04/08 03:30:17 INFO Client: Uploading resource file:/usr/lib/livy/rsc-jars/netlib-native_system-linux-x86_64-1.1-natives.jar -> hdfs://ip-172-31-37-162.ap-southeast-1.compute.internal:8020/user/livy/.sparkStaging/application_1680916650044_0002/netlib-native_system-linux-x86_64-1.1-natives.jar\n",
      "23/04/08 03:30:17 INFO Client: Uploading resource file:/usr/lib/livy/rsc-jars/netlib-native_system-osx-x86_64-1.1-natives.jar -> hdfs://ip-172-31-37-162.ap-southeast-1.compute.internal:8020/user/livy/.sparkStaging/application_1680916650044_0002/netlib-native_system-osx-x86_64-1.1-natives.jar\n",
      "23/04/08 03:30:17 INFO Client: Uploading resource file:/usr/lib/livy/rsc-jars/netlib-native_system-win-i686-1.1-natives.jar -> hdfs://ip-172-31-37-162.ap-southeast-1.compute.internal:8020/user/livy/.sparkStaging/application_1680916650044_0002/netlib-native_system-win-i686-1.1-natives.jar\n",
      "23/04/08 03:30:17 INFO Client: Uploading resource file:/usr/lib/livy/rsc-jars/netlib-native_system-win-x86_64-1.1-natives.jar -> hdfs://ip-172-31-37-162.ap-southeast-1.compute.internal:8020/user/livy/.sparkStaging/application_1680916650044_0002/netlib-native_system-win-x86_64-1.1-natives.jar\n",
      "23/04/08 03:30:17 INFO Client: Uploading resource file:/usr/lib/livy/rsc-jars/netty-all-4.1.17.Final.jar -> hdfs://ip-172-31-37-162.ap-southeast-1.compute.internal:8020/user/livy/.sparkStaging/application_1680916650044_0002/netty-all-4.1.17.Final.jar\n",
      "23/04/08 03:30:17 INFO Client: Uploading resource file:/usr/lib/livy/repl_2.12-jars/commons-codec-1.9.jar -> hdfs://ip-172-31-37-162.ap-southeast-1.compute.internal:8020/user/livy/.sparkStaging/application_1680916650044_0002/commons-codec-1.9.jar\n",
      "23/04/08 03:30:17 INFO Client: Uploading resource file:/usr/lib/livy/repl_2.12-jars/livy-core_2.12-0.7.1-incubating.jar -> hdfs://ip-172-31-37-162.ap-southeast-1.compute.internal:8020/user/livy/.sparkStaging/application_1680916650044_0002/livy-core_2.12-0.7.1-incubating.jar\n",
      "23/04/08 03:30:17 INFO Client: Uploading resource file:/usr/lib/livy/repl_2.12-jars/livy-repl_2.12-0.7.1-incubating.jar -> hdfs://ip-172-31-37-162.ap-southeast-1.compute.internal:8020/user/livy/.sparkStaging/application_1680916650044_0002/livy-repl_2.12-0.7.1-incubating.jar\n",
      "23/04/08 03:30:17 INFO Client: Uploading resource file:/etc/hudi/conf.dist/hudi-defaults.conf -> hdfs://ip-172-31-37-162.ap-southeast-1.compute.internal:8020/user/livy/.sparkStaging/application_1680916650044_0002/hudi-defaults.conf\n",
      "23/04/08 03:30:17 INFO Client: Uploading resource file:/usr/lib/spark/R/lib/sparkr.zip#sparkr -> hdfs://ip-172-31-37-162.ap-southeast-1.compute.internal:8020/user/livy/.sparkStaging/application_1680916650044_0002/sparkr.zip\n",
      "23/04/08 03:30:17 INFO Client: Uploading resource file:/usr/lib/spark/python/lib/pyspark.zip -> hdfs://ip-172-31-37-162.ap-southeast-1.compute.internal:8020/user/livy/.sparkStaging/application_1680916650044_0002/pyspark.zip\n",
      "23/04/08 03:30:17 INFO Client: Uploading resource file:/usr/lib/spark/python/lib/py4j-0.10.9.5-src.zip -> hdfs://ip-172-31-37-162.ap-southeast-1.compute.internal:8020/user/livy/.sparkStaging/application_1680916650044_0002/py4j-0.10.9.5-src.zip\n",
      "23/04/08 03:30:17 INFO Client: Uploading resource file:/mnt/tmp/spark-cdd2700f-9dba-4b81-96fe-ca9ecb914473/__spark_conf__8763799049417668656.zip -> hdfs://ip-172-31-37-162.ap-southeast-1.compute.internal:8020/user/livy/.sparkStaging/application_1680916650044_0002/__spark_conf__.zip\n",
      "23/04/08 03:30:17 INFO SecurityManager: Changing view acls to: livy\n",
      "23/04/08 03:30:17 INFO SecurityManager: Changing modify acls to: livy\n",
      "23/04/08 03:30:17 INFO SecurityManager: Changing view acls groups to: \n",
      "23/04/08 03:30:17 INFO SecurityManager: Changing modify acls groups to: \n",
      "23/04/08 03:30:17 INFO SecurityManager: SecurityManager: authentication disabled; ui acls disabled; users  with view permissions: Set(livy); groups with view permissions: Set(); users  with modify permissions: Set(livy); groups with modify permissions: Set()\n",
      "23/04/08 03:30:18 INFO Client: Submitting application application_1680916650044_0002 to ResourceManager\n",
      "23/04/08 03:30:18 INFO YarnClientImpl: Submitted application application_1680916650044_0002\n",
      "23/04/08 03:30:18 INFO Client: Application report for application_1680916650044_0002 (state: ACCEPTED)\n",
      "23/04/08 03:30:18 INFO Client: \n",
      "\t client token: N/A\n",
      "\t diagnostics: [Sat Apr 08 03:30:18 +0000 2023] Application is Activated, waiting for resources to be assigned for AM.  Details : AM Partition = <DEFAULT_PARTITION> ; Partition Resource = <memory:61440, vCores:20> ; Queue's Absolute capacity = 100.0 % ; Queue's Absolute used capacity = 0.0 % ; Queue's Absolute max capacity = 100.0 % ; Queue's capacity (absolute resource) = <memory:61440, vCores:20> ; Queue's used capacity (absolute resource) = <memory:0, vCores:0> ; Queue's max capacity (absolute resource) = <memory:61440, vCores:20> ; \n",
      "\t ApplicationMaster host: N/A\n",
      "\t ApplicationMaster RPC port: -1\n",
      "\t queue: default\n",
      "\t start time: 1680924618089\n",
      "\t final status: UNDEFINED\n",
      "\t tracking URL: http://ip-172-31-37-162.ap-southeast-1.compute.internal:20888/proxy/application_1680916650044_0002/\n",
      "\t user: livy\n",
      "23/04/08 03:30:18 INFO ShutdownHookManager: Shutdown hook called\n",
      "23/04/08 03:30:18 INFO ShutdownHookManager: Deleting directory /mnt/tmp/spark-cdd2700f-9dba-4b81-96fe-ca9ecb914473\n",
      "23/04/08 03:30:18 INFO ShutdownHookManager: Deleting directory /mnt/tmp/spark-21a85c60-3c89-493a-b5c7-31fd293e90ff\n",
      "\n",
      "YARN Diagnostics: \n",
      "Application application_1680916650044_0002 failed 1 times (global limit =2; local limit is =1) due to AM Container for appattempt_1680916650044_0002_000001 exited with  exitCode: 137\n",
      "Failing this attempt.Diagnostics: [2023-04-08 03:59:16.438]Container killed on request. Exit code is 137\n",
      "[2023-04-08 03:59:16.438]Container exited with a non-zero exit code 137. \n",
      "[2023-04-08 03:59:16.439]Killed by external signal\n",
      "For more detailed output, check the application tracking page: http://ip-172-31-37-162.ap-southeast-1.compute.internal:8088/cluster/app/application_1680916650044_0002 Then click on links to logs of each attempt.\n",
      ". Failing the application.\n"
     ]
    }
   ],
   "source": [
    "pokemon_inf.count()"
   ]
  },
  {
   "cell_type": "code",
   "execution_count": null,
   "metadata": {},
   "outputs": [
    {
     "data": {
      "application/vnd.jupyter.widget-view+json": {
       "model_id": "b9d3ebc68ae341d38a0824d7a65f2f1d",
       "version_major": 2,
       "version_minor": 0
      },
      "text/plain": [
       "VBox()"
      ]
     },
     "metadata": {},
     "output_type": "display_data"
    },
    {
     "data": {
      "application/vnd.jupyter.widget-view+json": {
       "model_id": "",
       "version_major": 2,
       "version_minor": 0
      },
      "text/plain": [
       "FloatProgress(value=0.0, bar_style='info', description='Progress:', layout=Layout(height='25px', width='50%'),…"
      ]
     },
     "metadata": {},
     "output_type": "display_data"
    },
    {
     "name": "stdout",
     "output_type": "stream",
     "text": [
      "34"
     ]
    }
   ],
   "source": [
    "diff.count()"
   ]
  },
  {
   "cell_type": "code",
   "execution_count": null,
   "metadata": {},
   "outputs": [],
   "source": []
  },
  {
   "cell_type": "code",
   "execution_count": null,
   "metadata": {},
   "outputs": [
    {
     "data": {
      "application/vnd.jupyter.widget-view+json": {
       "model_id": "15056719478b4a9da5bd1e659ee73c52",
       "version_major": 2,
       "version_minor": 0
      },
      "text/plain": [
       "VBox()"
      ]
     },
     "metadata": {},
     "output_type": "display_data"
    },
    {
     "data": {
      "application/vnd.jupyter.widget-view+json": {
       "model_id": "",
       "version_major": 2,
       "version_minor": 0
      },
      "text/plain": [
       "FloatProgress(value=0.0, bar_style='info', description='Progress:', layout=Layout(height='25px', width='50%'),…"
      ]
     },
     "metadata": {},
     "output_type": "display_data"
    },
    {
     "name": "stdout",
     "output_type": "stream",
     "text": [
      "+-------------------+\n",
      "|        user_id_str|\n",
      "+-------------------+\n",
      "|          130447415|\n",
      "|         2786677338|\n",
      "|          307902310|\n",
      "| 811765148595535872|\n",
      "|          323091128|\n",
      "|           29758446|\n",
      "| 909119962572242944|\n",
      "|            5162861|\n",
      "| 987228577522376704|\n",
      "|1470439914953011204|\n",
      "|         3095001124|\n",
      "|1349579108187992071|\n",
      "|1441557548427927554|\n",
      "|1441557548427927554|\n",
      "|          252087695|\n",
      "|         1149178590|\n",
      "|         2597010860|\n",
      "|             890891|\n",
      "|1365337673074933765|\n",
      "|1432825944259973123|\n",
      "+-------------------+\n",
      "only showing top 20 rows"
     ]
    }
   ],
   "source": [
    "diff.show()"
   ]
  },
  {
   "cell_type": "code",
   "execution_count": null,
   "metadata": {},
   "outputs": [
    {
     "data": {
      "application/vnd.jupyter.widget-view+json": {
       "model_id": "91acdfc760a0431b8406c4585f34c1d4",
       "version_major": 2,
       "version_minor": 0
      },
      "text/plain": [
       "VBox()"
      ]
     },
     "metadata": {},
     "output_type": "display_data"
    },
    {
     "data": {
      "application/vnd.jupyter.widget-view+json": {
       "model_id": "",
       "version_major": 2,
       "version_minor": 0
      },
      "text/plain": [
       "FloatProgress(value=0.0, bar_style='info', description='Progress:', layout=Layout(height='25px', width='50%'),…"
      ]
     },
     "metadata": {},
     "output_type": "display_data"
    },
    {
     "name": "stderr",
     "output_type": "stream",
     "text": [
      "An error was encountered:\n",
      "name 'user_join' is not defined\n",
      "Traceback (most recent call last):\n",
      "NameError: name 'user_join' is not defined\n",
      "\n"
     ]
    }
   ],
   "source": [
    "user_join.show()"
   ]
  },
  {
   "cell_type": "code",
   "execution_count": null,
   "metadata": {},
   "outputs": [
    {
     "data": {
      "application/vnd.jupyter.widget-view+json": {
       "model_id": "fc0623a7479a4e46851a64962f078d87",
       "version_major": 2,
       "version_minor": 0
      },
      "text/plain": [
       "VBox()"
      ]
     },
     "metadata": {},
     "output_type": "display_data"
    },
    {
     "data": {
      "application/vnd.jupyter.widget-view+json": {
       "model_id": "",
       "version_major": 2,
       "version_minor": 0
      },
      "text/plain": [
       "FloatProgress(value=0.0, bar_style='info', description='Progress:', layout=Layout(height='25px', width='50%'),…"
      ]
     },
     "metadata": {},
     "output_type": "display_data"
    },
    {
     "name": "stdout",
     "output_type": "stream",
     "text": [
      "+-------------------+-------------------+--------+---------------+-------------+----------------+--------------+--------------------+--------------------+-----------+--------------+-------------------------------------------------------+\n",
      "|        user_id_str|user_twitter_handle|verified|followers_count|friends_count|favourites_count|statuses_count|          created_at|    tweet_created_at|create_rank|retweets_count|((retweets_count + favourites_count) / followers_count)|\n",
      "+-------------------+-------------------+--------+---------------+-------------+----------------+--------------+--------------------+--------------------+-----------+--------------+-------------------------------------------------------+\n",
      "|1409917553514848257|        PokemonGems|   false|          48683|          383|            6517|          1041|Tue Jun 29 16:52:...|Tue Feb 15 23:27:...|          1|             0|                                    0.13386603126348007|\n",
      "|           19426551|                NFL|    true|       28837319|         2723|            3080|        234547|Sat Jan 24 01:28:...|Tue Feb 15 22:55:...|          1|             0|                                   1.068060453192614...|\n",
      "|           26257166|       SportsCenter|    true|       39519520|          732|            1984|        132561|Tue Mar 24 15:28:...|Tue Feb 15 21:38:...|          1|             0|                                   5.020303890330652E-5|\n",
      "|           34429906|     SoulRebornGame|   false|          72990|           59|             210|            99|Wed Apr 22 22:48:...|Tue Feb 15 08:44:...|          1|             0|                                   0.002877106452938759|\n",
      "|1200355745600069635|       GiveAwayHost|   false|         308830|          798|            7874|         40311|Fri Nov 29 10:08:...|Tue Feb 15 21:55:...|          1|             0|                                   0.025496227698086325|\n",
      "|1156269110545793024|       ladyincrypto|   false|         353342|          726|            1546|         13953|Tue Jul 30 18:23:...|Tue Feb 15 06:52:...|          1|             0|                                   0.004375364377854...|\n",
      "|         4920946291|        sof1azara03|   false|         282622|         3404|           22789|         72950|Wed Feb 17 12:34:...|Tue Feb 15 22:52:...|          1|             0|                                     0.0806342039897814|\n",
      "|          501558917|           TheJenus|   false|        1048839|         1019|            7316|          5945|Fri Feb 24 07:53:...|Tue Feb 15 23:02:...|          1|             0|                                    0.00697533177160651|\n",
      "|            7157132|           GameSpot|    true|        4670967|          707|           21694|        155232|Fri Jun 29 17:54:...|Tue Feb 15 21:46:...|          1|             0|                                   0.004644434439378...|\n",
      "|1483999454244274178|       ashward_game|   false|          54211|            4|              17|            27|Thu Jan 20 03:07:...|Tue Feb 15 09:49:...|          1|             0|                                   3.135894929073435...|\n",
      "|1449414811436023812|      chitaglorya__|   false|         231770|          441|             296|         12526|Sat Oct 16 16:40:...|Tue Feb 15 10:17:...|          1|             0|                                   0.001277128187427...|\n",
      "|            5921162|            famitsu|    true|         902131|        44835|              70|        265474|Thu May 10 05:03:...|Tue Feb 15 06:30:...|          1|             0|                                   7.759405230504218E-5|\n",
      "|           18927441|                IGN|    true|        8618524|         1372|           16341|        160711|Tue Jan 13 03:56:...|Tue Feb 15 16:01:...|          1|             0|                                   0.001896032313653707|\n",
      "|          297169759|      SamsungMobile|    true|       12443079|          424|             522|          8772|Thu May 12 01:59:...|Tue Feb 15 09:33:...|          1|             0|                                   4.195103157345541E-5|\n",
      "|1302006102364745728|      strokegamexxx|   false|         185542|         1917|            1310|         71732|Fri Sep 04 22:10:...|Tue Feb 15 18:02:...|          1|             0|                                   0.007060396028931...|\n",
      "|1235177017441529861|           game7400|   false|          18430|         2215|            8277|          7677|Wed Mar 04 12:15:...|Tue Feb 15 15:23:...|          1|             0|                                    0.44910472056429734|\n",
      "+-------------------+-------------------+--------+---------------+-------------+----------------+--------------+--------------------+--------------------+-----------+--------------+-------------------------------------------------------+"
     ]
    }
   ],
   "source": [
    "pokemon_inf.show()"
   ]
  },
  {
   "cell_type": "code",
   "execution_count": null,
   "metadata": {},
   "outputs": [],
   "source": []
  },
  {
   "cell_type": "code",
   "execution_count": null,
   "metadata": {},
   "outputs": [],
   "source": [
    "# IER = (retweets + favorites) / followers"
   ]
  },
  {
   "cell_type": "code",
   "execution_count": null,
   "metadata": {},
   "outputs": [
    {
     "data": {
      "application/vnd.jupyter.widget-view+json": {
       "model_id": "5063aa2a6a6c4606a5546c05772b8cb0",
       "version_major": 2,
       "version_minor": 0
      },
      "text/plain": [
       "VBox()"
      ]
     },
     "metadata": {},
     "output_type": "display_data"
    },
    {
     "data": {
      "application/vnd.jupyter.widget-view+json": {
       "model_id": "",
       "version_major": 2,
       "version_minor": 0
      },
      "text/plain": [
       "FloatProgress(value=0.0, bar_style='info', description='Progress:', layout=Layout(height='25px', width='50%'),…"
      ]
     },
     "metadata": {},
     "output_type": "display_data"
    },
    {
     "name": "stdout",
     "output_type": "stream",
     "text": [
      "+-------------+--------------+\n",
      "|retweet_count|favorite_count|\n",
      "+-------------+--------------+\n",
      "|            0|             0|\n",
      "|            0|             0|\n",
      "|            0|             0|\n",
      "|            0|             0|\n",
      "|            0|             0|\n",
      "|            0|             0|\n",
      "|            0|             0|\n",
      "|            0|             0|\n",
      "|            0|             0|\n",
      "|            0|             0|\n",
      "|            0|             0|\n",
      "|            0|             0|\n",
      "|            0|             0|\n",
      "|            0|             0|\n",
      "|            0|             0|\n",
      "|            0|             0|\n",
      "|            0|             0|\n",
      "|            0|             0|\n",
      "|            0|             0|\n",
      "|            0|             0|\n",
      "+-------------+--------------+\n",
      "only showing top 20 rows"
     ]
    }
   ],
   "source": [
    "# raw.select().show()"
   ]
  },
  {
   "cell_type": "code",
   "execution_count": null,
   "metadata": {},
   "outputs": [],
   "source": [
    "from pyspark.sql.functions import sum, first\n",
    "\n",
    "# Filter DataFrame to include only tweets by a particular influencer\n",
    "influencer_tweets = tweets_df.filter(tweets_df.user_id == influencer_id)\n",
    "\n",
    "# Calculate total number of retweets and favorites for the influencer's tweets\n",
    "total_retweets = influencer_tweets.agg(sum(\"retweets\")).first()[0]\n",
    "total_favorites = influencer_tweets.agg(sum(\"favorites\")).first()[0]\n",
    "\n",
    "# Get the number of followers for the influencer\n",
    "follower_count = influencer_tweets.select(\"followers\").distinct().first()[0]\n",
    "\n",
    "# Calculate the IER\n",
    "ier = (total_retweets + total_favorites) / follower_count"
   ]
  },
  {
   "cell_type": "code",
   "execution_count": null,
   "metadata": {},
   "outputs": [],
   "source": []
  },
  {
   "cell_type": "code",
   "execution_count": null,
   "metadata": {},
   "outputs": [],
   "source": []
  },
  {
   "cell_type": "code",
   "execution_count": null,
   "metadata": {},
   "outputs": [],
   "source": []
  },
  {
   "cell_type": "code",
   "execution_count": null,
   "metadata": {},
   "outputs": [],
   "source": []
  },
  {
   "cell_type": "code",
   "execution_count": null,
   "metadata": {},
   "outputs": [],
   "source": [
    "diff.count(), pokemon_inf.count()"
   ]
  },
  {
   "cell_type": "code",
   "execution_count": null,
   "metadata": {},
   "outputs": [
    {
     "data": {
      "application/vnd.jupyter.widget-view+json": {
       "model_id": "fba1e239fda44f16bb21f0b56a694bb6",
       "version_major": 2,
       "version_minor": 0
      },
      "text/plain": [
       "VBox()"
      ]
     },
     "metadata": {},
     "output_type": "display_data"
    },
    {
     "data": {
      "application/vnd.jupyter.widget-view+json": {
       "model_id": "",
       "version_major": 2,
       "version_minor": 0
      },
      "text/plain": [
       "FloatProgress(value=0.0, bar_style='info', description='Progress:', layout=Layout(height='25px', width='50%'),…"
      ]
     },
     "metadata": {},
     "output_type": "display_data"
    },
    {
     "name": "stdout",
     "output_type": "stream",
     "text": [
      "False"
     ]
    }
   ],
   "source": [
    "pokemon.count() == 0"
   ]
  },
  {
   "cell_type": "code",
   "execution_count": null,
   "metadata": {},
   "outputs": [
    {
     "data": {
      "application/vnd.jupyter.widget-view+json": {
       "model_id": "7f69d9a2443b4383a562ad7832630535",
       "version_major": 2,
       "version_minor": 0
      },
      "text/plain": [
       "VBox()"
      ]
     },
     "metadata": {},
     "output_type": "display_data"
    },
    {
     "data": {
      "application/vnd.jupyter.widget-view+json": {
       "model_id": "",
       "version_major": 2,
       "version_minor": 0
      },
      "text/plain": [
       "FloatProgress(value=0.0, bar_style='info', description='Progress:', layout=Layout(height='25px', width='50%'),…"
      ]
     },
     "metadata": {},
     "output_type": "display_data"
    },
    {
     "name": "stdout",
     "output_type": "stream",
     "text": [
      "+-------------------+-------------------+--------+---------------+-------------+----------------+--------------+--------------------+--------------------+-----------+\n",
      "|        user_id_str|user_twitter_handle|verified|followers_count|friends_count|favourites_count|statuses_count|          created_at|    tweet_created_at|create_rank|\n",
      "+-------------------+-------------------+--------+---------------+-------------+----------------+--------------+--------------------+--------------------+-----------+\n",
      "|1235177017441529861|           game7400|   false|          18430|         2215|            8277|          7677|Wed Mar 04 12:15:...|Tue Feb 15 15:23:...|          1|\n",
      "|1483999454244274178|       ashward_game|   false|          54211|            4|              17|            27|Thu Jan 20 03:07:...|Tue Feb 15 09:49:...|          1|\n",
      "|           19426551|                NFL|    true|       28837319|         2723|            3080|        234547|Sat Jan 24 01:28:...|Tue Feb 15 22:55:...|          1|\n",
      "|            5921162|            famitsu|    true|         902131|        44835|              70|        265474|Thu May 10 05:03:...|Tue Feb 15 06:30:...|          1|\n",
      "|           34429906|     SoulRebornGame|   false|          72990|           59|             210|            99|Wed Apr 22 22:48:...|Tue Feb 15 08:44:...|          1|\n",
      "|          297169759|      SamsungMobile|    true|       12443079|          424|             522|          8772|Thu May 12 01:59:...|Tue Feb 15 09:33:...|          1|\n",
      "|1302006102364745728|      strokegamexxx|   false|         185542|         1917|            1310|         71732|Fri Sep 04 22:10:...|Tue Feb 15 18:02:...|          1|\n",
      "|1200355745600069635|       GiveAwayHost|   false|         308830|          798|            7874|         40311|Fri Nov 29 10:08:...|Tue Feb 15 21:55:...|          1|\n",
      "|1156269110545793024|       ladyincrypto|   false|         353342|          726|            1546|         13953|Tue Jul 30 18:23:...|Tue Feb 15 06:52:...|          1|\n",
      "|           18927441|                IGN|    true|        8618524|         1372|           16341|        160711|Tue Jan 13 03:56:...|Tue Feb 15 16:01:...|          1|\n",
      "|          501558917|           TheJenus|   false|        1048839|         1019|            7316|          5945|Fri Feb 24 07:53:...|Tue Feb 15 23:02:...|          1|\n",
      "|            7157132|           GameSpot|    true|        4670967|          707|           21694|        155232|Fri Jun 29 17:54:...|Tue Feb 15 21:46:...|          1|\n",
      "|1409917553514848257|        PokemonGems|   false|          48683|          383|            6517|          1041|Tue Jun 29 16:52:...|Tue Feb 15 23:27:...|          1|\n",
      "|         4920946291|        sof1azara03|   false|         282622|         3404|           22789|         72950|Wed Feb 17 12:34:...|Tue Feb 15 22:52:...|          1|\n",
      "|1449414811436023812|      chitaglorya__|   false|         231770|          441|             296|         12526|Sat Oct 16 16:40:...|Tue Feb 15 10:17:...|          1|\n",
      "|           26257166|       SportsCenter|    true|       39519520|          732|            1984|        132561|Tue Mar 24 15:28:...|Tue Feb 15 21:38:...|          1|\n",
      "+-------------------+-------------------+--------+---------------+-------------+----------------+--------------+--------------------+--------------------+-----------+"
     ]
    }
   ],
   "source": [
    "pokemon_inf.show()"
   ]
  },
  {
   "cell_type": "code",
   "execution_count": null,
   "metadata": {},
   "outputs": [
    {
     "data": {
      "application/vnd.jupyter.widget-view+json": {
       "model_id": "2e2e8201e0224084859563fd216e4188",
       "version_major": 2,
       "version_minor": 0
      },
      "text/plain": [
       "VBox()"
      ]
     },
     "metadata": {},
     "output_type": "display_data"
    },
    {
     "data": {
      "application/vnd.jupyter.widget-view+json": {
       "model_id": "",
       "version_major": 2,
       "version_minor": 0
      },
      "text/plain": [
       "FloatProgress(value=0.0, bar_style='info', description='Progress:', layout=Layout(height='25px', width='50%'),…"
      ]
     },
     "metadata": {},
     "output_type": "display_data"
    }
   ],
   "source": []
  },
  {
   "cell_type": "code",
   "execution_count": null,
   "metadata": {},
   "outputs": [
    {
     "data": {
      "application/vnd.jupyter.widget-view+json": {
       "model_id": "2173744a2dcf41cdb4a2d82674c5f988",
       "version_major": 2,
       "version_minor": 0
      },
      "text/plain": [
       "VBox()"
      ]
     },
     "metadata": {},
     "output_type": "display_data"
    },
    {
     "data": {
      "application/vnd.jupyter.widget-view+json": {
       "model_id": "",
       "version_major": 2,
       "version_minor": 0
      },
      "text/plain": [
       "FloatProgress(value=0.0, bar_style='info', description='Progress:', layout=Layout(height='25px', width='50%'),…"
      ]
     },
     "metadata": {},
     "output_type": "display_data"
    },
    {
     "name": "stdout",
     "output_type": "stream",
     "text": [
      "+-------------------+-------------------+--------+---------------+-------------+----------------+--------------+--------------------+--------------------+-----------+\n",
      "|        user_id_str|user_twitter_handle|verified|followers_count|friends_count|favourites_count|statuses_count|          created_at|    tweet_created_at|create_rank|\n",
      "+-------------------+-------------------+--------+---------------+-------------+----------------+--------------+--------------------+--------------------+-----------+\n",
      "|1235177017441529861|           game7400|   false|          18430|         2215|            8277|          7677|Wed Mar 04 12:15:...|Tue Feb 15 15:23:...|          1|\n",
      "|1483999454244274178|       ashward_game|   false|          54211|            4|              17|            27|Thu Jan 20 03:07:...|Tue Feb 15 09:49:...|          1|\n",
      "|           19426551|                NFL|    true|       28837319|         2723|            3080|        234547|Sat Jan 24 01:28:...|Tue Feb 15 22:55:...|          1|\n",
      "|            5921162|            famitsu|    true|         902131|        44835|              70|        265474|Thu May 10 05:03:...|Tue Feb 15 06:30:...|          1|\n",
      "|           34429906|     SoulRebornGame|   false|          72990|           59|             210|            99|Wed Apr 22 22:48:...|Tue Feb 15 08:44:...|          1|\n",
      "|          297169759|      SamsungMobile|    true|       12443079|          424|             522|          8772|Thu May 12 01:59:...|Tue Feb 15 09:33:...|          1|\n",
      "|1302006102364745728|      strokegamexxx|   false|         185542|         1917|            1310|         71732|Fri Sep 04 22:10:...|Tue Feb 15 18:02:...|          1|\n",
      "|1200355745600069635|       GiveAwayHost|   false|         308830|          798|            7874|         40311|Fri Nov 29 10:08:...|Tue Feb 15 21:55:...|          1|\n",
      "|1156269110545793024|       ladyincrypto|   false|         353342|          726|            1546|         13953|Tue Jul 30 18:23:...|Tue Feb 15 06:52:...|          1|\n",
      "|           18927441|                IGN|    true|        8618524|         1372|           16341|        160711|Tue Jan 13 03:56:...|Tue Feb 15 16:01:...|          1|\n",
      "|          501558917|           TheJenus|   false|        1048839|         1019|            7316|          5945|Fri Feb 24 07:53:...|Tue Feb 15 23:02:...|          1|\n",
      "|            7157132|           GameSpot|    true|        4670967|          707|           21694|        155232|Fri Jun 29 17:54:...|Tue Feb 15 21:46:...|          1|\n",
      "|1409917553514848257|        PokemonGems|   false|          48683|          383|            6517|          1041|Tue Jun 29 16:52:...|Tue Feb 15 23:27:...|          1|\n",
      "|         4920946291|        sof1azara03|   false|         282622|         3404|           22789|         72950|Wed Feb 17 12:34:...|Tue Feb 15 22:52:...|          1|\n",
      "|1449414811436023812|      chitaglorya__|   false|         231770|          441|             296|         12526|Sat Oct 16 16:40:...|Tue Feb 15 10:17:...|          1|\n",
      "|           26257166|       SportsCenter|    true|       39519520|          732|            1984|        132561|Tue Mar 24 15:28:...|Tue Feb 15 21:38:...|          1|\n",
      "+-------------------+-------------------+--------+---------------+-------------+----------------+--------------+--------------------+--------------------+-----------+"
     ]
    }
   ],
   "source": [
    "res.show()"
   ]
  },
  {
   "cell_type": "code",
   "execution_count": null,
   "metadata": {},
   "outputs": [
    {
     "data": {
      "application/vnd.jupyter.widget-view+json": {
       "model_id": "581e807ce0c9471fb12421071f34d222",
       "version_major": 2,
       "version_minor": 0
      },
      "text/plain": [
       "VBox()"
      ]
     },
     "metadata": {},
     "output_type": "display_data"
    },
    {
     "data": {
      "application/vnd.jupyter.widget-view+json": {
       "model_id": "",
       "version_major": 2,
       "version_minor": 0
      },
      "text/plain": [
       "FloatProgress(value=0.0, bar_style='info', description='Progress:', layout=Layout(height='25px', width='50%'),…"
      ]
     },
     "metadata": {},
     "output_type": "display_data"
    },
    {
     "name": "stdout",
     "output_type": "stream",
     "text": [
      "16"
     ]
    }
   ],
   "source": [
    "res.count()"
   ]
  },
  {
   "cell_type": "code",
   "execution_count": null,
   "metadata": {},
   "outputs": [
    {
     "data": {
      "application/vnd.jupyter.widget-view+json": {
       "model_id": "70bc5ccb57c449f2a1cfac7923f5fa17",
       "version_major": 2,
       "version_minor": 0
      },
      "text/plain": [
       "VBox()"
      ]
     },
     "metadata": {},
     "output_type": "display_data"
    },
    {
     "data": {
      "application/vnd.jupyter.widget-view+json": {
       "model_id": "",
       "version_major": 2,
       "version_minor": 0
      },
      "text/plain": [
       "FloatProgress(value=0.0, bar_style='info', description='Progress:', layout=Layout(height='25px', width='50%'),…"
      ]
     },
     "metadata": {},
     "output_type": "display_data"
    },
    {
     "name": "stdout",
     "output_type": "stream",
     "text": [
      "--------------------user_filter--------------------"
     ]
    }
   ],
   "source": [
    "print(\"-\"*20 + \"user_filter\" + \"-\"*20)\n"
   ]
  },
  {
   "cell_type": "code",
   "execution_count": null,
   "metadata": {},
   "outputs": [],
   "source": []
  }
 ],
 "metadata": {
  "kernelspec": {
   "display_name": "PySpark",
   "language": "python",
   "name": "pysparkkernel"
  },
  "language_info": {
   "codemirror_mode": {
    "name": "python",
    "version": 3
   },
   "file_extension": ".py",
   "mimetype": "text/x-python",
   "name": "pyspark",
   "pygments_lexer": "python3"
  }
 },
 "nbformat": 4,
 "nbformat_minor": 4
}
