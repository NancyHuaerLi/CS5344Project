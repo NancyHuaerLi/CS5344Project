{
 "cells": [
  {
   "cell_type": "code",
   "execution_count": null,
   "metadata": {},
   "outputs": [
    {
     "data": {
      "application/vnd.jupyter.widget-view+json": {
       "model_id": "e622129f32e9466f97d60d0c03093d3a",
       "version_major": 2,
       "version_minor": 0
      },
      "text/plain": [
       "VBox()"
      ]
     },
     "metadata": {},
     "output_type": "display_data"
    },
    {
     "name": "stdout",
     "output_type": "stream",
     "text": [
      "Starting Spark application\n"
     ]
    },
    {
     "data": {
      "text/html": [
       "<table>\n",
       "<tbody><tr><th>ID</th><th>YARN Application ID</th><th>Kind</th><th>State</th><th>Spark UI</th><th>Driver log</th><th>User</th><th>Current session?</th></tr><tr><td>8</td><td>application_1681441215995_0009</td><td>pyspark</td><td>idle</td><td><a target=\"_blank\" href=\"http://ip-172-31-43-149.ap-southeast-1.compute.internal:20888/proxy/application_1681441215995_0009/\" class=\"emr-proxy-link j-2KE9CBKKZ5WM6 application_1681441215995_0009\" emr-resource=\"j-2KE9CBKKZ5WM6\n",
       "\" application-id=\"application_1681441215995_0009\">Link</a></td><td><a target=\"_blank\" href=\"http://ip-172-31-39-20.ap-southeast-1.compute.internal:8042/node/containerlogs/container_1681441215995_0009_01_000002/livy\">Link</a></td><td>None</td><td>✔</td></tr></tbody></table>"
      ],
      "text/plain": [
       "<IPython.core.display.HTML object>"
      ]
     },
     "metadata": {},
     "output_type": "display_data"
    },
    {
     "data": {
      "application/vnd.jupyter.widget-view+json": {
       "model_id": "",
       "version_major": 2,
       "version_minor": 0
      },
      "text/plain": [
       "FloatProgress(value=0.0, bar_style='info', description='Progress:', layout=Layout(height='25px', width='50%'),…"
      ]
     },
     "metadata": {},
     "output_type": "display_data"
    },
    {
     "name": "stdout",
     "output_type": "stream",
     "text": [
      "SparkSession available as 'spark'.\n"
     ]
    },
    {
     "data": {
      "application/vnd.jupyter.widget-view+json": {
       "model_id": "",
       "version_major": 2,
       "version_minor": 0
      },
      "text/plain": [
       "FloatProgress(value=0.0, bar_style='info', description='Progress:', layout=Layout(height='25px', width='50%'),…"
      ]
     },
     "metadata": {},
     "output_type": "display_data"
    }
   ],
   "source": [
    "from py4j.protocol import Py4JJavaError\n",
    "from pyspark import SparkConf, SparkContext\n",
    "import pyspark\n",
    "from pyspark.sql import functions,SparkSession, SQLContext\n",
    "from pyspark.sql.functions import explode, col, udf, concat_ws, from_json, lit, array, expr, size\n",
    "from pyspark.sql.functions import sum as _sum\n",
    "from pyspark.sql.types import *\n",
    "import json\n",
    "import os\n",
    "import gc\n",
    "from pyspark.sql.types import BooleanType\n",
    "# from pyspark.sql import SparkSession\n",
    "spark = SparkSession.builder.master(\"local[*]\").getOrCreate()"
   ]
  },
  {
   "cell_type": "code",
   "execution_count": null,
   "metadata": {},
   "outputs": [
    {
     "data": {
      "application/vnd.jupyter.widget-view+json": {
       "model_id": "9d95eadd84bc4579bd1a1569ae081245",
       "version_major": 2,
       "version_minor": 0
      },
      "text/plain": [
       "VBox()"
      ]
     },
     "metadata": {},
     "output_type": "display_data"
    },
    {
     "data": {
      "application/vnd.jupyter.widget-view+json": {
       "model_id": "",
       "version_major": 2,
       "version_minor": 0
      },
      "text/plain": [
       "FloatProgress(value=0.0, bar_style='info', description='Progress:', layout=Layout(height='25px', width='50%'),…"
      ]
     },
     "metadata": {},
     "output_type": "display_data"
    }
   ],
   "source": [
    "# user pair\n",
    "user_pair = spark.read.format('csv').options(header='False').load('s3://cs5344-twitter-project/input/user_pair').cache()\n"
   ]
  },
  {
   "cell_type": "code",
   "execution_count": null,
   "metadata": {},
   "outputs": [
    {
     "data": {
      "application/vnd.jupyter.widget-view+json": {
       "model_id": "a993083bbeff47b69e95d900d558d0c5",
       "version_major": 2,
       "version_minor": 0
      },
      "text/plain": [
       "VBox()"
      ]
     },
     "metadata": {},
     "output_type": "display_data"
    },
    {
     "data": {
      "application/vnd.jupyter.widget-view+json": {
       "model_id": "",
       "version_major": 2,
       "version_minor": 0
      },
      "text/plain": [
       "FloatProgress(value=0.0, bar_style='info', description='Progress:', layout=Layout(height='25px', width='50%'),…"
      ]
     },
     "metadata": {},
     "output_type": "display_data"
    }
   ],
   "source": [
    "user_pair_df = user_pair.select(col(\"_c1\").alias(\"user_id_str\"),\n",
    "                 col(\"_c2\").alias(\"cnt\"))"
   ]
  },
  {
   "cell_type": "code",
   "execution_count": null,
   "metadata": {},
   "outputs": [
    {
     "data": {
      "application/vnd.jupyter.widget-view+json": {
       "model_id": "41eab3c2bfac4306978487f447edaeba",
       "version_major": 2,
       "version_minor": 0
      },
      "text/plain": [
       "VBox()"
      ]
     },
     "metadata": {},
     "output_type": "display_data"
    },
    {
     "data": {
      "application/vnd.jupyter.widget-view+json": {
       "model_id": "",
       "version_major": 2,
       "version_minor": 0
      },
      "text/plain": [
       "FloatProgress(value=0.0, bar_style='info', description='Progress:', layout=Layout(height='25px', width='50%'),…"
      ]
     },
     "metadata": {},
     "output_type": "display_data"
    }
   ],
   "source": [
    "user_pair_df.createOrReplaceTempView(\"user_pair_df\")"
   ]
  },
  {
   "cell_type": "code",
   "execution_count": null,
   "metadata": {},
   "outputs": [
    {
     "data": {
      "application/vnd.jupyter.widget-view+json": {
       "model_id": "37850cd211254476bf84189c226e3803",
       "version_major": 2,
       "version_minor": 0
      },
      "text/plain": [
       "VBox()"
      ]
     },
     "metadata": {},
     "output_type": "display_data"
    },
    {
     "data": {
      "application/vnd.jupyter.widget-view+json": {
       "model_id": "",
       "version_major": 2,
       "version_minor": 0
      },
      "text/plain": [
       "FloatProgress(value=0.0, bar_style='info', description='Progress:', layout=Layout(height='25px', width='50%'),…"
      ]
     },
     "metadata": {},
     "output_type": "display_data"
    }
   ],
   "source": [
    "retweets_cnt = spark.sql(\"\"\"\n",
    "    select user_id_str, sum(cnt) as re_cnt\n",
    "    from user_pair_df\n",
    "    group by user_id_str\"\"\")\n",
    "retweets_cnt.createOrReplaceTempView(\"retweets_cnt\")"
   ]
  },
  {
   "cell_type": "code",
   "execution_count": null,
   "metadata": {},
   "outputs": [
    {
     "data": {
      "application/vnd.jupyter.widget-view+json": {
       "model_id": "0d4a0d99cedd4d24bb8dffb0b3c82698",
       "version_major": 2,
       "version_minor": 0
      },
      "text/plain": [
       "VBox()"
      ]
     },
     "metadata": {},
     "output_type": "display_data"
    },
    {
     "data": {
      "application/vnd.jupyter.widget-view+json": {
       "model_id": "",
       "version_major": 2,
       "version_minor": 0
      },
      "text/plain": [
       "FloatProgress(value=0.0, bar_style='info', description='Progress:', layout=Layout(height='25px', width='50%'),…"
      ]
     },
     "metadata": {},
     "output_type": "display_data"
    }
   ],
   "source": [
    "retweets_cnt_pokemon = spark.sql(\"\"\"\n",
    "select b.user_id_str, a.re_cnt\n",
    "from retweets_cnt a\n",
    "join pokemon b\n",
    "on a.user_id_str = b.user_id_str\n",
    "\"\"\")"
   ]
  },
  {
   "cell_type": "code",
   "execution_count": null,
   "metadata": {},
   "outputs": [
    {
     "data": {
      "application/vnd.jupyter.widget-view+json": {
       "model_id": "ea8c90cd8b8044af888ef322dc3ce5cc",
       "version_major": 2,
       "version_minor": 0
      },
      "text/plain": [
       "VBox()"
      ]
     },
     "metadata": {},
     "output_type": "display_data"
    },
    {
     "data": {
      "application/vnd.jupyter.widget-view+json": {
       "model_id": "",
       "version_major": 2,
       "version_minor": 0
      },
      "text/plain": [
       "FloatProgress(value=0.0, bar_style='info', description='Progress:', layout=Layout(height='25px', width='50%'),…"
      ]
     },
     "metadata": {},
     "output_type": "display_data"
    }
   ],
   "source": [
    "\n",
    "output_bucket = 's3://cs5344-twitter-project/'\n",
    "# pokemon_inf.toDF().write.mode('overwrite').csv(output_bucket+'pokemon_inf_24_aws') \n",
    "retweets_cnt_pokemon.write.format(\"csv\").save(output_bucket+'user_ana/retweets_cnt_pokemon') "
   ]
  },
  {
   "cell_type": "code",
   "execution_count": null,
   "metadata": {},
   "outputs": [
    {
     "data": {
      "application/vnd.jupyter.widget-view+json": {
       "model_id": "8df7a06034474e6d8c4d975c91fafed3",
       "version_major": 2,
       "version_minor": 0
      },
      "text/plain": [
       "VBox()"
      ]
     },
     "metadata": {},
     "output_type": "display_data"
    },
    {
     "data": {
      "application/vnd.jupyter.widget-view+json": {
       "model_id": "",
       "version_major": 2,
       "version_minor": 0
      },
      "text/plain": [
       "FloatProgress(value=0.0, bar_style='info', description='Progress:', layout=Layout(height='25px', width='50%'),…"
      ]
     },
     "metadata": {},
     "output_type": "display_data"
    },
    {
     "name": "stdout",
     "output_type": "stream",
     "text": [
      "+-------------------+-------+\n",
      "|        user_id_str| re_cnt|\n",
      "+-------------------+-------+\n",
      "| 987228577522376704| 1921.0|\n",
      "|1441557548427927554| 1502.0|\n",
      "|1441557548427927554| 1502.0|\n",
      "| 909119962572242944| 2163.0|\n",
      "|1235177017441529861|  896.0|\n",
      "|         1149178590| 1302.0|\n",
      "|1483999454244274178|  684.0|\n",
      "|         2786677338| 5246.0|\n",
      "|1470439914953011204| 1935.0|\n",
      "|            5921162|  686.0|\n",
      "|           19426551|  696.0|\n",
      "|1034478294677250048|  855.0|\n",
      "|            5162861| 2438.0|\n",
      "|          130447415|13416.0|\n",
      "|           34429906|  672.0|\n",
      "|           96879107|  882.0|\n",
      "|         2597010860| 1378.0|\n",
      "|1240603506177748992|  869.0|\n",
      "| 811765148595535872| 3501.0|\n",
      "| 839280506931924992|  882.0|\n",
      "|         4644145430|  667.0|\n",
      "|         3095001124| 1839.0|\n",
      "|          297169759| 1182.0|\n",
      "|1302006102364745728| 1290.0|\n",
      "|          425871040| 1072.0|\n",
      "|             890891| 1212.0|\n",
      "|1200355745600069635|  888.0|\n",
      "|           19631395|  951.0|\n",
      "|          307902310| 3293.0|\n",
      "|          347831597| 1058.0|\n",
      "|1428048861520547842|  757.0|\n",
      "|1349579108187992071| 1490.0|\n",
      "|1072404907230060544|  841.0|\n",
      "|1432825944259973123| 1165.0|\n",
      "|1156269110545793024| 1140.0|\n",
      "|           18927441|  819.0|\n",
      "|          501558917| 1655.0|\n",
      "|1365337673074933765| 1243.0|\n",
      "|            7157132|  995.0|\n",
      "|1282594694095134720|  674.0|\n",
      "|           29758446| 2130.0|\n",
      "|1451208655752282116| 1155.0|\n",
      "|          323091128| 2289.0|\n",
      "|1409917553514848257| 1179.0|\n",
      "|         4920946291| 1352.0|\n",
      "|1461279353518845952|  740.0|\n",
      "|         1328954190|  891.0|\n",
      "|          252087695| 1664.0|\n",
      "|1449414811436023812|  924.0|\n",
      "|           26257166|  894.0|\n",
      "+-------------------+-------+"
     ]
    }
   ],
   "source": [
    "retweets_cnt_pokemon.show(50)"
   ]
  },
  {
   "cell_type": "code",
   "execution_count": null,
   "metadata": {},
   "outputs": [
    {
     "data": {
      "application/vnd.jupyter.widget-view+json": {
       "model_id": "bdeff5894c0a47d99532ee17bf995a1f",
       "version_major": 2,
       "version_minor": 0
      },
      "text/plain": [
       "VBox()"
      ]
     },
     "metadata": {},
     "output_type": "display_data"
    },
    {
     "data": {
      "application/vnd.jupyter.widget-view+json": {
       "model_id": "",
       "version_major": 2,
       "version_minor": 0
      },
      "text/plain": [
       "FloatProgress(value=0.0, bar_style='info', description='Progress:', layout=Layout(height='25px', width='50%'),…"
      ]
     },
     "metadata": {},
     "output_type": "display_data"
    }
   ],
   "source": [
    "input_bucket = 's3://cs5344-twitter-project'\n",
    "test_pokemon_damping_sdf = spark.read.format('csv').options(header='False').load('s3://cs5344-twitter-project/test_pokemon_damping').cache()\n",
    "pokemon = test_pokemon_damping_sdf.select(col(\"_c0\").alias(\"user_id_str\"))\n",
    "pokemon.createOrReplaceTempView(\"pokemon\")"
   ]
  },
  {
   "cell_type": "code",
   "execution_count": null,
   "metadata": {},
   "outputs": [
    {
     "data": {
      "application/vnd.jupyter.widget-view+json": {
       "model_id": "6f93d1506a4b4b76aa1d3efe0a9e6c7f",
       "version_major": 2,
       "version_minor": 0
      },
      "text/plain": [
       "VBox()"
      ]
     },
     "metadata": {},
     "output_type": "display_data"
    },
    {
     "data": {
      "application/vnd.jupyter.widget-view+json": {
       "model_id": "",
       "version_major": 2,
       "version_minor": 0
      },
      "text/plain": [
       "FloatProgress(value=0.0, bar_style='info', description='Progress:', layout=Layout(height='25px', width='50%'),…"
      ]
     },
     "metadata": {},
     "output_type": "display_data"
    }
   ],
   "source": [
    "# retweets\n",
    "input_bucket = 's3://cs5344-twitter-project'\n",
    "conn_sdf = spark.read.format('json').options(header='True').load('s3://cs5344-twitter-project/input/retweeted_tweet_intermediate_full').cache()\n",
    "conn_sdf.createOrReplaceTempView(\"conn_sdf\")"
   ]
  },
  {
   "cell_type": "code",
   "execution_count": null,
   "metadata": {},
   "outputs": [
    {
     "data": {
      "application/vnd.jupyter.widget-view+json": {
       "model_id": "7c4231f2391649578de037914f059718",
       "version_major": 2,
       "version_minor": 0
      },
      "text/plain": [
       "VBox()"
      ]
     },
     "metadata": {},
     "output_type": "display_data"
    },
    {
     "data": {
      "application/vnd.jupyter.widget-view+json": {
       "model_id": "",
       "version_major": 2,
       "version_minor": 0
      },
      "text/plain": [
       "FloatProgress(value=0.0, bar_style='info', description='Progress:', layout=Layout(height='25px', width='50%'),…"
      ]
     },
     "metadata": {},
     "output_type": "display_data"
    }
   ],
   "source": [
    "retweets_cnt = spark.sql(\"\"\"\n",
    "    select user_id_str, count(1) as cnt\n",
    "    from conn_sdf\n",
    "    group by user_id_str\"\"\")\n",
    "retweets_cnt.createOrReplaceTempView(\"retweets_cnt\")"
   ]
  },
  {
   "cell_type": "code",
   "execution_count": null,
   "metadata": {},
   "outputs": [
    {
     "data": {
      "application/vnd.jupyter.widget-view+json": {
       "model_id": "9d49bd14b02e46a98a66447541f1fe7d",
       "version_major": 2,
       "version_minor": 0
      },
      "text/plain": [
       "VBox()"
      ]
     },
     "metadata": {},
     "output_type": "display_data"
    },
    {
     "data": {
      "application/vnd.jupyter.widget-view+json": {
       "model_id": "",
       "version_major": 2,
       "version_minor": 0
      },
      "text/plain": [
       "FloatProgress(value=0.0, bar_style='info', description='Progress:', layout=Layout(height='25px', width='50%'),…"
      ]
     },
     "metadata": {},
     "output_type": "display_data"
    }
   ],
   "source": [
    "retweets_cnt_pokemon = spark.sql(\"\"\"select b.user_id_str, a.cnt from retweets_cnt a join pokemon b on a.user_id_str = b.user_id_str\"\"\")"
   ]
  },
  {
   "cell_type": "code",
   "execution_count": null,
   "metadata": {},
   "outputs": [
    {
     "data": {
      "application/vnd.jupyter.widget-view+json": {
       "model_id": "db80878233a84ec689e1f3309f82a0cd",
       "version_major": 2,
       "version_minor": 0
      },
      "text/plain": [
       "VBox()"
      ]
     },
     "metadata": {},
     "output_type": "display_data"
    },
    {
     "data": {
      "application/vnd.jupyter.widget-view+json": {
       "model_id": "",
       "version_major": 2,
       "version_minor": 0
      },
      "text/plain": [
       "FloatProgress(value=0.0, bar_style='info', description='Progress:', layout=Layout(height='25px', width='50%'),…"
      ]
     },
     "metadata": {},
     "output_type": "display_data"
    },
    {
     "name": "stdout",
     "output_type": "stream",
     "text": [
      "+-------------------+---+\n",
      "|user_id_str        |cnt|\n",
      "+-------------------+---+\n",
      "|987228577522376704 |5  |\n",
      "|1441557548427927554|1  |\n",
      "|1441557548427927554|1  |\n",
      "|909119962572242944 |1  |\n",
      "|2786677338         |6  |\n",
      "|5921162            |9  |\n",
      "|19426551           |7  |\n",
      "|5162861            |13 |\n",
      "|2597010860         |3  |\n",
      "|96879107           |1  |\n",
      "|839280506931924992 |2  |\n",
      "|3095001124         |3  |\n",
      "|1302006102364745728|13 |\n",
      "|425871040          |1  |\n",
      "|1200355745600069635|3  |\n",
      "|890891             |1  |\n",
      "|307902310          |3  |\n",
      "|19631395           |3  |\n",
      "|347831597          |1  |\n",
      "|1428048861520547842|1  |\n",
      "|1156269110545793024|1  |\n",
      "|501558917          |1  |\n",
      "|1365337673074933765|2  |\n",
      "|1282594694095134720|3  |\n",
      "|1328954190         |19 |\n",
      "|1409917553514848257|4  |\n",
      "|4920946291         |4  |\n",
      "|26257166           |3  |\n",
      "+-------------------+---+"
     ]
    }
   ],
   "source": [
    "retweets_cnt_pokemon.show(50, truncate= False)"
   ]
  },
  {
   "cell_type": "code",
   "execution_count": null,
   "metadata": {},
   "outputs": [
    {
     "data": {
      "application/vnd.jupyter.widget-view+json": {
       "model_id": "d83201e19dd04aa2bae11dbd556268e8",
       "version_major": 2,
       "version_minor": 0
      },
      "text/plain": [
       "VBox()"
      ]
     },
     "metadata": {},
     "output_type": "display_data"
    },
    {
     "data": {
      "application/vnd.jupyter.widget-view+json": {
       "model_id": "",
       "version_major": 2,
       "version_minor": 0
      },
      "text/plain": [
       "FloatProgress(value=0.0, bar_style='info', description='Progress:', layout=Layout(height='25px', width='50%'),…"
      ]
     },
     "metadata": {},
     "output_type": "display_data"
    }
   ],
   "source": [
    "original_sdf = spark.read.format('json').options(header='True').load('s3://cs5344-twitter-project/input/original_tweet_intermediate_full').cache()\n",
    "original_sdf.createOrReplaceTempView(\"original_sdf\")"
   ]
  },
  {
   "cell_type": "code",
   "execution_count": null,
   "metadata": {},
   "outputs": [
    {
     "data": {
      "application/vnd.jupyter.widget-view+json": {
       "model_id": "a6b473a651ea4373ad2980d18b6e7f8d",
       "version_major": 2,
       "version_minor": 0
      },
      "text/plain": [
       "VBox()"
      ]
     },
     "metadata": {},
     "output_type": "display_data"
    },
    {
     "data": {
      "application/vnd.jupyter.widget-view+json": {
       "model_id": "",
       "version_major": 2,
       "version_minor": 0
      },
      "text/plain": [
       "FloatProgress(value=0.0, bar_style='info', description='Progress:', layout=Layout(height='25px', width='50%'),…"
      ]
     },
     "metadata": {},
     "output_type": "display_data"
    },
    {
     "name": "stdout",
     "output_type": "stream",
     "text": [
      "['connected_user_single', 'created_at', 'id_str', 'in_reply_to_status_id_str', 'in_reply_to_user_id_str', 'quoted_original_tweet_id_str', 'quoted_original_user_id_str', 'quoted_time', 'retweeted_original_tweet_id_str', 'retweeted_original_user_id_str', 'retweeted_time', 'text', 'text_hashtag', 'user_id_str']"
     ]
    }
   ],
   "source": [
    "original_sdf.columns"
   ]
  },
  {
   "cell_type": "code",
   "execution_count": null,
   "metadata": {},
   "outputs": [
    {
     "data": {
      "application/vnd.jupyter.widget-view+json": {
       "model_id": "3e6fbaa8e176421ba231670ef5b7a042",
       "version_major": 2,
       "version_minor": 0
      },
      "text/plain": [
       "VBox()"
      ]
     },
     "metadata": {},
     "output_type": "display_data"
    },
    {
     "data": {
      "application/vnd.jupyter.widget-view+json": {
       "model_id": "",
       "version_major": 2,
       "version_minor": 0
      },
      "text/plain": [
       "FloatProgress(value=0.0, bar_style='info', description='Progress:', layout=Layout(height='25px', width='50%'),…"
      ]
     },
     "metadata": {},
     "output_type": "display_data"
    }
   ],
   "source": [
    "retweets_cnt_ori = spark.sql(\"\"\"\n",
    "    select user_id_str, count(1) as ori_cnt\n",
    "    from original_sdf\n",
    "    group by user_id_str\"\"\")\n",
    "retweets_cnt_ori.createOrReplaceTempView(\"retweets_cnt_ori\")"
   ]
  },
  {
   "cell_type": "code",
   "execution_count": null,
   "metadata": {},
   "outputs": [
    {
     "data": {
      "application/vnd.jupyter.widget-view+json": {
       "model_id": "b53e11d437b54389a0481090f0b00805",
       "version_major": 2,
       "version_minor": 0
      },
      "text/plain": [
       "VBox()"
      ]
     },
     "metadata": {},
     "output_type": "display_data"
    },
    {
     "data": {
      "application/vnd.jupyter.widget-view+json": {
       "model_id": "",
       "version_major": 2,
       "version_minor": 0
      },
      "text/plain": [
       "FloatProgress(value=0.0, bar_style='info', description='Progress:', layout=Layout(height='25px', width='50%'),…"
      ]
     },
     "metadata": {},
     "output_type": "display_data"
    },
    {
     "name": "stderr",
     "output_type": "stream",
     "text": [
      "An error was encountered:\n",
      "Column 'a.cnt' does not exist. Did you mean one of the following? [a.text, a.id_str, a.created_at, a.quoted_time, a.user_id_str, a.text_hashtag, b.user_id_str, a.retweeted_time, a.connected_user_single, a.in_reply_to_user_id_str, a.in_reply_to_status_id_str, a.quoted_original_user_id_str, a.quoted_original_tweet_id_str, a.retweeted_original_user_id_str, a.retweeted_original_tweet_id_str]; line 2 pos 22;\n",
      "'Project [user_id_str#38, 'a.cnt]\n",
      "+- Join Inner, (user_id_str#1359 = user_id_str#38)\n",
      "   :- SubqueryAlias a\n",
      "   :  +- SubqueryAlias conn_sdf\n",
      "   :     +- View (`conn_sdf`, [connected_user_single#1346,created_at#1347,id_str#1348,in_reply_to_status_id_str#1349,in_reply_to_user_id_str#1350,quoted_original_tweet_id_str#1351,quoted_original_user_id_str#1352,quoted_time#1353,retweeted_original_tweet_id_str#1354,retweeted_original_user_id_str#1355,retweeted_time#1356,text#1357,text_hashtag#1358,user_id_str#1359])\n",
      "   :        +- Relation [connected_user_single#1346,created_at#1347,id_str#1348,in_reply_to_status_id_str#1349,in_reply_to_user_id_str#1350,quoted_original_tweet_id_str#1351,quoted_original_user_id_str#1352,quoted_time#1353,retweeted_original_tweet_id_str#1354,retweeted_original_user_id_str#1355,retweeted_time#1356,text#1357,text_hashtag#1358,user_id_str#1359] json\n",
      "   +- SubqueryAlias b\n",
      "      +- SubqueryAlias pokemon\n",
      "         +- View (`pokemon`, [user_id_str#38])\n",
      "            +- Project [_c0#17 AS user_id_str#38]\n",
      "               +- Relation [_c0#17,_c1#18,_c2#19] csv\n",
      "\n",
      "Traceback (most recent call last):\n",
      "  File \"/mnt1/yarn/usercache/livy/appcache/application_1680916650044_0011/container_1680916650044_0011_01_000001/pyspark.zip/pyspark/sql/session.py\", line 1034, in sql\n",
      "    return DataFrame(self._jsparkSession.sql(sqlQuery), self)\n",
      "  File \"/mnt1/yarn/usercache/livy/appcache/application_1680916650044_0011/container_1680916650044_0011_01_000001/py4j-0.10.9.5-src.zip/py4j/java_gateway.py\", line 1322, in __call__\n",
      "    answer, self.gateway_client, self.target_id, self.name)\n",
      "  File \"/mnt1/yarn/usercache/livy/appcache/application_1680916650044_0011/container_1680916650044_0011_01_000001/pyspark.zip/pyspark/sql/utils.py\", line 196, in deco\n",
      "    raise converted from None\n",
      "pyspark.sql.utils.AnalysisException: Column 'a.cnt' does not exist. Did you mean one of the following? [a.text, a.id_str, a.created_at, a.quoted_time, a.user_id_str, a.text_hashtag, b.user_id_str, a.retweeted_time, a.connected_user_single, a.in_reply_to_user_id_str, a.in_reply_to_status_id_str, a.quoted_original_user_id_str, a.quoted_original_tweet_id_str, a.retweeted_original_user_id_str, a.retweeted_original_tweet_id_str]; line 2 pos 22;\n",
      "'Project [user_id_str#38, 'a.cnt]\n",
      "+- Join Inner, (user_id_str#1359 = user_id_str#38)\n",
      "   :- SubqueryAlias a\n",
      "   :  +- SubqueryAlias conn_sdf\n",
      "   :     +- View (`conn_sdf`, [connected_user_single#1346,created_at#1347,id_str#1348,in_reply_to_status_id_str#1349,in_reply_to_user_id_str#1350,quoted_original_tweet_id_str#1351,quoted_original_user_id_str#1352,quoted_time#1353,retweeted_original_tweet_id_str#1354,retweeted_original_user_id_str#1355,retweeted_time#1356,text#1357,text_hashtag#1358,user_id_str#1359])\n",
      "   :        +- Relation [connected_user_single#1346,created_at#1347,id_str#1348,in_reply_to_status_id_str#1349,in_reply_to_user_id_str#1350,quoted_original_tweet_id_str#1351,quoted_original_user_id_str#1352,quoted_time#1353,retweeted_original_tweet_id_str#1354,retweeted_original_user_id_str#1355,retweeted_time#1356,text#1357,text_hashtag#1358,user_id_str#1359] json\n",
      "   +- SubqueryAlias b\n",
      "      +- SubqueryAlias pokemon\n",
      "         +- View (`pokemon`, [user_id_str#38])\n",
      "            +- Project [_c0#17 AS user_id_str#38]\n",
      "               +- Relation [_c0#17,_c1#18,_c2#19] csv\n",
      "\n",
      "\n"
     ]
    }
   ],
   "source": []
  },
  {
   "cell_type": "code",
   "execution_count": null,
   "metadata": {},
   "outputs": [],
   "source": []
  },
  {
   "cell_type": "code",
   "execution_count": null,
   "metadata": {},
   "outputs": [
    {
     "data": {
      "application/vnd.jupyter.widget-view+json": {
       "model_id": "6b6ae380c64a49a19f174227e00153d3",
       "version_major": 2,
       "version_minor": 0
      },
      "text/plain": [
       "VBox()"
      ]
     },
     "metadata": {},
     "output_type": "display_data"
    },
    {
     "data": {
      "application/vnd.jupyter.widget-view+json": {
       "model_id": "",
       "version_major": 2,
       "version_minor": 0
      },
      "text/plain": [
       "FloatProgress(value=0.0, bar_style='info', description='Progress:', layout=Layout(height='25px', width='50%'),…"
      ]
     },
     "metadata": {},
     "output_type": "display_data"
    }
   ],
   "source": [
    "retweets_cnt_pokemon.createOrReplaceTempView(\"retweets_cnt_pokemon\")"
   ]
  },
  {
   "cell_type": "code",
   "execution_count": null,
   "metadata": {},
   "outputs": [
    {
     "data": {
      "application/vnd.jupyter.widget-view+json": {
       "model_id": "37dc3a3e5e44456d8949035b26bae0c8",
       "version_major": 2,
       "version_minor": 0
      },
      "text/plain": [
       "VBox()"
      ]
     },
     "metadata": {},
     "output_type": "display_data"
    },
    {
     "data": {
      "application/vnd.jupyter.widget-view+json": {
       "model_id": "",
       "version_major": 2,
       "version_minor": 0
      },
      "text/plain": [
       "FloatProgress(value=0.0, bar_style='info', description='Progress:', layout=Layout(height='25px', width='50%'),…"
      ]
     },
     "metadata": {},
     "output_type": "display_data"
    },
    {
     "name": "stdout",
     "output_type": "stream",
     "text": [
      "+-------------------+---+\n",
      "|user_id_str        |cnt|\n",
      "+-------------------+---+\n",
      "|987228577522376704 |5  |\n",
      "|1441557548427927554|1  |\n",
      "|1441557548427927554|1  |\n",
      "|909119962572242944 |1  |\n",
      "|2786677338         |6  |\n",
      "|5921162            |9  |\n",
      "|19426551           |7  |\n",
      "|5162861            |13 |\n",
      "|2597010860         |3  |\n",
      "|96879107           |1  |\n",
      "|839280506931924992 |2  |\n",
      "|3095001124         |3  |\n",
      "|1302006102364745728|13 |\n",
      "|425871040          |1  |\n",
      "|1200355745600069635|3  |\n",
      "|890891             |1  |\n",
      "|19631395           |3  |\n",
      "|307902310          |3  |\n",
      "|347831597          |1  |\n",
      "|1428048861520547842|1  |\n",
      "|1156269110545793024|1  |\n",
      "|501558917          |1  |\n",
      "|1365337673074933765|2  |\n",
      "|1282594694095134720|3  |\n",
      "|1328954190         |19 |\n",
      "|1409917553514848257|4  |\n",
      "|4920946291         |4  |\n",
      "|26257166           |3  |\n",
      "+-------------------+---+"
     ]
    }
   ],
   "source": [
    "retweets_cnt_pokemon.show(50,  truncate= False)"
   ]
  },
  {
   "cell_type": "code",
   "execution_count": null,
   "metadata": {},
   "outputs": [
    {
     "data": {
      "application/vnd.jupyter.widget-view+json": {
       "model_id": "360fa6b89b3c4cd8a09d74b9b65090c1",
       "version_major": 2,
       "version_minor": 0
      },
      "text/plain": [
       "VBox()"
      ]
     },
     "metadata": {},
     "output_type": "display_data"
    },
    {
     "data": {
      "application/vnd.jupyter.widget-view+json": {
       "model_id": "",
       "version_major": 2,
       "version_minor": 0
      },
      "text/plain": [
       "FloatProgress(value=0.0, bar_style='info', description='Progress:', layout=Layout(height='25px', width='50%'),…"
      ]
     },
     "metadata": {},
     "output_type": "display_data"
    }
   ],
   "source": [
    "# output_bucket = 's3://cs5344-twitter-project/'\n",
    "# # pokemon_inf.toDF().write.mode('overwrite').csv(output_bucket+'pokemon_inf_24_aws') \n",
    "# pokemon_inf.write.format(\"csv\").save(output_bucket+'pokemon_inf_24_aws') "
   ]
  },
  {
   "cell_type": "code",
   "execution_count": null,
   "metadata": {},
   "outputs": [
    {
     "data": {
      "application/vnd.jupyter.widget-view+json": {
       "model_id": "79eb9ed70f364f20928daa3058fd3942",
       "version_major": 2,
       "version_minor": 0
      },
      "text/plain": [
       "VBox()"
      ]
     },
     "metadata": {},
     "output_type": "display_data"
    },
    {
     "data": {
      "application/vnd.jupyter.widget-view+json": {
       "model_id": "",
       "version_major": 2,
       "version_minor": 0
      },
      "text/plain": [
       "FloatProgress(value=0.0, bar_style='info', description='Progress:', layout=Layout(height='25px', width='50%'),…"
      ]
     },
     "metadata": {},
     "output_type": "display_data"
    }
   ],
   "source": [
    "retweets_cnt_pokemon_both = spark.sql(\"\"\"\n",
    "select b.user_id_str, a.cnt, b.ori_cnt\n",
    "from retweets_cnt_pokemon a\n",
    "join retweets_cnt_ori b\n",
    "on a.user_id_str = b.user_id_str\n",
    "\"\"\")\n"
   ]
  },
  {
   "cell_type": "code",
   "execution_count": null,
   "metadata": {},
   "outputs": [
    {
     "data": {
      "application/vnd.jupyter.widget-view+json": {
       "model_id": "c9aa77b3fa7245c68bb749c4799bc4fd",
       "version_major": 2,
       "version_minor": 0
      },
      "text/plain": [
       "VBox()"
      ]
     },
     "metadata": {},
     "output_type": "display_data"
    },
    {
     "data": {
      "application/vnd.jupyter.widget-view+json": {
       "model_id": "",
       "version_major": 2,
       "version_minor": 0
      },
      "text/plain": [
       "FloatProgress(value=0.0, bar_style='info', description='Progress:', layout=Layout(height='25px', width='50%'),…"
      ]
     },
     "metadata": {},
     "output_type": "display_data"
    },
    {
     "name": "stdout",
     "output_type": "stream",
     "text": [
      "+-------------------+---+-------+\n",
      "|user_id_str        |cnt|ori_cnt|\n",
      "+-------------------+---+-------+\n",
      "|987228577522376704 |5  |87     |\n",
      "|1441557548427927554|1  |1      |\n",
      "|1441557548427927554|1  |1      |\n",
      "|909119962572242944 |1  |263    |\n",
      "|2786677338         |6  |170    |\n",
      "|5921162            |9  |138    |\n",
      "|19426551           |7  |165    |\n",
      "|5162861            |13 |118    |\n",
      "|96879107           |1  |79     |\n",
      "|2597010860         |3  |17     |\n",
      "|839280506931924992 |2  |3      |\n",
      "|3095001124         |3  |37     |\n",
      "|1302006102364745728|13 |3      |\n",
      "|425871040          |1  |7      |\n",
      "|1200355745600069635|3  |16     |\n",
      "|890891             |1  |205    |\n",
      "|19631395           |3  |100    |\n",
      "|307902310          |3  |198    |\n",
      "|347831597          |1  |16     |\n",
      "|1428048861520547842|1  |61     |\n",
      "|1156269110545793024|1  |27     |\n",
      "|501558917          |1  |52     |\n",
      "|1365337673074933765|2  |4      |\n",
      "|1282594694095134720|3  |71     |\n",
      "|1328954190         |19 |23     |\n",
      "|1409917553514848257|4  |5      |\n",
      "|4920946291         |4  |32     |\n",
      "|26257166           |3  |162    |\n",
      "+-------------------+---+-------+"
     ]
    }
   ],
   "source": [
    "retweets_cnt_pokemon_both.show(50,  truncate= False)"
   ]
  },
  {
   "cell_type": "code",
   "execution_count": null,
   "metadata": {},
   "outputs": [],
   "source": []
  }
 ],
 "metadata": {
  "kernelspec": {
   "display_name": "PySpark",
   "language": "python",
   "name": "pysparkkernel"
  },
  "language_info": {
   "codemirror_mode": {
    "name": "python",
    "version": 3
   },
   "file_extension": ".py",
   "mimetype": "text/x-python",
   "name": "pyspark",
   "pygments_lexer": "python3"
  }
 },
 "nbformat": 4,
 "nbformat_minor": 4
}
