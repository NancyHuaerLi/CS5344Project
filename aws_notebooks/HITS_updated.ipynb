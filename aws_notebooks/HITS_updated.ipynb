{
 "cells": [
  {
   "cell_type": "code",
   "execution_count": 10,
   "id": "93599774-ac5c-45dc-96ab-4c0a8d9b3359",
   "metadata": {
    "execution": {
     "iopub.execute_input": "2023-04-04T14:44:48.636216Z",
     "iopub.status.busy": "2023-04-04T14:44:48.635784Z",
     "iopub.status.idle": "2023-04-04T14:44:48.708240Z",
     "shell.execute_reply": "2023-04-04T14:44:48.707369Z",
     "shell.execute_reply.started": "2023-04-04T14:44:48.636176Z"
    },
    "tags": []
   },
   "outputs": [
    {
     "data": {
      "application/vnd.jupyter.widget-view+json": {
       "model_id": "af7675531e0142b9b7e2183aa348285e",
       "version_major": 2,
       "version_minor": 0
      },
      "text/plain": [
       "VBox()"
      ]
     },
     "metadata": {},
     "output_type": "display_data"
    },
    {
     "data": {
      "application/vnd.jupyter.widget-view+json": {
       "model_id": "",
       "version_major": 2,
       "version_minor": 0
      },
      "text/plain": [
       "FloatProgress(value=0.0, bar_style='info', description='Progress:', layout=Layout(height='25px', width='50%'),…"
      ]
     },
     "metadata": {},
     "output_type": "display_data"
    }
   ],
   "source": [
    "from pyspark.sql import functions as F"
   ]
  },
  {
   "cell_type": "code",
   "execution_count": 11,
   "id": "685187a0-5269-4020-af62-ec7abcf0c90a",
   "metadata": {
    "execution": {
     "iopub.execute_input": "2023-04-04T14:44:49.305547Z",
     "iopub.status.busy": "2023-04-04T14:44:49.305135Z",
     "iopub.status.idle": "2023-04-04T14:44:49.379879Z",
     "shell.execute_reply": "2023-04-04T14:44:49.377903Z",
     "shell.execute_reply.started": "2023-04-04T14:44:49.305504Z"
    },
    "tags": []
   },
   "outputs": [
    {
     "data": {
      "application/vnd.jupyter.widget-view+json": {
       "model_id": "9854440de2164255b4dc7f2c13c0da38",
       "version_major": 2,
       "version_minor": 0
      },
      "text/plain": [
       "VBox()"
      ]
     },
     "metadata": {},
     "output_type": "display_data"
    },
    {
     "data": {
      "application/vnd.jupyter.widget-view+json": {
       "model_id": "",
       "version_major": 2,
       "version_minor": 0
      },
      "text/plain": [
       "FloatProgress(value=0.0, bar_style='info', description='Progress:', layout=Layout(height='25px', width='50%'),…"
      ]
     },
     "metadata": {},
     "output_type": "display_data"
    },
    {
     "name": "stdout",
     "output_type": "stream",
     "text": [
      "3.7.16 (default, Dec 15 2022, 23:24:54) \n",
      "[GCC 7.3.1 20180712 (Red Hat 7.3.1-15)]"
     ]
    }
   ],
   "source": [
    "from py4j.protocol import Py4JJavaError\n",
    "from pyspark import SparkConf, SparkContext\n",
    "from pyspark.sql import SparkSession, SQLContext\n",
    "from pyspark.sql.functions import explode, col, udf, concat_ws, from_json, lit, array, expr, size\n",
    "from pyspark.sql.functions import sum as _sum\n",
    "from pyspark.sql.types import *\n",
    "import json\n",
    "import os\n",
    "from pyspark.sql.types import BooleanType\n",
    "import sys\n",
    "import gc\n",
    "print(sys.version)\n",
    "# conf = SparkConf()\n",
    "# sc = SparkContext(conf=conf)\n",
    "# sc.setLogLevel(\"ERROR\")\n",
    "\n",
    "# spark = SparkSession.builder.appName(\"twitter_applications\")\\\n",
    "#     .config(\"spark.sql.files.ignoreCorruptFiles\", \"true\")\\\n",
    "#     .config('spark.executor.memory', '45G')\\\n",
    "#     .config('spark.driver.memory', '80G')\\\n",
    "#     .config('spark.driver.maxResultSize', '10G')\\\n",
    "#     .getOrCreate()"
   ]
  },
  {
   "cell_type": "code",
   "execution_count": 12,
   "id": "64f1a709-d1e5-4132-acff-b1dec289badb",
   "metadata": {
    "execution": {
     "iopub.execute_input": "2023-04-04T14:44:49.772673Z",
     "iopub.status.busy": "2023-04-04T14:44:49.771961Z",
     "iopub.status.idle": "2023-04-04T14:45:07.142016Z",
     "shell.execute_reply": "2023-04-04T14:45:07.141326Z",
     "shell.execute_reply.started": "2023-04-04T14:44:49.772633Z"
    },
    "tags": []
   },
   "outputs": [
    {
     "data": {
      "application/vnd.jupyter.widget-view+json": {
       "model_id": "ce035286fcb940f5b794665d984d0cd9",
       "version_major": 2,
       "version_minor": 0
      },
      "text/plain": [
       "VBox()"
      ]
     },
     "metadata": {},
     "output_type": "display_data"
    },
    {
     "data": {
      "application/vnd.jupyter.widget-view+json": {
       "model_id": "",
       "version_major": 2,
       "version_minor": 0
      },
      "text/plain": [
       "FloatProgress(value=0.0, bar_style='info', description='Progress:', layout=Layout(height='25px', width='50%'),…"
      ]
     },
     "metadata": {},
     "output_type": "display_data"
    }
   ],
   "source": [
    "'''\n",
    "    Step 3:\n",
    "    Implement basic PageRank as described in \n",
    "    http://www.diva-portal.org/smash/get/diva2:1104337/FULLTEXT01.pdf Section 3.4.1\n",
    "'''\n",
    "input_bucket = 's3://cs5344-twitter-project/input/'\n",
    "raw_df = spark.read \\\n",
    "     .json(input_bucket+\"retweeted_tweet_intermediate_full/*.json\")"
   ]
  },
  {
   "cell_type": "code",
   "execution_count": 13,
   "id": "d9c5fcc2-c51d-4aeb-9eeb-577126304e5c",
   "metadata": {
    "execution": {
     "iopub.execute_input": "2023-04-04T14:45:07.143743Z",
     "iopub.status.busy": "2023-04-04T14:45:07.143206Z",
     "iopub.status.idle": "2023-04-04T14:45:08.417814Z",
     "shell.execute_reply": "2023-04-04T14:45:08.417102Z",
     "shell.execute_reply.started": "2023-04-04T14:45:07.143712Z"
    },
    "tags": []
   },
   "outputs": [
    {
     "data": {
      "application/vnd.jupyter.widget-view+json": {
       "model_id": "2b7aaa3cfc7740368e8c4f368fc9b613",
       "version_major": 2,
       "version_minor": 0
      },
      "text/plain": [
       "VBox()"
      ]
     },
     "metadata": {},
     "output_type": "display_data"
    },
    {
     "data": {
      "application/vnd.jupyter.widget-view+json": {
       "model_id": "",
       "version_major": 2,
       "version_minor": 0
      },
      "text/plain": [
       "FloatProgress(value=0.0, bar_style='info', description='Progress:', layout=Layout(height='25px', width='50%'),…"
      ]
     },
     "metadata": {},
     "output_type": "display_data"
    },
    {
     "name": "stdout",
     "output_type": "stream",
     "text": [
      "+---------------------+--------------------+-------------------+-------------------------+-----------------------+----------------------------+---------------------------+--------------------+-------------------------------+------------------------------+--------------------+------------------------+--------------------+-------------------+\n",
      "|connected_user_single|          created_at|             id_str|in_reply_to_status_id_str|in_reply_to_user_id_str|quoted_original_tweet_id_str|quoted_original_user_id_str|         quoted_time|retweeted_original_tweet_id_str|retweeted_original_user_id_str|      retweeted_time|                    text|        text_hashtag|        user_id_str|\n",
      "+---------------------+--------------------+-------------------+-------------------------+-----------------------+----------------------------+---------------------------+--------------------+-------------------------------+------------------------------+--------------------+------------------------+--------------------+-------------------+\n",
      "|  1459809396330954752|Sat Jan 29 14:16:...|1487429529786527745|                     null|                   null|                        null|                       null|                null|            1487423390130446339|           1459809396330954752|Sat Jan 29 13:52:...|    RT @Jenii0711: Ka...|                    |1283799559437598721|\n",
      "|             44918020|Sat Jan 29 15:29:...|1487447921809367041|                     null|                   null|                        null|                       null|                null|            1487440441075240964|                      44918020|Sat Jan 29 15:00:...|    RT @SaintsCSC: Wi...|                    |1255622205578317824|\n",
      "|            106767574|Sat Jan 29 12:53:...|1487408650528432130|                     null|                   null|                        null|                       null|                null|            1487205868722475008|                     106767574|Fri Jan 28 23:28:...|    RT @GamecockTrack...|           Gamecocks|         2730965019|\n",
      "|  1283230151334133762|Sat Jan 29 13:17:...|1487414677739089922|                     null|                   null|                        null|                       null|                null|            1487155568737464327|           1283230151334133762|Fri Jan 28 20:08:...|    RT @AboutNintendo...|                    |         4157995498|\n",
      "|  1301506120465305601|Sat Jan 29 12:53:...|1487408684095397889|                     null|                   null|                        null|                       null|                null|            1486760921670328320|           1301506120465305601|Thu Jan 27 18:00:...|    RT @digimon_tcg_E...|     DigimonCardGame|          428486033|\n",
      "|           3069293665|Sat Jan 29 14:02:...|1487425813620600832|                     null|                   null|         1487388166491295745|                 3069293665|Sat Jan 29 11:32:...|            1487425400112578571|                      82827102|Sat Jan 29 14:00:...|    RT @kkundrra: Sho...|       KKundrraSquad|1465294258919772164|\n",
      "|             82827102|Sat Jan 29 14:02:...|1487425813620600832|                     null|                   null|         1487388166491295745|                 3069293665|Sat Jan 29 11:32:...|            1487425400112578571|                      82827102|Sat Jan 29 14:00:...|    RT @kkundrra: Sho...|       KKundrraSquad|1465294258919772164|\n",
      "|           2313071317|Sat Jan 29 13:17:...|1487414585489453062|      1487414177723748352|             2313071317|                        null|                       null|                null|                           null|                          null|                null|@monaka_game めっちゃ...|                    |         1952118086|\n",
      "|            591982839|Sat Jan 29 12:53:...|1487408495343575040|                     null|                   null|                        null|                       null|                null|            1487408337419440128|                     591982839|Sat Jan 29 12:52:...|    RT @bani_khan: @K...|                    |1467344756334235648|\n",
      "|  1344804525845094400|Sat Jan 29 12:55:...|1487409086748499970|                     null|                   null|                        null|                       null|                null|            1487395108144123907|           1344804525845094400|Sat Jan 29 12:00:...|    RT @Babu__run: 🧼...|                    |1199309731141017600|\n",
      "|   867617849208037377|Sat Jan 29 14:16:...|1487429454301388801|                     null|                   null|                        null|                       null|                null|            1487335205224558592|            867617849208037377|Sat Jan 29 08:02:...|    RT @okx: Lunar Ne...|OKXWeekendQuiz,Lu...| 925471211877994498|\n",
      "|  1361304517111812098|Sat Jan 29 14:34:...|1487434034469031939|                     null|                   null|                        null|                       null|                null|            1487114967543287812|           1361304517111812098|Fri Jan 28 17:26:...|    RT @osashimi2two:...|PokemonLEGENDS,Ni...|          869261220|\n",
      "|            625410020|Sat Jan 29 12:53:...|1487408461784694784|                     null|                   null|                        null|                       null|                null|            1154448720366206976|                     625410020|Thu Jul 25 17:49:...|    RT @ChubbyPixel: ...|                    |1121079927355396101|\n",
      "|  1479109608199188487|Sat Jan 29 14:08:...|1487427336165224449|                     null|                   null|                        null|                       null|                null|            1487425966544588803|           1479109608199188487|Sat Jan 29 14:02:...|    RT @kiya_1210: 38...|                    |1456945553510522880|\n",
      "|  1205746694446444544|Sat Jan 29 13:02:...|1487410743485947912|                     null|                   null|                        null|                       null|                null|            1487410561201893379|           1205746694446444544|Sat Jan 29 13:01:...|    RT @Poojasingh_12...|KaranKundrra,Kara...|1465294258919772164|\n",
      "|   717498825665982464|Sat Jan 29 14:08:...|1487427495544901634|                     null|                   null|                        null|                       null|                null|            1486988755332329479|            717498825665982464|Fri Jan 28 09:05:...|    RT @Cain9955: OKA...|PokemonLegendsArc...| 942566679812366336|\n",
      "|           1192032121|Sat Jan 29 13:46:...|1487421883561943045|                     null|                   null|                        null|                       null|                null|            1487416917342433282|                    1192032121|Sat Jan 29 13:26:...|    RT @Camaflouge888...|                    |1483802160702066689|\n",
      "|  1437042200806780938|Sat Jan 29 14:34:...|1487433967368568834|                     null|                   null|                        null|                       null|                null|            1487038195040620549|           1437042200806780938|Fri Jan 28 12:21:...|    RT @10PuraPoke: #...|      PokemonLEGENDS| 994082304481005569|\n",
      "|  1353648272418631680|Sat Jan 29 13:45:...|1487421573183131649|      1487407826452758537|    1353648272418631680|                        null|                       null|                null|                           null|                          null|                null| @mio_416_game 次は必...|                    |1440696149489295363|\n",
      "|  1400826576808267777|Sat Jan 29 13:16:...|1487414455437000708|                     null|                   null|                        null|                       null|                null|            1487414147285278721|           1400826576808267777|Sat Jan 29 13:15:...|    RT @ChismosangBul...|BelleDaylightConc...|1334871177135759361|\n",
      "+---------------------+--------------------+-------------------+-------------------------+-----------------------+----------------------------+---------------------------+--------------------+-------------------------------+------------------------------+--------------------+------------------------+--------------------+-------------------+\n",
      "only showing top 20 rows"
     ]
    }
   ],
   "source": [
    "raw_df.show()"
   ]
  },
  {
   "cell_type": "code",
   "execution_count": 14,
   "id": "29384670-89d3-4900-8917-c8bcce1b13d1",
   "metadata": {
    "execution": {
     "iopub.execute_input": "2023-04-04T14:45:08.419667Z",
     "iopub.status.busy": "2023-04-04T14:45:08.419375Z",
     "iopub.status.idle": "2023-04-04T14:45:08.690032Z",
     "shell.execute_reply": "2023-04-04T14:45:08.689137Z",
     "shell.execute_reply.started": "2023-04-04T14:45:08.419639Z"
    },
    "tags": []
   },
   "outputs": [
    {
     "data": {
      "application/vnd.jupyter.widget-view+json": {
       "model_id": "e8ec5b87401d4ca380018feaf319a6d7",
       "version_major": 2,
       "version_minor": 0
      },
      "text/plain": [
       "VBox()"
      ]
     },
     "metadata": {},
     "output_type": "display_data"
    },
    {
     "data": {
      "application/vnd.jupyter.widget-view+json": {
       "model_id": "",
       "version_major": 2,
       "version_minor": 0
      },
      "text/plain": [
       "FloatProgress(value=0.0, bar_style='info', description='Progress:', layout=Layout(height='25px', width='50%'),…"
      ]
     },
     "metadata": {},
     "output_type": "display_data"
    }
   ],
   "source": [
    "test_list = ['pokémon legends: arceus',  'legend of arceus',\n",
    "             'legend arceus', 'legends of arceus', 'pokemon legends: arceus', 'arceus']\n",
    "# regex for filter\n",
    "regex_pattern = \"(?i)\" + \"|\".join(test_list)\n",
    "regex_pattern_hashtag = \"(?i)\" + \"|\".join([x.strip(' ') for x in test_list])\n",
    "\n",
    "filter_df = raw_df.filter(raw_df.text.rlike(regex_pattern) | raw_df.text_hashtag.rlike(regex_pattern)).distinct()"
   ]
  },
  {
   "cell_type": "code",
   "execution_count": 15,
   "id": "b0359f1f-1c25-444e-b1bf-0da5b169f53e",
   "metadata": {
    "execution": {
     "iopub.execute_input": "2023-04-04T14:45:08.692207Z",
     "iopub.status.busy": "2023-04-04T14:45:08.691682Z",
     "iopub.status.idle": "2023-04-04T14:45:19.992207Z",
     "shell.execute_reply": "2023-04-04T14:45:19.991357Z",
     "shell.execute_reply.started": "2023-04-04T14:45:08.692170Z"
    },
    "tags": []
   },
   "outputs": [
    {
     "data": {
      "application/vnd.jupyter.widget-view+json": {
       "model_id": "bfee16428a6042689158d0fef5c8b12a",
       "version_major": 2,
       "version_minor": 0
      },
      "text/plain": [
       "VBox()"
      ]
     },
     "metadata": {},
     "output_type": "display_data"
    },
    {
     "data": {
      "application/vnd.jupyter.widget-view+json": {
       "model_id": "",
       "version_major": 2,
       "version_minor": 0
      },
      "text/plain": [
       "FloatProgress(value=0.0, bar_style='info', description='Progress:', layout=Layout(height='25px', width='50%'),…"
      ]
     },
     "metadata": {},
     "output_type": "display_data"
    }
   ],
   "source": [
    "rdd = filter_df.rdd"
   ]
  },
  {
   "cell_type": "code",
   "execution_count": 16,
   "id": "7fbfeb35-0027-43ef-823b-fbdcf3e2df1b",
   "metadata": {
    "execution": {
     "iopub.execute_input": "2023-04-04T14:45:19.994034Z",
     "iopub.status.busy": "2023-04-04T14:45:19.993479Z",
     "iopub.status.idle": "2023-04-04T14:45:20.276060Z",
     "shell.execute_reply": "2023-04-04T14:45:20.275146Z",
     "shell.execute_reply.started": "2023-04-04T14:45:19.994000Z"
    },
    "tags": []
   },
   "outputs": [
    {
     "data": {
      "application/vnd.jupyter.widget-view+json": {
       "model_id": "73843fc03f9d44c7acff26cd0005c930",
       "version_major": 2,
       "version_minor": 0
      },
      "text/plain": [
       "VBox()"
      ]
     },
     "metadata": {},
     "output_type": "display_data"
    },
    {
     "data": {
      "application/vnd.jupyter.widget-view+json": {
       "model_id": "",
       "version_major": 2,
       "version_minor": 0
      },
      "text/plain": [
       "FloatProgress(value=0.0, bar_style='info', description='Progress:', layout=Layout(height='25px', width='50%'),…"
      ]
     },
     "metadata": {},
     "output_type": "display_data"
    }
   ],
   "source": [
    "# for each user how many times retweet/replay/quote other tweets\n",
    "user_interact_rdd = rdd.map(lambda x: (x[13], 1))\n",
    "user_interact_rdd = user_interact_rdd.reduceByKey(lambda a, b: a + b)\n",
    "\n",
    "# each pair of users (A, B), how many times A retweet this person B\n",
    "user_pair_rdd = rdd.map(lambda x: ((x[13], x[0]), 1)).reduceByKey(lambda a, b: a + b)\n",
    "user_pair_rdd = user_pair_rdd.map(lambda x: (x[0][0], x[0][1], x[1]))\n",
    "\n",
    "# user_pair_rdd.toDF().write.mode('overwrite').csv(output_bucket+'user_pair_aws') #coalesce(1, shuffle = True).\n",
    "# user_interact_rdd.toDF().write.mode('overwrite').csv(output_bucket+'user_interact_aws') #coalesce(1, shuffle = True)."
   ]
  },
  {
   "cell_type": "code",
   "execution_count": 17,
   "id": "60f31921-841f-4934-8b2d-4664db09c5da",
   "metadata": {
    "execution": {
     "iopub.execute_input": "2023-04-04T14:45:20.278001Z",
     "iopub.status.busy": "2023-04-04T14:45:20.277413Z",
     "iopub.status.idle": "2023-04-04T14:45:27.609862Z",
     "shell.execute_reply": "2023-04-04T14:45:27.608980Z",
     "shell.execute_reply.started": "2023-04-04T14:45:20.277964Z"
    },
    "tags": []
   },
   "outputs": [
    {
     "data": {
      "application/vnd.jupyter.widget-view+json": {
       "model_id": "1e3e44699cb34c6ab980b15abb02bda0",
       "version_major": 2,
       "version_minor": 0
      },
      "text/plain": [
       "VBox()"
      ]
     },
     "metadata": {},
     "output_type": "display_data"
    },
    {
     "data": {
      "application/vnd.jupyter.widget-view+json": {
       "model_id": "",
       "version_major": 2,
       "version_minor": 0
      },
      "text/plain": [
       "FloatProgress(value=0.0, bar_style='info', description='Progress:', layout=Layout(height='25px', width='50%'),…"
      ]
     },
     "metadata": {},
     "output_type": "display_data"
    },
    {
     "name": "stdout",
     "output_type": "stream",
     "text": [
      "+-------------------+-------------------+\n",
      "|        user_id_str|user_twitter_handle|\n",
      "+-------------------+-------------------+\n",
      "|1277653717467172864|          KonateEra|\n",
      "| 889184194315866113|     ViniFerreirado|\n",
      "|          296488613|              tenoq|\n",
      "|1292411311612030977|    kamikaze1226617|\n",
      "|          224175846|           Edunwa18|\n",
      "|1181834654317531136|         MKtography|\n",
      "|1241239744316690432|    SpeedDe86282699|\n",
      "|          201088131|         Fiberblock|\n",
      "|         4149402979|        luislara_97|\n",
      "|         2418331615|            eptileR|\n",
      "|1484471406985297925|           WabinabG|\n",
      "|1278814483167633409|          jhendryx3|\n",
      "| 934943098374823936|          shige_e_5|\n",
      "|1475408590445989894|         TAzammalik|\n",
      "|         2613144614|         AUTOMYSTIC|\n",
      "|1482121649650548736|        alexhaujshu|\n",
      "|1473274640805994497|    hoki2022bigwinx|\n",
      "|         3173560541|      AshfordWomens|\n",
      "|1233591105410625536|          jmfoddidk|\n",
      "|1293106254165024869|         youkapalot|\n",
      "+-------------------+-------------------+\n",
      "only showing top 20 rows"
     ]
    }
   ],
   "source": [
    "id_name = spark.read.option(\"header\",True).csv(input_bucket+\"id_name_dict_aws/*.csv\")\n",
    "id_name.show()\n",
    "# if user A retweet B, the from_user = A, to_user = B\n",
    "columns = ['from_user', 'to_user', 'retweet_ratio']\n",
    "edge_rdd = user_pair_rdd.filter(lambda x: x[0] != x[1]).toDF(columns)  # remove all self pointed edges\n",
    "# .join(user_interact_rdd).map(lambda x: (x[0], x[1][0][0], float(x[1][0][1]) / float(x[1][1]))) \\\n",
    "\n",
    "all_users = edge_rdd.select(\"from_user\").union(edge_rdd.select(\"to_user\")).distinct() \\\n",
    "    .withColumnRenamed(\"from_user\", \"users\")"
   ]
  },
  {
   "cell_type": "code",
   "execution_count": 18,
   "id": "b4b9466e-54df-4122-b7d9-043a509529f9",
   "metadata": {
    "execution": {
     "iopub.execute_input": "2023-04-04T14:45:27.611478Z",
     "iopub.status.busy": "2023-04-04T14:45:27.611160Z",
     "iopub.status.idle": "2023-04-04T14:45:32.889052Z",
     "shell.execute_reply": "2023-04-04T14:45:32.888268Z",
     "shell.execute_reply.started": "2023-04-04T14:45:27.611446Z"
    },
    "tags": []
   },
   "outputs": [
    {
     "data": {
      "application/vnd.jupyter.widget-view+json": {
       "model_id": "ffde6e9291da4e2a8c664ac4e352b99b",
       "version_major": 2,
       "version_minor": 0
      },
      "text/plain": [
       "VBox()"
      ]
     },
     "metadata": {},
     "output_type": "display_data"
    },
    {
     "data": {
      "application/vnd.jupyter.widget-view+json": {
       "model_id": "",
       "version_major": 2,
       "version_minor": 0
      },
      "text/plain": [
       "FloatProgress(value=0.0, bar_style='info', description='Progress:', layout=Layout(height='25px', width='50%'),…"
      ]
     },
     "metadata": {},
     "output_type": "display_data"
    },
    {
     "name": "stdout",
     "output_type": "stream",
     "text": [
      "+-------------------+-------------------+-------------+\n",
      "|          from_user|            to_user|retweet_ratio|\n",
      "+-------------------+-------------------+-------------+\n",
      "| 700747955536400384|           67544145|            3|\n",
      "| 888929385365073921|         1556857645|            3|\n",
      "|           68162785|          327942353|            3|\n",
      "|1030287610311311365| 751823351132323841|            3|\n",
      "|1335690532329295873|1217225455041961984|            3|\n",
      "|          247522396|1389017980516831232|            3|\n",
      "|         2922572473|         2454149816|            2|\n",
      "| 778430856322912256|1368936879601553415|            2|\n",
      "|         3389938816|           36519939|            2|\n",
      "|           73049252|1365337673074933765|            2|\n",
      "|         1140353412|         2692210960|            2|\n",
      "|          242593153|1217225455041961984|            2|\n",
      "|         3934721656|           36519939|            2|\n",
      "| 808818993536479233|         2482561542|            2|\n",
      "| 748511608633237504|1365337673074933765|            2|\n",
      "| 863086488107577348|         2920818466|            2|\n",
      "|1036387838022037504|           61879392|            2|\n",
      "|          842607265|1272431531303170049|            2|\n",
      "| 934195346674249728|1365337673074933765|            2|\n",
      "|          232069290|         2920818466|            2|\n",
      "+-------------------+-------------------+-------------+\n",
      "only showing top 20 rows"
     ]
    }
   ],
   "source": [
    "edge_rdd.sort(col('retweet_ratio').desc()).show()"
   ]
  },
  {
   "cell_type": "code",
   "execution_count": 19,
   "id": "08db0771-5a7b-4527-b968-50da942090be",
   "metadata": {
    "execution": {
     "iopub.execute_input": "2023-04-04T14:45:32.892152Z",
     "iopub.status.busy": "2023-04-04T14:45:32.891577Z",
     "iopub.status.idle": "2023-04-04T15:18:10.084896Z",
     "shell.execute_reply": "2023-04-04T15:18:10.084086Z",
     "shell.execute_reply.started": "2023-04-04T14:45:32.892115Z"
    },
    "tags": []
   },
   "outputs": [
    {
     "data": {
      "application/vnd.jupyter.widget-view+json": {
       "model_id": "89dc1f7e69e244db81632f8010b749ad",
       "version_major": 2,
       "version_minor": 0
      },
      "text/plain": [
       "VBox()"
      ]
     },
     "metadata": {},
     "output_type": "display_data"
    },
    {
     "data": {
      "application/vnd.jupyter.widget-view+json": {
       "model_id": "419eec9a07de440d883e7174b0a50274",
       "version_major": 2,
       "version_minor": 0
      },
      "text/plain": [
       "FloatProgress(value=0.0, bar_style='info', description='Progress:', layout=Layout(height='25px', width='50%'),…"
      ]
     },
     "metadata": {},
     "output_type": "display_data"
    },
    {
     "name": "stderr",
     "output_type": "stream",
     "text": [
      "An error was encountered:\n",
      "Invalid status code '400' from http://localhost:8998/sessions/7/statements/19 with error payload: {\"msg\":\"requirement failed: Session isn't active.\"}\n"
     ]
    }
   ],
   "source": [
    "auth_rdd = edge_rdd.select(\"*\", lit(1).alias(\"auth\"))\n",
    "auth_rdd.sort(col(\"auth\").desc()).show(5)\n",
    "hub_rdd = edge_rdd.select(\"*\", lit(1).alias(\"hub\"))\n",
    "\n",
    "for i in range(10):\n",
    "\n",
    "    t = hub_rdd.withColumn(\"score\", hub_rdd.retweet_ratio * hub_rdd.hub).groupby(\"to_user\").agg(_sum(\"score\").alias(\"a\"))\n",
    "    norm = t.withColumn(\"square\", t.a**2).agg(_sum(\"square\"))\n",
    "\n",
    "    # norm = t.rdd.map(lambda x: (1, x[1])).reduceByKey(lambda a, b: a**2 + b**2).collect()[0][1]\n",
    "    norm =  norm.collect()[0][0]**0.5\n",
    "    auth_rdd = auth_rdd.join(t, \"to_user\").select(\"from_user\", \"to_user\", \"retweet_ratio\",\n",
    "                                                  (col(\"a\") / norm).alias(\"auth\"))\n",
    "    auth_rdd.sort(col(\"auth\").desc()).show(5)\n",
    "    \n",
    "    del t\n",
    "    del norm\n",
    "    gc.collect()\n",
    "\n",
    "    # update hub\n",
    "    t = auth_rdd.withColumn(\"score\", auth_rdd.retweet_ratio * auth_rdd.auth).groupby(\"from_user\").agg(\n",
    "        _sum(\"score\").alias(\"h\"))\n",
    "\n",
    "    norm = t.withColumn(\"square\", t.h**2).agg(_sum(\"square\"))\n",
    "    norm =  norm.collect()[0][0]**0.5\n",
    "    hub_rdd = hub_rdd.join(t, \"from_user\").select(\"from_user\", \"to_user\", \"retweet_ratio\",\n",
    "                                                  (col(\"h\") / norm).alias(\"hub\"))\n",
    "    del t\n",
    "    del norm\n",
    "    gc.collect()\n",
    "\n",
    "auth_result = auth_rdd.join(id_name, id_name.user_id_str == auth_rdd.to_user).sort(col(\"auth\").desc())\\\n",
    "    .select('to_user', 'auth', 'user_twitter_handle').distinct().limit(200)\n",
    "# auth_result.show(50)"
   ]
  },
  {
   "cell_type": "code",
   "execution_count": 20,
   "id": "8be55cf0-6338-4b2e-b729-05aa620e70f0",
   "metadata": {
    "execution": {
     "iopub.execute_input": "2023-04-04T15:18:10.091207Z",
     "iopub.status.busy": "2023-04-04T15:18:10.086609Z",
     "iopub.status.idle": "2023-04-04T15:18:10.156309Z",
     "shell.execute_reply": "2023-04-04T15:18:10.154721Z",
     "shell.execute_reply.started": "2023-04-04T15:18:10.091172Z"
    },
    "tags": []
   },
   "outputs": [
    {
     "data": {
      "application/vnd.jupyter.widget-view+json": {
       "model_id": "59d7d9b81bbb49cbb5d82bd196f1e8cd",
       "version_major": 2,
       "version_minor": 0
      },
      "text/plain": [
       "VBox()"
      ]
     },
     "metadata": {},
     "output_type": "display_data"
    },
    {
     "name": "stderr",
     "output_type": "stream",
     "text": [
      "An error was encountered:\n",
      "Session 7 unexpectedly reached final status 'dead'. See logs:\n",
      "stdout: \n",
      "\n",
      "stderr: \n",
      "23/04/04 13:33:59 WARN NativeCodeLoader: Unable to load native-hadoop library for your platform... using builtin-java classes where applicable\n",
      "23/04/04 13:34:00 INFO DefaultNoHARMFailoverProxyProvider: Connecting to ResourceManager at ip-172-31-34-15.ap-southeast-1.compute.internal/172.31.34.15:8032\n",
      "23/04/04 13:34:01 INFO Configuration: resource-types.xml not found\n",
      "23/04/04 13:34:01 INFO ResourceUtils: Unable to find 'resource-types.xml'.\n",
      "23/04/04 13:34:01 INFO Client: Verifying our application has not requested more than the maximum memory capability of the cluster (12288 MB per container)\n",
      "23/04/04 13:34:01 INFO Client: Will allocate AM container, with 2432 MB memory including 384 MB overhead\n",
      "23/04/04 13:34:01 INFO Client: Setting up container launch context for our AM\n",
      "23/04/04 13:34:01 INFO Client: Setting up the launch environment for our AM container\n",
      "23/04/04 13:34:01 INFO Client: Preparing resources for our AM container\n",
      "23/04/04 13:34:01 WARN Client: Neither spark.yarn.jars nor spark.yarn.archive is set, falling back to uploading libraries under SPARK_HOME.\n",
      "23/04/04 13:34:05 INFO Client: Uploading resource file:/mnt/tmp/spark-37030a41-2c32-4bb3-9f2b-2780ad6dedbe/__spark_libs__5618153878863935536.zip -> hdfs://ip-172-31-34-15.ap-southeast-1.compute.internal:8020/user/livy/.sparkStaging/application_1680595456061_0008/__spark_libs__5618153878863935536.zip\n",
      "23/04/04 13:34:07 INFO Client: Uploading resource file:/usr/lib/livy/rsc-jars/arpack_combined_all-0.1.jar -> hdfs://ip-172-31-34-15.ap-southeast-1.compute.internal:8020/user/livy/.sparkStaging/application_1680595456061_0008/arpack_combined_all-0.1.jar\n",
      "23/04/04 13:34:07 INFO Client: Uploading resource file:/usr/lib/livy/rsc-jars/core-1.1.2.jar -> hdfs://ip-172-31-34-15.ap-southeast-1.compute.internal:8020/user/livy/.sparkStaging/application_1680595456061_0008/core-1.1.2.jar\n",
      "23/04/04 13:34:07 INFO Client: Uploading resource file:/usr/lib/livy/rsc-jars/jniloader-1.1.jar -> hdfs://ip-172-31-34-15.ap-southeast-1.compute.internal:8020/user/livy/.sparkStaging/application_1680595456061_0008/jniloader-1.1.jar\n",
      "23/04/04 13:34:07 INFO Client: Uploading resource file:/usr/lib/livy/rsc-jars/livy-api-0.7.1-incubating.jar -> hdfs://ip-172-31-34-15.ap-southeast-1.compute.internal:8020/user/livy/.sparkStaging/application_1680595456061_0008/livy-api-0.7.1-incubating.jar\n",
      "23/04/04 13:34:07 INFO Client: Uploading resource file:/usr/lib/livy/rsc-jars/livy-rsc-0.7.1-incubating.jar -> hdfs://ip-172-31-34-15.ap-southeast-1.compute.internal:8020/user/livy/.sparkStaging/application_1680595456061_0008/livy-rsc-0.7.1-incubating.jar\n",
      "23/04/04 13:34:07 INFO Client: Uploading resource file:/usr/lib/livy/rsc-jars/livy-thriftserver-session-0.7.1-incubating.jar -> hdfs://ip-172-31-34-15.ap-southeast-1.compute.internal:8020/user/livy/.sparkStaging/application_1680595456061_0008/livy-thriftserver-session-0.7.1-incubating.jar\n",
      "23/04/04 13:34:07 INFO Client: Uploading resource file:/usr/lib/livy/rsc-jars/native_ref-java-1.1.jar -> hdfs://ip-172-31-34-15.ap-southeast-1.compute.internal:8020/user/livy/.sparkStaging/application_1680595456061_0008/native_ref-java-1.1.jar\n",
      "23/04/04 13:34:07 INFO Client: Uploading resource file:/usr/lib/livy/rsc-jars/native_system-java-1.1.jar -> hdfs://ip-172-31-34-15.ap-southeast-1.compute.internal:8020/user/livy/.sparkStaging/application_1680595456061_0008/native_system-java-1.1.jar\n",
      "23/04/04 13:34:07 INFO Client: Uploading resource file:/usr/lib/livy/rsc-jars/netlib-native_ref-linux-armhf-1.1-natives.jar -> hdfs://ip-172-31-34-15.ap-southeast-1.compute.internal:8020/user/livy/.sparkStaging/application_1680595456061_0008/netlib-native_ref-linux-armhf-1.1-natives.jar\n",
      "23/04/04 13:34:07 INFO Client: Uploading resource file:/usr/lib/livy/rsc-jars/netlib-native_ref-linux-i686-1.1-natives.jar -> hdfs://ip-172-31-34-15.ap-southeast-1.compute.internal:8020/user/livy/.sparkStaging/application_1680595456061_0008/netlib-native_ref-linux-i686-1.1-natives.jar\n",
      "23/04/04 13:34:08 INFO Client: Uploading resource file:/usr/lib/livy/rsc-jars/netlib-native_ref-linux-x86_64-1.1-natives.jar -> hdfs://ip-172-31-34-15.ap-southeast-1.compute.internal:8020/user/livy/.sparkStaging/application_1680595456061_0008/netlib-native_ref-linux-x86_64-1.1-natives.jar\n",
      "23/04/04 13:34:08 INFO Client: Uploading resource file:/usr/lib/livy/rsc-jars/netlib-native_ref-osx-x86_64-1.1-natives.jar -> hdfs://ip-172-31-34-15.ap-southeast-1.compute.internal:8020/user/livy/.sparkStaging/application_1680595456061_0008/netlib-native_ref-osx-x86_64-1.1-natives.jar\n",
      "23/04/04 13:34:08 INFO Client: Uploading resource file:/usr/lib/livy/rsc-jars/netlib-native_ref-win-i686-1.1-natives.jar -> hdfs://ip-172-31-34-15.ap-southeast-1.compute.internal:8020/user/livy/.sparkStaging/application_1680595456061_0008/netlib-native_ref-win-i686-1.1-natives.jar\n",
      "23/04/04 13:34:08 INFO Client: Uploading resource file:/usr/lib/livy/rsc-jars/netlib-native_ref-win-x86_64-1.1-natives.jar -> hdfs://ip-172-31-34-15.ap-southeast-1.compute.internal:8020/user/livy/.sparkStaging/application_1680595456061_0008/netlib-native_ref-win-x86_64-1.1-natives.jar\n",
      "23/04/04 13:34:08 INFO Client: Uploading resource file:/usr/lib/livy/rsc-jars/netlib-native_system-linux-armhf-1.1-natives.jar -> hdfs://ip-172-31-34-15.ap-southeast-1.compute.internal:8020/user/livy/.sparkStaging/application_1680595456061_0008/netlib-native_system-linux-armhf-1.1-natives.jar\n",
      "23/04/04 13:34:08 INFO Client: Uploading resource file:/usr/lib/livy/rsc-jars/netlib-native_system-linux-i686-1.1-natives.jar -> hdfs://ip-172-31-34-15.ap-southeast-1.compute.internal:8020/user/livy/.sparkStaging/application_1680595456061_0008/netlib-native_system-linux-i686-1.1-natives.jar\n",
      "23/04/04 13:34:08 INFO Client: Uploading resource file:/usr/lib/livy/rsc-jars/netlib-native_system-linux-x86_64-1.1-natives.jar -> hdfs://ip-172-31-34-15.ap-southeast-1.compute.internal:8020/user/livy/.sparkStaging/application_1680595456061_0008/netlib-native_system-linux-x86_64-1.1-natives.jar\n",
      "23/04/04 13:34:08 INFO Client: Uploading resource file:/usr/lib/livy/rsc-jars/netlib-native_system-osx-x86_64-1.1-natives.jar -> hdfs://ip-172-31-34-15.ap-southeast-1.compute.internal:8020/user/livy/.sparkStaging/application_1680595456061_0008/netlib-native_system-osx-x86_64-1.1-natives.jar\n",
      "23/04/04 13:34:08 INFO Client: Uploading resource file:/usr/lib/livy/rsc-jars/netlib-native_system-win-i686-1.1-natives.jar -> hdfs://ip-172-31-34-15.ap-southeast-1.compute.internal:8020/user/livy/.sparkStaging/application_1680595456061_0008/netlib-native_system-win-i686-1.1-natives.jar\n",
      "23/04/04 13:34:08 INFO Client: Uploading resource file:/usr/lib/livy/rsc-jars/netlib-native_system-win-x86_64-1.1-natives.jar -> hdfs://ip-172-31-34-15.ap-southeast-1.compute.internal:8020/user/livy/.sparkStaging/application_1680595456061_0008/netlib-native_system-win-x86_64-1.1-natives.jar\n",
      "23/04/04 13:34:08 INFO Client: Uploading resource file:/usr/lib/livy/rsc-jars/netty-all-4.1.17.Final.jar -> hdfs://ip-172-31-34-15.ap-southeast-1.compute.internal:8020/user/livy/.sparkStaging/application_1680595456061_0008/netty-all-4.1.17.Final.jar\n",
      "23/04/04 13:34:08 INFO Client: Uploading resource file:/usr/lib/livy/repl_2.12-jars/commons-codec-1.9.jar -> hdfs://ip-172-31-34-15.ap-southeast-1.compute.internal:8020/user/livy/.sparkStaging/application_1680595456061_0008/commons-codec-1.9.jar\n",
      "23/04/04 13:34:08 INFO Client: Uploading resource file:/usr/lib/livy/repl_2.12-jars/livy-core_2.12-0.7.1-incubating.jar -> hdfs://ip-172-31-34-15.ap-southeast-1.compute.internal:8020/user/livy/.sparkStaging/application_1680595456061_0008/livy-core_2.12-0.7.1-incubating.jar\n",
      "23/04/04 13:34:08 INFO Client: Uploading resource file:/usr/lib/livy/repl_2.12-jars/livy-repl_2.12-0.7.1-incubating.jar -> hdfs://ip-172-31-34-15.ap-southeast-1.compute.internal:8020/user/livy/.sparkStaging/application_1680595456061_0008/livy-repl_2.12-0.7.1-incubating.jar\n",
      "23/04/04 13:34:08 INFO Client: Uploading resource file:/etc/hudi/conf.dist/hudi-defaults.conf -> hdfs://ip-172-31-34-15.ap-southeast-1.compute.internal:8020/user/livy/.sparkStaging/application_1680595456061_0008/hudi-defaults.conf\n",
      "23/04/04 13:34:08 INFO Client: Uploading resource file:/usr/lib/spark/R/lib/sparkr.zip#sparkr -> hdfs://ip-172-31-34-15.ap-southeast-1.compute.internal:8020/user/livy/.sparkStaging/application_1680595456061_0008/sparkr.zip\n",
      "23/04/04 13:34:08 INFO Client: Uploading resource file:/usr/lib/spark/python/lib/pyspark.zip -> hdfs://ip-172-31-34-15.ap-southeast-1.compute.internal:8020/user/livy/.sparkStaging/application_1680595456061_0008/pyspark.zip\n",
      "23/04/04 13:34:08 INFO Client: Uploading resource file:/usr/lib/spark/python/lib/py4j-0.10.9.5-src.zip -> hdfs://ip-172-31-34-15.ap-southeast-1.compute.internal:8020/user/livy/.sparkStaging/application_1680595456061_0008/py4j-0.10.9.5-src.zip\n",
      "23/04/04 13:34:08 INFO Client: Uploading resource file:/mnt/tmp/spark-37030a41-2c32-4bb3-9f2b-2780ad6dedbe/__spark_conf__4387971303860154422.zip -> hdfs://ip-172-31-34-15.ap-southeast-1.compute.internal:8020/user/livy/.sparkStaging/application_1680595456061_0008/__spark_conf__.zip\n",
      "23/04/04 13:34:09 INFO SecurityManager: Changing view acls to: livy\n",
      "23/04/04 13:34:09 INFO SecurityManager: Changing modify acls to: livy\n",
      "23/04/04 13:34:09 INFO SecurityManager: Changing view acls groups to: \n",
      "23/04/04 13:34:09 INFO SecurityManager: Changing modify acls groups to: \n",
      "23/04/04 13:34:09 INFO SecurityManager: SecurityManager: authentication disabled; ui acls disabled; users  with view permissions: Set(livy); groups with view permissions: Set(); users  with modify permissions: Set(livy); groups with modify permissions: Set()\n",
      "23/04/04 13:34:09 INFO Client: Submitting application application_1680595456061_0008 to ResourceManager\n",
      "23/04/04 13:34:09 INFO YarnClientImpl: Submitted application application_1680595456061_0008\n",
      "23/04/04 13:34:09 INFO Client: Application report for application_1680595456061_0008 (state: ACCEPTED)\n",
      "23/04/04 13:34:09 INFO Client: \n",
      "\t client token: N/A\n",
      "\t diagnostics: [Tue Apr 04 13:34:09 +0000 2023] Application is Activated, waiting for resources to be assigned for AM.  Details : AM Partition = <DEFAULT_PARTITION> ; Partition Resource = <memory:49152, vCores:16> ; Queue's Absolute capacity = 100.0 % ; Queue's Absolute used capacity = 0.0 % ; Queue's Absolute max capacity = 100.0 % ; Queue's capacity (absolute resource) = <memory:49152, vCores:16> ; Queue's used capacity (absolute resource) = <memory:0, vCores:0> ; Queue's max capacity (absolute resource) = <memory:49152, vCores:16> ; \n",
      "\t ApplicationMaster host: N/A\n",
      "\t ApplicationMaster RPC port: -1\n",
      "\t queue: default\n",
      "\t start time: 1680615249239\n",
      "\t final status: UNDEFINED\n",
      "\t tracking URL: http://ip-172-31-34-15.ap-southeast-1.compute.internal:20888/proxy/application_1680595456061_0008/\n",
      "\t user: livy\n",
      "23/04/04 13:34:09 INFO ShutdownHookManager: Shutdown hook called\n",
      "23/04/04 13:34:09 INFO ShutdownHookManager: Deleting directory /mnt/tmp/spark-37030a41-2c32-4bb3-9f2b-2780ad6dedbe\n",
      "23/04/04 13:34:09 INFO ShutdownHookManager: Deleting directory /mnt/tmp/spark-ed01f0fc-c772-4976-a771-90550350e9ee\n",
      "\n",
      "YARN Diagnostics: \n",
      "Application application_1680595456061_0008 failed 1 times (global limit =2; local limit is =1) due to AM Container for appattempt_1680595456061_0008_000001 exited with  exitCode: 137\n",
      "Failing this attempt.Diagnostics: [2023-04-04 15:18:05.134]Container killed on request. Exit code is 137\n",
      "[2023-04-04 15:18:05.135]Container exited with a non-zero exit code 137. \n",
      "[2023-04-04 15:18:05.135]Killed by external signal\n",
      "For more detailed output, check the application tracking page: http://ip-172-31-34-15.ap-southeast-1.compute.internal:8088/cluster/app/application_1680595456061_0008 Then click on links to logs of each attempt.\n",
      ". Failing the application.\n"
     ]
    }
   ],
   "source": [
    "auth_result.sort(col(\"auth\").desc()).show()"
   ]
  },
  {
   "cell_type": "code",
   "execution_count": 21,
   "id": "89d017a9-f911-447d-9330-ac030e373939",
   "metadata": {
    "execution": {
     "iopub.execute_input": "2023-04-04T15:18:10.158568Z",
     "iopub.status.busy": "2023-04-04T15:18:10.157929Z",
     "iopub.status.idle": "2023-04-04T15:18:10.224402Z",
     "shell.execute_reply": "2023-04-04T15:18:10.223779Z",
     "shell.execute_reply.started": "2023-04-04T15:18:10.158533Z"
    },
    "tags": []
   },
   "outputs": [
    {
     "data": {
      "application/vnd.jupyter.widget-view+json": {
       "model_id": "47cba491a52f442399c3683225d46dc6",
       "version_major": 2,
       "version_minor": 0
      },
      "text/plain": [
       "VBox()"
      ]
     },
     "metadata": {},
     "output_type": "display_data"
    },
    {
     "name": "stderr",
     "output_type": "stream",
     "text": [
      "An error was encountered:\n",
      "Session 7 unexpectedly reached final status 'dead'. See logs:\n",
      "stdout: \n",
      "\n",
      "stderr: \n",
      "23/04/04 13:33:59 WARN NativeCodeLoader: Unable to load native-hadoop library for your platform... using builtin-java classes where applicable\n",
      "23/04/04 13:34:00 INFO DefaultNoHARMFailoverProxyProvider: Connecting to ResourceManager at ip-172-31-34-15.ap-southeast-1.compute.internal/172.31.34.15:8032\n",
      "23/04/04 13:34:01 INFO Configuration: resource-types.xml not found\n",
      "23/04/04 13:34:01 INFO ResourceUtils: Unable to find 'resource-types.xml'.\n",
      "23/04/04 13:34:01 INFO Client: Verifying our application has not requested more than the maximum memory capability of the cluster (12288 MB per container)\n",
      "23/04/04 13:34:01 INFO Client: Will allocate AM container, with 2432 MB memory including 384 MB overhead\n",
      "23/04/04 13:34:01 INFO Client: Setting up container launch context for our AM\n",
      "23/04/04 13:34:01 INFO Client: Setting up the launch environment for our AM container\n",
      "23/04/04 13:34:01 INFO Client: Preparing resources for our AM container\n",
      "23/04/04 13:34:01 WARN Client: Neither spark.yarn.jars nor spark.yarn.archive is set, falling back to uploading libraries under SPARK_HOME.\n",
      "23/04/04 13:34:05 INFO Client: Uploading resource file:/mnt/tmp/spark-37030a41-2c32-4bb3-9f2b-2780ad6dedbe/__spark_libs__5618153878863935536.zip -> hdfs://ip-172-31-34-15.ap-southeast-1.compute.internal:8020/user/livy/.sparkStaging/application_1680595456061_0008/__spark_libs__5618153878863935536.zip\n",
      "23/04/04 13:34:07 INFO Client: Uploading resource file:/usr/lib/livy/rsc-jars/arpack_combined_all-0.1.jar -> hdfs://ip-172-31-34-15.ap-southeast-1.compute.internal:8020/user/livy/.sparkStaging/application_1680595456061_0008/arpack_combined_all-0.1.jar\n",
      "23/04/04 13:34:07 INFO Client: Uploading resource file:/usr/lib/livy/rsc-jars/core-1.1.2.jar -> hdfs://ip-172-31-34-15.ap-southeast-1.compute.internal:8020/user/livy/.sparkStaging/application_1680595456061_0008/core-1.1.2.jar\n",
      "23/04/04 13:34:07 INFO Client: Uploading resource file:/usr/lib/livy/rsc-jars/jniloader-1.1.jar -> hdfs://ip-172-31-34-15.ap-southeast-1.compute.internal:8020/user/livy/.sparkStaging/application_1680595456061_0008/jniloader-1.1.jar\n",
      "23/04/04 13:34:07 INFO Client: Uploading resource file:/usr/lib/livy/rsc-jars/livy-api-0.7.1-incubating.jar -> hdfs://ip-172-31-34-15.ap-southeast-1.compute.internal:8020/user/livy/.sparkStaging/application_1680595456061_0008/livy-api-0.7.1-incubating.jar\n",
      "23/04/04 13:34:07 INFO Client: Uploading resource file:/usr/lib/livy/rsc-jars/livy-rsc-0.7.1-incubating.jar -> hdfs://ip-172-31-34-15.ap-southeast-1.compute.internal:8020/user/livy/.sparkStaging/application_1680595456061_0008/livy-rsc-0.7.1-incubating.jar\n",
      "23/04/04 13:34:07 INFO Client: Uploading resource file:/usr/lib/livy/rsc-jars/livy-thriftserver-session-0.7.1-incubating.jar -> hdfs://ip-172-31-34-15.ap-southeast-1.compute.internal:8020/user/livy/.sparkStaging/application_1680595456061_0008/livy-thriftserver-session-0.7.1-incubating.jar\n",
      "23/04/04 13:34:07 INFO Client: Uploading resource file:/usr/lib/livy/rsc-jars/native_ref-java-1.1.jar -> hdfs://ip-172-31-34-15.ap-southeast-1.compute.internal:8020/user/livy/.sparkStaging/application_1680595456061_0008/native_ref-java-1.1.jar\n",
      "23/04/04 13:34:07 INFO Client: Uploading resource file:/usr/lib/livy/rsc-jars/native_system-java-1.1.jar -> hdfs://ip-172-31-34-15.ap-southeast-1.compute.internal:8020/user/livy/.sparkStaging/application_1680595456061_0008/native_system-java-1.1.jar\n",
      "23/04/04 13:34:07 INFO Client: Uploading resource file:/usr/lib/livy/rsc-jars/netlib-native_ref-linux-armhf-1.1-natives.jar -> hdfs://ip-172-31-34-15.ap-southeast-1.compute.internal:8020/user/livy/.sparkStaging/application_1680595456061_0008/netlib-native_ref-linux-armhf-1.1-natives.jar\n",
      "23/04/04 13:34:07 INFO Client: Uploading resource file:/usr/lib/livy/rsc-jars/netlib-native_ref-linux-i686-1.1-natives.jar -> hdfs://ip-172-31-34-15.ap-southeast-1.compute.internal:8020/user/livy/.sparkStaging/application_1680595456061_0008/netlib-native_ref-linux-i686-1.1-natives.jar\n",
      "23/04/04 13:34:08 INFO Client: Uploading resource file:/usr/lib/livy/rsc-jars/netlib-native_ref-linux-x86_64-1.1-natives.jar -> hdfs://ip-172-31-34-15.ap-southeast-1.compute.internal:8020/user/livy/.sparkStaging/application_1680595456061_0008/netlib-native_ref-linux-x86_64-1.1-natives.jar\n",
      "23/04/04 13:34:08 INFO Client: Uploading resource file:/usr/lib/livy/rsc-jars/netlib-native_ref-osx-x86_64-1.1-natives.jar -> hdfs://ip-172-31-34-15.ap-southeast-1.compute.internal:8020/user/livy/.sparkStaging/application_1680595456061_0008/netlib-native_ref-osx-x86_64-1.1-natives.jar\n",
      "23/04/04 13:34:08 INFO Client: Uploading resource file:/usr/lib/livy/rsc-jars/netlib-native_ref-win-i686-1.1-natives.jar -> hdfs://ip-172-31-34-15.ap-southeast-1.compute.internal:8020/user/livy/.sparkStaging/application_1680595456061_0008/netlib-native_ref-win-i686-1.1-natives.jar\n",
      "23/04/04 13:34:08 INFO Client: Uploading resource file:/usr/lib/livy/rsc-jars/netlib-native_ref-win-x86_64-1.1-natives.jar -> hdfs://ip-172-31-34-15.ap-southeast-1.compute.internal:8020/user/livy/.sparkStaging/application_1680595456061_0008/netlib-native_ref-win-x86_64-1.1-natives.jar\n",
      "23/04/04 13:34:08 INFO Client: Uploading resource file:/usr/lib/livy/rsc-jars/netlib-native_system-linux-armhf-1.1-natives.jar -> hdfs://ip-172-31-34-15.ap-southeast-1.compute.internal:8020/user/livy/.sparkStaging/application_1680595456061_0008/netlib-native_system-linux-armhf-1.1-natives.jar\n",
      "23/04/04 13:34:08 INFO Client: Uploading resource file:/usr/lib/livy/rsc-jars/netlib-native_system-linux-i686-1.1-natives.jar -> hdfs://ip-172-31-34-15.ap-southeast-1.compute.internal:8020/user/livy/.sparkStaging/application_1680595456061_0008/netlib-native_system-linux-i686-1.1-natives.jar\n",
      "23/04/04 13:34:08 INFO Client: Uploading resource file:/usr/lib/livy/rsc-jars/netlib-native_system-linux-x86_64-1.1-natives.jar -> hdfs://ip-172-31-34-15.ap-southeast-1.compute.internal:8020/user/livy/.sparkStaging/application_1680595456061_0008/netlib-native_system-linux-x86_64-1.1-natives.jar\n",
      "23/04/04 13:34:08 INFO Client: Uploading resource file:/usr/lib/livy/rsc-jars/netlib-native_system-osx-x86_64-1.1-natives.jar -> hdfs://ip-172-31-34-15.ap-southeast-1.compute.internal:8020/user/livy/.sparkStaging/application_1680595456061_0008/netlib-native_system-osx-x86_64-1.1-natives.jar\n",
      "23/04/04 13:34:08 INFO Client: Uploading resource file:/usr/lib/livy/rsc-jars/netlib-native_system-win-i686-1.1-natives.jar -> hdfs://ip-172-31-34-15.ap-southeast-1.compute.internal:8020/user/livy/.sparkStaging/application_1680595456061_0008/netlib-native_system-win-i686-1.1-natives.jar\n",
      "23/04/04 13:34:08 INFO Client: Uploading resource file:/usr/lib/livy/rsc-jars/netlib-native_system-win-x86_64-1.1-natives.jar -> hdfs://ip-172-31-34-15.ap-southeast-1.compute.internal:8020/user/livy/.sparkStaging/application_1680595456061_0008/netlib-native_system-win-x86_64-1.1-natives.jar\n",
      "23/04/04 13:34:08 INFO Client: Uploading resource file:/usr/lib/livy/rsc-jars/netty-all-4.1.17.Final.jar -> hdfs://ip-172-31-34-15.ap-southeast-1.compute.internal:8020/user/livy/.sparkStaging/application_1680595456061_0008/netty-all-4.1.17.Final.jar\n",
      "23/04/04 13:34:08 INFO Client: Uploading resource file:/usr/lib/livy/repl_2.12-jars/commons-codec-1.9.jar -> hdfs://ip-172-31-34-15.ap-southeast-1.compute.internal:8020/user/livy/.sparkStaging/application_1680595456061_0008/commons-codec-1.9.jar\n",
      "23/04/04 13:34:08 INFO Client: Uploading resource file:/usr/lib/livy/repl_2.12-jars/livy-core_2.12-0.7.1-incubating.jar -> hdfs://ip-172-31-34-15.ap-southeast-1.compute.internal:8020/user/livy/.sparkStaging/application_1680595456061_0008/livy-core_2.12-0.7.1-incubating.jar\n",
      "23/04/04 13:34:08 INFO Client: Uploading resource file:/usr/lib/livy/repl_2.12-jars/livy-repl_2.12-0.7.1-incubating.jar -> hdfs://ip-172-31-34-15.ap-southeast-1.compute.internal:8020/user/livy/.sparkStaging/application_1680595456061_0008/livy-repl_2.12-0.7.1-incubating.jar\n",
      "23/04/04 13:34:08 INFO Client: Uploading resource file:/etc/hudi/conf.dist/hudi-defaults.conf -> hdfs://ip-172-31-34-15.ap-southeast-1.compute.internal:8020/user/livy/.sparkStaging/application_1680595456061_0008/hudi-defaults.conf\n",
      "23/04/04 13:34:08 INFO Client: Uploading resource file:/usr/lib/spark/R/lib/sparkr.zip#sparkr -> hdfs://ip-172-31-34-15.ap-southeast-1.compute.internal:8020/user/livy/.sparkStaging/application_1680595456061_0008/sparkr.zip\n",
      "23/04/04 13:34:08 INFO Client: Uploading resource file:/usr/lib/spark/python/lib/pyspark.zip -> hdfs://ip-172-31-34-15.ap-southeast-1.compute.internal:8020/user/livy/.sparkStaging/application_1680595456061_0008/pyspark.zip\n",
      "23/04/04 13:34:08 INFO Client: Uploading resource file:/usr/lib/spark/python/lib/py4j-0.10.9.5-src.zip -> hdfs://ip-172-31-34-15.ap-southeast-1.compute.internal:8020/user/livy/.sparkStaging/application_1680595456061_0008/py4j-0.10.9.5-src.zip\n",
      "23/04/04 13:34:08 INFO Client: Uploading resource file:/mnt/tmp/spark-37030a41-2c32-4bb3-9f2b-2780ad6dedbe/__spark_conf__4387971303860154422.zip -> hdfs://ip-172-31-34-15.ap-southeast-1.compute.internal:8020/user/livy/.sparkStaging/application_1680595456061_0008/__spark_conf__.zip\n",
      "23/04/04 13:34:09 INFO SecurityManager: Changing view acls to: livy\n",
      "23/04/04 13:34:09 INFO SecurityManager: Changing modify acls to: livy\n",
      "23/04/04 13:34:09 INFO SecurityManager: Changing view acls groups to: \n",
      "23/04/04 13:34:09 INFO SecurityManager: Changing modify acls groups to: \n",
      "23/04/04 13:34:09 INFO SecurityManager: SecurityManager: authentication disabled; ui acls disabled; users  with view permissions: Set(livy); groups with view permissions: Set(); users  with modify permissions: Set(livy); groups with modify permissions: Set()\n",
      "23/04/04 13:34:09 INFO Client: Submitting application application_1680595456061_0008 to ResourceManager\n",
      "23/04/04 13:34:09 INFO YarnClientImpl: Submitted application application_1680595456061_0008\n",
      "23/04/04 13:34:09 INFO Client: Application report for application_1680595456061_0008 (state: ACCEPTED)\n",
      "23/04/04 13:34:09 INFO Client: \n",
      "\t client token: N/A\n",
      "\t diagnostics: [Tue Apr 04 13:34:09 +0000 2023] Application is Activated, waiting for resources to be assigned for AM.  Details : AM Partition = <DEFAULT_PARTITION> ; Partition Resource = <memory:49152, vCores:16> ; Queue's Absolute capacity = 100.0 % ; Queue's Absolute used capacity = 0.0 % ; Queue's Absolute max capacity = 100.0 % ; Queue's capacity (absolute resource) = <memory:49152, vCores:16> ; Queue's used capacity (absolute resource) = <memory:0, vCores:0> ; Queue's max capacity (absolute resource) = <memory:49152, vCores:16> ; \n",
      "\t ApplicationMaster host: N/A\n",
      "\t ApplicationMaster RPC port: -1\n",
      "\t queue: default\n",
      "\t start time: 1680615249239\n",
      "\t final status: UNDEFINED\n",
      "\t tracking URL: http://ip-172-31-34-15.ap-southeast-1.compute.internal:20888/proxy/application_1680595456061_0008/\n",
      "\t user: livy\n",
      "23/04/04 13:34:09 INFO ShutdownHookManager: Shutdown hook called\n",
      "23/04/04 13:34:09 INFO ShutdownHookManager: Deleting directory /mnt/tmp/spark-37030a41-2c32-4bb3-9f2b-2780ad6dedbe\n",
      "23/04/04 13:34:09 INFO ShutdownHookManager: Deleting directory /mnt/tmp/spark-ed01f0fc-c772-4976-a771-90550350e9ee\n",
      "\n",
      "YARN Diagnostics: \n",
      "Application application_1680595456061_0008 failed 1 times (global limit =2; local limit is =1) due to AM Container for appattempt_1680595456061_0008_000001 exited with  exitCode: 137\n",
      "Failing this attempt.Diagnostics: [2023-04-04 15:18:05.134]Container killed on request. Exit code is 137\n",
      "[2023-04-04 15:18:05.135]Container exited with a non-zero exit code 137. \n",
      "[2023-04-04 15:18:05.135]Killed by external signal\n",
      "For more detailed output, check the application tracking page: http://ip-172-31-34-15.ap-southeast-1.compute.internal:8088/cluster/app/application_1680595456061_0008 Then click on links to logs of each attempt.\n",
      ". Failing the application.\n"
     ]
    }
   ],
   "source": [
    "# write to CSV\n",
    "auth_result.sort(col(\"auth\").desc()).limit(200).write.mode('overwrite').csv(input_bucket+\"test_pokemon_hits\")"
   ]
  },
  {
   "cell_type": "code",
   "execution_count": 22,
   "id": "cf473a77-48d9-4eca-bb34-778706c80da8",
   "metadata": {
    "execution": {
     "iopub.execute_input": "2023-04-04T15:18:10.225399Z",
     "iopub.status.busy": "2023-04-04T15:18:10.225163Z",
     "iopub.status.idle": "2023-04-04T15:18:10.257557Z",
     "shell.execute_reply": "2023-04-04T15:18:10.256731Z",
     "shell.execute_reply.started": "2023-04-04T15:18:10.225375Z"
    },
    "tags": []
   },
   "outputs": [
    {
     "data": {
      "application/vnd.jupyter.widget-view+json": {
       "model_id": "d470aebf5c1840ce9b33b333c7ae3583",
       "version_major": 2,
       "version_minor": 0
      },
      "text/plain": [
       "VBox()"
      ]
     },
     "metadata": {},
     "output_type": "display_data"
    },
    {
     "name": "stderr",
     "output_type": "stream",
     "text": [
      "An error was encountered:\n",
      "Session 7 unexpectedly reached final status 'dead'. See logs:\n",
      "stdout: \n",
      "\n",
      "stderr: \n",
      "23/04/04 13:33:59 WARN NativeCodeLoader: Unable to load native-hadoop library for your platform... using builtin-java classes where applicable\n",
      "23/04/04 13:34:00 INFO DefaultNoHARMFailoverProxyProvider: Connecting to ResourceManager at ip-172-31-34-15.ap-southeast-1.compute.internal/172.31.34.15:8032\n",
      "23/04/04 13:34:01 INFO Configuration: resource-types.xml not found\n",
      "23/04/04 13:34:01 INFO ResourceUtils: Unable to find 'resource-types.xml'.\n",
      "23/04/04 13:34:01 INFO Client: Verifying our application has not requested more than the maximum memory capability of the cluster (12288 MB per container)\n",
      "23/04/04 13:34:01 INFO Client: Will allocate AM container, with 2432 MB memory including 384 MB overhead\n",
      "23/04/04 13:34:01 INFO Client: Setting up container launch context for our AM\n",
      "23/04/04 13:34:01 INFO Client: Setting up the launch environment for our AM container\n",
      "23/04/04 13:34:01 INFO Client: Preparing resources for our AM container\n",
      "23/04/04 13:34:01 WARN Client: Neither spark.yarn.jars nor spark.yarn.archive is set, falling back to uploading libraries under SPARK_HOME.\n",
      "23/04/04 13:34:05 INFO Client: Uploading resource file:/mnt/tmp/spark-37030a41-2c32-4bb3-9f2b-2780ad6dedbe/__spark_libs__5618153878863935536.zip -> hdfs://ip-172-31-34-15.ap-southeast-1.compute.internal:8020/user/livy/.sparkStaging/application_1680595456061_0008/__spark_libs__5618153878863935536.zip\n",
      "23/04/04 13:34:07 INFO Client: Uploading resource file:/usr/lib/livy/rsc-jars/arpack_combined_all-0.1.jar -> hdfs://ip-172-31-34-15.ap-southeast-1.compute.internal:8020/user/livy/.sparkStaging/application_1680595456061_0008/arpack_combined_all-0.1.jar\n",
      "23/04/04 13:34:07 INFO Client: Uploading resource file:/usr/lib/livy/rsc-jars/core-1.1.2.jar -> hdfs://ip-172-31-34-15.ap-southeast-1.compute.internal:8020/user/livy/.sparkStaging/application_1680595456061_0008/core-1.1.2.jar\n",
      "23/04/04 13:34:07 INFO Client: Uploading resource file:/usr/lib/livy/rsc-jars/jniloader-1.1.jar -> hdfs://ip-172-31-34-15.ap-southeast-1.compute.internal:8020/user/livy/.sparkStaging/application_1680595456061_0008/jniloader-1.1.jar\n",
      "23/04/04 13:34:07 INFO Client: Uploading resource file:/usr/lib/livy/rsc-jars/livy-api-0.7.1-incubating.jar -> hdfs://ip-172-31-34-15.ap-southeast-1.compute.internal:8020/user/livy/.sparkStaging/application_1680595456061_0008/livy-api-0.7.1-incubating.jar\n",
      "23/04/04 13:34:07 INFO Client: Uploading resource file:/usr/lib/livy/rsc-jars/livy-rsc-0.7.1-incubating.jar -> hdfs://ip-172-31-34-15.ap-southeast-1.compute.internal:8020/user/livy/.sparkStaging/application_1680595456061_0008/livy-rsc-0.7.1-incubating.jar\n",
      "23/04/04 13:34:07 INFO Client: Uploading resource file:/usr/lib/livy/rsc-jars/livy-thriftserver-session-0.7.1-incubating.jar -> hdfs://ip-172-31-34-15.ap-southeast-1.compute.internal:8020/user/livy/.sparkStaging/application_1680595456061_0008/livy-thriftserver-session-0.7.1-incubating.jar\n",
      "23/04/04 13:34:07 INFO Client: Uploading resource file:/usr/lib/livy/rsc-jars/native_ref-java-1.1.jar -> hdfs://ip-172-31-34-15.ap-southeast-1.compute.internal:8020/user/livy/.sparkStaging/application_1680595456061_0008/native_ref-java-1.1.jar\n",
      "23/04/04 13:34:07 INFO Client: Uploading resource file:/usr/lib/livy/rsc-jars/native_system-java-1.1.jar -> hdfs://ip-172-31-34-15.ap-southeast-1.compute.internal:8020/user/livy/.sparkStaging/application_1680595456061_0008/native_system-java-1.1.jar\n",
      "23/04/04 13:34:07 INFO Client: Uploading resource file:/usr/lib/livy/rsc-jars/netlib-native_ref-linux-armhf-1.1-natives.jar -> hdfs://ip-172-31-34-15.ap-southeast-1.compute.internal:8020/user/livy/.sparkStaging/application_1680595456061_0008/netlib-native_ref-linux-armhf-1.1-natives.jar\n",
      "23/04/04 13:34:07 INFO Client: Uploading resource file:/usr/lib/livy/rsc-jars/netlib-native_ref-linux-i686-1.1-natives.jar -> hdfs://ip-172-31-34-15.ap-southeast-1.compute.internal:8020/user/livy/.sparkStaging/application_1680595456061_0008/netlib-native_ref-linux-i686-1.1-natives.jar\n",
      "23/04/04 13:34:08 INFO Client: Uploading resource file:/usr/lib/livy/rsc-jars/netlib-native_ref-linux-x86_64-1.1-natives.jar -> hdfs://ip-172-31-34-15.ap-southeast-1.compute.internal:8020/user/livy/.sparkStaging/application_1680595456061_0008/netlib-native_ref-linux-x86_64-1.1-natives.jar\n",
      "23/04/04 13:34:08 INFO Client: Uploading resource file:/usr/lib/livy/rsc-jars/netlib-native_ref-osx-x86_64-1.1-natives.jar -> hdfs://ip-172-31-34-15.ap-southeast-1.compute.internal:8020/user/livy/.sparkStaging/application_1680595456061_0008/netlib-native_ref-osx-x86_64-1.1-natives.jar\n",
      "23/04/04 13:34:08 INFO Client: Uploading resource file:/usr/lib/livy/rsc-jars/netlib-native_ref-win-i686-1.1-natives.jar -> hdfs://ip-172-31-34-15.ap-southeast-1.compute.internal:8020/user/livy/.sparkStaging/application_1680595456061_0008/netlib-native_ref-win-i686-1.1-natives.jar\n",
      "23/04/04 13:34:08 INFO Client: Uploading resource file:/usr/lib/livy/rsc-jars/netlib-native_ref-win-x86_64-1.1-natives.jar -> hdfs://ip-172-31-34-15.ap-southeast-1.compute.internal:8020/user/livy/.sparkStaging/application_1680595456061_0008/netlib-native_ref-win-x86_64-1.1-natives.jar\n",
      "23/04/04 13:34:08 INFO Client: Uploading resource file:/usr/lib/livy/rsc-jars/netlib-native_system-linux-armhf-1.1-natives.jar -> hdfs://ip-172-31-34-15.ap-southeast-1.compute.internal:8020/user/livy/.sparkStaging/application_1680595456061_0008/netlib-native_system-linux-armhf-1.1-natives.jar\n",
      "23/04/04 13:34:08 INFO Client: Uploading resource file:/usr/lib/livy/rsc-jars/netlib-native_system-linux-i686-1.1-natives.jar -> hdfs://ip-172-31-34-15.ap-southeast-1.compute.internal:8020/user/livy/.sparkStaging/application_1680595456061_0008/netlib-native_system-linux-i686-1.1-natives.jar\n",
      "23/04/04 13:34:08 INFO Client: Uploading resource file:/usr/lib/livy/rsc-jars/netlib-native_system-linux-x86_64-1.1-natives.jar -> hdfs://ip-172-31-34-15.ap-southeast-1.compute.internal:8020/user/livy/.sparkStaging/application_1680595456061_0008/netlib-native_system-linux-x86_64-1.1-natives.jar\n",
      "23/04/04 13:34:08 INFO Client: Uploading resource file:/usr/lib/livy/rsc-jars/netlib-native_system-osx-x86_64-1.1-natives.jar -> hdfs://ip-172-31-34-15.ap-southeast-1.compute.internal:8020/user/livy/.sparkStaging/application_1680595456061_0008/netlib-native_system-osx-x86_64-1.1-natives.jar\n",
      "23/04/04 13:34:08 INFO Client: Uploading resource file:/usr/lib/livy/rsc-jars/netlib-native_system-win-i686-1.1-natives.jar -> hdfs://ip-172-31-34-15.ap-southeast-1.compute.internal:8020/user/livy/.sparkStaging/application_1680595456061_0008/netlib-native_system-win-i686-1.1-natives.jar\n",
      "23/04/04 13:34:08 INFO Client: Uploading resource file:/usr/lib/livy/rsc-jars/netlib-native_system-win-x86_64-1.1-natives.jar -> hdfs://ip-172-31-34-15.ap-southeast-1.compute.internal:8020/user/livy/.sparkStaging/application_1680595456061_0008/netlib-native_system-win-x86_64-1.1-natives.jar\n",
      "23/04/04 13:34:08 INFO Client: Uploading resource file:/usr/lib/livy/rsc-jars/netty-all-4.1.17.Final.jar -> hdfs://ip-172-31-34-15.ap-southeast-1.compute.internal:8020/user/livy/.sparkStaging/application_1680595456061_0008/netty-all-4.1.17.Final.jar\n",
      "23/04/04 13:34:08 INFO Client: Uploading resource file:/usr/lib/livy/repl_2.12-jars/commons-codec-1.9.jar -> hdfs://ip-172-31-34-15.ap-southeast-1.compute.internal:8020/user/livy/.sparkStaging/application_1680595456061_0008/commons-codec-1.9.jar\n",
      "23/04/04 13:34:08 INFO Client: Uploading resource file:/usr/lib/livy/repl_2.12-jars/livy-core_2.12-0.7.1-incubating.jar -> hdfs://ip-172-31-34-15.ap-southeast-1.compute.internal:8020/user/livy/.sparkStaging/application_1680595456061_0008/livy-core_2.12-0.7.1-incubating.jar\n",
      "23/04/04 13:34:08 INFO Client: Uploading resource file:/usr/lib/livy/repl_2.12-jars/livy-repl_2.12-0.7.1-incubating.jar -> hdfs://ip-172-31-34-15.ap-southeast-1.compute.internal:8020/user/livy/.sparkStaging/application_1680595456061_0008/livy-repl_2.12-0.7.1-incubating.jar\n",
      "23/04/04 13:34:08 INFO Client: Uploading resource file:/etc/hudi/conf.dist/hudi-defaults.conf -> hdfs://ip-172-31-34-15.ap-southeast-1.compute.internal:8020/user/livy/.sparkStaging/application_1680595456061_0008/hudi-defaults.conf\n",
      "23/04/04 13:34:08 INFO Client: Uploading resource file:/usr/lib/spark/R/lib/sparkr.zip#sparkr -> hdfs://ip-172-31-34-15.ap-southeast-1.compute.internal:8020/user/livy/.sparkStaging/application_1680595456061_0008/sparkr.zip\n",
      "23/04/04 13:34:08 INFO Client: Uploading resource file:/usr/lib/spark/python/lib/pyspark.zip -> hdfs://ip-172-31-34-15.ap-southeast-1.compute.internal:8020/user/livy/.sparkStaging/application_1680595456061_0008/pyspark.zip\n",
      "23/04/04 13:34:08 INFO Client: Uploading resource file:/usr/lib/spark/python/lib/py4j-0.10.9.5-src.zip -> hdfs://ip-172-31-34-15.ap-southeast-1.compute.internal:8020/user/livy/.sparkStaging/application_1680595456061_0008/py4j-0.10.9.5-src.zip\n",
      "23/04/04 13:34:08 INFO Client: Uploading resource file:/mnt/tmp/spark-37030a41-2c32-4bb3-9f2b-2780ad6dedbe/__spark_conf__4387971303860154422.zip -> hdfs://ip-172-31-34-15.ap-southeast-1.compute.internal:8020/user/livy/.sparkStaging/application_1680595456061_0008/__spark_conf__.zip\n",
      "23/04/04 13:34:09 INFO SecurityManager: Changing view acls to: livy\n",
      "23/04/04 13:34:09 INFO SecurityManager: Changing modify acls to: livy\n",
      "23/04/04 13:34:09 INFO SecurityManager: Changing view acls groups to: \n",
      "23/04/04 13:34:09 INFO SecurityManager: Changing modify acls groups to: \n",
      "23/04/04 13:34:09 INFO SecurityManager: SecurityManager: authentication disabled; ui acls disabled; users  with view permissions: Set(livy); groups with view permissions: Set(); users  with modify permissions: Set(livy); groups with modify permissions: Set()\n",
      "23/04/04 13:34:09 INFO Client: Submitting application application_1680595456061_0008 to ResourceManager\n",
      "23/04/04 13:34:09 INFO YarnClientImpl: Submitted application application_1680595456061_0008\n",
      "23/04/04 13:34:09 INFO Client: Application report for application_1680595456061_0008 (state: ACCEPTED)\n",
      "23/04/04 13:34:09 INFO Client: \n",
      "\t client token: N/A\n",
      "\t diagnostics: [Tue Apr 04 13:34:09 +0000 2023] Application is Activated, waiting for resources to be assigned for AM.  Details : AM Partition = <DEFAULT_PARTITION> ; Partition Resource = <memory:49152, vCores:16> ; Queue's Absolute capacity = 100.0 % ; Queue's Absolute used capacity = 0.0 % ; Queue's Absolute max capacity = 100.0 % ; Queue's capacity (absolute resource) = <memory:49152, vCores:16> ; Queue's used capacity (absolute resource) = <memory:0, vCores:0> ; Queue's max capacity (absolute resource) = <memory:49152, vCores:16> ; \n",
      "\t ApplicationMaster host: N/A\n",
      "\t ApplicationMaster RPC port: -1\n",
      "\t queue: default\n",
      "\t start time: 1680615249239\n",
      "\t final status: UNDEFINED\n",
      "\t tracking URL: http://ip-172-31-34-15.ap-southeast-1.compute.internal:20888/proxy/application_1680595456061_0008/\n",
      "\t user: livy\n",
      "23/04/04 13:34:09 INFO ShutdownHookManager: Shutdown hook called\n",
      "23/04/04 13:34:09 INFO ShutdownHookManager: Deleting directory /mnt/tmp/spark-37030a41-2c32-4bb3-9f2b-2780ad6dedbe\n",
      "23/04/04 13:34:09 INFO ShutdownHookManager: Deleting directory /mnt/tmp/spark-ed01f0fc-c772-4976-a771-90550350e9ee\n",
      "\n",
      "YARN Diagnostics: \n",
      "Application application_1680595456061_0008 failed 1 times (global limit =2; local limit is =1) due to AM Container for appattempt_1680595456061_0008_000001 exited with  exitCode: 137\n",
      "Failing this attempt.Diagnostics: [2023-04-04 15:18:05.134]Container killed on request. Exit code is 137\n",
      "[2023-04-04 15:18:05.135]Container exited with a non-zero exit code 137. \n",
      "[2023-04-04 15:18:05.135]Killed by external signal\n",
      "For more detailed output, check the application tracking page: http://ip-172-31-34-15.ap-southeast-1.compute.internal:8088/cluster/app/application_1680595456061_0008 Then click on links to logs of each attempt.\n",
      ". Failing the application.\n"
     ]
    }
   ],
   "source": [
    "hub_result = hub_rdd.join(id_name, id_name.user_id_str == hub_rdd.from_user).sort(col(\"hub\").desc())\\\n",
    "    .select('from_user', 'hub', 'user_twitter_handle').distinct().limit(200)\n",
    "# write to CSV\n",
    "hub_result.sort(col(\"hub\").desc()).limit(200).write.mode('overwrite').csv(input_bucket+\"test_pokemon_hits_hubs\")"
   ]
  },
  {
   "cell_type": "code",
   "execution_count": null,
   "id": "dc1d2af3-ac45-4fa9-9fdc-b2b9eb2b5b96",
   "metadata": {},
   "outputs": [],
   "source": []
  },
  {
   "cell_type": "code",
   "execution_count": null,
   "id": "8ab3e0bb-7039-47d0-a481-3cdacb3ca4ad",
   "metadata": {},
   "outputs": [],
   "source": []
  }
 ],
 "metadata": {
  "kernelspec": {
   "display_name": "PySpark",
   "language": "python",
   "name": "pysparkkernel"
  },
  "language_info": {
   "codemirror_mode": {
    "name": "python",
    "version": 3
   },
   "file_extension": ".py",
   "mimetype": "text/x-python",
   "name": "pyspark",
   "pygments_lexer": "python3"
  }
 },
 "nbformat": 4,
 "nbformat_minor": 5
}
