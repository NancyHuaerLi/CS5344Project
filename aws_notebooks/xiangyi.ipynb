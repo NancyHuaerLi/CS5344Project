{
 "cells": [
  {
   "cell_type": "code",
   "execution_count": 7,
   "id": "6d936ab2-ff8a-4a41-8600-8612751fff0a",
   "metadata": {
    "execution": {
     "iopub.execute_input": "2023-04-03T13:47:28.045169Z",
     "iopub.status.busy": "2023-04-03T13:47:28.044844Z",
     "iopub.status.idle": "2023-04-03T13:47:28.339582Z",
     "shell.execute_reply": "2023-04-03T13:47:28.338137Z",
     "shell.execute_reply.started": "2023-04-03T13:47:28.045139Z"
    },
    "tags": []
   },
   "outputs": [
    {
     "data": {
      "application/vnd.jupyter.widget-view+json": {
       "model_id": "6f7da32e9d174f1aa660a5b53905f6f6",
       "version_major": 2,
       "version_minor": 0
      },
      "text/plain": [
       "VBox()"
      ]
     },
     "metadata": {},
     "output_type": "display_data"
    },
    {
     "data": {
      "application/vnd.jupyter.widget-view+json": {
       "model_id": "",
       "version_major": 2,
       "version_minor": 0
      },
      "text/plain": [
       "FloatProgress(value=0.0, bar_style='info', description='Progress:', layout=Layout(height='25px', width='50%'),…"
      ]
     },
     "metadata": {},
     "output_type": "display_data"
    }
   ],
   "source": [
    "import nltk\n",
    "from nltk.sentiment import SentimentIntensityAnalyzer\n",
    "# nltk.data.path.append('/root/nltk_data')"
   ]
  },
  {
   "cell_type": "code",
   "execution_count": 2,
   "id": "c9c82fe3-7498-4b71-820d-995c01c01ebf",
   "metadata": {
    "execution": {
     "iopub.execute_input": "2023-04-03T13:43:47.477950Z",
     "iopub.status.busy": "2023-04-03T13:43:47.477401Z",
     "iopub.status.idle": "2023-04-03T13:43:48.456214Z",
     "shell.execute_reply": "2023-04-03T13:43:48.450105Z",
     "shell.execute_reply.started": "2023-04-03T13:43:47.477856Z"
    },
    "tags": []
   },
   "outputs": [
    {
     "data": {
      "application/vnd.jupyter.widget-view+json": {
       "model_id": "6f0f7b27bb09452f9d28195a6ddeb28c",
       "version_major": 2,
       "version_minor": 0
      },
      "text/plain": [
       "VBox()"
      ]
     },
     "metadata": {},
     "output_type": "display_data"
    },
    {
     "data": {
      "application/vnd.jupyter.widget-view+json": {
       "model_id": "",
       "version_major": 2,
       "version_minor": 0
      },
      "text/plain": [
       "FloatProgress(value=0.0, bar_style='info', description='Progress:', layout=Layout(height='25px', width='50%'),…"
      ]
     },
     "metadata": {},
     "output_type": "display_data"
    },
    {
     "name": "stdout",
     "output_type": "stream",
     "text": [
      "True"
     ]
    }
   ],
   "source": [
    "nltk.download(\n",
    "    \"names\",\n",
    "    \"stopwords\",\n",
    "    \"state_union\",\n",
    "    # \"twitter_samples\",\n",
    "    # \"movie_reviews\",\n",
    "    \"averaged_perceptron_tagger\",\n",
    "    \"vader_lexicon\",\n",
    "    \"punkt\",\n",
    ")\n",
    "\n"
   ]
  },
  {
   "cell_type": "code",
   "execution_count": 3,
   "id": "b9188421-3200-47fe-82a9-25c5eb59f454",
   "metadata": {
    "execution": {
     "iopub.execute_input": "2023-04-03T13:43:51.046041Z",
     "iopub.status.busy": "2023-04-03T13:43:51.045497Z",
     "iopub.status.idle": "2023-04-03T13:43:51.366120Z",
     "shell.execute_reply": "2023-04-03T13:43:51.358067Z",
     "shell.execute_reply.started": "2023-04-03T13:43:51.046006Z"
    },
    "tags": []
   },
   "outputs": [
    {
     "data": {
      "application/vnd.jupyter.widget-view+json": {
       "model_id": "697b08e9889442d1bbb91aa087b5229e",
       "version_major": 2,
       "version_minor": 0
      },
      "text/plain": [
       "VBox()"
      ]
     },
     "metadata": {},
     "output_type": "display_data"
    },
    {
     "data": {
      "application/vnd.jupyter.widget-view+json": {
       "model_id": "",
       "version_major": 2,
       "version_minor": 0
      },
      "text/plain": [
       "FloatProgress(value=0.0, bar_style='info', description='Progress:', layout=Layout(height='25px', width='50%'),…"
      ]
     },
     "metadata": {},
     "output_type": "display_data"
    }
   ],
   "source": [
    "# %%local\n",
    "# ! python -m nltk\n"
   ]
  },
  {
   "cell_type": "code",
   "execution_count": 17,
   "id": "d1725b34-4cd6-457e-8a90-ae48235801e2",
   "metadata": {
    "execution": {
     "iopub.execute_input": "2023-04-03T12:56:57.212563Z",
     "iopub.status.busy": "2023-04-03T12:56:57.212230Z",
     "iopub.status.idle": "2023-04-03T12:56:57.480117Z",
     "shell.execute_reply": "2023-04-03T12:56:57.478670Z",
     "shell.execute_reply.started": "2023-04-03T12:56:57.212534Z"
    },
    "tags": []
   },
   "outputs": [
    {
     "data": {
      "application/vnd.jupyter.widget-view+json": {
       "model_id": "c2d62c675397402c8e24dbb63831f98b",
       "version_major": 2,
       "version_minor": 0
      },
      "text/plain": [
       "VBox()"
      ]
     },
     "metadata": {},
     "output_type": "display_data"
    },
    {
     "data": {
      "application/vnd.jupyter.widget-view+json": {
       "model_id": "",
       "version_major": 2,
       "version_minor": 0
      },
      "text/plain": [
       "FloatProgress(value=0.0, bar_style='info', description='Progress:', layout=Layout(height='25px', width='50%'),…"
      ]
     },
     "metadata": {},
     "output_type": "display_data"
    }
   ],
   "source": [
    "# sc.list_packages()"
   ]
  },
  {
   "cell_type": "code",
   "execution_count": 25,
   "id": "3691edfe-4a6c-4522-b8c4-da734fc7e7bc",
   "metadata": {
    "execution": {
     "iopub.execute_input": "2023-04-03T12:59:15.661633Z",
     "iopub.status.busy": "2023-04-03T12:59:15.661291Z",
     "iopub.status.idle": "2023-04-03T12:59:15.916884Z",
     "shell.execute_reply": "2023-04-03T12:59:15.915991Z",
     "shell.execute_reply.started": "2023-04-03T12:59:15.661604Z"
    },
    "tags": []
   },
   "outputs": [
    {
     "data": {
      "application/vnd.jupyter.widget-view+json": {
       "model_id": "31f90b73746a44cea652ff02dedf71f1",
       "version_major": 2,
       "version_minor": 0
      },
      "text/plain": [
       "VBox()"
      ]
     },
     "metadata": {},
     "output_type": "display_data"
    },
    {
     "data": {
      "application/vnd.jupyter.widget-view+json": {
       "model_id": "",
       "version_major": 2,
       "version_minor": 0
      },
      "text/plain": [
       "FloatProgress(value=0.0, bar_style='info', description='Progress:', layout=Layout(height='25px', width='50%'),…"
      ]
     },
     "metadata": {},
     "output_type": "display_data"
    }
   ],
   "source": [
    "# %%info"
   ]
  },
  {
   "cell_type": "code",
   "execution_count": 8,
   "id": "7639f1f9-d96e-4a66-a13c-6c5ee9ef697f",
   "metadata": {
    "execution": {
     "iopub.execute_input": "2023-04-03T13:47:32.688198Z",
     "iopub.status.busy": "2023-04-03T13:47:32.687862Z",
     "iopub.status.idle": "2023-04-03T13:47:32.958172Z",
     "shell.execute_reply": "2023-04-03T13:47:32.956194Z",
     "shell.execute_reply.started": "2023-04-03T13:47:32.688170Z"
    },
    "tags": []
   },
   "outputs": [
    {
     "data": {
      "application/vnd.jupyter.widget-view+json": {
       "model_id": "6dd5ff6fd40e4b12a40950cdc2353c15",
       "version_major": 2,
       "version_minor": 0
      },
      "text/plain": [
       "VBox()"
      ]
     },
     "metadata": {},
     "output_type": "display_data"
    },
    {
     "data": {
      "application/vnd.jupyter.widget-view+json": {
       "model_id": "",
       "version_major": 2,
       "version_minor": 0
      },
      "text/plain": [
       "FloatProgress(value=0.0, bar_style='info', description='Progress:', layout=Layout(height='25px', width='50%'),…"
      ]
     },
     "metadata": {},
     "output_type": "display_data"
    },
    {
     "name": "stderr",
     "output_type": "stream",
     "text": [
      "\n",
      "**********************************************************************\n",
      "  Resource \u001b[93mvader_lexicon\u001b[0m not found.\n",
      "  Please use the NLTK Downloader to obtain the resource:\n",
      "\n",
      "  \u001b[31m>>> import nltk\n",
      "  >>> nltk.download('vader_lexicon')\n",
      "  \u001b[0m\n",
      "  For more information see: https://www.nltk.org/data.html\n",
      "\n",
      "  Attempted to load \u001b[93msentiment/vader_lexicon.zip/vader_lexicon/vader_lexicon.txt\u001b[0m\n",
      "\n",
      "  Searched in:\n",
      "    - '/home/nltk_data'\n",
      "    - '/mnt1/yarn/usercache/livy/appcache/application_1680528261318_0001/container_1680528261318_0001_01_000001/tmp/1680529255001-0/nltk_data'\n",
      "    - '/mnt1/yarn/usercache/livy/appcache/application_1680528261318_0001/container_1680528261318_0001_01_000001/tmp/1680529255001-0/share/nltk_data'\n",
      "    - '/mnt1/yarn/usercache/livy/appcache/application_1680528261318_0001/container_1680528261318_0001_01_000001/tmp/1680529255001-0/lib/nltk_data'\n",
      "    - '/usr/share/nltk_data'\n",
      "    - '/usr/local/share/nltk_data'\n",
      "    - '/usr/lib/nltk_data'\n",
      "    - '/usr/local/lib/nltk_data'\n",
      "    - '/root/nltk_data'\n",
      "    - ''\n",
      "**********************************************************************\n",
      "\n",
      "Traceback (most recent call last):\n",
      "  File \"/usr/local/lib/python3.7/site-packages/nltk/sentiment/vader.py\", line 340, in __init__\n",
      "    self.lexicon_file = nltk.data.load(lexicon_file)\n",
      "  File \"/usr/local/lib/python3.7/site-packages/nltk/data.py\", line 750, in load\n",
      "    opened_resource = _open(resource_url)\n",
      "  File \"/usr/local/lib/python3.7/site-packages/nltk/data.py\", line 876, in _open\n",
      "    return find(path_, path + [\"\"]).open()\n",
      "  File \"/usr/local/lib/python3.7/site-packages/nltk/data.py\", line 583, in find\n",
      "    raise LookupError(resource_not_found)\n",
      "LookupError: \n",
      "**********************************************************************\n",
      "  Resource \u001b[93mvader_lexicon\u001b[0m not found.\n",
      "  Please use the NLTK Downloader to obtain the resource:\n",
      "\n",
      "  \u001b[31m>>> import nltk\n",
      "  >>> nltk.download('vader_lexicon')\n",
      "  \u001b[0m\n",
      "  For more information see: https://www.nltk.org/data.html\n",
      "\n",
      "  Attempted to load \u001b[93msentiment/vader_lexicon.zip/vader_lexicon/vader_lexicon.txt\u001b[0m\n",
      "\n",
      "  Searched in:\n",
      "    - '/home/nltk_data'\n",
      "    - '/mnt1/yarn/usercache/livy/appcache/application_1680528261318_0001/container_1680528261318_0001_01_000001/tmp/1680529255001-0/nltk_data'\n",
      "    - '/mnt1/yarn/usercache/livy/appcache/application_1680528261318_0001/container_1680528261318_0001_01_000001/tmp/1680529255001-0/share/nltk_data'\n",
      "    - '/mnt1/yarn/usercache/livy/appcache/application_1680528261318_0001/container_1680528261318_0001_01_000001/tmp/1680529255001-0/lib/nltk_data'\n",
      "    - '/usr/share/nltk_data'\n",
      "    - '/usr/local/share/nltk_data'\n",
      "    - '/usr/lib/nltk_data'\n",
      "    - '/usr/local/lib/nltk_data'\n",
      "    - '/root/nltk_data'\n",
      "    - ''\n",
      "**********************************************************************\n",
      "\n",
      "\n"
     ]
    }
   ],
   "source": [
    "siaa = SentimentIntensityAnalyzer()\n",
    "score = siaa.polarity_scores(\"Wow, hello world!\")"
   ]
  },
  {
   "cell_type": "code",
   "execution_count": 9,
   "id": "5815f1a5-1b34-42b5-8640-8a110cbf49ca",
   "metadata": {
    "execution": {
     "iopub.execute_input": "2023-04-03T13:47:41.563599Z",
     "iopub.status.busy": "2023-04-03T13:47:41.563154Z",
     "iopub.status.idle": "2023-04-03T13:47:41.866967Z",
     "shell.execute_reply": "2023-04-03T13:47:41.863624Z",
     "shell.execute_reply.started": "2023-04-03T13:47:41.563553Z"
    },
    "tags": []
   },
   "outputs": [
    {
     "data": {
      "application/vnd.jupyter.widget-view+json": {
       "model_id": "b54a95c5de6447428e9bb27e669101ce",
       "version_major": 2,
       "version_minor": 0
      },
      "text/plain": [
       "VBox()"
      ]
     },
     "metadata": {},
     "output_type": "display_data"
    },
    {
     "data": {
      "application/vnd.jupyter.widget-view+json": {
       "model_id": "",
       "version_major": 2,
       "version_minor": 0
      },
      "text/plain": [
       "FloatProgress(value=0.0, bar_style='info', description='Progress:', layout=Layout(height='25px', width='50%'),…"
      ]
     },
     "metadata": {},
     "output_type": "display_data"
    },
    {
     "name": "stderr",
     "output_type": "stream",
     "text": [
      "I/O operation on closed file\n",
      "Traceback (most recent call last):\n",
      "  File \"/usr/local/lib/python3.7/site-packages/nltk/downloader.py\", line 825, in download\n",
      "    % (msg.package.id, download_dir)\n",
      "  File \"/usr/local/lib/python3.7/site-packages/nltk/downloader.py\", line 773, in show\n",
      "    subsequent_indent=prefix + prefix2 + \" \" * 4,\n",
      "  File \"/mnt1/yarn/usercache/livy/appcache/application_1680528261318_0001/container_1680528261318_0001_01_000001/tmp/6002704041972394829\", line 537, in write\n",
      "    super(UnicodeDecodingStringIO, self).write(s)\n",
      "ValueError: I/O operation on closed file\n",
      "\n"
     ]
    }
   ],
   "source": [
    "nltk.download('vader_lexicon')"
   ]
  },
  {
   "cell_type": "code",
   "execution_count": null,
   "id": "a5c07f4f-b277-42e7-897a-c46cdaa207a1",
   "metadata": {},
   "outputs": [],
   "source": []
  }
 ],
 "metadata": {
  "kernelspec": {
   "display_name": "PySpark",
   "language": "",
   "name": "pysparkkernel"
  },
  "language_info": {
   "codemirror_mode": {
    "name": "python",
    "version": 2
   },
   "mimetype": "text/x-python",
   "name": "pyspark",
   "pygments_lexer": "python2"
  }
 },
 "nbformat": 4,
 "nbformat_minor": 5
}
