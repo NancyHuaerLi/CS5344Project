{
 "cells": [
  {
   "cell_type": "code",
   "execution_count": 1,
   "id": "8e5d1d51-ad01-458e-889c-2d70a601abf7",
   "metadata": {
    "execution": {
     "iopub.execute_input": "2023-04-07T10:43:30.053813Z",
     "iopub.status.busy": "2023-04-07T10:43:30.053181Z",
     "iopub.status.idle": "2023-04-07T10:44:02.813565Z",
     "shell.execute_reply": "2023-04-07T10:44:02.812661Z",
     "shell.execute_reply.started": "2023-04-07T10:43:30.053777Z"
    },
    "tags": []
   },
   "outputs": [
    {
     "data": {
      "application/vnd.jupyter.widget-view+json": {
       "model_id": "a6b5c23838a44ad8b593dd2118f340a4",
       "version_major": 2,
       "version_minor": 0
      },
      "text/plain": [
       "VBox()"
      ]
     },
     "metadata": {},
     "output_type": "display_data"
    },
    {
     "name": "stdout",
     "output_type": "stream",
     "text": [
      "Starting Spark application\n"
     ]
    },
    {
     "data": {
      "text/html": [
       "<table>\n",
       "<tr><th>ID</th><th>YARN Application ID</th><th>Kind</th><th>State</th><th>Spark UI</th><th>Driver log</th><th>User</th><th>Current session?</th></tr><tr><td>2</td><td>application_1680859770941_0003</td><td>pyspark</td><td>idle</td><td><a target=\"_blank\" href=\"http://ip-172-31-41-208.ap-southeast-1.compute.internal:20888/proxy/application_1680859770941_0003/\" class=\"emr-proxy-link\" emr-resource=\"j-3JUX4IM4S7ON0\n",
       "\" application-id=\"application_1680859770941_0003\">Link</a></td><td><a target=\"_blank\" href=\"http://ip-172-31-40-248.ap-southeast-1.compute.internal:8042/node/containerlogs/container_1680859770941_0003_01_000001/livy\" >Link</a></td><td>None</td><td>✔</td></tr></table>"
      ],
      "text/plain": [
       "<IPython.core.display.HTML object>"
      ]
     },
     "metadata": {},
     "output_type": "display_data"
    },
    {
     "data": {
      "application/vnd.jupyter.widget-view+json": {
       "model_id": "",
       "version_major": 2,
       "version_minor": 0
      },
      "text/plain": [
       "FloatProgress(value=0.0, bar_style='info', description='Progress:', layout=Layout(height='25px', width='50%'),…"
      ]
     },
     "metadata": {},
     "output_type": "display_data"
    },
    {
     "name": "stdout",
     "output_type": "stream",
     "text": [
      "SparkSession available as 'spark'.\n"
     ]
    },
    {
     "data": {
      "application/vnd.jupyter.widget-view+json": {
       "model_id": "",
       "version_major": 2,
       "version_minor": 0
      },
      "text/plain": [
       "FloatProgress(value=0.0, bar_style='info', description='Progress:', layout=Layout(height='25px', width='50%'),…"
      ]
     },
     "metadata": {},
     "output_type": "display_data"
    }
   ],
   "source": [
    "from pyspark.sql import functions"
   ]
  },
  {
   "cell_type": "code",
   "execution_count": 2,
   "id": "dba3b473-e471-4440-b533-56798f9ab39e",
   "metadata": {
    "execution": {
     "iopub.execute_input": "2023-04-07T10:44:02.815617Z",
     "iopub.status.busy": "2023-04-07T10:44:02.814973Z",
     "iopub.status.idle": "2023-04-07T10:44:02.885176Z",
     "shell.execute_reply": "2023-04-07T10:44:02.884298Z",
     "shell.execute_reply.started": "2023-04-07T10:44:02.815579Z"
    },
    "tags": []
   },
   "outputs": [
    {
     "data": {
      "application/vnd.jupyter.widget-view+json": {
       "model_id": "de93589afdf14c80afc0613bca37e432",
       "version_major": 2,
       "version_minor": 0
      },
      "text/plain": [
       "VBox()"
      ]
     },
     "metadata": {},
     "output_type": "display_data"
    },
    {
     "data": {
      "application/vnd.jupyter.widget-view+json": {
       "model_id": "",
       "version_major": 2,
       "version_minor": 0
      },
      "text/plain": [
       "FloatProgress(value=0.0, bar_style='info', description='Progress:', layout=Layout(height='25px', width='50%'),…"
      ]
     },
     "metadata": {},
     "output_type": "display_data"
    }
   ],
   "source": [
    "from py4j.protocol import Py4JJavaError\n",
    "from pyspark import SparkConf, SparkContext\n",
    "import pyspark\n",
    "from pyspark.sql import SparkSession, SQLContext\n",
    "from pyspark.sql.functions import explode, col, udf, concat_ws, from_json, lit, array, expr, size\n",
    "from pyspark.sql.functions import sum as _sum\n",
    "from pyspark.sql.types import *\n",
    "import json\n",
    "import os\n",
    "import gc\n",
    "from pyspark.sql.types import BooleanType\n",
    "# from pyspark.sql import SparkSession\n",
    "spark = SparkSession.builder.master(\"local[*]\").getOrCreate()"
   ]
  },
  {
   "cell_type": "code",
   "execution_count": 10,
   "id": "3a64af34-aa3b-469a-9c1f-69402660d1a4",
   "metadata": {
    "execution": {
     "iopub.execute_input": "2023-04-07T06:34:45.886380Z",
     "iopub.status.busy": "2023-04-07T06:34:45.886003Z",
     "iopub.status.idle": "2023-04-07T06:34:45.925613Z",
     "shell.execute_reply": "2023-04-07T06:34:45.924957Z",
     "shell.execute_reply.started": "2023-04-07T06:34:45.886348Z"
    }
   },
   "outputs": [
    {
     "data": {
      "application/vnd.jupyter.widget-view+json": {
       "model_id": "4bd475debbe2439db2c91a76177167c9",
       "version_major": 2,
       "version_minor": 0
      },
      "text/plain": [
       "VBox()"
      ]
     },
     "metadata": {},
     "output_type": "display_data"
    },
    {
     "data": {
      "application/vnd.jupyter.widget-view+json": {
       "model_id": "",
       "version_major": 2,
       "version_minor": 0
      },
      "text/plain": [
       "FloatProgress(value=0.0, bar_style='info', description='Progress:', layout=Layout(height='25px', width='50%'),…"
      ]
     },
     "metadata": {},
     "output_type": "display_data"
    }
   ],
   "source": []
  },
  {
   "cell_type": "code",
   "execution_count": null,
   "id": "181455c7-de7c-466e-b9c0-e4f9872e498c",
   "metadata": {},
   "outputs": [],
   "source": [
    "# res"
   ]
  },
  {
   "cell_type": "code",
   "execution_count": 3,
   "id": "67fdf482-fb8a-4d7e-be68-90b25cb5d835",
   "metadata": {
    "execution": {
     "iopub.execute_input": "2023-04-07T06:27:11.685983Z",
     "iopub.status.busy": "2023-04-07T06:27:11.683448Z",
     "iopub.status.idle": "2023-04-07T06:27:21.029272Z",
     "shell.execute_reply": "2023-04-07T06:27:21.028305Z",
     "shell.execute_reply.started": "2023-04-07T06:27:11.685943Z"
    }
   },
   "outputs": [
    {
     "data": {
      "application/vnd.jupyter.widget-view+json": {
       "model_id": "fae042ea2cc6499c9d730b7e7eaf6df8",
       "version_major": 2,
       "version_minor": 0
      },
      "text/plain": [
       "VBox()"
      ]
     },
     "metadata": {},
     "output_type": "display_data"
    },
    {
     "data": {
      "application/vnd.jupyter.widget-view+json": {
       "model_id": "",
       "version_major": 2,
       "version_minor": 0
      },
      "text/plain": [
       "FloatProgress(value=0.0, bar_style='info', description='Progress:', layout=Layout(height='25px', width='50%'),…"
      ]
     },
     "metadata": {},
     "output_type": "display_data"
    }
   ],
   "source": [
    "input_bucket = 's3://cs5344-twitter-project'\n",
    "test_pokemon_damping_sdf = spark.read.format('csv').options(header='False').load('s3://cs5344-twitter-project/test_pokemon_damping').cache()"
   ]
  },
  {
   "cell_type": "code",
   "execution_count": 43,
   "id": "4cb56252-acd9-4dab-b22b-1fc688f41654",
   "metadata": {
    "execution": {
     "iopub.execute_input": "2023-04-07T07:05:40.603700Z",
     "iopub.status.busy": "2023-04-07T07:05:40.603302Z",
     "iopub.status.idle": "2023-04-07T07:05:40.659697Z",
     "shell.execute_reply": "2023-04-07T07:05:40.658710Z",
     "shell.execute_reply.started": "2023-04-07T07:05:40.603663Z"
    }
   },
   "outputs": [
    {
     "data": {
      "application/vnd.jupyter.widget-view+json": {
       "model_id": "f56aa7dcea27431b9f16f8c366fa97d2",
       "version_major": 2,
       "version_minor": 0
      },
      "text/plain": [
       "VBox()"
      ]
     },
     "metadata": {},
     "output_type": "display_data"
    },
    {
     "data": {
      "application/vnd.jupyter.widget-view+json": {
       "model_id": "",
       "version_major": 2,
       "version_minor": 0
      },
      "text/plain": [
       "FloatProgress(value=0.0, bar_style='info', description='Progress:', layout=Layout(height='25px', width='50%'),…"
      ]
     },
     "metadata": {},
     "output_type": "display_data"
    },
    {
     "name": "stdout",
     "output_type": "stream",
     "text": [
      "DataFrame[user_id_str: string]"
     ]
    }
   ],
   "source": [
    "pokemon"
   ]
  },
  {
   "cell_type": "code",
   "execution_count": 31,
   "id": "08792e33-e200-4057-b324-f4e0976ebd8b",
   "metadata": {
    "execution": {
     "iopub.execute_input": "2023-04-07T07:03:12.658435Z",
     "iopub.status.busy": "2023-04-07T07:03:12.657746Z",
     "iopub.status.idle": "2023-04-07T07:03:12.931335Z",
     "shell.execute_reply": "2023-04-07T07:03:12.930581Z",
     "shell.execute_reply.started": "2023-04-07T07:03:12.658390Z"
    },
    "tags": []
   },
   "outputs": [
    {
     "data": {
      "application/vnd.jupyter.widget-view+json": {
       "model_id": "bb8a819d07ec4fde821f147607bbce1b",
       "version_major": 2,
       "version_minor": 0
      },
      "text/plain": [
       "VBox()"
      ]
     },
     "metadata": {},
     "output_type": "display_data"
    },
    {
     "data": {
      "application/vnd.jupyter.widget-view+json": {
       "model_id": "",
       "version_major": 2,
       "version_minor": 0
      },
      "text/plain": [
       "FloatProgress(value=0.0, bar_style='info', description='Progress:', layout=Layout(height='25px', width='50%'),…"
      ]
     },
     "metadata": {},
     "output_type": "display_data"
    },
    {
     "name": "stdout",
     "output_type": "stream",
     "text": [
      "+-------------------+\n",
      "|        user_id_str|\n",
      "+-------------------+\n",
      "|          130447415|\n",
      "|         2786677338|\n",
      "|          307902310|\n",
      "| 811765148595535872|\n",
      "|          323091128|\n",
      "|           29758446|\n",
      "| 909119962572242944|\n",
      "|            5162861|\n",
      "| 987228577522376704|\n",
      "|1470439914953011204|\n",
      "|         3095001124|\n",
      "|1349579108187992071|\n",
      "|1441557548427927554|\n",
      "|1441557548427927554|\n",
      "|          252087695|\n",
      "|         1149178590|\n",
      "|1302006102364745728|\n",
      "|         2597010860|\n",
      "|             890891|\n",
      "|1365337673074933765|\n",
      "+-------------------+\n",
      "only showing top 20 rows"
     ]
    }
   ],
   "source": [
    "pokemon = test_pokemon_damping_sdf.select(col(\"_c0\").alias(\"user_id_str\"))"
   ]
  },
  {
   "cell_type": "code",
   "execution_count": 4,
   "id": "698ea733-51f3-4aae-a5b9-df19f81a32f2",
   "metadata": {
    "execution": {
     "iopub.execute_input": "2023-04-07T06:27:21.031138Z",
     "iopub.status.busy": "2023-04-07T06:27:21.030815Z",
     "iopub.status.idle": "2023-04-07T06:27:26.315963Z",
     "shell.execute_reply": "2023-04-07T06:27:26.315102Z",
     "shell.execute_reply.started": "2023-04-07T06:27:21.031101Z"
    },
    "tags": []
   },
   "outputs": [
    {
     "data": {
      "application/vnd.jupyter.widget-view+json": {
       "model_id": "40abe99730a04b3bbe6ea1f31d224215",
       "version_major": 2,
       "version_minor": 0
      },
      "text/plain": [
       "VBox()"
      ]
     },
     "metadata": {},
     "output_type": "display_data"
    },
    {
     "data": {
      "application/vnd.jupyter.widget-view+json": {
       "model_id": "",
       "version_major": 2,
       "version_minor": 0
      },
      "text/plain": [
       "FloatProgress(value=0.0, bar_style='info', description='Progress:', layout=Layout(height='25px', width='50%'),…"
      ]
     },
     "metadata": {},
     "output_type": "display_data"
    }
   ],
   "source": [
    "# test_pokemon_damping_sdf.select(\"_c0\").show()\n",
    "# id info\n",
    "from pyspark.sql.functions import collect_set\n",
    "id_info = set(test_pokemon_damping_sdf.select(collect_set(\"_c0\")).first()[0])"
   ]
  },
  {
   "cell_type": "code",
   "execution_count": null,
   "id": "e73d4e08-8b51-48a8-89cd-560ebf47621d",
   "metadata": {},
   "outputs": [],
   "source": [
    "# user info"
   ]
  },
  {
   "cell_type": "code",
   "execution_count": 10,
   "id": "a64743c1-0366-4e0a-8f48-42c8cc1df4b2",
   "metadata": {
    "execution": {
     "iopub.execute_input": "2023-04-07T09:49:45.199740Z",
     "iopub.status.busy": "2023-04-07T09:49:45.199424Z",
     "iopub.status.idle": "2023-04-07T09:49:45.247163Z",
     "shell.execute_reply": "2023-04-07T09:49:45.246489Z",
     "shell.execute_reply.started": "2023-04-07T09:49:45.199712Z"
    },
    "tags": []
   },
   "outputs": [
    {
     "data": {
      "application/vnd.jupyter.widget-view+json": {
       "model_id": "45632f866aae47a8b6bca8c23164bfa7",
       "version_major": 2,
       "version_minor": 0
      },
      "text/plain": [
       "VBox()"
      ]
     },
     "metadata": {},
     "output_type": "display_data"
    },
    {
     "data": {
      "application/vnd.jupyter.widget-view+json": {
       "model_id": "",
       "version_major": 2,
       "version_minor": 0
      },
      "text/plain": [
       "FloatProgress(value=0.0, bar_style='info', description='Progress:', layout=Layout(height='25px', width='50%'),…"
      ]
     },
     "metadata": {},
     "output_type": "display_data"
    }
   ],
   "source": [
    "input_bucket = 's3://cs5344-twitter-project'\n",
    "path = '/{}/*.json.gz'\n",
    "folder_list = ['20220122', '20220123','20220124','20220125', \n",
    "               '20220126', '20220127','20220128', '20220129',\n",
    "               '20220130', '20220131', '20220201', '20220202',\n",
    "               '20220203', '20220204', '20220205', '20220206',\n",
    "               '20220207', '20220208', '20220209', '20220210',\n",
    "               '20220211', '20220212', '20220213', '20220214',\n",
    "               '20220215']"
   ]
  },
  {
   "cell_type": "code",
   "execution_count": 11,
   "id": "7c2e9eb1-36ef-4981-b5fb-0d3e508b0a31",
   "metadata": {
    "execution": {
     "iopub.execute_input": "2023-04-07T09:49:48.171291Z",
     "iopub.status.busy": "2023-04-07T09:49:48.170965Z",
     "iopub.status.idle": "2023-04-07T09:50:49.669762Z",
     "shell.execute_reply": "2023-04-07T09:50:49.669067Z",
     "shell.execute_reply.started": "2023-04-07T09:49:48.171261Z"
    },
    "tags": []
   },
   "outputs": [
    {
     "data": {
      "application/vnd.jupyter.widget-view+json": {
       "model_id": "f7e6d2660ffc4f68aec5e8890e4812d5",
       "version_major": 2,
       "version_minor": 0
      },
      "text/plain": [
       "VBox()"
      ]
     },
     "metadata": {},
     "output_type": "display_data"
    },
    {
     "data": {
      "application/vnd.jupyter.widget-view+json": {
       "model_id": "",
       "version_major": 2,
       "version_minor": 0
      },
      "text/plain": [
       "FloatProgress(value=0.0, bar_style='info', description='Progress:', layout=Layout(height='25px', width='50%'),…"
      ]
     },
     "metadata": {},
     "output_type": "display_data"
    }
   ],
   "source": [
    "# for folder in folder_list:\n",
    "raw = spark.read.json(input_bucket + path.format(folder_list[-1]), allowBackslashEscapingAnyCharacter=True)\n",
    "# raw.show()"
   ]
  },
  {
   "cell_type": "code",
   "execution_count": 7,
   "id": "464eb99a-0058-4eb4-8172-8ec2c3a75ac9",
   "metadata": {
    "execution": {
     "iopub.execute_input": "2023-04-07T06:28:04.056224Z",
     "iopub.status.busy": "2023-04-07T06:28:04.055626Z",
     "iopub.status.idle": "2023-04-07T06:29:13.551109Z",
     "shell.execute_reply": "2023-04-07T06:29:13.550307Z",
     "shell.execute_reply.started": "2023-04-07T06:28:04.056189Z"
    }
   },
   "outputs": [
    {
     "data": {
      "application/vnd.jupyter.widget-view+json": {
       "model_id": "2e5e60b701be47298443179061d91649",
       "version_major": 2,
       "version_minor": 0
      },
      "text/plain": [
       "VBox()"
      ]
     },
     "metadata": {},
     "output_type": "display_data"
    },
    {
     "data": {
      "application/vnd.jupyter.widget-view+json": {
       "model_id": "",
       "version_major": 2,
       "version_minor": 0
      },
      "text/plain": [
       "FloatProgress(value=0.0, bar_style='info', description='Progress:', layout=Layout(height='25px', width='50%'),…"
      ]
     },
     "metadata": {},
     "output_type": "display_data"
    },
    {
     "name": "stdout",
     "output_type": "stream",
     "text": [
      "+------------+-----------+--------------------+------------------+------------------------+--------------------+--------------------+--------------+---------+------------+----+-------------------+-------------------+-----------------------+---------------------+-------------------------+-------------------+-----------------------+---------------+----+-----+------------------+-----------+-------------+----------------+--------------------+-----------------------+-----------+-------------+---------+--------------------+--------------------+---------------------+-------------+---------+--------------------+------------------+---------------------+\n",
      "|contributors|coordinates|          created_at|display_text_range|                entities|   extended_entities|      extended_tweet|favorite_count|favorited|filter_level| geo|                 id|             id_str|in_reply_to_screen_name|in_reply_to_status_id|in_reply_to_status_id_str|in_reply_to_user_id|in_reply_to_user_id_str|is_quote_status|lang|place|possibly_sensitive|quote_count|quoted_status|quoted_status_id|quoted_status_id_str|quoted_status_permalink|reply_count|retweet_count|retweeted|    retweeted_status|              source|                 text| timestamp_ms|truncated|                user|withheld_copyright|withheld_in_countries|\n",
      "+------------+-----------+--------------------+------------------+------------------------+--------------------+--------------------+--------------+---------+------------+----+-------------------+-------------------+-----------------------+---------------------+-------------------------+-------------------+-----------------------+---------------+----+-----+------------------+-----------+-------------+----------------+--------------------+-----------------------+-----------+-------------+---------+--------------------+--------------------+---------------------+-------------+---------+--------------------+------------------+---------------------+\n",
      "|        null|       null|Tue Feb 15 16:32:...|          [29, 68]|    {[], null, [], []...|                null|                null|             0|    false|         low|null|1493624361605021703|1493624361605021703|          HansenTindahl|  1493622450302689281|      1493622450302689281| 731166987200696320|     731166987200696320|          false|  en| null|              null|          0|         null|            null|                null|                   null|          0|            0|    false|                null|<a href=\"http://t...| @HansenTindahl @C...|1644942772662|    false|{false, Thu Feb 1...|              null|                 null|\n",
      "|        null|       null|Tue Feb 15 16:35:...|              null|    {[], [{null, null...|{[{null, null, pi...|                null|             0|    false|         low|null|1493624923641761793|1493624923641761793|                   null|                 null|                     null|               null|                   null|          false|  pt| null|             false|          0|         null|            null|                null|                   null|          0|            0|    false|{null, null, Sun ...|<a href=\"http://t...| RT @Naiarazevedo:...|1644942906662|    false|{false, Thu Oct 2...|              null|                 null|\n",
      "|        null|       null|Tue Feb 15 16:32:...|              null|    {[], [{null, null...|{[{null, null, pi...|                null|             0|    false|         low|null|1493624369972613121|1493624369972613121|                   null|                 null|                     null|               null|                   null|          false|  en| null|             false|          0|         null|            null|                null|                   null|          0|            0|    false|{null, null, Tue ...|<a href=\"http://t...| RT @EBOYSEONG: ja...|1644942774657|    false|{false, Sat Jan 0...|              null|                 null|\n",
      "|        null|       null|Tue Feb 15 16:35:...|              null|    {[], [{null, null...|{[{null, null, pi...|                null|             0|    false|         low|null|1493624986539548674|1493624986539548674|                   null|                 null|                     null|               null|                   null|          false|  en| null|             false|          0|         null|            null|                null|                   null|          0|            0|    false|{null, null, Mon ...|<a href=\"https://...| RT @sariiuu_: bac...|1644942921658|    false|{false, Thu May 1...|              null|                 null|\n",
      "|        null|       null|Tue Feb 15 16:35:...|              null|    {[], null, [], []...|                null|                null|             0|    false|         low|null|1493624957175140354|1493624957175140354|                   null|                 null|                     null|               null|                   null|          false|  en| null|              null|          0|         null|            null|                null|                   null|          0|            0|    false|{null, null, Tue ...|<a href=\"http://t...| RT @zei_squirrel:...|1644942914657|    false|{false, Thu Jul 2...|              null|                 null|\n",
      "|        null|       null|Tue Feb 15 16:32:...|          [17, 64]|    {[], null, [], []...|                null|                null|             0|    false|         low|null|1493624361596731392|1493624361596731392|        EASIERTH4NLYING|  1493620393739010050|      1493620393739010050|1418715477862490113|    1418715477862490113|          false|  tr| null|              null|          0|         null|            null|                null|                   null|          0|            0|    false|                null|<a href=\"http://t...| @EASIERTH4NLYING ...|1644942772660|    false|{false, Sun May 2...|              null|                 null|\n",
      "|        null|       null|Tue Feb 15 16:32:...|            [7, 8]|    {[], null, [], []...|                null|                null|             0|    false|         low|null|1493624365816107012|1493624365816107012|                  rmqau|  1493621633436819456|      1493621633436819456|1484634891740495877|    1484634891740495877|          false| und| null|              null|          0|         null|            null|                null|                   null|          0|            0|    false|                null|<a href=\"https://...|             @rmqau .|1644942773666|    false|{false, Sun May 0...|              null|                 null|\n",
      "|        null|       null|Tue Feb 15 16:35:...|              null|    {[], null, [], []...|                null|                null|             0|    false|         low|null|1493624944596774913|1493624944596774913|                   null|                 null|                     null|               null|                   null|          false|  en| null|              null|          0|         null|            null|                null|                   null|          0|            0|    false|{null, null, Mon ...|<a href=\"http://t...| RT @TulsiGabbard:...|1644942911658|    false|{false, Tue Aug 0...|              null|                 null|\n",
      "|        null|       null|Tue Feb 15 16:35:...|              null|    {[], [{null, null...|{[{null, null, pi...|                null|             0|    false|         low|null|1493624932038852608|1493624932038852608|                   null|                 null|                     null|               null|                   null|          false|  es| null|             false|          0|         null|            null|                null|                   null|          0|            0|    false|{null, null, Tue ...|<a href=\"http://t...| RT @Diosadelamar:...|1644942908664|    false|{false, Thu Dec 0...|              null|                 null|\n",
      "|        null|       null|Tue Feb 15 16:35:...|              null|    {[], [{null, null...|{[{null, null, pi...|                null|             0|    false|         low|null|1493624932043042828|1493624932043042828|                   null|                 null|                     null|               null|                   null|          false|  pt| null|             false|          0|         null|            null|                null|                   null|          0|            0|    false|{null, null, Sun ...|<a href=\"http://t...| RT @kpopnanet: a ...|1644942908665|    false|{false, Fri Jul 3...|              null|                 null|\n",
      "|        null|       null|Tue Feb 15 16:32:...|              null|    {[], null, [], []...|                null|                null|             0|    false|         low|null|1493624311265230848|1493624311265230848|                   null|                 null|                     null|               null|                   null|          false|  en| null|              null|          0|         null|            null|                null|                   null|          0|            0|    false|{null, null, Tue ...|<a href=\"http://t...| RT @Gurdeepgurus:...|1644942760660|    false|{false, Sat Jun 0...|              null|                 null|\n",
      "|        null|       null|Tue Feb 15 16:35:...|              null|  {[{[111, 119], あっ...|                null|                null|             0|    false|         low|null|1493624957191868417|1493624957191868417|                   null|                 null|                     null|               null|                   null|          false|  ja| null|             false|          0|         null|            null|                null|                   null|          0|            0|    false|{null, null, Tue ...|<a href=\"http://t...|RT @elexoxoxo: 2月...|1644942914661|    false|{false, Tue May 2...|              null|                 null|\n",
      "|        null|       null|Tue Feb 15 16:35:...|          [16, 16]|    {[], [{null, null...|{[{null, null, pi...|                null|             0|    false|         low|null|1493624944592244738|1493624944592244738|        myogiadityanath|  1493568752218439681|      1493568752218439681|         3437532637|             3437532637|          false| und| null|             false|          0|         null|            null|                null|                   null|          0|            0|    false|                null|<a href=\"http://t...| @myogiadityanath ...|1644942911657|    false|{false, Mon Jan 2...|              null|                 null|\n",
      "|        null|       null|Tue Feb 15 16:32:...|              null|    {[], [{{null, nul...|{[{{null, null, f...|                null|             0|    false|         low|null|1493624357402587137|1493624357402587137|                   null|                 null|                     null|               null|                   null|          false|  in| null|              true|          0|         null|            null|                null|                   null|          0|            0|    false|{null, null, Tue ...|<a href=\"http://t...| RT @swagysexy12: ...|1644942771660|    false|{false, Sun Dec 0...|              null|                 null|\n",
      "|        null|       null|Tue Feb 15 16:35:...|              null|{[{[31, 42], ファミマ...|{[{null, null, pi...|                null|             0|    false|         low|null|1493624957196451840|1493624957196451840|                   null|                 null|                     null|               null|                   null|          false|  ja| null|             false|          0|         null|            null|                null|                   null|          0|            0|    false|{null, null, Tue ...|<a href=\"https://...| RT @BridgestoneBl...|1644942914662|    false|{false, Fri Jul 0...|              null|                 null|\n",
      "|        null|       null|Tue Feb 15 16:35:...|              null|    {[], null, [], []...|                null|                null|             0|    false|         low|null|1493624957212975108|1493624957212975108|                   null|                 null|                     null|               null|                   null|          false|  en| null|              null|          0|         null|            null|                null|                   null|          0|            0|    false|{null, null, Mon ...|<a href=\"http://t...| RT @Jules31415: T...|1644942914666|    false|{false, Sat Dec 2...|              null|                 null|\n",
      "|        null|       null|Tue Feb 15 16:35:...|              null|    {[], null, [], []...|                null|                null|             0|    false|         low|null|1493624957208866819|1493624957208866819|                   null|                 null|                     null|               null|                   null|          false|  en| null|              null|          0|         null|            null|                null|                   null|          0|            0|    false|{null, null, Tue ...|<a href=\"http://t...| RT @WizkidVotinZo...|1644942914665|    false|{false, Tue Nov 2...|              null|                 null|\n",
      "|        null|       null|Tue Feb 15 16:35:...|          [9, 140]|    {[], null, [], [{...|                null|{[9, 270], {[], n...|             0|    false|         low|null|1493624948824416262|1493624948824416262|                ss1212x|  1493570857670778884|      1493570857670778884| 917416319070371840|     917416319070371840|          false|  ar| null|             false|          0|         null|            null|                null|                   null|          0|            0|    false|                null|<a href=\"http://t...| @ss1212x 1- عمال ...|1644942912666|     true|{false, Sat Feb 1...|              null|                 null|\n",
      "|        null|       null|Tue Feb 15 16:35:...|              null|    {[], null, [], []...|                null|                null|             0|    false|         low|null|1493624990759018496|1493624990759018496|                   null|                 null|                     null|               null|                   null|          false|  pt| null|              null|          0|         null|            null|                null|                   null|          0|            0|    false|{null, null, Tue ...|<a href=\"http://t...| RT @GilDoVigor: N...|1644942922664|    false|{false, Fri Apr 1...|              null|                 null|\n",
      "|        null|       null|Tue Feb 15 16:32:...|              null|    {[], [{null, null...|{[{null, null, pi...|                null|             0|    false|         low|null|1493624319662080000|1493624319662080000|                   null|                 null|                     null|               null|                   null|          false|  es| null|             false|          0|         null|            null|                null|                   null|          0|            0|    false|{null, null, Wed ...|<a href=\"http://t...| RT @medellinhot10...|1644942762662|    false|{false, Tue Dec 0...|              null|                 null|\n",
      "+------------+-----------+--------------------+------------------+------------------------+--------------------+--------------------+--------------+---------+------------+----+-------------------+-------------------+-----------------------+---------------------+-------------------------+-------------------+-----------------------+---------------+----+-----+------------------+-----------+-------------+----------------+--------------------+-----------------------+-----------+-------------+---------+--------------------+--------------------+---------------------+-------------+---------+--------------------+------------------+---------------------+\n",
      "only showing top 20 rows"
     ]
    }
   ],
   "source": [
    "# for folder in folder_list:\n",
    "raw = spark.read.json(input_bucket + path.format(folder_list[-1]), allowBackslashEscapingAnyCharacter=True)\n",
    "# raw.show()"
   ]
  },
  {
   "cell_type": "markdown",
   "id": "6b8e9ffe-6d76-46da-bedb-db1074476362",
   "metadata": {},
   "source": [
    "'favorited':Nullable. Indicates whether this Tweet has been liked by the authenticating user. Example:\"favorited\":true\n",
    "'entities': Entities which have been parsed out of the text of the Tweet. Additionally see Entities in Twitter Objects . Example"
   ]
  },
  {
   "cell_type": "code",
   "execution_count": 6,
   "id": "f5c093a6-410c-4773-b888-da0df1bd4744",
   "metadata": {
    "execution": {
     "iopub.execute_input": "2023-04-07T06:27:30.654805Z",
     "iopub.status.busy": "2023-04-07T06:27:30.654382Z",
     "iopub.status.idle": "2023-04-07T06:27:30.715071Z",
     "shell.execute_reply": "2023-04-07T06:27:30.714257Z",
     "shell.execute_reply.started": "2023-04-07T06:27:30.654766Z"
    },
    "tags": []
   },
   "outputs": [
    {
     "data": {
      "application/vnd.jupyter.widget-view+json": {
       "model_id": "152226a4b5814fa19a13f9ba4892a294",
       "version_major": 2,
       "version_minor": 0
      },
      "text/plain": [
       "VBox()"
      ]
     },
     "metadata": {},
     "output_type": "display_data"
    },
    {
     "data": {
      "application/vnd.jupyter.widget-view+json": {
       "model_id": "",
       "version_major": 2,
       "version_minor": 0
      },
      "text/plain": [
       "FloatProgress(value=0.0, bar_style='info', description='Progress:', layout=Layout(height='25px', width='50%'),…"
      ]
     },
     "metadata": {},
     "output_type": "display_data"
    },
    {
     "name": "stderr",
     "output_type": "stream",
     "text": [
      "An error was encountered:\n",
      "name 'raw' is not defined\n",
      "Traceback (most recent call last):\n",
      "NameError: name 'raw' is not defined\n",
      "\n"
     ]
    }
   ],
   "source": [
    "raw.columns"
   ]
  },
  {
   "cell_type": "code",
   "execution_count": null,
   "id": "db4e250f-4895-404b-a460-0940ece2de84",
   "metadata": {},
   "outputs": [],
   "source": [
    "# verified, followers_count, friends_count, listed_count, favourites_count, statuses_count"
   ]
  },
  {
   "cell_type": "code",
   "execution_count": 8,
   "id": "1e34954f-7ea7-48c7-acc1-ee23df305f89",
   "metadata": {
    "execution": {
     "iopub.execute_input": "2023-04-07T06:33:08.065052Z",
     "iopub.status.busy": "2023-04-07T06:33:08.064645Z",
     "iopub.status.idle": "2023-04-07T06:33:08.319200Z",
     "shell.execute_reply": "2023-04-07T06:33:08.318297Z",
     "shell.execute_reply.started": "2023-04-07T06:33:08.065016Z"
    },
    "tags": []
   },
   "outputs": [
    {
     "data": {
      "application/vnd.jupyter.widget-view+json": {
       "model_id": "3886fde76c504564a99cbf0d16851025",
       "version_major": 2,
       "version_minor": 0
      },
      "text/plain": [
       "VBox()"
      ]
     },
     "metadata": {},
     "output_type": "display_data"
    },
    {
     "data": {
      "application/vnd.jupyter.widget-view+json": {
       "model_id": "",
       "version_major": 2,
       "version_minor": 0
      },
      "text/plain": [
       "FloatProgress(value=0.0, bar_style='info', description='Progress:', layout=Layout(height='25px', width='50%'),…"
      ]
     },
     "metadata": {},
     "output_type": "display_data"
    }
   ],
   "source": [
    "# https://developer.twitter.com/en/docs/twitter-api/v1/data-dictionary/object-model/tweet\n",
    "# https://developer.twitter.com/en/docs/twitter-api/v1/data-dictionary/object-model/user\n",
    "# user,The user who posted this Tweet. See User data dictionary for complete list of attributes.\n",
    "# Example highlighting select attributes:\n",
    "# The UTC datetime that the user account was created on Twitter. Example:\n",
    "# statuses_count, The number of Tweets (including retweets) issued by the user\n",
    "# isted_count, The number of public lists that this user is a member of. Example:\n",
    "user_df = raw.select(\n",
    "    col(\"created_at\").alias(\"tweet_created_at\"),\n",
    "    col(\"user.id_str\").alias(\"user_id_str\"),\n",
    "    col(\"user.screen_name\").alias(\"user_twitter_handle\"),\n",
    "    \"user.verified\",\n",
    "    \"user.followers_count\",\n",
    "    \"user.friends_count\",\n",
    "    \"user.favourites_count\",\n",
    "    \"user.statuses_count\",\n",
    "    \"user.created_at\"\n",
    ")"
   ]
  },
  {
   "cell_type": "code",
   "execution_count": 17,
   "id": "adfc2059-d3eb-48da-ac96-58df034afed0",
   "metadata": {
    "execution": {
     "iopub.execute_input": "2023-04-07T06:40:09.284548Z",
     "iopub.status.busy": "2023-04-07T06:40:09.284156Z",
     "iopub.status.idle": "2023-04-07T06:40:09.544390Z",
     "shell.execute_reply": "2023-04-07T06:40:09.543485Z",
     "shell.execute_reply.started": "2023-04-07T06:40:09.284504Z"
    }
   },
   "outputs": [
    {
     "data": {
      "application/vnd.jupyter.widget-view+json": {
       "model_id": "9370636e0e674910b404334495a6c5e6",
       "version_major": 2,
       "version_minor": 0
      },
      "text/plain": [
       "VBox()"
      ]
     },
     "metadata": {},
     "output_type": "display_data"
    },
    {
     "data": {
      "application/vnd.jupyter.widget-view+json": {
       "model_id": "",
       "version_major": 2,
       "version_minor": 0
      },
      "text/plain": [
       "FloatProgress(value=0.0, bar_style='info', description='Progress:', layout=Layout(height='25px', width='50%'),…"
      ]
     },
     "metadata": {},
     "output_type": "display_data"
    },
    {
     "name": "stdout",
     "output_type": "stream",
     "text": [
      "['tweet_created_at', 'user_id_str', 'user_twitter_handle', 'verified', 'followers_count', 'friends_count', 'favourites_count', 'statuses_count', 'created_at']"
     ]
    }
   ],
   "source": [
    "user_df.columns"
   ]
  },
  {
   "cell_type": "code",
   "execution_count": 13,
   "id": "66f2f4c9-18a8-4364-a02a-fc522285a02b",
   "metadata": {
    "execution": {
     "iopub.execute_input": "2023-04-07T06:36:56.007024Z",
     "iopub.status.busy": "2023-04-07T06:36:56.006626Z",
     "iopub.status.idle": "2023-04-07T06:36:56.256102Z",
     "shell.execute_reply": "2023-04-07T06:36:56.255167Z",
     "shell.execute_reply.started": "2023-04-07T06:36:56.006989Z"
    },
    "tags": []
   },
   "outputs": [
    {
     "data": {
      "application/vnd.jupyter.widget-view+json": {
       "model_id": "6397f0042a1f4c4cbea68750882a07b6",
       "version_major": 2,
       "version_minor": 0
      },
      "text/plain": [
       "VBox()"
      ]
     },
     "metadata": {},
     "output_type": "display_data"
    },
    {
     "data": {
      "application/vnd.jupyter.widget-view+json": {
       "model_id": "",
       "version_major": 2,
       "version_minor": 0
      },
      "text/plain": [
       "FloatProgress(value=0.0, bar_style='info', description='Progress:', layout=Layout(height='25px', width='50%'),…"
      ]
     },
     "metadata": {},
     "output_type": "display_data"
    }
   ],
   "source": [
    "user_df.createOrReplaceTempView(\"user_df\")"
   ]
  },
  {
   "cell_type": "code",
   "execution_count": 27,
   "id": "5e5f20de-9d1d-445c-8f41-63c5bb792fd0",
   "metadata": {
    "execution": {
     "iopub.execute_input": "2023-04-07T06:56:08.333469Z",
     "iopub.status.busy": "2023-04-07T06:56:08.330840Z",
     "iopub.status.idle": "2023-04-07T06:56:47.751654Z",
     "shell.execute_reply": "2023-04-07T06:56:47.750840Z",
     "shell.execute_reply.started": "2023-04-07T06:56:08.333423Z"
    },
    "tags": []
   },
   "outputs": [
    {
     "data": {
      "application/vnd.jupyter.widget-view+json": {
       "model_id": "ccd809f06ef4414d9840d480fda037d4",
       "version_major": 2,
       "version_minor": 0
      },
      "text/plain": [
       "VBox()"
      ]
     },
     "metadata": {},
     "output_type": "display_data"
    },
    {
     "data": {
      "application/vnd.jupyter.widget-view+json": {
       "model_id": "",
       "version_major": 2,
       "version_minor": 0
      },
      "text/plain": [
       "FloatProgress(value=0.0, bar_style='info', description='Progress:', layout=Layout(height='25px', width='50%'),…"
      ]
     },
     "metadata": {},
     "output_type": "display_data"
    },
    {
     "name": "stdout",
     "output_type": "stream",
     "text": [
      "+-------------------+--------+\n",
      "|        user_id_str|count(1)|\n",
      "+-------------------+--------+\n",
      "|         2911177863|       1|\n",
      "|1468059641313918976|       2|\n",
      "|          604260054|       1|\n",
      "|         2791052843|       1|\n",
      "|          275538641|       1|\n",
      "|1076305277228597248|       1|\n",
      "|1476021185322225664|      11|\n",
      "|1252909103061532672|       1|\n",
      "| 730410821583441920|       1|\n",
      "|1469306942862467084|       1|\n",
      "|1486698341430083585|       5|\n",
      "|1180832638707228674|       1|\n",
      "| 759256334554566656|       1|\n",
      "| 925770679299067905|       4|\n",
      "|          561566059|       1|\n",
      "|1466670684344627201|       3|\n",
      "|1446198790042570759|       1|\n",
      "|1487143176230129668|       7|\n",
      "|1072645079376965632|       1|\n",
      "|1476874579712909314|       9|\n",
      "+-------------------+--------+\n",
      "only showing top 20 rows"
     ]
    }
   ],
   "source": [
    "user_filter = spark.sql(\"\"\"\n",
    "select user_id_str,count(1)\n",
    "from user_df\n",
    "group by user_id_str\n",
    "\"\"\").show()"
   ]
  },
  {
   "cell_type": "code",
   "execution_count": 28,
   "id": "1d54b3ac-c5ce-49fc-9b65-ce47a9c22531",
   "metadata": {
    "execution": {
     "iopub.execute_input": "2023-04-07T06:59:08.987348Z",
     "iopub.status.busy": "2023-04-07T06:59:08.986914Z",
     "iopub.status.idle": "2023-04-07T06:59:54.396200Z",
     "shell.execute_reply": "2023-04-07T06:59:54.395311Z",
     "shell.execute_reply.started": "2023-04-07T06:59:08.987306Z"
    },
    "tags": []
   },
   "outputs": [
    {
     "data": {
      "application/vnd.jupyter.widget-view+json": {
       "model_id": "fab803b9bfe24561a5178edd43d24515",
       "version_major": 2,
       "version_minor": 0
      },
      "text/plain": [
       "VBox()"
      ]
     },
     "metadata": {},
     "output_type": "display_data"
    },
    {
     "data": {
      "application/vnd.jupyter.widget-view+json": {
       "model_id": "",
       "version_major": 2,
       "version_minor": 0
      },
      "text/plain": [
       "FloatProgress(value=0.0, bar_style='info', description='Progress:', layout=Layout(height='25px', width='50%'),…"
      ]
     },
     "metadata": {},
     "output_type": "display_data"
    },
    {
     "name": "stdout",
     "output_type": "stream",
     "text": [
      "+-------------------+-------------------+--------+---------------+-------------+----------------+--------------+--------------------+--------------------+-----------+\n",
      "|        user_id_str|user_twitter_handle|verified|followers_count|friends_count|favourites_count|statuses_count|          created_at|    tweet_created_at|create_rank|\n",
      "+-------------------+-------------------+--------+---------------+-------------+----------------+--------------+--------------------+--------------------+-----------+\n",
      "|1476021185322225664|          TanjaPla1|   false|            423|          451|            2665|         19956|Wed Dec 29 02:44:...|Tue Feb 15 21:02:...|          1|\n",
      "|1476021185322225664|          TanjaPla1|   false|            423|          451|            2651|         19846|Wed Dec 29 02:44:...|Tue Feb 15 20:17:...|          2|\n",
      "|1476021185322225664|          TanjaPla1|   false|            423|          449|            2643|         19791|Wed Dec 29 02:44:...|Tue Feb 15 19:51:...|          3|\n",
      "|1476021185322225664|          TanjaPla1|   false|            422|          449|            2596|         19492|Wed Dec 29 02:44:...|Tue Feb 15 16:06:...|          4|\n",
      "|1476021185322225664|          TanjaPla1|   false|            422|          449|            2591|         19454|Wed Dec 29 02:44:...|Tue Feb 15 15:49:...|          5|\n",
      "|1476021185322225664|          TanjaPla1|   false|            422|          448|            2584|         19411|Wed Dec 29 02:44:...|Tue Feb 15 14:04:...|          6|\n",
      "|1476021185322225664|          TanjaPla1|   false|            420|          447|            2571|         19301|Wed Dec 29 02:44:...|Tue Feb 15 13:01:...|          7|\n",
      "|1476021185322225664|          TanjaPla1|   false|            420|          447|            2557|         19203|Wed Dec 29 02:44:...|Tue Feb 15 12:16:...|          8|\n",
      "|1476021185322225664|          TanjaPla1|   false|            420|          447|            2547|         19132|Wed Dec 29 02:44:...|Tue Feb 15 09:21:...|          9|\n",
      "|1476021185322225664|          TanjaPla1|   false|            420|          446|            2538|         19006|Wed Dec 29 02:44:...|Tue Feb 15 07:00:...|         10|\n",
      "|1476021185322225664|          TanjaPla1|   false|            420|          446|            2538|         18997|Wed Dec 29 02:44:...|Tue Feb 15 06:33:...|         11|\n",
      "+-------------------+-------------------+--------+---------------+-------------+----------------+--------------+--------------------+--------------------+-----------+"
     ]
    }
   ],
   "source": [
    "user_filter = spark.sql(\"\"\"\n",
    "select user_id_str, \n",
    "        user_twitter_handle, \n",
    "        verified, \n",
    "        followers_count, \n",
    "        friends_count, \n",
    "        favourites_count, \n",
    "        statuses_count, \n",
    "        created_at,\n",
    "        tweet_created_at,\n",
    "        rank() over(partition by user_id_str order by tweet_created_at desc) create_rank\n",
    "from user_df\n",
    "where user_id_str = '1476021185322225664'\n",
    "\"\"\")"
   ]
  },
  {
   "cell_type": "code",
   "execution_count": 44,
   "id": "9a60e99a-d1f8-4f77-a76f-7ed40414a5d5",
   "metadata": {
    "execution": {
     "iopub.execute_input": "2023-04-07T07:06:17.935282Z",
     "iopub.status.busy": "2023-04-07T07:06:17.934800Z",
     "iopub.status.idle": "2023-04-07T07:06:18.200249Z",
     "shell.execute_reply": "2023-04-07T07:06:18.199324Z",
     "shell.execute_reply.started": "2023-04-07T07:06:17.935216Z"
    },
    "tags": []
   },
   "outputs": [
    {
     "data": {
      "application/vnd.jupyter.widget-view+json": {
       "model_id": "fdcbbb26c66a45e28e7ceb91f793146a",
       "version_major": 2,
       "version_minor": 0
      },
      "text/plain": [
       "VBox()"
      ]
     },
     "metadata": {},
     "output_type": "display_data"
    },
    {
     "data": {
      "application/vnd.jupyter.widget-view+json": {
       "model_id": "",
       "version_major": 2,
       "version_minor": 0
      },
      "text/plain": [
       "FloatProgress(value=0.0, bar_style='info', description='Progress:', layout=Layout(height='25px', width='50%'),…"
      ]
     },
     "metadata": {},
     "output_type": "display_data"
    }
   ],
   "source": [
    "user_filter = spark.sql(\"\"\"\n",
    "select *\n",
    "from\n",
    "(select user_id_str, \n",
    "        user_twitter_handle, \n",
    "        verified, \n",
    "        followers_count, \n",
    "        friends_count, \n",
    "        favourites_count, \n",
    "        statuses_count, \n",
    "        created_at,\n",
    "        tweet_created_at,\n",
    "        rank() over(partition by user_id_str order by tweet_created_at desc) create_rank\n",
    "from user_df\n",
    "where user_id_str is not null) u\n",
    "where create_rank = 1\n",
    "\"\"\")"
   ]
  },
  {
   "cell_type": "code",
   "execution_count": 33,
   "id": "9fa4292e-b136-4177-ad6f-d821cc6e87a7",
   "metadata": {
    "execution": {
     "iopub.execute_input": "2023-04-07T07:04:23.578605Z",
     "iopub.status.busy": "2023-04-07T07:04:23.577882Z",
     "iopub.status.idle": "2023-04-07T07:04:23.640252Z",
     "shell.execute_reply": "2023-04-07T07:04:23.639361Z",
     "shell.execute_reply.started": "2023-04-07T07:04:23.578564Z"
    }
   },
   "outputs": [
    {
     "data": {
      "application/vnd.jupyter.widget-view+json": {
       "model_id": "9d9866f97de847778fd8f74ce664706a",
       "version_major": 2,
       "version_minor": 0
      },
      "text/plain": [
       "VBox()"
      ]
     },
     "metadata": {},
     "output_type": "display_data"
    },
    {
     "data": {
      "application/vnd.jupyter.widget-view+json": {
       "model_id": "",
       "version_major": 2,
       "version_minor": 0
      },
      "text/plain": [
       "FloatProgress(value=0.0, bar_style='info', description='Progress:', layout=Layout(height='25px', width='50%'),…"
      ]
     },
     "metadata": {},
     "output_type": "display_data"
    },
    {
     "name": "stdout",
     "output_type": "stream",
     "text": [
      "DataFrame[_c0: string, _c1: string, _c2: string]"
     ]
    }
   ],
   "source": []
  },
  {
   "cell_type": "code",
   "execution_count": 45,
   "id": "b2ec81d3-eaf2-4df1-82d0-4a91dcc78694",
   "metadata": {
    "execution": {
     "iopub.execute_input": "2023-04-07T07:06:20.344006Z",
     "iopub.status.busy": "2023-04-07T07:06:20.343597Z",
     "iopub.status.idle": "2023-04-07T07:07:09.771414Z",
     "shell.execute_reply": "2023-04-07T07:07:09.770411Z",
     "shell.execute_reply.started": "2023-04-07T07:06:20.343971Z"
    },
    "tags": []
   },
   "outputs": [
    {
     "data": {
      "application/vnd.jupyter.widget-view+json": {
       "model_id": "439f189a90a14f7f97e7447d1c1a2575",
       "version_major": 2,
       "version_minor": 0
      },
      "text/plain": [
       "VBox()"
      ]
     },
     "metadata": {},
     "output_type": "display_data"
    },
    {
     "data": {
      "application/vnd.jupyter.widget-view+json": {
       "model_id": "",
       "version_major": 2,
       "version_minor": 0
      },
      "text/plain": [
       "FloatProgress(value=0.0, bar_style='info', description='Progress:', layout=Layout(height='25px', width='50%'),…"
      ]
     },
     "metadata": {},
     "output_type": "display_data"
    },
    {
     "name": "stdout",
     "output_type": "stream",
     "text": [
      "+-------------------+-------------------+--------+---------------+-------------+----------------+--------------+--------------------+--------------------+-----------+\n",
      "|        user_id_str|user_twitter_handle|verified|followers_count|friends_count|favourites_count|statuses_count|          created_at|    tweet_created_at|create_rank|\n",
      "+-------------------+-------------------+--------+---------------+-------------+----------------+--------------+--------------------+--------------------+-----------+\n",
      "|1235177017441529861|           game7400|   false|          18430|         2215|            8277|          7677|Wed Mar 04 12:15:...|Tue Feb 15 15:23:...|          1|\n",
      "|1483999454244274178|       ashward_game|   false|          54211|            4|              17|            27|Thu Jan 20 03:07:...|Tue Feb 15 09:49:...|          1|\n",
      "|           19426551|                NFL|    true|       28837319|         2723|            3080|        234547|Sat Jan 24 01:28:...|Tue Feb 15 22:55:...|          1|\n",
      "|            5921162|            famitsu|    true|         902131|        44835|              70|        265474|Thu May 10 05:03:...|Tue Feb 15 06:30:...|          1|\n",
      "|           34429906|     SoulRebornGame|   false|          72990|           59|             210|            99|Wed Apr 22 22:48:...|Tue Feb 15 08:44:...|          1|\n",
      "|          297169759|      SamsungMobile|    true|       12443079|          424|             522|          8772|Thu May 12 01:59:...|Tue Feb 15 09:33:...|          1|\n",
      "|1302006102364745728|      strokegamexxx|   false|         185542|         1917|            1310|         71732|Fri Sep 04 22:10:...|Tue Feb 15 18:02:...|          1|\n",
      "|1200355745600069635|       GiveAwayHost|   false|         308830|          798|            7874|         40311|Fri Nov 29 10:08:...|Tue Feb 15 21:55:...|          1|\n",
      "|1156269110545793024|       ladyincrypto|   false|         353342|          726|            1546|         13953|Tue Jul 30 18:23:...|Tue Feb 15 06:52:...|          1|\n",
      "|           18927441|                IGN|    true|        8618524|         1372|           16341|        160711|Tue Jan 13 03:56:...|Tue Feb 15 16:01:...|          1|\n",
      "|          501558917|           TheJenus|   false|        1048839|         1019|            7316|          5945|Fri Feb 24 07:53:...|Tue Feb 15 23:02:...|          1|\n",
      "|            7157132|           GameSpot|    true|        4670967|          707|           21694|        155232|Fri Jun 29 17:54:...|Tue Feb 15 21:46:...|          1|\n",
      "|1409917553514848257|        PokemonGems|   false|          48683|          383|            6517|          1041|Tue Jun 29 16:52:...|Tue Feb 15 23:27:...|          1|\n",
      "|         4920946291|        sof1azara03|   false|         282622|         3404|           22789|         72950|Wed Feb 17 12:34:...|Tue Feb 15 22:52:...|          1|\n",
      "|1449414811436023812|      chitaglorya__|   false|         231770|          441|             296|         12526|Sat Oct 16 16:40:...|Tue Feb 15 10:17:...|          1|\n",
      "|           26257166|       SportsCenter|    true|       39519520|          732|            1984|        132561|Tue Mar 24 15:28:...|Tue Feb 15 21:38:...|          1|\n",
      "+-------------------+-------------------+--------+---------------+-------------+----------------+--------------+--------------------+--------------------+-----------+"
     ]
    }
   ],
   "source": [
    "user_filter.createOrReplaceTempView(\"user_filter\")\n",
    "pokemon.createOrReplaceTempView(\"pokemon\")\n",
    "\n",
    "user_join = spark.sql(\"\"\"\n",
    "select user_filter.*\n",
    "from\n",
    "user_filter\n",
    "join\n",
    "pokemon\n",
    "on user_filter.user_id_str = pokemon.user_id_str\"\"\")\n",
    "\n",
    "user_join.show()"
   ]
  },
  {
   "cell_type": "code",
   "execution_count": 41,
   "id": "69624d71-75cb-4248-8d4a-766a757f02f5",
   "metadata": {
    "execution": {
     "iopub.execute_input": "2023-04-07T07:05:10.774336Z",
     "iopub.status.busy": "2023-04-07T07:05:10.773950Z",
     "iopub.status.idle": "2023-04-07T07:05:10.835275Z",
     "shell.execute_reply": "2023-04-07T07:05:10.834368Z",
     "shell.execute_reply.started": "2023-04-07T07:05:10.774302Z"
    },
    "tags": []
   },
   "outputs": [
    {
     "data": {
      "application/vnd.jupyter.widget-view+json": {
       "model_id": "545fdad6bd68444a8cc505ee50595aca",
       "version_major": 2,
       "version_minor": 0
      },
      "text/plain": [
       "VBox()"
      ]
     },
     "metadata": {},
     "output_type": "display_data"
    },
    {
     "data": {
      "application/vnd.jupyter.widget-view+json": {
       "model_id": "",
       "version_major": 2,
       "version_minor": 0
      },
      "text/plain": [
       "FloatProgress(value=0.0, bar_style='info', description='Progress:', layout=Layout(height='25px', width='50%'),…"
      ]
     },
     "metadata": {},
     "output_type": "display_data"
    },
    {
     "name": "stdout",
     "output_type": "stream",
     "text": [
      "DataFrame[user_id_str: string]"
     ]
    }
   ],
   "source": [
    "pokemon"
   ]
  },
  {
   "cell_type": "code",
   "execution_count": 42,
   "id": "ec149996-baac-4f1e-b5da-7c3d35dadf3c",
   "metadata": {
    "execution": {
     "iopub.execute_input": "2023-04-07T07:05:17.779618Z",
     "iopub.status.busy": "2023-04-07T07:05:17.779199Z",
     "iopub.status.idle": "2023-04-07T07:05:17.875615Z",
     "shell.execute_reply": "2023-04-07T07:05:17.874795Z",
     "shell.execute_reply.started": "2023-04-07T07:05:17.779582Z"
    }
   },
   "outputs": [
    {
     "data": {
      "application/vnd.jupyter.widget-view+json": {
       "model_id": "59c895cd43dd4cd0b2ae58a2e805f826",
       "version_major": 2,
       "version_minor": 0
      },
      "text/plain": [
       "VBox()"
      ]
     },
     "metadata": {},
     "output_type": "display_data"
    },
    {
     "data": {
      "application/vnd.jupyter.widget-view+json": {
       "model_id": "",
       "version_major": 2,
       "version_minor": 0
      },
      "text/plain": [
       "FloatProgress(value=0.0, bar_style='info', description='Progress:', layout=Layout(height='25px', width='50%'),…"
      ]
     },
     "metadata": {},
     "output_type": "display_data"
    }
   ],
   "source": [
    "user_filter"
   ]
  },
  {
   "cell_type": "code",
   "execution_count": 46,
   "id": "1ee8b611-02cf-4669-bf82-116fd6def284",
   "metadata": {
    "execution": {
     "iopub.execute_input": "2023-04-07T07:07:27.947826Z",
     "iopub.status.busy": "2023-04-07T07:07:27.947394Z",
     "iopub.status.idle": "2023-04-07T07:08:09.386967Z",
     "shell.execute_reply": "2023-04-07T07:08:09.386184Z",
     "shell.execute_reply.started": "2023-04-07T07:07:27.947785Z"
    }
   },
   "outputs": [
    {
     "data": {
      "application/vnd.jupyter.widget-view+json": {
       "model_id": "3daccb19acaf45db804e3c9fa51e5deb",
       "version_major": 2,
       "version_minor": 0
      },
      "text/plain": [
       "VBox()"
      ]
     },
     "metadata": {},
     "output_type": "display_data"
    },
    {
     "data": {
      "application/vnd.jupyter.widget-view+json": {
       "model_id": "",
       "version_major": 2,
       "version_minor": 0
      },
      "text/plain": [
       "FloatProgress(value=0.0, bar_style='info', description='Progress:', layout=Layout(height='25px', width='50%'),…"
      ]
     },
     "metadata": {},
     "output_type": "display_data"
    },
    {
     "name": "stdout",
     "output_type": "stream",
     "text": [
      "16"
     ]
    }
   ],
   "source": [
    "user_join.count()"
   ]
  },
  {
   "cell_type": "code",
   "execution_count": 48,
   "id": "6f9b9143-c5d4-4da2-98ae-1b139f60e505",
   "metadata": {
    "execution": {
     "iopub.execute_input": "2023-04-07T07:11:41.376868Z",
     "iopub.status.busy": "2023-04-07T07:11:41.376462Z",
     "iopub.status.idle": "2023-04-07T07:11:41.438791Z",
     "shell.execute_reply": "2023-04-07T07:11:41.437901Z",
     "shell.execute_reply.started": "2023-04-07T07:11:41.376830Z"
    },
    "tags": []
   },
   "outputs": [
    {
     "data": {
      "application/vnd.jupyter.widget-view+json": {
       "model_id": "54bf82af99264badb143b5ddea10cdf9",
       "version_major": 2,
       "version_minor": 0
      },
      "text/plain": [
       "VBox()"
      ]
     },
     "metadata": {},
     "output_type": "display_data"
    },
    {
     "data": {
      "application/vnd.jupyter.widget-view+json": {
       "model_id": "",
       "version_major": 2,
       "version_minor": 0
      },
      "text/plain": [
       "FloatProgress(value=0.0, bar_style='info', description='Progress:', layout=Layout(height='25px', width='50%'),…"
      ]
     },
     "metadata": {},
     "output_type": "display_data"
    }
   ],
   "source": [
    "diff = pokemon.join(user_join, on=\"user_id_str\", how=\"left_anti\")"
   ]
  },
  {
   "cell_type": "code",
   "execution_count": 50,
   "id": "d4e869a9-7fef-4457-a0ee-d078b78a0659",
   "metadata": {
    "execution": {
     "iopub.execute_input": "2023-04-07T07:11:49.726575Z",
     "iopub.status.busy": "2023-04-07T07:11:49.725948Z",
     "iopub.status.idle": "2023-04-07T07:12:37.153995Z",
     "shell.execute_reply": "2023-04-07T07:12:37.153055Z",
     "shell.execute_reply.started": "2023-04-07T07:11:49.726536Z"
    },
    "tags": []
   },
   "outputs": [
    {
     "data": {
      "application/vnd.jupyter.widget-view+json": {
       "model_id": "3a567e7364874c65837303f823ef56e6",
       "version_major": 2,
       "version_minor": 0
      },
      "text/plain": [
       "VBox()"
      ]
     },
     "metadata": {},
     "output_type": "display_data"
    },
    {
     "data": {
      "application/vnd.jupyter.widget-view+json": {
       "model_id": "",
       "version_major": 2,
       "version_minor": 0
      },
      "text/plain": [
       "FloatProgress(value=0.0, bar_style='info', description='Progress:', layout=Layout(height='25px', width='50%'),…"
      ]
     },
     "metadata": {},
     "output_type": "display_data"
    },
    {
     "name": "stdout",
     "output_type": "stream",
     "text": [
      "+-------------------+\n",
      "|        user_id_str|\n",
      "+-------------------+\n",
      "|          130447415|\n",
      "|         2786677338|\n",
      "|          307902310|\n",
      "| 811765148595535872|\n",
      "|          323091128|\n",
      "|           29758446|\n",
      "| 909119962572242944|\n",
      "|            5162861|\n",
      "| 987228577522376704|\n",
      "|1470439914953011204|\n",
      "|         3095001124|\n",
      "|1349579108187992071|\n",
      "|1441557548427927554|\n",
      "|1441557548427927554|\n",
      "|          252087695|\n",
      "|         1149178590|\n",
      "|         2597010860|\n",
      "|             890891|\n",
      "|1365337673074933765|\n",
      "|1432825944259973123|\n",
      "+-------------------+\n",
      "only showing top 20 rows"
     ]
    }
   ],
   "source": [
    "diff.show()"
   ]
  },
  {
   "cell_type": "code",
   "execution_count": 51,
   "id": "8f20c379-6dca-4090-8ce6-1022edf0b6dc",
   "metadata": {
    "execution": {
     "iopub.execute_input": "2023-04-07T07:12:58.687954Z",
     "iopub.status.busy": "2023-04-07T07:12:58.687543Z",
     "iopub.status.idle": "2023-04-07T07:13:40.083735Z",
     "shell.execute_reply": "2023-04-07T07:13:40.082916Z",
     "shell.execute_reply.started": "2023-04-07T07:12:58.687918Z"
    }
   },
   "outputs": [
    {
     "data": {
      "application/vnd.jupyter.widget-view+json": {
       "model_id": "aeeab767844f40ec95daf3c497525bde",
       "version_major": 2,
       "version_minor": 0
      },
      "text/plain": [
       "VBox()"
      ]
     },
     "metadata": {},
     "output_type": "display_data"
    },
    {
     "data": {
      "application/vnd.jupyter.widget-view+json": {
       "model_id": "",
       "version_major": 2,
       "version_minor": 0
      },
      "text/plain": [
       "FloatProgress(value=0.0, bar_style='info', description='Progress:', layout=Layout(height='25px', width='50%'),…"
      ]
     },
     "metadata": {},
     "output_type": "display_data"
    },
    {
     "name": "stdout",
     "output_type": "stream",
     "text": [
      "34"
     ]
    }
   ],
   "source": [
    "diff.count()"
   ]
  },
  {
   "cell_type": "code",
   "execution_count": 52,
   "id": "b8033cdd-615b-4866-b2ae-706c7355036d",
   "metadata": {
    "execution": {
     "iopub.execute_input": "2023-04-07T07:16:57.053771Z",
     "iopub.status.busy": "2023-04-07T07:16:57.053365Z",
     "iopub.status.idle": "2023-04-07T07:16:57.829167Z",
     "shell.execute_reply": "2023-04-07T07:16:57.828403Z",
     "shell.execute_reply.started": "2023-04-07T07:16:57.053737Z"
    }
   },
   "outputs": [
    {
     "data": {
      "application/vnd.jupyter.widget-view+json": {
       "model_id": "d5977d2133a445ecacfed20d93fac923",
       "version_major": 2,
       "version_minor": 0
      },
      "text/plain": [
       "VBox()"
      ]
     },
     "metadata": {},
     "output_type": "display_data"
    },
    {
     "data": {
      "application/vnd.jupyter.widget-view+json": {
       "model_id": "",
       "version_major": 2,
       "version_minor": 0
      },
      "text/plain": [
       "FloatProgress(value=0.0, bar_style='info', description='Progress:', layout=Layout(height='25px', width='50%'),…"
      ]
     },
     "metadata": {},
     "output_type": "display_data"
    }
   ],
   "source": [
    "from pyspark.sql.types import StructType, StructField, StringType, IntegerType\n",
    "from pyspark.sql import SparkSession\n",
    "\n",
    "# Define the schema for the empty DataFrame\n",
    "schema = StructType([\n",
    "    StructField(\"user_id_str\", StringType(), True),\n",
    "])\n",
    "\n",
    "# Create an empty DataFrame with the specified schema\n",
    "diff = spark.createDataFrame([], schema)"
   ]
  },
  {
   "cell_type": "code",
   "execution_count": 5,
   "id": "e15c741d-b4f0-4f22-9b6f-d59f87a97fe2",
   "metadata": {
    "execution": {
     "iopub.execute_input": "2023-04-07T09:48:27.922448Z",
     "iopub.status.busy": "2023-04-07T09:48:27.922127Z",
     "iopub.status.idle": "2023-04-07T09:48:27.975486Z",
     "shell.execute_reply": "2023-04-07T09:48:27.974792Z",
     "shell.execute_reply.started": "2023-04-07T09:48:27.922419Z"
    },
    "tags": []
   },
   "outputs": [
    {
     "data": {
      "application/vnd.jupyter.widget-view+json": {
       "model_id": "18aee906b9bf45c797f9309d242526eb",
       "version_major": 2,
       "version_minor": 0
      },
      "text/plain": [
       "VBox()"
      ]
     },
     "metadata": {},
     "output_type": "display_data"
    },
    {
     "data": {
      "application/vnd.jupyter.widget-view+json": {
       "model_id": "",
       "version_major": 2,
       "version_minor": 0
      },
      "text/plain": [
       "FloatProgress(value=0.0, bar_style='info', description='Progress:', layout=Layout(height='25px', width='50%'),…"
      ]
     },
     "metadata": {},
     "output_type": "display_data"
    }
   ],
   "source": [
    "input_bucket = 's3://cs5344-twitter-project'\n",
    "path = '/{}/*.json.gz'\n",
    "folder_list = ['20220122', '20220123','20220124','20220125', \n",
    "               '20220126', '20220127','20220128', '20220129',\n",
    "               '20220130', '20220131', '20220201', '20220202',\n",
    "               '20220203', '20220204', '20220205', '20220206',\n",
    "               '20220207', '20220208', '20220209', '20220210',\n",
    "               '20220211', '20220212', '20220213', '20220214',\n",
    "               '20220215']"
   ]
  },
  {
   "cell_type": "code",
   "execution_count": 4,
   "id": "8896d16c-645c-4f70-b0cc-1b0df670e1d5",
   "metadata": {
    "execution": {
     "iopub.execute_input": "2023-04-07T10:45:44.941324Z",
     "iopub.status.busy": "2023-04-07T10:45:44.941001Z",
     "iopub.status.idle": "2023-04-07T10:46:04.285676Z",
     "shell.execute_reply": "2023-04-07T10:46:04.284954Z",
     "shell.execute_reply.started": "2023-04-07T10:45:44.941298Z"
    },
    "tags": []
   },
   "outputs": [
    {
     "data": {
      "application/vnd.jupyter.widget-view+json": {
       "model_id": "4c3fbf96d1db4b2dae11888fc6f10187",
       "version_major": 2,
       "version_minor": 0
      },
      "text/plain": [
       "VBox()"
      ]
     },
     "metadata": {},
     "output_type": "display_data"
    },
    {
     "data": {
      "application/vnd.jupyter.widget-view+json": {
       "model_id": "",
       "version_major": 2,
       "version_minor": 0
      },
      "text/plain": [
       "FloatProgress(value=0.0, bar_style='info', description='Progress:', layout=Layout(height='25px', width='50%'),…"
      ]
     },
     "metadata": {},
     "output_type": "display_data"
    }
   ],
   "source": [
    "input_bucket = 's3://cs5344-twitter-project'\n",
    "test_pokemon_damping_sdf = spark.read.format('csv').options(header='False').load('s3://cs5344-twitter-project/test_pokemon_damping').cache()\n",
    "pokemon = test_pokemon_damping_sdf.select(col(\"_c0\").alias(\"user_id_str\"))\n",
    "pokemon.createOrReplaceTempView(\"pokemon\")\n",
    "diff = pokemon.alias(\"diff\")\n",
    "pokemon_inf = None"
   ]
  },
  {
   "cell_type": "code",
   "execution_count": 6,
   "id": "a23056d2-e536-4035-8ffc-34739c43ee85",
   "metadata": {
    "execution": {
     "iopub.execute_input": "2023-04-07T10:46:43.819075Z",
     "iopub.status.busy": "2023-04-07T10:46:43.818765Z",
     "iopub.status.idle": "2023-04-07T10:53:05.405490Z",
     "shell.execute_reply": "2023-04-07T10:53:05.404676Z",
     "shell.execute_reply.started": "2023-04-07T10:46:43.819050Z"
    },
    "tags": []
   },
   "outputs": [
    {
     "data": {
      "application/vnd.jupyter.widget-view+json": {
       "model_id": "3ff2940be48a462493859174875d5dfd",
       "version_major": 2,
       "version_minor": 0
      },
      "text/plain": [
       "VBox()"
      ]
     },
     "metadata": {},
     "output_type": "display_data"
    },
    {
     "data": {
      "application/vnd.jupyter.widget-view+json": {
       "model_id": "663ce94766f14dbcbeecb1f852777e8b",
       "version_major": 2,
       "version_minor": 0
      },
      "text/plain": [
       "FloatProgress(value=0.0, bar_style='info', description='Progress:', layout=Layout(height='25px', width='50%'),…"
      ]
     },
     "metadata": {},
     "output_type": "display_data"
    },
    {
     "name": "stderr",
     "output_type": "stream",
     "text": [
      "An error was encountered:\n",
      "Invalid status code '400' from http://localhost:8998/sessions/2/statements/6 with error payload: {\"msg\":\"requirement failed: Session isn't active.\"}\n"
     ]
    }
   ],
   "source": [
    "for folder in folder_list[::-1]:\n",
    "# folder=folder_list[-1]\n",
    "    folder_path = input_bucket + path.format(folder)\n",
    "    raw = spark.read.json(folder_path, allowBackslashEscapingAnyCharacter=True)\n",
    "\n",
    "    user_df = raw.select(\n",
    "        col(\"user.id_str\").alias(\"user_id_str\"),\n",
    "        col(\"user.screen_name\").alias(\"user_twitter_handle\"),\n",
    "        \"user.verified\",\n",
    "        \"user.followers_count\",\n",
    "        \"user.friends_count\",\n",
    "        \"user.favourites_count\",\n",
    "        \"user.statuses_count\",\n",
    "        \"user.created_at\",\n",
    "        col(\"created_at\").alias(\"tweet_created_at\"),\n",
    "        \"retweet_count\"\n",
    "    )\n",
    "\n",
    "    user_df.createOrReplaceTempView(\"user_df\")\n",
    "    user_info = spark.sql(\"\"\"\n",
    "    select  user_id_str, \n",
    "            user_twitter_handle, \n",
    "            sum(retweet_count) as retweets_count\n",
    "            from user_df\n",
    "            group by user_id_str, \n",
    "                     user_twitter_handle\n",
    "    \"\"\")\n",
    "    user_info.createOrReplaceTempView(\"user_info\")\n",
    "\n",
    "    user_filter = spark.sql(\"\"\"\n",
    "    select u_1.*,\n",
    "            user_info.retweets_count, \n",
    "            (user_info.retweets_count + u_1.favourites_count)/u_1.followers_count as IER\n",
    "    from\n",
    "        (select *\n",
    "        from\n",
    "            (select user_id_str, \n",
    "                    user_twitter_handle, \n",
    "                    verified, \n",
    "                    followers_count, \n",
    "                    friends_count, \n",
    "                    favourites_count, \n",
    "                    statuses_count, \n",
    "                    created_at,\n",
    "                    tweet_created_at,\n",
    "                    rank() over(partition by user_id_str order by tweet_created_at desc) create_rank\n",
    "            from user_df\n",
    "            where user_id_str is not null) u\n",
    "        where create_rank = 1) u_1\n",
    "    join user_info\n",
    "    on u_1.user_id_str = user_info.user_id_str\n",
    "    and u_1.user_twitter_handle = user_info.user_twitter_handle\n",
    "    \"\"\")\n",
    "    user_filter.createOrReplaceTempView(\"user_filter\")\n",
    "\n",
    "    diff.createOrReplaceTempView(\"diff\")\n",
    "    user_join = spark.sql(\"\"\"\n",
    "    select user_filter.*\n",
    "    from\n",
    "    user_filter\n",
    "    join\n",
    "    diff\n",
    "    on user_filter.user_id_str = diff.user_id_str\"\"\")\n",
    "\n",
    "    if pokemon_inf:\n",
    "        pokemon_inf = pokemon_inf.union(user_join)\n",
    "    else:\n",
    "        pokemon_inf =user_join.alias(\"pokemon_inf\")\n",
    "    diff = diff.join(user_join, on=\"user_id_str\", how=\"left_anti\")\n",
    "    if diff.count() == 0:\n",
    "        print('okaykkk')"
   ]
  },
  {
   "cell_type": "code",
   "execution_count": 7,
   "id": "7715104d-297e-43e5-ae5e-eac04475e463",
   "metadata": {
    "execution": {
     "iopub.execute_input": "2023-04-07T10:53:05.406919Z",
     "iopub.status.busy": "2023-04-07T10:53:05.406636Z",
     "iopub.status.idle": "2023-04-07T10:53:05.438275Z",
     "shell.execute_reply": "2023-04-07T10:53:05.437357Z",
     "shell.execute_reply.started": "2023-04-07T10:53:05.406894Z"
    },
    "tags": []
   },
   "outputs": [
    {
     "data": {
      "application/vnd.jupyter.widget-view+json": {
       "model_id": "3ff8039588884ff8a9563e6e1267421b",
       "version_major": 2,
       "version_minor": 0
      },
      "text/plain": [
       "VBox()"
      ]
     },
     "metadata": {},
     "output_type": "display_data"
    },
    {
     "name": "stderr",
     "output_type": "stream",
     "text": [
      "An error was encountered:\n",
      "Session 2 unexpectedly reached final status 'dead'. See logs:\n",
      "stdout: \n",
      "\n",
      "stderr: \n",
      "23/04/07 10:43:32 WARN NativeCodeLoader: Unable to load native-hadoop library for your platform... using builtin-java classes where applicable\n",
      "23/04/07 10:43:33 INFO DefaultNoHARMFailoverProxyProvider: Connecting to ResourceManager at ip-172-31-41-208.ap-southeast-1.compute.internal/172.31.41.208:8032\n",
      "23/04/07 10:43:34 INFO Configuration: resource-types.xml not found\n",
      "23/04/07 10:43:34 INFO ResourceUtils: Unable to find 'resource-types.xml'.\n",
      "23/04/07 10:43:34 INFO Client: Verifying our application has not requested more than the maximum memory capability of the cluster (12288 MB per container)\n",
      "23/04/07 10:43:34 INFO Client: Will allocate AM container, with 2432 MB memory including 384 MB overhead\n",
      "23/04/07 10:43:34 INFO Client: Setting up container launch context for our AM\n",
      "23/04/07 10:43:34 INFO Client: Setting up the launch environment for our AM container\n",
      "23/04/07 10:43:34 INFO Client: Preparing resources for our AM container\n",
      "23/04/07 10:43:34 WARN Client: Neither spark.yarn.jars nor spark.yarn.archive is set, falling back to uploading libraries under SPARK_HOME.\n",
      "23/04/07 10:43:38 INFO Client: Uploading resource file:/mnt/tmp/spark-f0351b9b-b6dd-49b6-a4c3-9405e87e0022/__spark_libs__5512251897064849017.zip -> hdfs://ip-172-31-41-208.ap-southeast-1.compute.internal:8020/user/livy/.sparkStaging/application_1680859770941_0003/__spark_libs__5512251897064849017.zip\n",
      "23/04/07 10:43:39 INFO Client: Uploading resource file:/usr/lib/livy/rsc-jars/arpack_combined_all-0.1.jar -> hdfs://ip-172-31-41-208.ap-southeast-1.compute.internal:8020/user/livy/.sparkStaging/application_1680859770941_0003/arpack_combined_all-0.1.jar\n",
      "23/04/07 10:43:40 INFO Client: Uploading resource file:/usr/lib/livy/rsc-jars/core-1.1.2.jar -> hdfs://ip-172-31-41-208.ap-southeast-1.compute.internal:8020/user/livy/.sparkStaging/application_1680859770941_0003/core-1.1.2.jar\n",
      "23/04/07 10:43:40 INFO Client: Uploading resource file:/usr/lib/livy/rsc-jars/jniloader-1.1.jar -> hdfs://ip-172-31-41-208.ap-southeast-1.compute.internal:8020/user/livy/.sparkStaging/application_1680859770941_0003/jniloader-1.1.jar\n",
      "23/04/07 10:43:40 INFO Client: Uploading resource file:/usr/lib/livy/rsc-jars/livy-api-0.7.1-incubating.jar -> hdfs://ip-172-31-41-208.ap-southeast-1.compute.internal:8020/user/livy/.sparkStaging/application_1680859770941_0003/livy-api-0.7.1-incubating.jar\n",
      "23/04/07 10:43:40 INFO Client: Uploading resource file:/usr/lib/livy/rsc-jars/livy-rsc-0.7.1-incubating.jar -> hdfs://ip-172-31-41-208.ap-southeast-1.compute.internal:8020/user/livy/.sparkStaging/application_1680859770941_0003/livy-rsc-0.7.1-incubating.jar\n",
      "23/04/07 10:43:40 INFO Client: Uploading resource file:/usr/lib/livy/rsc-jars/livy-thriftserver-session-0.7.1-incubating.jar -> hdfs://ip-172-31-41-208.ap-southeast-1.compute.internal:8020/user/livy/.sparkStaging/application_1680859770941_0003/livy-thriftserver-session-0.7.1-incubating.jar\n",
      "23/04/07 10:43:40 INFO Client: Uploading resource file:/usr/lib/livy/rsc-jars/native_ref-java-1.1.jar -> hdfs://ip-172-31-41-208.ap-southeast-1.compute.internal:8020/user/livy/.sparkStaging/application_1680859770941_0003/native_ref-java-1.1.jar\n",
      "23/04/07 10:43:40 INFO Client: Uploading resource file:/usr/lib/livy/rsc-jars/native_system-java-1.1.jar -> hdfs://ip-172-31-41-208.ap-southeast-1.compute.internal:8020/user/livy/.sparkStaging/application_1680859770941_0003/native_system-java-1.1.jar\n",
      "23/04/07 10:43:40 INFO Client: Uploading resource file:/usr/lib/livy/rsc-jars/netlib-native_ref-linux-armhf-1.1-natives.jar -> hdfs://ip-172-31-41-208.ap-southeast-1.compute.internal:8020/user/livy/.sparkStaging/application_1680859770941_0003/netlib-native_ref-linux-armhf-1.1-natives.jar\n",
      "23/04/07 10:43:40 INFO Client: Uploading resource file:/usr/lib/livy/rsc-jars/netlib-native_ref-linux-i686-1.1-natives.jar -> hdfs://ip-172-31-41-208.ap-southeast-1.compute.internal:8020/user/livy/.sparkStaging/application_1680859770941_0003/netlib-native_ref-linux-i686-1.1-natives.jar\n",
      "23/04/07 10:43:40 INFO Client: Uploading resource file:/usr/lib/livy/rsc-jars/netlib-native_ref-linux-x86_64-1.1-natives.jar -> hdfs://ip-172-31-41-208.ap-southeast-1.compute.internal:8020/user/livy/.sparkStaging/application_1680859770941_0003/netlib-native_ref-linux-x86_64-1.1-natives.jar\n",
      "23/04/07 10:43:40 INFO Client: Uploading resource file:/usr/lib/livy/rsc-jars/netlib-native_ref-osx-x86_64-1.1-natives.jar -> hdfs://ip-172-31-41-208.ap-southeast-1.compute.internal:8020/user/livy/.sparkStaging/application_1680859770941_0003/netlib-native_ref-osx-x86_64-1.1-natives.jar\n",
      "23/04/07 10:43:40 INFO Client: Uploading resource file:/usr/lib/livy/rsc-jars/netlib-native_ref-win-i686-1.1-natives.jar -> hdfs://ip-172-31-41-208.ap-southeast-1.compute.internal:8020/user/livy/.sparkStaging/application_1680859770941_0003/netlib-native_ref-win-i686-1.1-natives.jar\n",
      "23/04/07 10:43:40 INFO Client: Uploading resource file:/usr/lib/livy/rsc-jars/netlib-native_ref-win-x86_64-1.1-natives.jar -> hdfs://ip-172-31-41-208.ap-southeast-1.compute.internal:8020/user/livy/.sparkStaging/application_1680859770941_0003/netlib-native_ref-win-x86_64-1.1-natives.jar\n",
      "23/04/07 10:43:40 INFO Client: Uploading resource file:/usr/lib/livy/rsc-jars/netlib-native_system-linux-armhf-1.1-natives.jar -> hdfs://ip-172-31-41-208.ap-southeast-1.compute.internal:8020/user/livy/.sparkStaging/application_1680859770941_0003/netlib-native_system-linux-armhf-1.1-natives.jar\n",
      "23/04/07 10:43:40 INFO Client: Uploading resource file:/usr/lib/livy/rsc-jars/netlib-native_system-linux-i686-1.1-natives.jar -> hdfs://ip-172-31-41-208.ap-southeast-1.compute.internal:8020/user/livy/.sparkStaging/application_1680859770941_0003/netlib-native_system-linux-i686-1.1-natives.jar\n",
      "23/04/07 10:43:40 INFO Client: Uploading resource file:/usr/lib/livy/rsc-jars/netlib-native_system-linux-x86_64-1.1-natives.jar -> hdfs://ip-172-31-41-208.ap-southeast-1.compute.internal:8020/user/livy/.sparkStaging/application_1680859770941_0003/netlib-native_system-linux-x86_64-1.1-natives.jar\n",
      "23/04/07 10:43:40 INFO Client: Uploading resource file:/usr/lib/livy/rsc-jars/netlib-native_system-osx-x86_64-1.1-natives.jar -> hdfs://ip-172-31-41-208.ap-southeast-1.compute.internal:8020/user/livy/.sparkStaging/application_1680859770941_0003/netlib-native_system-osx-x86_64-1.1-natives.jar\n",
      "23/04/07 10:43:40 INFO Client: Uploading resource file:/usr/lib/livy/rsc-jars/netlib-native_system-win-i686-1.1-natives.jar -> hdfs://ip-172-31-41-208.ap-southeast-1.compute.internal:8020/user/livy/.sparkStaging/application_1680859770941_0003/netlib-native_system-win-i686-1.1-natives.jar\n",
      "23/04/07 10:43:40 INFO Client: Uploading resource file:/usr/lib/livy/rsc-jars/netlib-native_system-win-x86_64-1.1-natives.jar -> hdfs://ip-172-31-41-208.ap-southeast-1.compute.internal:8020/user/livy/.sparkStaging/application_1680859770941_0003/netlib-native_system-win-x86_64-1.1-natives.jar\n",
      "23/04/07 10:43:40 INFO Client: Uploading resource file:/usr/lib/livy/rsc-jars/netty-all-4.1.17.Final.jar -> hdfs://ip-172-31-41-208.ap-southeast-1.compute.internal:8020/user/livy/.sparkStaging/application_1680859770941_0003/netty-all-4.1.17.Final.jar\n",
      "23/04/07 10:43:40 INFO Client: Uploading resource file:/usr/lib/livy/repl_2.12-jars/commons-codec-1.9.jar -> hdfs://ip-172-31-41-208.ap-southeast-1.compute.internal:8020/user/livy/.sparkStaging/application_1680859770941_0003/commons-codec-1.9.jar\n",
      "23/04/07 10:43:40 INFO Client: Uploading resource file:/usr/lib/livy/repl_2.12-jars/livy-core_2.12-0.7.1-incubating.jar -> hdfs://ip-172-31-41-208.ap-southeast-1.compute.internal:8020/user/livy/.sparkStaging/application_1680859770941_0003/livy-core_2.12-0.7.1-incubating.jar\n",
      "23/04/07 10:43:40 INFO Client: Uploading resource file:/usr/lib/livy/repl_2.12-jars/livy-repl_2.12-0.7.1-incubating.jar -> hdfs://ip-172-31-41-208.ap-southeast-1.compute.internal:8020/user/livy/.sparkStaging/application_1680859770941_0003/livy-repl_2.12-0.7.1-incubating.jar\n",
      "23/04/07 10:43:40 INFO Client: Uploading resource file:/etc/hudi/conf.dist/hudi-defaults.conf -> hdfs://ip-172-31-41-208.ap-southeast-1.compute.internal:8020/user/livy/.sparkStaging/application_1680859770941_0003/hudi-defaults.conf\n",
      "23/04/07 10:43:40 INFO Client: Uploading resource file:/usr/lib/spark/R/lib/sparkr.zip#sparkr -> hdfs://ip-172-31-41-208.ap-southeast-1.compute.internal:8020/user/livy/.sparkStaging/application_1680859770941_0003/sparkr.zip\n",
      "23/04/07 10:43:40 INFO Client: Uploading resource file:/usr/lib/spark/python/lib/pyspark.zip -> hdfs://ip-172-31-41-208.ap-southeast-1.compute.internal:8020/user/livy/.sparkStaging/application_1680859770941_0003/pyspark.zip\n",
      "23/04/07 10:43:40 INFO Client: Uploading resource file:/usr/lib/spark/python/lib/py4j-0.10.9.5-src.zip -> hdfs://ip-172-31-41-208.ap-southeast-1.compute.internal:8020/user/livy/.sparkStaging/application_1680859770941_0003/py4j-0.10.9.5-src.zip\n",
      "23/04/07 10:43:40 INFO Client: Uploading resource file:/mnt/tmp/spark-f0351b9b-b6dd-49b6-a4c3-9405e87e0022/__spark_conf__9033207742118978107.zip -> hdfs://ip-172-31-41-208.ap-southeast-1.compute.internal:8020/user/livy/.sparkStaging/application_1680859770941_0003/__spark_conf__.zip\n",
      "23/04/07 10:43:40 INFO SecurityManager: Changing view acls to: livy\n",
      "23/04/07 10:43:40 INFO SecurityManager: Changing modify acls to: livy\n",
      "23/04/07 10:43:40 INFO SecurityManager: Changing view acls groups to: \n",
      "23/04/07 10:43:40 INFO SecurityManager: Changing modify acls groups to: \n",
      "23/04/07 10:43:40 INFO SecurityManager: SecurityManager: authentication disabled; ui acls disabled; users  with view permissions: Set(livy); groups with view permissions: Set(); users  with modify permissions: Set(livy); groups with modify permissions: Set()\n",
      "23/04/07 10:43:41 INFO Client: Submitting application application_1680859770941_0003 to ResourceManager\n",
      "23/04/07 10:43:41 INFO YarnClientImpl: Submitted application application_1680859770941_0003\n",
      "23/04/07 10:43:41 INFO Client: Application report for application_1680859770941_0003 (state: ACCEPTED)\n",
      "23/04/07 10:43:41 INFO Client: \n",
      "\t client token: N/A\n",
      "\t diagnostics: [Fri Apr 07 10:43:41 +0000 2023] Scheduler has assigned a container for AM, waiting for AM container to be launched\n",
      "\t ApplicationMaster host: N/A\n",
      "\t ApplicationMaster RPC port: -1\n",
      "\t queue: default\n",
      "\t start time: 1680864221036\n",
      "\t final status: UNDEFINED\n",
      "\t tracking URL: http://ip-172-31-41-208.ap-southeast-1.compute.internal:20888/proxy/application_1680859770941_0003/\n",
      "\t user: livy\n",
      "23/04/07 10:43:41 INFO ShutdownHookManager: Shutdown hook called\n",
      "23/04/07 10:43:41 INFO ShutdownHookManager: Deleting directory /mnt/tmp/spark-86c5a235-9565-439f-a990-401c83c9e4b5\n",
      "23/04/07 10:43:41 INFO ShutdownHookManager: Deleting directory /mnt/tmp/spark-f0351b9b-b6dd-49b6-a4c3-9405e87e0022\n",
      "\n",
      "YARN Diagnostics: \n",
      "Application application_1680859770941_0003 failed 1 times (global limit =2; local limit is =1) due to AM Container for appattempt_1680859770941_0003_000001 exited with  exitCode: 137\n",
      "Failing this attempt.Diagnostics: [2023-04-07 10:53:04.949]Container killed on request. Exit code is 137\n",
      "[2023-04-07 10:53:04.949]Container exited with a non-zero exit code 137. \n",
      "[2023-04-07 10:53:04.950]Killed by external signal\n",
      "For more detailed output, check the application tracking page: http://ip-172-31-41-208.ap-southeast-1.compute.internal:8088/cluster/app/application_1680859770941_0003 Then click on links to logs of each attempt.\n",
      ". Failing the application.\n"
     ]
    }
   ],
   "source": [
    "pokemon_inf.show()"
   ]
  },
  {
   "cell_type": "code",
   "execution_count": 33,
   "id": "9daa1730-768a-4b93-b76d-18646ce17584",
   "metadata": {
    "execution": {
     "iopub.execute_input": "2023-04-07T10:32:57.267995Z",
     "iopub.status.busy": "2023-04-07T10:32:57.267635Z",
     "iopub.status.idle": "2023-04-07T10:33:56.712598Z",
     "shell.execute_reply": "2023-04-07T10:33:56.711889Z",
     "shell.execute_reply.started": "2023-04-07T10:32:57.267964Z"
    },
    "tags": []
   },
   "outputs": [
    {
     "data": {
      "application/vnd.jupyter.widget-view+json": {
       "model_id": "fc0623a7479a4e46851a64962f078d87",
       "version_major": 2,
       "version_minor": 0
      },
      "text/plain": [
       "VBox()"
      ]
     },
     "metadata": {},
     "output_type": "display_data"
    },
    {
     "data": {
      "application/vnd.jupyter.widget-view+json": {
       "model_id": "",
       "version_major": 2,
       "version_minor": 0
      },
      "text/plain": [
       "FloatProgress(value=0.0, bar_style='info', description='Progress:', layout=Layout(height='25px', width='50%'),…"
      ]
     },
     "metadata": {},
     "output_type": "display_data"
    },
    {
     "name": "stdout",
     "output_type": "stream",
     "text": [
      "+-------------------+-------------------+--------+---------------+-------------+----------------+--------------+--------------------+--------------------+-----------+--------------+-------------------------------------------------------+\n",
      "|        user_id_str|user_twitter_handle|verified|followers_count|friends_count|favourites_count|statuses_count|          created_at|    tweet_created_at|create_rank|retweets_count|((retweets_count + favourites_count) / followers_count)|\n",
      "+-------------------+-------------------+--------+---------------+-------------+----------------+--------------+--------------------+--------------------+-----------+--------------+-------------------------------------------------------+\n",
      "|1409917553514848257|        PokemonGems|   false|          48683|          383|            6517|          1041|Tue Jun 29 16:52:...|Tue Feb 15 23:27:...|          1|             0|                                    0.13386603126348007|\n",
      "|           19426551|                NFL|    true|       28837319|         2723|            3080|        234547|Sat Jan 24 01:28:...|Tue Feb 15 22:55:...|          1|             0|                                   1.068060453192614...|\n",
      "|           26257166|       SportsCenter|    true|       39519520|          732|            1984|        132561|Tue Mar 24 15:28:...|Tue Feb 15 21:38:...|          1|             0|                                   5.020303890330652E-5|\n",
      "|           34429906|     SoulRebornGame|   false|          72990|           59|             210|            99|Wed Apr 22 22:48:...|Tue Feb 15 08:44:...|          1|             0|                                   0.002877106452938759|\n",
      "|1200355745600069635|       GiveAwayHost|   false|         308830|          798|            7874|         40311|Fri Nov 29 10:08:...|Tue Feb 15 21:55:...|          1|             0|                                   0.025496227698086325|\n",
      "|1156269110545793024|       ladyincrypto|   false|         353342|          726|            1546|         13953|Tue Jul 30 18:23:...|Tue Feb 15 06:52:...|          1|             0|                                   0.004375364377854...|\n",
      "|         4920946291|        sof1azara03|   false|         282622|         3404|           22789|         72950|Wed Feb 17 12:34:...|Tue Feb 15 22:52:...|          1|             0|                                     0.0806342039897814|\n",
      "|          501558917|           TheJenus|   false|        1048839|         1019|            7316|          5945|Fri Feb 24 07:53:...|Tue Feb 15 23:02:...|          1|             0|                                    0.00697533177160651|\n",
      "|            7157132|           GameSpot|    true|        4670967|          707|           21694|        155232|Fri Jun 29 17:54:...|Tue Feb 15 21:46:...|          1|             0|                                   0.004644434439378...|\n",
      "|1483999454244274178|       ashward_game|   false|          54211|            4|              17|            27|Thu Jan 20 03:07:...|Tue Feb 15 09:49:...|          1|             0|                                   3.135894929073435...|\n",
      "|1449414811436023812|      chitaglorya__|   false|         231770|          441|             296|         12526|Sat Oct 16 16:40:...|Tue Feb 15 10:17:...|          1|             0|                                   0.001277128187427...|\n",
      "|            5921162|            famitsu|    true|         902131|        44835|              70|        265474|Thu May 10 05:03:...|Tue Feb 15 06:30:...|          1|             0|                                   7.759405230504218E-5|\n",
      "|           18927441|                IGN|    true|        8618524|         1372|           16341|        160711|Tue Jan 13 03:56:...|Tue Feb 15 16:01:...|          1|             0|                                   0.001896032313653707|\n",
      "|          297169759|      SamsungMobile|    true|       12443079|          424|             522|          8772|Thu May 12 01:59:...|Tue Feb 15 09:33:...|          1|             0|                                   4.195103157345541E-5|\n",
      "|1302006102364745728|      strokegamexxx|   false|         185542|         1917|            1310|         71732|Fri Sep 04 22:10:...|Tue Feb 15 18:02:...|          1|             0|                                   0.007060396028931...|\n",
      "|1235177017441529861|           game7400|   false|          18430|         2215|            8277|          7677|Wed Mar 04 12:15:...|Tue Feb 15 15:23:...|          1|             0|                                    0.44910472056429734|\n",
      "+-------------------+-------------------+--------+---------------+-------------+----------------+--------------+--------------------+--------------------+-----------+--------------+-------------------------------------------------------+"
     ]
    }
   ],
   "source": [
    "pokemon_inf.show()"
   ]
  },
  {
   "cell_type": "code",
   "execution_count": null,
   "id": "48550444-c330-4197-b4ba-d53c81b8d8fd",
   "metadata": {},
   "outputs": [],
   "source": []
  },
  {
   "cell_type": "code",
   "execution_count": null,
   "id": "7634de44-7969-4254-9f70-c28c1b4a4098",
   "metadata": {},
   "outputs": [],
   "source": [
    "# IER = (retweets + favorites) / followers"
   ]
  },
  {
   "cell_type": "code",
   "execution_count": 28,
   "id": "da073ec5-e47c-40e6-93e3-0f368eca54e3",
   "metadata": {
    "execution": {
     "iopub.execute_input": "2023-04-07T10:17:23.284896Z",
     "iopub.status.busy": "2023-04-07T10:17:23.284581Z",
     "iopub.status.idle": "2023-04-07T10:17:24.036717Z",
     "shell.execute_reply": "2023-04-07T10:17:24.035913Z",
     "shell.execute_reply.started": "2023-04-07T10:17:23.284870Z"
    },
    "tags": []
   },
   "outputs": [
    {
     "data": {
      "application/vnd.jupyter.widget-view+json": {
       "model_id": "5063aa2a6a6c4606a5546c05772b8cb0",
       "version_major": 2,
       "version_minor": 0
      },
      "text/plain": [
       "VBox()"
      ]
     },
     "metadata": {},
     "output_type": "display_data"
    },
    {
     "data": {
      "application/vnd.jupyter.widget-view+json": {
       "model_id": "",
       "version_major": 2,
       "version_minor": 0
      },
      "text/plain": [
       "FloatProgress(value=0.0, bar_style='info', description='Progress:', layout=Layout(height='25px', width='50%'),…"
      ]
     },
     "metadata": {},
     "output_type": "display_data"
    },
    {
     "name": "stdout",
     "output_type": "stream",
     "text": [
      "+-------------+--------------+\n",
      "|retweet_count|favorite_count|\n",
      "+-------------+--------------+\n",
      "|            0|             0|\n",
      "|            0|             0|\n",
      "|            0|             0|\n",
      "|            0|             0|\n",
      "|            0|             0|\n",
      "|            0|             0|\n",
      "|            0|             0|\n",
      "|            0|             0|\n",
      "|            0|             0|\n",
      "|            0|             0|\n",
      "|            0|             0|\n",
      "|            0|             0|\n",
      "|            0|             0|\n",
      "|            0|             0|\n",
      "|            0|             0|\n",
      "|            0|             0|\n",
      "|            0|             0|\n",
      "|            0|             0|\n",
      "|            0|             0|\n",
      "|            0|             0|\n",
      "+-------------+--------------+\n",
      "only showing top 20 rows"
     ]
    }
   ],
   "source": [
    "# raw.select().show()"
   ]
  },
  {
   "cell_type": "code",
   "execution_count": null,
   "id": "1f8f5283-2720-4506-9bf8-8e8228d14ca8",
   "metadata": {},
   "outputs": [],
   "source": [
    "from pyspark.sql.functions import sum, first\n",
    "\n",
    "# Filter DataFrame to include only tweets by a particular influencer\n",
    "influencer_tweets = tweets_df.filter(tweets_df.user_id == influencer_id)\n",
    "\n",
    "# Calculate total number of retweets and favorites for the influencer's tweets\n",
    "total_retweets = influencer_tweets.agg(sum(\"retweets\")).first()[0]\n",
    "total_favorites = influencer_tweets.agg(sum(\"favorites\")).first()[0]\n",
    "\n",
    "# Get the number of followers for the influencer\n",
    "follower_count = influencer_tweets.select(\"followers\").distinct().first()[0]\n",
    "\n",
    "# Calculate the IER\n",
    "ier = (total_retweets + total_favorites) / follower_count"
   ]
  },
  {
   "cell_type": "code",
   "execution_count": null,
   "id": "04ed17a2-fcbe-4a94-a510-ca3c2cfc8f0f",
   "metadata": {},
   "outputs": [],
   "source": []
  },
  {
   "cell_type": "code",
   "execution_count": null,
   "id": "d8d076a2-4145-4571-b525-216f67ad0cc2",
   "metadata": {},
   "outputs": [],
   "source": []
  },
  {
   "cell_type": "code",
   "execution_count": null,
   "id": "ac1a2c33-82f5-4956-8a30-a84d063457aa",
   "metadata": {},
   "outputs": [],
   "source": []
  },
  {
   "cell_type": "code",
   "execution_count": null,
   "id": "5b295769-ceff-4306-a6fb-bcf310aaff07",
   "metadata": {},
   "outputs": [],
   "source": []
  },
  {
   "cell_type": "code",
   "execution_count": null,
   "id": "19cac1b3-11c4-455c-b030-58b12065861d",
   "metadata": {
    "tags": []
   },
   "outputs": [],
   "source": [
    "diff.count(), pokemon_inf.count()"
   ]
  },
  {
   "cell_type": "code",
   "execution_count": 79,
   "id": "9605b5db-b4a8-4658-bc61-75e1d989598f",
   "metadata": {
    "execution": {
     "iopub.execute_input": "2023-04-07T07:42:41.698870Z",
     "iopub.status.busy": "2023-04-07T07:42:41.698495Z",
     "iopub.status.idle": "2023-04-07T07:42:41.968741Z",
     "shell.execute_reply": "2023-04-07T07:42:41.967945Z",
     "shell.execute_reply.started": "2023-04-07T07:42:41.698837Z"
    }
   },
   "outputs": [
    {
     "data": {
      "application/vnd.jupyter.widget-view+json": {
       "model_id": "fba1e239fda44f16bb21f0b56a694bb6",
       "version_major": 2,
       "version_minor": 0
      },
      "text/plain": [
       "VBox()"
      ]
     },
     "metadata": {},
     "output_type": "display_data"
    },
    {
     "data": {
      "application/vnd.jupyter.widget-view+json": {
       "model_id": "",
       "version_major": 2,
       "version_minor": 0
      },
      "text/plain": [
       "FloatProgress(value=0.0, bar_style='info', description='Progress:', layout=Layout(height='25px', width='50%'),…"
      ]
     },
     "metadata": {},
     "output_type": "display_data"
    },
    {
     "name": "stdout",
     "output_type": "stream",
     "text": [
      "False"
     ]
    }
   ],
   "source": [
    "pokemon.count() == 0"
   ]
  },
  {
   "cell_type": "code",
   "execution_count": 67,
   "id": "757636b0-2772-46f1-a7e5-e1ee381ee0d3",
   "metadata": {
    "execution": {
     "iopub.execute_input": "2023-04-07T07:33:55.529110Z",
     "iopub.status.busy": "2023-04-07T07:33:55.528473Z",
     "iopub.status.idle": "2023-04-07T07:34:49.023583Z",
     "shell.execute_reply": "2023-04-07T07:34:49.008377Z",
     "shell.execute_reply.started": "2023-04-07T07:33:55.529071Z"
    },
    "tags": []
   },
   "outputs": [
    {
     "data": {
      "application/vnd.jupyter.widget-view+json": {
       "model_id": "7f69d9a2443b4383a562ad7832630535",
       "version_major": 2,
       "version_minor": 0
      },
      "text/plain": [
       "VBox()"
      ]
     },
     "metadata": {},
     "output_type": "display_data"
    },
    {
     "data": {
      "application/vnd.jupyter.widget-view+json": {
       "model_id": "",
       "version_major": 2,
       "version_minor": 0
      },
      "text/plain": [
       "FloatProgress(value=0.0, bar_style='info', description='Progress:', layout=Layout(height='25px', width='50%'),…"
      ]
     },
     "metadata": {},
     "output_type": "display_data"
    },
    {
     "name": "stdout",
     "output_type": "stream",
     "text": [
      "+-------------------+-------------------+--------+---------------+-------------+----------------+--------------+--------------------+--------------------+-----------+\n",
      "|        user_id_str|user_twitter_handle|verified|followers_count|friends_count|favourites_count|statuses_count|          created_at|    tweet_created_at|create_rank|\n",
      "+-------------------+-------------------+--------+---------------+-------------+----------------+--------------+--------------------+--------------------+-----------+\n",
      "|1235177017441529861|           game7400|   false|          18430|         2215|            8277|          7677|Wed Mar 04 12:15:...|Tue Feb 15 15:23:...|          1|\n",
      "|1483999454244274178|       ashward_game|   false|          54211|            4|              17|            27|Thu Jan 20 03:07:...|Tue Feb 15 09:49:...|          1|\n",
      "|           19426551|                NFL|    true|       28837319|         2723|            3080|        234547|Sat Jan 24 01:28:...|Tue Feb 15 22:55:...|          1|\n",
      "|            5921162|            famitsu|    true|         902131|        44835|              70|        265474|Thu May 10 05:03:...|Tue Feb 15 06:30:...|          1|\n",
      "|           34429906|     SoulRebornGame|   false|          72990|           59|             210|            99|Wed Apr 22 22:48:...|Tue Feb 15 08:44:...|          1|\n",
      "|          297169759|      SamsungMobile|    true|       12443079|          424|             522|          8772|Thu May 12 01:59:...|Tue Feb 15 09:33:...|          1|\n",
      "|1302006102364745728|      strokegamexxx|   false|         185542|         1917|            1310|         71732|Fri Sep 04 22:10:...|Tue Feb 15 18:02:...|          1|\n",
      "|1200355745600069635|       GiveAwayHost|   false|         308830|          798|            7874|         40311|Fri Nov 29 10:08:...|Tue Feb 15 21:55:...|          1|\n",
      "|1156269110545793024|       ladyincrypto|   false|         353342|          726|            1546|         13953|Tue Jul 30 18:23:...|Tue Feb 15 06:52:...|          1|\n",
      "|           18927441|                IGN|    true|        8618524|         1372|           16341|        160711|Tue Jan 13 03:56:...|Tue Feb 15 16:01:...|          1|\n",
      "|          501558917|           TheJenus|   false|        1048839|         1019|            7316|          5945|Fri Feb 24 07:53:...|Tue Feb 15 23:02:...|          1|\n",
      "|            7157132|           GameSpot|    true|        4670967|          707|           21694|        155232|Fri Jun 29 17:54:...|Tue Feb 15 21:46:...|          1|\n",
      "|1409917553514848257|        PokemonGems|   false|          48683|          383|            6517|          1041|Tue Jun 29 16:52:...|Tue Feb 15 23:27:...|          1|\n",
      "|         4920946291|        sof1azara03|   false|         282622|         3404|           22789|         72950|Wed Feb 17 12:34:...|Tue Feb 15 22:52:...|          1|\n",
      "|1449414811436023812|      chitaglorya__|   false|         231770|          441|             296|         12526|Sat Oct 16 16:40:...|Tue Feb 15 10:17:...|          1|\n",
      "|           26257166|       SportsCenter|    true|       39519520|          732|            1984|        132561|Tue Mar 24 15:28:...|Tue Feb 15 21:38:...|          1|\n",
      "+-------------------+-------------------+--------+---------------+-------------+----------------+--------------+--------------------+--------------------+-----------+"
     ]
    }
   ],
   "source": [
    "pokemon_inf.show()"
   ]
  },
  {
   "cell_type": "code",
   "execution_count": 61,
   "id": "2950d2e7-abf3-49f1-96dd-b9b753e518e8",
   "metadata": {
    "execution": {
     "iopub.execute_input": "2023-04-07T07:29:23.127360Z",
     "iopub.status.busy": "2023-04-07T07:29:23.126927Z",
     "iopub.status.idle": "2023-04-07T07:29:23.412542Z",
     "shell.execute_reply": "2023-04-07T07:29:23.411751Z",
     "shell.execute_reply.started": "2023-04-07T07:29:23.127310Z"
    },
    "tags": []
   },
   "outputs": [
    {
     "data": {
      "application/vnd.jupyter.widget-view+json": {
       "model_id": "2e2e8201e0224084859563fd216e4188",
       "version_major": 2,
       "version_minor": 0
      },
      "text/plain": [
       "VBox()"
      ]
     },
     "metadata": {},
     "output_type": "display_data"
    },
    {
     "data": {
      "application/vnd.jupyter.widget-view+json": {
       "model_id": "",
       "version_major": 2,
       "version_minor": 0
      },
      "text/plain": [
       "FloatProgress(value=0.0, bar_style='info', description='Progress:', layout=Layout(height='25px', width='50%'),…"
      ]
     },
     "metadata": {},
     "output_type": "display_data"
    }
   ],
   "source": []
  },
  {
   "cell_type": "code",
   "execution_count": 62,
   "id": "ba2ce8a4-5c91-46cf-8e1c-5eed18435eeb",
   "metadata": {
    "execution": {
     "iopub.execute_input": "2023-04-07T07:29:26.833020Z",
     "iopub.status.busy": "2023-04-07T07:29:26.829717Z",
     "iopub.status.idle": "2023-04-07T07:30:20.307668Z",
     "shell.execute_reply": "2023-04-07T07:30:20.306699Z",
     "shell.execute_reply.started": "2023-04-07T07:29:26.832978Z"
    },
    "tags": []
   },
   "outputs": [
    {
     "data": {
      "application/vnd.jupyter.widget-view+json": {
       "model_id": "2173744a2dcf41cdb4a2d82674c5f988",
       "version_major": 2,
       "version_minor": 0
      },
      "text/plain": [
       "VBox()"
      ]
     },
     "metadata": {},
     "output_type": "display_data"
    },
    {
     "data": {
      "application/vnd.jupyter.widget-view+json": {
       "model_id": "",
       "version_major": 2,
       "version_minor": 0
      },
      "text/plain": [
       "FloatProgress(value=0.0, bar_style='info', description='Progress:', layout=Layout(height='25px', width='50%'),…"
      ]
     },
     "metadata": {},
     "output_type": "display_data"
    },
    {
     "name": "stdout",
     "output_type": "stream",
     "text": [
      "+-------------------+-------------------+--------+---------------+-------------+----------------+--------------+--------------------+--------------------+-----------+\n",
      "|        user_id_str|user_twitter_handle|verified|followers_count|friends_count|favourites_count|statuses_count|          created_at|    tweet_created_at|create_rank|\n",
      "+-------------------+-------------------+--------+---------------+-------------+----------------+--------------+--------------------+--------------------+-----------+\n",
      "|1235177017441529861|           game7400|   false|          18430|         2215|            8277|          7677|Wed Mar 04 12:15:...|Tue Feb 15 15:23:...|          1|\n",
      "|1483999454244274178|       ashward_game|   false|          54211|            4|              17|            27|Thu Jan 20 03:07:...|Tue Feb 15 09:49:...|          1|\n",
      "|           19426551|                NFL|    true|       28837319|         2723|            3080|        234547|Sat Jan 24 01:28:...|Tue Feb 15 22:55:...|          1|\n",
      "|            5921162|            famitsu|    true|         902131|        44835|              70|        265474|Thu May 10 05:03:...|Tue Feb 15 06:30:...|          1|\n",
      "|           34429906|     SoulRebornGame|   false|          72990|           59|             210|            99|Wed Apr 22 22:48:...|Tue Feb 15 08:44:...|          1|\n",
      "|          297169759|      SamsungMobile|    true|       12443079|          424|             522|          8772|Thu May 12 01:59:...|Tue Feb 15 09:33:...|          1|\n",
      "|1302006102364745728|      strokegamexxx|   false|         185542|         1917|            1310|         71732|Fri Sep 04 22:10:...|Tue Feb 15 18:02:...|          1|\n",
      "|1200355745600069635|       GiveAwayHost|   false|         308830|          798|            7874|         40311|Fri Nov 29 10:08:...|Tue Feb 15 21:55:...|          1|\n",
      "|1156269110545793024|       ladyincrypto|   false|         353342|          726|            1546|         13953|Tue Jul 30 18:23:...|Tue Feb 15 06:52:...|          1|\n",
      "|           18927441|                IGN|    true|        8618524|         1372|           16341|        160711|Tue Jan 13 03:56:...|Tue Feb 15 16:01:...|          1|\n",
      "|          501558917|           TheJenus|   false|        1048839|         1019|            7316|          5945|Fri Feb 24 07:53:...|Tue Feb 15 23:02:...|          1|\n",
      "|            7157132|           GameSpot|    true|        4670967|          707|           21694|        155232|Fri Jun 29 17:54:...|Tue Feb 15 21:46:...|          1|\n",
      "|1409917553514848257|        PokemonGems|   false|          48683|          383|            6517|          1041|Tue Jun 29 16:52:...|Tue Feb 15 23:27:...|          1|\n",
      "|         4920946291|        sof1azara03|   false|         282622|         3404|           22789|         72950|Wed Feb 17 12:34:...|Tue Feb 15 22:52:...|          1|\n",
      "|1449414811436023812|      chitaglorya__|   false|         231770|          441|             296|         12526|Sat Oct 16 16:40:...|Tue Feb 15 10:17:...|          1|\n",
      "|           26257166|       SportsCenter|    true|       39519520|          732|            1984|        132561|Tue Mar 24 15:28:...|Tue Feb 15 21:38:...|          1|\n",
      "+-------------------+-------------------+--------+---------------+-------------+----------------+--------------+--------------------+--------------------+-----------+"
     ]
    }
   ],
   "source": [
    "res.show()"
   ]
  },
  {
   "cell_type": "code",
   "execution_count": 63,
   "id": "7652764d-4ac0-4ad6-8767-6b72321fef5c",
   "metadata": {
    "execution": {
     "iopub.execute_input": "2023-04-07T07:31:01.634909Z",
     "iopub.status.busy": "2023-04-07T07:31:01.634526Z",
     "iopub.status.idle": "2023-04-07T07:31:43.030976Z",
     "shell.execute_reply": "2023-04-07T07:31:43.030205Z",
     "shell.execute_reply.started": "2023-04-07T07:31:01.634877Z"
    }
   },
   "outputs": [
    {
     "data": {
      "application/vnd.jupyter.widget-view+json": {
       "model_id": "581e807ce0c9471fb12421071f34d222",
       "version_major": 2,
       "version_minor": 0
      },
      "text/plain": [
       "VBox()"
      ]
     },
     "metadata": {},
     "output_type": "display_data"
    },
    {
     "data": {
      "application/vnd.jupyter.widget-view+json": {
       "model_id": "",
       "version_major": 2,
       "version_minor": 0
      },
      "text/plain": [
       "FloatProgress(value=0.0, bar_style='info', description='Progress:', layout=Layout(height='25px', width='50%'),…"
      ]
     },
     "metadata": {},
     "output_type": "display_data"
    },
    {
     "name": "stdout",
     "output_type": "stream",
     "text": [
      "16"
     ]
    }
   ],
   "source": [
    "res.count()"
   ]
  },
  {
   "cell_type": "code",
   "execution_count": 80,
   "id": "84537766-e015-4555-89f3-00655e0cbc71",
   "metadata": {
    "execution": {
     "iopub.execute_input": "2023-04-07T07:43:53.970296Z",
     "iopub.status.busy": "2023-04-07T07:43:53.969971Z",
     "iopub.status.idle": "2023-04-07T07:43:54.036982Z",
     "shell.execute_reply": "2023-04-07T07:43:54.036149Z",
     "shell.execute_reply.started": "2023-04-07T07:43:53.970269Z"
    }
   },
   "outputs": [
    {
     "data": {
      "application/vnd.jupyter.widget-view+json": {
       "model_id": "70bc5ccb57c449f2a1cfac7923f5fa17",
       "version_major": 2,
       "version_minor": 0
      },
      "text/plain": [
       "VBox()"
      ]
     },
     "metadata": {},
     "output_type": "display_data"
    },
    {
     "data": {
      "application/vnd.jupyter.widget-view+json": {
       "model_id": "",
       "version_major": 2,
       "version_minor": 0
      },
      "text/plain": [
       "FloatProgress(value=0.0, bar_style='info', description='Progress:', layout=Layout(height='25px', width='50%'),…"
      ]
     },
     "metadata": {},
     "output_type": "display_data"
    },
    {
     "name": "stdout",
     "output_type": "stream",
     "text": [
      "--------------------user_filter--------------------"
     ]
    }
   ],
   "source": [
    "print(\"-\"*20 + \"user_filter\" + \"-\"*20)\n"
   ]
  },
  {
   "cell_type": "code",
   "execution_count": null,
   "id": "e56e8d58-f08c-42be-9c2d-741bbcca565a",
   "metadata": {},
   "outputs": [],
   "source": [
    "def pre_process(folder, diff):\n",
    "# folder=folder_list[-1]\n",
    "#     folder_path = input_bucket + path.format(folder)\n",
    "    raw = spark.read.json(folder, allowBackslashEscapingAnyCharacter=True)\n",
    "\n",
    "    user_df = raw.select(\n",
    "        col(\"user.id_str\").alias(\"user_id_str\"),\n",
    "        col(\"user.screen_name\").alias(\"user_twitter_handle\"),\n",
    "        \"user.verified\",\n",
    "        \"user.followers_count\",\n",
    "        \"user.friends_count\",\n",
    "        \"user.favourites_count\",\n",
    "        \"user.statuses_count\",\n",
    "        \"user.created_at\",\n",
    "        col(\"created_at\").alias(\"tweet_created_at\"),\n",
    "        \"retweet_count\"\n",
    "    )\n",
    "\n",
    "    user_df.createOrReplaceTempView(\"user_df\")\n",
    "    retweet_count = spark.sql(\"\"\"\n",
    "    select  user_id_str, \n",
    "            user_twitter_handle, \n",
    "            sum(retweet_count) as retweets_count\n",
    "            from user_df\n",
    "            group by user_id_str, \n",
    "                     user_twitter_handle\n",
    "    \"\"\")\n",
    "    user_info.createOrReplaceTempView(\"user_info\")\n",
    "\n",
    "    user_filter = spark.sql(\"\"\"\n",
    "    select u_1.*,\n",
    "            user_info.retweets_count, \n",
    "            (user_info.retweets_count + u_1.favourites_count)/u_1.followers_count as IER\n",
    "    from\n",
    "        (select *\n",
    "        from\n",
    "            (select user_id_str, \n",
    "                    user_twitter_handle, \n",
    "                    verified, \n",
    "                    followers_count, \n",
    "                    friends_count, \n",
    "                    favourites_count, \n",
    "                    statuses_count, \n",
    "                    created_at,\n",
    "                    tweet_created_at,\n",
    "                    rank() over(partition by user_id_str order by tweet_created_at desc) create_rank\n",
    "            from user_df\n",
    "            where user_id_str is not null) u\n",
    "        where create_rank = 1) u_1\n",
    "    join user_info\n",
    "    on u_1.user_id_str = user_info.user_id_str\n",
    "    and u_1.user_twitter_handle = user_info.user_twitter_handle\n",
    "    \"\"\")\n",
    "    user_filter.createOrReplaceTempView(\"user_filter\")\n",
    "\n",
    "    diff.createOrReplaceTempView(\"diff\")\n",
    "    user_join = spark.sql(\"\"\"\n",
    "    select user_filter.*\n",
    "    from\n",
    "    user_filter\n",
    "    join\n",
    "    diff\n",
    "    on user_filter.user_id_str = diff.user_id_str\"\"\")\n",
    "    \n",
    "   \n",
    "    return user_join, diff\n",
    "\n"
   ]
  }
 ],
 "metadata": {
  "kernelspec": {
   "display_name": "PySpark",
   "language": "python",
   "name": "pysparkkernel"
  },
  "language_info": {
   "codemirror_mode": {
    "name": "python",
    "version": 3
   },
   "file_extension": ".py",
   "mimetype": "text/x-python",
   "name": "pyspark",
   "pygments_lexer": "python3"
  }
 },
 "nbformat": 4,
 "nbformat_minor": 5
}
