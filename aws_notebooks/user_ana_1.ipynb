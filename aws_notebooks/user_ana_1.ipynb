{
 "cells": [
  {
   "cell_type": "code",
   "execution_count": null,
   "id": "b808e7c4-6d4b-4b78-be66-5b7e90e3280d",
   "metadata": {},
   "outputs": [],
   "source": [
    "# cac retweet"
   ]
  },
  {
   "cell_type": "code",
   "execution_count": 1,
   "id": "d07744fc-0cb7-456b-b3a9-ac1c276b9c75",
   "metadata": {
    "execution": {
     "iopub.execute_input": "2023-04-07T11:18:28.563161Z",
     "iopub.status.busy": "2023-04-07T11:18:28.562821Z",
     "iopub.status.idle": "2023-04-07T11:19:05.260210Z",
     "shell.execute_reply": "2023-04-07T11:19:05.259446Z",
     "shell.execute_reply.started": "2023-04-07T11:18:28.563129Z"
    }
   },
   "outputs": [
    {
     "data": {
      "application/vnd.jupyter.widget-view+json": {
       "model_id": "1a9667501b0745298d2b0d876727b1ff",
       "version_major": 2,
       "version_minor": 0
      },
      "text/plain": [
       "VBox()"
      ]
     },
     "metadata": {},
     "output_type": "display_data"
    },
    {
     "name": "stdout",
     "output_type": "stream",
     "text": [
      "Starting Spark application\n"
     ]
    },
    {
     "data": {
      "text/html": [
       "<table>\n",
       "<tr><th>ID</th><th>YARN Application ID</th><th>Kind</th><th>State</th><th>Spark UI</th><th>Driver log</th><th>User</th><th>Current session?</th></tr><tr><td>5</td><td>application_1680859770941_0006</td><td>pyspark</td><td>idle</td><td><a target=\"_blank\" href=\"http://ip-172-31-41-208.ap-southeast-1.compute.internal:20888/proxy/application_1680859770941_0006/\" class=\"emr-proxy-link\" emr-resource=\"j-3JUX4IM4S7ON0\n",
       "\" application-id=\"application_1680859770941_0006\">Link</a></td><td><a target=\"_blank\" href=\"http://ip-172-31-34-34.ap-southeast-1.compute.internal:8042/node/containerlogs/container_1680859770941_0006_01_000001/livy\" >Link</a></td><td>None</td><td>✔</td></tr></table>"
      ],
      "text/plain": [
       "<IPython.core.display.HTML object>"
      ]
     },
     "metadata": {},
     "output_type": "display_data"
    },
    {
     "data": {
      "application/vnd.jupyter.widget-view+json": {
       "model_id": "",
       "version_major": 2,
       "version_minor": 0
      },
      "text/plain": [
       "FloatProgress(value=0.0, bar_style='info', description='Progress:', layout=Layout(height='25px', width='50%'),…"
      ]
     },
     "metadata": {},
     "output_type": "display_data"
    },
    {
     "name": "stdout",
     "output_type": "stream",
     "text": [
      "SparkSession available as 'spark'.\n"
     ]
    },
    {
     "data": {
      "application/vnd.jupyter.widget-view+json": {
       "model_id": "",
       "version_major": 2,
       "version_minor": 0
      },
      "text/plain": [
       "FloatProgress(value=0.0, bar_style='info', description='Progress:', layout=Layout(height='25px', width='50%'),…"
      ]
     },
     "metadata": {},
     "output_type": "display_data"
    }
   ],
   "source": [
    "from pyspark.sql import functions"
   ]
  },
  {
   "cell_type": "code",
   "execution_count": 2,
   "id": "2c9355cc-3ce5-4b8e-8e85-3bc3ee53a71b",
   "metadata": {
    "execution": {
     "iopub.execute_input": "2023-04-07T11:19:05.261964Z",
     "iopub.status.busy": "2023-04-07T11:19:05.261644Z",
     "iopub.status.idle": "2023-04-07T11:19:05.516694Z",
     "shell.execute_reply": "2023-04-07T11:19:05.515948Z",
     "shell.execute_reply.started": "2023-04-07T11:19:05.261929Z"
    }
   },
   "outputs": [
    {
     "data": {
      "application/vnd.jupyter.widget-view+json": {
       "model_id": "18e0be30630a4e5097412ae277089b0e",
       "version_major": 2,
       "version_minor": 0
      },
      "text/plain": [
       "VBox()"
      ]
     },
     "metadata": {},
     "output_type": "display_data"
    },
    {
     "data": {
      "application/vnd.jupyter.widget-view+json": {
       "model_id": "",
       "version_major": 2,
       "version_minor": 0
      },
      "text/plain": [
       "FloatProgress(value=0.0, bar_style='info', description='Progress:', layout=Layout(height='25px', width='50%'),…"
      ]
     },
     "metadata": {},
     "output_type": "display_data"
    }
   ],
   "source": [
    "from py4j.protocol import Py4JJavaError\n",
    "from pyspark import SparkConf, SparkContext\n",
    "import pyspark\n",
    "from pyspark.sql import SparkSession, SQLContext\n",
    "from pyspark.sql.functions import explode, col, udf, concat_ws, from_json, lit, array, expr, size\n",
    "from pyspark.sql.functions import sum as _sum\n",
    "from pyspark.sql.types import *\n",
    "import json\n",
    "import os\n",
    "import gc\n",
    "from pyspark.sql.types import BooleanType\n",
    "# from pyspark.sql import SparkSession\n",
    "spark = SparkSession.builder.master(\"local[*]\").getOrCreate()"
   ]
  },
  {
   "cell_type": "code",
   "execution_count": 3,
   "id": "47efe25b-8c51-4b69-af28-54aabe027bf3",
   "metadata": {
    "execution": {
     "iopub.execute_input": "2023-04-07T11:20:03.259918Z",
     "iopub.status.busy": "2023-04-07T11:20:03.259583Z",
     "iopub.status.idle": "2023-04-07T11:20:24.600997Z",
     "shell.execute_reply": "2023-04-07T11:20:24.600256Z",
     "shell.execute_reply.started": "2023-04-07T11:20:03.259891Z"
    }
   },
   "outputs": [
    {
     "data": {
      "application/vnd.jupyter.widget-view+json": {
       "model_id": "dd4fafa6bed14582853e1aae029a9497",
       "version_major": 2,
       "version_minor": 0
      },
      "text/plain": [
       "VBox()"
      ]
     },
     "metadata": {},
     "output_type": "display_data"
    },
    {
     "data": {
      "application/vnd.jupyter.widget-view+json": {
       "model_id": "",
       "version_major": 2,
       "version_minor": 0
      },
      "text/plain": [
       "FloatProgress(value=0.0, bar_style='info', description='Progress:', layout=Layout(height='25px', width='50%'),…"
      ]
     },
     "metadata": {},
     "output_type": "display_data"
    }
   ],
   "source": [
    "# retweets\n",
    "\n",
    "input_bucket = 's3://cs5344-twitter-project'\n",
    "original_sdf = spark.read.format('csv').options(header='True').load('s3://cs5344-twitter-project/input/original_tweet_intermediate_full').cache()\n",
    "conn_sdf = spark.read.format('json').options(header='True').load('s3://cs5344-twitter-project/input/retweeted_tweet_intermediate_full').cache()\n",
    "\n"
   ]
  },
  {
   "cell_type": "code",
   "execution_count": 5,
   "id": "a3f158e9-36d6-43d7-90ae-d7f7e039fb7f",
   "metadata": {
    "execution": {
     "iopub.execute_input": "2023-04-07T11:21:02.204002Z",
     "iopub.status.busy": "2023-04-07T11:21:02.203687Z",
     "iopub.status.idle": "2023-04-07T11:21:02.246454Z",
     "shell.execute_reply": "2023-04-07T11:21:02.245692Z",
     "shell.execute_reply.started": "2023-04-07T11:21:02.203976Z"
    },
    "tags": []
   },
   "outputs": [
    {
     "data": {
      "application/vnd.jupyter.widget-view+json": {
       "model_id": "0d64c975a7d84cb5a39d1ae29befb1f2",
       "version_major": 2,
       "version_minor": 0
      },
      "text/plain": [
       "VBox()"
      ]
     },
     "metadata": {},
     "output_type": "display_data"
    },
    {
     "data": {
      "application/vnd.jupyter.widget-view+json": {
       "model_id": "",
       "version_major": 2,
       "version_minor": 0
      },
      "text/plain": [
       "FloatProgress(value=0.0, bar_style='info', description='Progress:', layout=Layout(height='25px', width='50%'),…"
      ]
     },
     "metadata": {},
     "output_type": "display_data"
    },
    {
     "name": "stdout",
     "output_type": "stream",
     "text": [
      "['connected_user_single', 'created_at', 'id_str', 'in_reply_to_status_id_str', 'in_reply_to_user_id_str', 'quoted_original_tweet_id_str', 'quoted_original_user_id_str', 'quoted_time', 'retweeted_original_tweet_id_str', 'retweeted_original_user_id_str', 'retweeted_time', 'text', 'text_hashtag', 'user_id_str']"
     ]
    }
   ],
   "source": [
    "conn_sdf.columns"
   ]
  },
  {
   "cell_type": "code",
   "execution_count": 11,
   "id": "fe299027-332d-4801-94af-19d870a4d009",
   "metadata": {
    "execution": {
     "iopub.execute_input": "2023-04-07T11:26:40.458267Z",
     "iopub.status.busy": "2023-04-07T11:26:40.457966Z",
     "iopub.status.idle": "2023-04-07T11:26:40.704056Z",
     "shell.execute_reply": "2023-04-07T11:26:40.703346Z",
     "shell.execute_reply.started": "2023-04-07T11:26:40.458241Z"
    }
   },
   "outputs": [
    {
     "data": {
      "application/vnd.jupyter.widget-view+json": {
       "model_id": "54c696ca2d084de8a82a004fb25a8525",
       "version_major": 2,
       "version_minor": 0
      },
      "text/plain": [
       "VBox()"
      ]
     },
     "metadata": {},
     "output_type": "display_data"
    },
    {
     "data": {
      "application/vnd.jupyter.widget-view+json": {
       "model_id": "",
       "version_major": 2,
       "version_minor": 0
      },
      "text/plain": [
       "FloatProgress(value=0.0, bar_style='info', description='Progress:', layout=Layout(height='25px', width='50%'),…"
      ]
     },
     "metadata": {},
     "output_type": "display_data"
    }
   ],
   "source": []
  },
  {
   "cell_type": "code",
   "execution_count": 12,
   "id": "48f43014-bd0c-45b3-a675-d9d9a7342605",
   "metadata": {
    "execution": {
     "iopub.execute_input": "2023-04-07T11:30:01.072776Z",
     "iopub.status.busy": "2023-04-07T11:30:01.072459Z",
     "iopub.status.idle": "2023-04-07T11:30:01.333682Z",
     "shell.execute_reply": "2023-04-07T11:30:01.332877Z",
     "shell.execute_reply.started": "2023-04-07T11:30:01.072751Z"
    }
   },
   "outputs": [
    {
     "data": {
      "application/vnd.jupyter.widget-view+json": {
       "model_id": "2e97913dfd5c4990aa938472943a858f",
       "version_major": 2,
       "version_minor": 0
      },
      "text/plain": [
       "VBox()"
      ]
     },
     "metadata": {},
     "output_type": "display_data"
    },
    {
     "data": {
      "application/vnd.jupyter.widget-view+json": {
       "model_id": "",
       "version_major": 2,
       "version_minor": 0
      },
      "text/plain": [
       "FloatProgress(value=0.0, bar_style='info', description='Progress:', layout=Layout(height='25px', width='50%'),…"
      ]
     },
     "metadata": {},
     "output_type": "display_data"
    }
   ],
   "source": [
    "# retweets\n",
    "# input_bucket = 's3://cs5344-twitter-project'\n",
    "# original_sdf = spark.read.format('csv').options(header='True').load('s3://cs5344-twitter-project/input/original_tweet_intermediate_full').cache()\n",
    "# conn_sdf = spark.read.format('json').options(header='True').load('s3://cs5344-twitter-project/input/retweeted_tweet_intermediate_full').cache()\n",
    "conn_sdf.createOrReplaceTempView(\"conn_sdf\")\n",
    "retweets_cnt = spark.sql(\"\"\"\n",
    "    select user_id_str, count(1)\n",
    "    from conn_sdf\n",
    "    group by user_id_str\"\"\")\n",
    "retweets_cnt.createOrReplaceTempView(\"retweets_cnt\")"
   ]
  },
  {
   "cell_type": "code",
   "execution_count": 13,
   "id": "81043cb1-977b-4e0c-8a06-db11b56dca2a",
   "metadata": {
    "execution": {
     "iopub.execute_input": "2023-04-07T11:30:07.154090Z",
     "iopub.status.busy": "2023-04-07T11:30:07.153770Z",
     "iopub.status.idle": "2023-04-07T11:30:18.446039Z",
     "shell.execute_reply": "2023-04-07T11:30:18.445182Z",
     "shell.execute_reply.started": "2023-04-07T11:30:07.154065Z"
    }
   },
   "outputs": [
    {
     "data": {
      "application/vnd.jupyter.widget-view+json": {
       "model_id": "f12ae143a8f2433db186b24c29db9e1a",
       "version_major": 2,
       "version_minor": 0
      },
      "text/plain": [
       "VBox()"
      ]
     },
     "metadata": {},
     "output_type": "display_data"
    },
    {
     "data": {
      "application/vnd.jupyter.widget-view+json": {
       "model_id": "",
       "version_major": 2,
       "version_minor": 0
      },
      "text/plain": [
       "FloatProgress(value=0.0, bar_style='info', description='Progress:', layout=Layout(height='25px', width='50%'),…"
      ]
     },
     "metadata": {},
     "output_type": "display_data"
    },
    {
     "name": "stdout",
     "output_type": "stream",
     "text": [
      "+-------------------+--------+\n",
      "|        user_id_str|count(1)|\n",
      "+-------------------+--------+\n",
      "|1480459776328814592|       1|\n",
      "|1158804531909541888|       2|\n",
      "|           19664256|       3|\n",
      "|1329851674823958528|       1|\n",
      "| 806504056889823232|       2|\n",
      "|          381646586|       1|\n",
      "|         1869680923|       4|\n",
      "|1352121768660578304|       6|\n",
      "|1485143917591142402|       4|\n",
      "|1434996729678635008|       1|\n",
      "|1366187324183355395|       2|\n",
      "|1154564904663130112|       1|\n",
      "|         3292379858|       1|\n",
      "|1328308841390497792|       9|\n",
      "|1479480879542005763|       2|\n",
      "|         1007465750|       2|\n",
      "|          285524571|       2|\n",
      "|1028223590431444993|       1|\n",
      "|1466835443715129350|       1|\n",
      "|1439194393492312064|       1|\n",
      "+-------------------+--------+\n",
      "only showing top 20 rows"
     ]
    }
   ],
   "source": [
    "retweets_cnt.show()"
   ]
  },
  {
   "cell_type": "code",
   "execution_count": null,
   "id": "04c77aff-e0f8-4273-8d86-644cdc617670",
   "metadata": {},
   "outputs": [],
   "source": []
  }
 ],
 "metadata": {
  "kernelspec": {
   "display_name": "PySpark",
   "language": "python",
   "name": "pysparkkernel"
  },
  "language_info": {
   "codemirror_mode": {
    "name": "python",
    "version": 3
   },
   "file_extension": ".py",
   "mimetype": "text/x-python",
   "name": "pyspark",
   "pygments_lexer": "python3"
  }
 },
 "nbformat": 4,
 "nbformat_minor": 5
}
