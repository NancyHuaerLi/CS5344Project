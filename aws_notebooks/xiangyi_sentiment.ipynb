{
 "cells": [
  {
   "cell_type": "code",
   "execution_count": 1,
   "id": "db207a78-2726-4112-9ab7-43de32da393b",
   "metadata": {
    "execution": {
     "iopub.execute_input": "2023-04-06T13:59:56.992651Z",
     "iopub.status.busy": "2023-04-06T13:59:56.992208Z",
     "iopub.status.idle": "2023-04-06T14:00:33.765355Z",
     "shell.execute_reply": "2023-04-06T14:00:33.764552Z",
     "shell.execute_reply.started": "2023-04-06T13:59:56.992613Z"
    },
    "tags": []
   },
   "outputs": [
    {
     "data": {
      "application/vnd.jupyter.widget-view+json": {
       "model_id": "6116ec4a8a2e4573a6dd97af9e5ea79d",
       "version_major": 2,
       "version_minor": 0
      },
      "text/plain": [
       "VBox()"
      ]
     },
     "metadata": {},
     "output_type": "display_data"
    },
    {
     "name": "stdout",
     "output_type": "stream",
     "text": [
      "Starting Spark application\n"
     ]
    },
    {
     "data": {
      "text/html": [
       "<table>\n<tbody><tr><th>ID</th><th>YARN Application ID</th><th>Kind</th><th>State</th><th>Spark UI</th><th>Driver log</th><th>User</th><th>Current session?</th></tr><tr><td>23</td><td>application_1680595456061_0024</td><td>pyspark</td><td>idle</td><td><a target=\"_blank\" href=\"http://ip-172-31-34-15.ap-southeast-1.compute.internal:20888/proxy/application_1680595456061_0024/\" class=\"emr-proxy-link j-14DWVRCNSY9VU application_1680595456061_0024\" emr-resource=\"j-14DWVRCNSY9VU\n\" application-id=\"application_1680595456061_0024\">Link</a></td><td><a target=\"_blank\" href=\"http://ip-172-31-47-199.ap-southeast-1.compute.internal:8042/node/containerlogs/container_1680595456061_0024_01_000001/livy\">Link</a></td><td>None</td><td>✔</td></tr></tbody></table>"
      ],
      "text/plain": [
       "<IPython.core.display.HTML object>"
      ]
     },
     "metadata": {},
     "output_type": "display_data"
    },
    {
     "data": {
      "application/vnd.jupyter.widget-view+json": {
       "model_id": "",
       "version_major": 2,
       "version_minor": 0
      },
      "text/plain": [
       "FloatProgress(value=0.0, bar_style='info', description='Progress:', layout=Layout(height='25px', width='50%'),…"
      ]
     },
     "metadata": {},
     "output_type": "display_data"
    },
    {
     "name": "stdout",
     "output_type": "stream",
     "text": [
      "SparkSession available as 'spark'.\n"
     ]
    },
    {
     "data": {
      "application/vnd.jupyter.widget-view+json": {
       "model_id": "",
       "version_major": 2,
       "version_minor": 0
      },
      "text/plain": [
       "FloatProgress(value=0.0, bar_style='info', description='Progress:', layout=Layout(height='25px', width='50%'),…"
      ]
     },
     "metadata": {},
     "output_type": "display_data"
    }
   ],
   "source": [
    "from pyspark.sql import functions"
   ]
  },
  {
   "cell_type": "code",
   "execution_count": 2,
   "id": "adbfa28b-4bd0-4cbe-8de8-106697cd6630",
   "metadata": {
    "execution": {
     "iopub.execute_input": "2023-04-06T14:00:37.264225Z",
     "iopub.status.busy": "2023-04-06T14:00:37.263488Z",
     "iopub.status.idle": "2023-04-06T14:00:37.339750Z",
     "shell.execute_reply": "2023-04-06T14:00:37.338808Z",
     "shell.execute_reply.started": "2023-04-06T14:00:37.264187Z"
    },
    "tags": []
   },
   "outputs": [
    {
     "data": {
      "application/vnd.jupyter.widget-view+json": {
       "model_id": "bc41997867554b148b45f1cd67dffdbb",
       "version_major": 2,
       "version_minor": 0
      },
      "text/plain": [
       "VBox()"
      ]
     },
     "metadata": {},
     "output_type": "display_data"
    },
    {
     "data": {
      "application/vnd.jupyter.widget-view+json": {
       "model_id": "",
       "version_major": 2,
       "version_minor": 0
      },
      "text/plain": [
       "FloatProgress(value=0.0, bar_style='info', description='Progress:', layout=Layout(height='25px', width='50%'),…"
      ]
     },
     "metadata": {},
     "output_type": "display_data"
    }
   ],
   "source": [
    "from py4j.protocol import Py4JJavaError\n",
    "from pyspark import SparkConf, SparkContext\n",
    "import pyspark\n",
    "from pyspark.sql import SparkSession, SQLContext\n",
    "from pyspark.sql.functions import explode, col, udf, concat_ws, from_json, lit, array, expr, size, when, count, avg, sum\n",
    "# from pyspark.sql.functions import sum as _sum\n",
    "from pyspark.sql.types import *\n",
    "from pyspark.sql.types import BooleanType"
   ]
  },
  {
   "cell_type": "code",
   "execution_count": 3,
   "id": "0de3ec9b-22d4-44ff-81e6-5fc5d3a9a652",
   "metadata": {
    "execution": {
     "iopub.execute_input": "2023-04-06T14:00:38.385403Z",
     "iopub.status.busy": "2023-04-06T14:00:38.384680Z",
     "iopub.status.idle": "2023-04-06T14:00:38.441971Z",
     "shell.execute_reply": "2023-04-06T14:00:38.441258Z",
     "shell.execute_reply.started": "2023-04-06T14:00:38.385366Z"
    },
    "tags": []
   },
   "outputs": [
    {
     "data": {
      "application/vnd.jupyter.widget-view+json": {
       "model_id": "fc437e9235bf4231b1a5672c1923dce7",
       "version_major": 2,
       "version_minor": 0
      },
      "text/plain": [
       "VBox()"
      ]
     },
     "metadata": {},
     "output_type": "display_data"
    },
    {
     "data": {
      "application/vnd.jupyter.widget-view+json": {
       "model_id": "",
       "version_major": 2,
       "version_minor": 0
      },
      "text/plain": [
       "FloatProgress(value=0.0, bar_style='info', description='Progress:', layout=Layout(height='25px', width='50%'),…"
      ]
     },
     "metadata": {},
     "output_type": "display_data"
    }
   ],
   "source": [
    "import json\n",
    "import os\n",
    "import gc\n",
    "import ast\n"
   ]
  },
  {
   "cell_type": "code",
   "execution_count": null,
   "id": "bf917bd8-d387-4318-99b4-0e7960c9ee6e",
   "metadata": {
    "tags": []
   },
   "outputs": [],
   "source": [
    "# %%info\n"
   ]
  },
  {
   "cell_type": "code",
   "execution_count": 5,
   "id": "b00e7ec1-7aa8-4951-82de-cc1c800af7c2",
   "metadata": {
    "execution": {
     "iopub.execute_input": "2023-04-06T14:11:01.610818Z",
     "iopub.status.busy": "2023-04-06T14:11:01.610377Z",
     "iopub.status.idle": "2023-04-06T14:11:03.882060Z",
     "shell.execute_reply": "2023-04-06T14:11:03.881085Z",
     "shell.execute_reply.started": "2023-04-06T14:11:01.610772Z"
    },
    "tags": []
   },
   "outputs": [
    {
     "data": {
      "application/vnd.jupyter.widget-view+json": {
       "model_id": "d1d35e775e4646b98c9593b96eb8c6ee",
       "version_major": 2,
       "version_minor": 0
      },
      "text/plain": [
       "VBox()"
      ]
     },
     "metadata": {},
     "output_type": "display_data"
    },
    {
     "data": {
      "application/vnd.jupyter.widget-view+json": {
       "model_id": "",
       "version_major": 2,
       "version_minor": 0
      },
      "text/plain": [
       "FloatProgress(value=0.0, bar_style='info', description='Progress:', layout=Layout(height='25px', width='50%'),…"
      ]
     },
     "metadata": {},
     "output_type": "display_data"
    },
    {
     "name": "stdout",
     "output_type": "stream",
     "text": [
      "Collecting vaderSentiment\n",
      "  Downloading vaderSentiment-3.3.2-py2.py3-none-any.whl (125 kB)\n",
      "Collecting requests\n",
      "  Downloading requests-2.28.2-py3-none-any.whl (62 kB)\n",
      "Collecting charset-normalizer<4,>=2\n",
      "  Downloading charset_normalizer-3.1.0-cp37-cp37m-manylinux_2_17_x86_64.manylinux2014_x86_64.whl (171 kB)\n",
      "Collecting certifi>=2017.4.17\n",
      "  Downloading certifi-2022.12.7-py3-none-any.whl (155 kB)\n",
      "Collecting urllib3<1.27,>=1.21.1\n",
      "  Downloading urllib3-1.26.15-py2.py3-none-any.whl (140 kB)\n",
      "Collecting idna<4,>=2.5\n",
      "  Downloading idna-3.4-py3-none-any.whl (61 kB)\n",
      "Installing collected packages: charset-normalizer, certifi, urllib3, idna, requests, vaderSentiment\n",
      "Successfully installed certifi-2022.12.7 charset-normalizer-3.1.0 idna-3.4 requests-2.28.2 urllib3-1.26.15 vaderSentiment-3.3.2\n",
      "\n",
      "WARNING: The directory '/home/.cache/pip' or its parent directory is not owned or is not writable by the current user. The cache has been disabled. Check the permissions and owner of that directory. If executing pip with sudo, you may want sudo's -H flag."
     ]
    }
   ],
   "source": [
    "# install vaderSentiment \n",
    "sc.install_pypi_package(\"vaderSentiment\")\n"
   ]
  },
  {
   "cell_type": "code",
   "execution_count": 6,
   "id": "d9178b59-f893-4455-8809-1b7100a42945",
   "metadata": {
    "execution": {
     "iopub.execute_input": "2023-04-06T14:11:04.197520Z",
     "iopub.status.busy": "2023-04-06T14:11:04.197068Z",
     "iopub.status.idle": "2023-04-06T14:11:04.975229Z",
     "shell.execute_reply": "2023-04-06T14:11:04.974456Z",
     "shell.execute_reply.started": "2023-04-06T14:11:04.197469Z"
    },
    "tags": []
   },
   "outputs": [
    {
     "data": {
      "application/vnd.jupyter.widget-view+json": {
       "model_id": "e0fa1a53afe240d48ab1f11cc8cf1b4a",
       "version_major": 2,
       "version_minor": 0
      },
      "text/plain": [
       "VBox()"
      ]
     },
     "metadata": {},
     "output_type": "display_data"
    },
    {
     "data": {
      "application/vnd.jupyter.widget-view+json": {
       "model_id": "",
       "version_major": 2,
       "version_minor": 0
      },
      "text/plain": [
       "FloatProgress(value=0.0, bar_style='info', description='Progress:', layout=Layout(height='25px', width='50%'),…"
      ]
     },
     "metadata": {},
     "output_type": "display_data"
    },
    {
     "name": "stdout",
     "output_type": "stream",
     "text": [
      "Package                    Version\n",
      "-------------------------- ----------\n",
      "aws-cfn-bootstrap          2.0\n",
      "beautifulsoup4             4.9.3\n",
      "boto                       2.49.0\n",
      "certifi                    2022.12.7\n",
      "charset-normalizer         3.1.0\n",
      "click                      8.1.3\n",
      "cycler                     0.11.0\n",
      "docutils                   0.14\n",
      "fonttools                  4.38.0\n",
      "idna                       3.4\n",
      "jmespath                   1.0.1\n",
      "joblib                     1.2.0\n",
      "kiwisolver                 1.4.4\n",
      "lockfile                   0.11.0\n",
      "lxml                       4.9.2\n",
      "matplotlib                 3.5.3\n",
      "mysqlclient                1.4.2\n",
      "nltk                       3.8\n",
      "nose                       1.3.4\n",
      "numpy                      1.20.0\n",
      "packaging                  23.0\n",
      "pandas                     1.3.5\n",
      "Pillow                     9.5.0\n",
      "pip                        20.2.2\n",
      "py-dateutil                2.2\n",
      "pyparsing                  3.0.9\n",
      "pystache                   0.5.4\n",
      "python-daemon              2.2.3\n",
      "python-dateutil            2.8.2\n",
      "python37-sagemaker-pyspark 1.4.2\n",
      "pytz                       2022.7\n",
      "PyYAML                     5.4.1\n",
      "regex                      2021.11.10\n",
      "requests                   2.28.2\n",
      "setuptools                 28.8.0\n",
      "simplejson                 3.2.0\n",
      "six                        1.13.0\n",
      "tqdm                       4.64.1\n",
      "typing-extensions          4.5.0\n",
      "urllib3                    1.26.15\n",
      "vaderSentiment             3.3.2\n",
      "wheel                      0.29.0\n",
      "windmill                   1.6\n",
      "\n",
      "WARNING: The directory '/home/.cache/pip' or its parent directory is not owned or is not writable by the current user. The cache has been disabled. Check the permissions and owner of that directory. If executing pip with sudo, you may want sudo's -H flag."
     ]
    }
   ],
   "source": [
    "sc.list_packages()\n"
   ]
  },
  {
   "cell_type": "code",
   "execution_count": null,
   "id": "4fc6066b-62c6-42de-b44e-a9f931e0e2b5",
   "metadata": {
    "tags": []
   },
   "outputs": [],
   "source": [
    "# from vaderSentiment.vaderSentiment import SentimentIntensityAnalyzer\n",
    "\n",
    "# analyser = SentimentIntensityAnalyzer()\n",
    "\n",
    "# vader_score = analyser.polarity_scores('I am getting bored in the quarantine')\n",
    "\n",
    "# print(vader_score)"
   ]
  },
  {
   "cell_type": "code",
   "execution_count": 4,
   "id": "5fd8c470-1477-4de2-a51d-6772da6c169d",
   "metadata": {
    "execution": {
     "iopub.execute_input": "2023-04-06T14:00:46.192621Z",
     "iopub.status.busy": "2023-04-06T14:00:46.191892Z",
     "iopub.status.idle": "2023-04-06T14:01:03.550547Z",
     "shell.execute_reply": "2023-04-06T14:01:03.549736Z",
     "shell.execute_reply.started": "2023-04-06T14:00:46.192582Z"
    },
    "tags": []
   },
   "outputs": [
    {
     "data": {
      "application/vnd.jupyter.widget-view+json": {
       "model_id": "8842a8e0f22d463eaf0de06e4327c938",
       "version_major": 2,
       "version_minor": 0
      },
      "text/plain": [
       "VBox()"
      ]
     },
     "metadata": {},
     "output_type": "display_data"
    },
    {
     "data": {
      "application/vnd.jupyter.widget-view+json": {
       "model_id": "",
       "version_major": 2,
       "version_minor": 0
      },
      "text/plain": [
       "FloatProgress(value=0.0, bar_style='info', description='Progress:', layout=Layout(height='25px', width='50%'),…"
      ]
     },
     "metadata": {},
     "output_type": "display_data"
    }
   ],
   "source": [
    "input_bucket = 's3://cs5344-twitter-project'\n",
    "original_sdf = spark.read.format('json').options(header='True').load('s3://cs5344-twitter-project/input/original_tweet_intermediate_full').cache()\n",
    "conn_sdf = spark.read.format('json').options(header='True').load('s3://cs5344-twitter-project/input/retweeted_tweet_intermediate_full').cache()\n",
    "\n"
   ]
  },
  {
   "cell_type": "code",
   "execution_count": 34,
   "id": "a81f2a98-9de4-41b3-8eac-c65c469172c1",
   "metadata": {
    "execution": {
     "iopub.execute_input": "2023-04-06T15:00:47.470093Z",
     "iopub.status.busy": "2023-04-06T15:00:47.469674Z",
     "iopub.status.idle": "2023-04-06T15:00:48.245563Z",
     "shell.execute_reply": "2023-04-06T15:00:48.244675Z",
     "shell.execute_reply.started": "2023-04-06T15:00:47.470047Z"
    },
    "tags": []
   },
   "outputs": [
    {
     "data": {
      "application/vnd.jupyter.widget-view+json": {
       "model_id": "c957e55d1fb844a4b1c14f405e5c97d4",
       "version_major": 2,
       "version_minor": 0
      },
      "text/plain": [
       "VBox()"
      ]
     },
     "metadata": {},
     "output_type": "display_data"
    },
    {
     "data": {
      "application/vnd.jupyter.widget-view+json": {
       "model_id": "",
       "version_major": 2,
       "version_minor": 0
      },
      "text/plain": [
       "FloatProgress(value=0.0, bar_style='info', description='Progress:', layout=Layout(height='25px', width='50%'),…"
      ]
     },
     "metadata": {},
     "output_type": "display_data"
    },
    {
     "name": "stdout",
     "output_type": "stream",
     "text": [
      "+-------------------+\n",
      "|                _c0|\n",
      "+-------------------+\n",
      "|          130447415|\n",
      "|         2786677338|\n",
      "|          307902310|\n",
      "| 811765148595535872|\n",
      "|          323091128|\n",
      "|           29758446|\n",
      "| 909119962572242944|\n",
      "|            5162861|\n",
      "| 987228577522376704|\n",
      "|1470439914953011204|\n",
      "|         3095001124|\n",
      "|1349579108187992071|\n",
      "|1441557548427927554|\n",
      "|1441557548427927554|\n",
      "|          252087695|\n",
      "|         1149178590|\n",
      "|1302006102364745728|\n",
      "|         2597010860|\n",
      "|             890891|\n",
      "|1365337673074933765|\n",
      "+-------------------+\n",
      "only showing top 20 rows"
     ]
    }
   ],
   "source": [
    "pagerank_cand_sdf = spark.read.csv(input_bucket + '/test_pokemon_damping/*.csv').select(col('_c0'))\n",
    "pagerank_cand_sdf.show()\n",
    "cand_ls = list(pagerank_cand_sdf.collect())"
   ]
  },
  {
   "cell_type": "code",
   "execution_count": null,
   "id": "4a5b9f21-8215-44d0-8196-990eac5c8ab9",
   "metadata": {
    "tags": []
   },
   "outputs": [],
   "source": []
  },
  {
   "cell_type": "code",
   "execution_count": 7,
   "id": "57e5b356-a71e-4948-a147-22f75c5113fe",
   "metadata": {
    "execution": {
     "iopub.execute_input": "2023-04-06T14:35:16.215534Z",
     "iopub.status.busy": "2023-04-06T14:35:16.215171Z",
     "iopub.status.idle": "2023-04-06T14:35:37.554013Z",
     "shell.execute_reply": "2023-04-06T14:35:37.552999Z",
     "shell.execute_reply.started": "2023-04-06T14:35:16.215504Z"
    },
    "tags": []
   },
   "outputs": [
    {
     "data": {
      "application/vnd.jupyter.widget-view+json": {
       "model_id": "0d92a8c2829b4eff9f229437387e0880",
       "version_major": 2,
       "version_minor": 0
      },
      "text/plain": [
       "VBox()"
      ]
     },
     "metadata": {},
     "output_type": "display_data"
    },
    {
     "data": {
      "application/vnd.jupyter.widget-view+json": {
       "model_id": "",
       "version_major": 2,
       "version_minor": 0
      },
      "text/plain": [
       "FloatProgress(value=0.0, bar_style='info', description='Progress:', layout=Layout(height='25px', width='50%'),…"
      ]
     },
     "metadata": {},
     "output_type": "display_data"
    },
    {
     "name": "stdout",
     "output_type": "stream",
     "text": [
      "Number of original tweets: 374556\n",
      "Number of connect tweets: 860062"
     ]
    }
   ],
   "source": [
    "print(f'Number of original tweets: {original_sdf.count()}')\n",
    "print(f'Number of connect tweets: {conn_sdf.count()}')"
   ]
  },
  {
   "cell_type": "code",
   "execution_count": 9,
   "id": "ff0be6a0-8704-4e83-935b-8e7d99e5335d",
   "metadata": {
    "execution": {
     "iopub.execute_input": "2023-04-06T14:36:11.052578Z",
     "iopub.status.busy": "2023-04-06T14:36:11.052157Z",
     "iopub.status.idle": "2023-04-06T14:36:11.321101Z",
     "shell.execute_reply": "2023-04-06T14:36:11.320283Z",
     "shell.execute_reply.started": "2023-04-06T14:36:11.052545Z"
    },
    "tags": []
   },
   "outputs": [
    {
     "data": {
      "application/vnd.jupyter.widget-view+json": {
       "model_id": "a00d729c784743d693fe3a39cf386790",
       "version_major": 2,
       "version_minor": 0
      },
      "text/plain": [
       "VBox()"
      ]
     },
     "metadata": {},
     "output_type": "display_data"
    },
    {
     "data": {
      "application/vnd.jupyter.widget-view+json": {
       "model_id": "",
       "version_major": 2,
       "version_minor": 0
      },
      "text/plain": [
       "FloatProgress(value=0.0, bar_style='info', description='Progress:', layout=Layout(height='25px', width='50%'),…"
      ]
     },
     "metadata": {},
     "output_type": "display_data"
    },
    {
     "name": "stdout",
     "output_type": "stream",
     "text": [
      "+---------------+--------------------+-------------------+----------------------------------+----------------------------------+-------------------+\n",
      "|_corrupt_record|          created_at|             id_str|                              text|                      text_hashtag|        user_id_str|\n",
      "+---------------+--------------------+-------------------+----------------------------------+----------------------------------+-------------------+\n",
      "|           null|Sat Jan 29 12:00:...|1487395140696084480|              ............KK aa...|              KaranKundrra,Kara...|1287296804657090563|\n",
      "|           null|Sat Jan 29 14:00:...|1487425511630458881|              Eu só quero meu p...|                                  |1163969693209825280|\n",
      "|           null|Sat Jan 29 14:01:...|1487425645864906753|    異世界といえばスマホ\\n #Pok...|              PokemonLEGENDS,Ni...|1034840835961962497|\n",
      "|           null|Sat Jan 29 15:34:...|1487449041701150722|              no gilgamesh, no ...|                                  |         3361641448|\n",
      "|           null|Sat Jan 29 13:18:...|1487414933612597248|              Soo I will have a...|                     LegendsArceus|           31439656|\n",
      "|           null|Sat Jan 29 15:15:...|1487444390188519427|  #エバーテイル をプレイ中！\\n\\...|       エバーテイル,Evertale,エ...|1442097373333712901|\n",
      "|           null|Sat Jan 29 15:03:...|1487441227695935497|              Another weekend w...|                                  |          344729527|\n",
      "|           null|Sat Jan 29 13:20:...|1487415453697777666|       Fit Boxing、今月もまあま...|                    NintendoSwitch|          405374281|\n",
      "|           null|Sat Jan 29 13:18:...|1487414770047270913|              Game freak ha hec...|                                  |          467535523|\n",
      "|           null|Sat Jan 29 14:00:...|1487425310303965185|              👥 players online...|                                  | 832764015877033985|\n",
      "|           null|Sat Jan 29 13:07:...|1487412098254905344|           ryoさん（@ryo_pokemo...|                                  |1382101085205065730|\n",
      "|           null|Sat Jan 29 15:10:...|1487443014452609025|              Why was he sad #P...|              PokemonLegendsArc...|         3057596638|\n",
      "|           null|Sat Jan 29 13:00:...|1487410248579170310|              The Uncanny X-Men...|                                  | 760181729860673536|\n",
      "|           null|Sat Jan 29 15:00:...|1487440447563649024|              At dahil jan DONB...|              BelleDaylightConc...|1467864039195746305|\n",
      "|           null|Sat Jan 29 15:06:...|1487442045593473024|  #スーパーマリオ3Dワールド #フ...|スーパーマリオ3Dワールド,フュー...|1009033301321891840|\n",
      "|           null|Sat Jan 29 13:00:...|1487410407954210821|   リア友と英語縛りダイア #Nint...|                    NintendoSwitch|1455331296851357698|\n",
      "|           null|Sat Jan 29 15:34:...|1487449029118414850|              #beijing2022# Pre...|                                  |1384441777441017860|\n",
      "|           null|Sat Jan 29 15:00:...|1487440632104816640|              It's Game Day! @H...|                        RollTigers|           59131690|\n",
      "|           null|Sat Jan 29 15:02:...|1487440913139789829|              Mt. Zion VS BEST ...|                                  |1471788923412090880|\n",
      "|           null|Sat Jan 29 15:34:...|1487449167496577027|ハイラルッドボーン\\n技血マン 漁...|        ゼルダの伝説,Breathofth...| 965103003773517824|\n",
      "+---------------+--------------------+-------------------+----------------------------------+----------------------------------+-------------------+\n",
      "only showing top 20 rows"
     ]
    }
   ],
   "source": [
    "original_sdf.filter(col('user_id_str'))"
   ]
  },
  {
   "cell_type": "code",
   "execution_count": 8,
   "id": "82670261-f1ca-4492-aa90-193cf1f824ab",
   "metadata": {
    "execution": {
     "iopub.execute_input": "2023-04-06T14:35:45.538721Z",
     "iopub.status.busy": "2023-04-06T14:35:45.537986Z",
     "iopub.status.idle": "2023-04-06T14:35:45.597185Z",
     "shell.execute_reply": "2023-04-06T14:35:45.596271Z",
     "shell.execute_reply.started": "2023-04-06T14:35:45.538680Z"
    },
    "tags": []
   },
   "outputs": [
    {
     "data": {
      "application/vnd.jupyter.widget-view+json": {
       "model_id": "f5d13ba9d6324e778735ff952ea393cc",
       "version_major": 2,
       "version_minor": 0
      },
      "text/plain": [
       "VBox()"
      ]
     },
     "metadata": {},
     "output_type": "display_data"
    },
    {
     "data": {
      "application/vnd.jupyter.widget-view+json": {
       "model_id": "",
       "version_major": 2,
       "version_minor": 0
      },
      "text/plain": [
       "FloatProgress(value=0.0, bar_style='info', description='Progress:', layout=Layout(height='25px', width='50%'),…"
      ]
     },
     "metadata": {},
     "output_type": "display_data"
    }
   ],
   "source": [
    "@udf\n",
    "def sentiment_scorer(text):\n",
    "    from vaderSentiment.vaderSentiment import SentimentIntensityAnalyzer\n",
    "    sia = SentimentIntensityAnalyzer()\n",
    "    score = sia.polarity_scores(text)\n",
    "    return str(score)\n",
    "\n",
    "\n",
    "@udf\n",
    "def get_value_by_key_dict(dict_str, key=None):\n",
    "    import ast\n",
    "    dict_str = dict_str.replace('=', ':')\n",
    "    dict_value = ast.literal_eval(dict_str)\n",
    "    return dict_value[key]"
   ]
  },
  {
   "cell_type": "code",
   "execution_count": null,
   "id": "36e99bb7-0625-4fae-aedf-ac04fac8914e",
   "metadata": {
    "tags": []
   },
   "outputs": [],
   "source": [
    "def get_sentiment_score(sdf, text_col):\n",
    "    sdf = sdf.withColumn('sentiment_output', sentiment_scorer(col(text_col)))\n",
    "    sdf = sdf.withColumn('sentiment_neg', get_value_by_key_dict(col('sentiment_output'), lit('neg')).cast('double'))\n",
    "    sdf = sdf.withColumn('sentiment_neu', get_value_by_key_dict(col('sentiment_output'), lit('neu')).cast('double'))\n",
    "    sdf = sdf.withColumn('sentiment_pos', get_value_by_key_dict(col('sentiment_output'), lit('pos')).cast('double'))\n",
    "    sdf = sdf.withColumn('sentiment_compound', get_value_by_key_dict(col('sentiment_output'), lit('compound')).cast('double'))\n",
    "    sdf = sdf.withColumn('sentiment_compound_pos_ind', when(sdf.sentiment_compound >= 0, 1).otherwise(0))\n",
    "    return sdf"
   ]
  },
  {
   "cell_type": "code",
   "execution_count": null,
   "id": "48d99921-093e-4943-a4bf-6432030bedbe",
   "metadata": {
    "tags": []
   },
   "outputs": [],
   "source": [
    "# ###############################################\n",
    "# ############ Original #################\n",
    "# ###############################################\n",
    "original_sdf = get_sentiment_score(original_sdf, 'text')\n",
    "\n",
    "# # computer average compound score according user's all original tweets\n",
    "sen_original_sdf = original_sdf.select('user_id_str', 'sentiment_compound', 'sentiment_compound_pos_ind')\n",
    "\n",
    "\n",
    "sen_original_sdf = sen_original_sdf.groupBy(\"user_id_str\").agg(\n",
    "    count('*').alias('num_original_tweets'),\n",
    "    sum('sentiment_compound_pos_ind').alias('num_pos_tweets'),\n",
    "    avg('sentiment_compound').alias('avg_sentiment_compound')\n",
    ")\n",
    "\n",
    "\n",
    "sen_original_sdf.printSchema()\n",
    "sen_original_sdf.show()\n",
    "\n"
   ]
  },
  {
   "cell_type": "code",
   "execution_count": null,
   "id": "5fccf0b0-cea2-43ed-bbbf-ec5e197263d0",
   "metadata": {
    "tags": []
   },
   "outputs": [],
   "source": [
    "# ###############################################\n",
    "# ############ Connect #################\n",
    "# ###############################################\n",
    "\n",
    "conn_sdf = get_sentiment_score(conn_sdf, 'text')\n",
    "conn_sdf.show()\n",
    "\n",
    "conn_sdf = conn_sdf.groupBy(\"connected_user_single\").agg(\n",
    "    count('*').alias('num_original_tweets_interacting'),\n",
    "    sum('sentiment_compound_pos_ind').alias('num_pos_tweets_interacting'),\n",
    "    avg('sentiment_compound').alias('avg_sentiment_compound_interacting')\n",
    ")\n",
    "conn_sdf.printSchema()\n",
    "conn_sdf.show()"
   ]
  },
  {
   "cell_type": "code",
   "execution_count": null,
   "id": "5dff9731-2be9-464f-9fc4-564d95b1e568",
   "metadata": {
    "tags": []
   },
   "outputs": [],
   "source": [
    "# spark.stop()"
   ]
  },
  {
   "cell_type": "code",
   "execution_count": null,
   "id": "01a6f976-61ce-4bce-9f57-b84cd320d85a",
   "metadata": {},
   "outputs": [],
   "source": []
  }
 ],
 "metadata": {
  "kernelspec": {
   "display_name": "PySpark",
   "language": "python",
   "name": "pysparkkernel"
  },
  "language_info": {
   "codemirror_mode": {
    "name": "python",
    "version": 3
   },
   "file_extension": ".py",
   "mimetype": "text/x-python",
   "name": "pyspark",
   "pygments_lexer": "python3"
  }
 },
 "nbformat": 4,
 "nbformat_minor": 5
}
