{
 "cells": [
  {
   "cell_type": "code",
   "execution_count": 1,
   "id": "1c18eb9d-679c-43a6-910c-469260f8d797",
   "metadata": {
    "execution": {
     "iopub.execute_input": "2023-04-03T09:55:49.312920Z",
     "iopub.status.busy": "2023-04-03T09:55:49.312580Z",
     "iopub.status.idle": "2023-04-03T09:56:18.704818Z",
     "shell.execute_reply": "2023-04-03T09:56:18.703778Z",
     "shell.execute_reply.started": "2023-04-03T09:55:49.312883Z"
    },
    "tags": []
   },
   "outputs": [
    {
     "data": {
      "application/vnd.jupyter.widget-view+json": {
       "model_id": "1580ec72c968460383461255d456bc13",
       "version_major": 2,
       "version_minor": 0
      },
      "text/plain": [
       "VBox()"
      ]
     },
     "metadata": {},
     "output_type": "display_data"
    },
    {
     "name": "stdout",
     "output_type": "stream",
     "text": [
      "Starting Spark application\n"
     ]
    },
    {
     "data": {
      "text/html": [
       "<table>\n",
       "<tr><th>ID</th><th>YARN Application ID</th><th>Kind</th><th>State</th><th>Spark UI</th><th>Driver log</th><th>Current session?</th></tr><tr><td>1</td><td>application_1680514581471_0002</td><td>pyspark</td><td>idle</td><td><a target=\"_blank\" href=\"http://ip-172-31-37-29.ap-southeast-1.compute.internal:20888/proxy/application_1680514581471_0002/\">Link</a></td><td><a target=\"_blank\" href=\"http://ip-172-31-33-32.ap-southeast-1.compute.internal:8042/node/containerlogs/container_1680514581471_0002_01_000001/livy\">Link</a></td><td>✔</td></tr></table>"
      ],
      "text/plain": [
       "<IPython.core.display.HTML object>"
      ]
     },
     "metadata": {},
     "output_type": "display_data"
    },
    {
     "data": {
      "application/vnd.jupyter.widget-view+json": {
       "model_id": "",
       "version_major": 2,
       "version_minor": 0
      },
      "text/plain": [
       "FloatProgress(value=0.0, bar_style='info', description='Progress:', layout=Layout(height='25px', width='50%'),…"
      ]
     },
     "metadata": {},
     "output_type": "display_data"
    },
    {
     "name": "stdout",
     "output_type": "stream",
     "text": [
      "SparkSession available as 'spark'.\n"
     ]
    },
    {
     "data": {
      "application/vnd.jupyter.widget-view+json": {
       "model_id": "",
       "version_major": 2,
       "version_minor": 0
      },
      "text/plain": [
       "FloatProgress(value=0.0, bar_style='info', description='Progress:', layout=Layout(height='25px', width='50%'),…"
      ]
     },
     "metadata": {},
     "output_type": "display_data"
    }
   ],
   "source": [
    "from pyspark.sql import functions as F"
   ]
  },
  {
   "cell_type": "code",
   "execution_count": 4,
   "id": "fe01e59d-dd86-443e-b139-85bfb4e8dd5f",
   "metadata": {
    "execution": {
     "iopub.execute_input": "2023-04-03T09:57:03.606536Z",
     "iopub.status.busy": "2023-04-03T09:57:03.605971Z",
     "iopub.status.idle": "2023-04-03T09:57:06.670598Z",
     "shell.execute_reply": "2023-04-03T09:57:06.669279Z",
     "shell.execute_reply.started": "2023-04-03T09:57:03.606484Z"
    },
    "tags": []
   },
   "outputs": [
    {
     "data": {
      "application/vnd.jupyter.widget-view+json": {
       "model_id": "12d886932c3e46ce84a44fb080f69386",
       "version_major": 2,
       "version_minor": 0
      },
      "text/plain": [
       "VBox()"
      ]
     },
     "metadata": {},
     "output_type": "display_data"
    },
    {
     "data": {
      "application/vnd.jupyter.widget-view+json": {
       "model_id": "",
       "version_major": 2,
       "version_minor": 0
      },
      "text/plain": [
       "FloatProgress(value=0.0, bar_style='info', description='Progress:', layout=Layout(height='25px', width='50%'),…"
      ]
     },
     "metadata": {},
     "output_type": "display_data"
    },
    {
     "name": "stdout",
     "output_type": "stream",
     "text": [
      "3.7.16 (default, Dec 15 2022, 23:24:54) \n",
      "[GCC 7.3.1 20180712 (Red Hat 7.3.1-15)]\n",
      "+-------------------+-------------------+\n",
      "|        user_id_str|user_twitter_handle|\n",
      "+-------------------+-------------------+\n",
      "|1277653717467172864|          KonateEra|\n",
      "| 889184194315866113|     ViniFerreirado|\n",
      "|          296488613|              tenoq|\n",
      "|1292411311612030977|    kamikaze1226617|\n",
      "|          224175846|           Edunwa18|\n",
      "|1181834654317531136|         MKtography|\n",
      "|1241239744316690432|    SpeedDe86282699|\n",
      "|          201088131|         Fiberblock|\n",
      "|         4149402979|        luislara_97|\n",
      "|         2418331615|            eptileR|\n",
      "|1484471406985297925|           WabinabG|\n",
      "|1278814483167633409|          jhendryx3|\n",
      "| 934943098374823936|          shige_e_5|\n",
      "|1475408590445989894|         TAzammalik|\n",
      "|         2613144614|         AUTOMYSTIC|\n",
      "|1482121649650548736|        alexhaujshu|\n",
      "|1473274640805994497|    hoki2022bigwinx|\n",
      "|         3173560541|      AshfordWomens|\n",
      "|1233591105410625536|          jmfoddidk|\n",
      "|1293106254165024869|         youkapalot|\n",
      "+-------------------+-------------------+\n",
      "only showing top 20 rows"
     ]
    }
   ],
   "source": [
    "from py4j.protocol import Py4JJavaError\n",
    "from pyspark import SparkConf, SparkContext\n",
    "from pyspark.sql import SparkSession, SQLContext\n",
    "from pyspark.sql.functions import explode, col, udf, concat_ws, from_json, lit, array, expr, size\n",
    "from pyspark.sql.functions import sum as _sum\n",
    "from pyspark.sql.types import *\n",
    "import json\n",
    "import os\n",
    "from pyspark.sql.types import BooleanType\n",
    "import sys\n",
    "import gc\n",
    "print(sys.version)\n",
    "# conf = SparkConf()\n",
    "# sc = SparkContext(conf=conf)\n",
    "# sc.setLogLevel(\"ERROR\")\n",
    "\n",
    "# spark = SparkSession.builder.appName(\"twitter_applications\")\\\n",
    "#     .config(\"spark.sql.files.ignoreCorruptFiles\", \"true\")\\\n",
    "#     .config('spark.executor.memory', '45G')\\\n",
    "#     .config('spark.driver.memory', '80G')\\\n",
    "#     .config('spark.driver.maxResultSize', '10G')\\\n",
    "#     .getOrCreate()\n",
    "\n",
    "'''\n",
    "    Step 3:\n",
    "    Implement basic PageRank as described in \n",
    "    http://www.diva-portal.org/smash/get/diva2:1104337/FULLTEXT01.pdf Section 3.4.1\n",
    "'''\n",
    "input_bucket = 's3://cs5344-twitter-project/input/'\n",
    "user_pair_rdd = spark.read \\\n",
    "     .csv(input_bucket+\"user_pair_aws/*.csv\").rdd\n",
    "# user_pair_rdd = user_pair_rdd.map(lambda x: (x[0], (x[1], x[2])))\n",
    "user_interact_rdd = spark.read \\\n",
    "     .csv(input_bucket+\"user_interact_aws/*.csv\").rdd\n",
    "id_name = spark.read.option(\"header\",True).csv(input_bucket+\"id_name_dict_aws/*.csv\")\n",
    "id_name.show()\n",
    "# if user A retweet B, the from_user = A, to_user = B\n",
    "columns = ['from_user', 'to_user', 'retweet_ratio']\n",
    "edge_rdd = user_pair_rdd.filter(lambda x: x[0] != x[1]).toDF(columns)  # remove all self pointed edges\n",
    "# .join(user_interact_rdd).map(lambda x: (x[0], x[1][0][0], float(x[1][0][1]) / float(x[1][1]))) \\\n",
    "\n",
    "all_users = edge_rdd.select(\"from_user\").union(edge_rdd.select(\"to_user\")).distinct() \\\n",
    "    .withColumnRenamed(\"from_user\", \"users\")"
   ]
  },
  {
   "cell_type": "code",
   "execution_count": null,
   "id": "55188eff-62a1-45b2-92f0-2a3e2b318039",
   "metadata": {},
   "outputs": [],
   "source": [
    "test_list = ['nintendo', 'pokemon', 'pokémon legends: arceus', 'pokémon', 'legend of arceus',\n",
    "             'legend arceus', 'legends of arceus', 'pokemon legends: arceus', 'arceus']\n",
    "# regex for filter\n",
    "regex_pattern = \"(?i)\" + \"|\".join(test_list)\n",
    "regex_pattern_hashtag = \"(?i)\" + \"|\".join([x.strip(' ') for x in test_list])\n",
    "\n",
    "filter_df = raw_df.filter(raw_df.text.rlike(regex_pattern) | raw_df.text_hashtag.rlike(regex_pattern)).distinct()"
   ]
  },
  {
   "cell_type": "code",
   "execution_count": 5,
   "id": "f5ac21f1-a027-49cc-9eb5-d7f3c3db4976",
   "metadata": {
    "execution": {
     "iopub.execute_input": "2023-04-03T09:57:06.776917Z",
     "iopub.status.busy": "2023-04-03T09:57:06.776523Z",
     "iopub.status.idle": "2023-04-03T09:59:56.569580Z",
     "shell.execute_reply": "2023-04-03T09:59:56.568293Z",
     "shell.execute_reply.started": "2023-04-03T09:57:06.776877Z"
    },
    "tags": []
   },
   "outputs": [
    {
     "data": {
      "application/vnd.jupyter.widget-view+json": {
       "model_id": "66d4fc67fde84e51a21035252885177b",
       "version_major": 2,
       "version_minor": 0
      },
      "text/plain": [
       "VBox()"
      ]
     },
     "metadata": {},
     "output_type": "display_data"
    },
    {
     "data": {
      "application/vnd.jupyter.widget-view+json": {
       "model_id": "",
       "version_major": 2,
       "version_minor": 0
      },
      "text/plain": [
       "FloatProgress(value=0.0, bar_style='info', description='Progress:', layout=Layout(height='25px', width='50%'),…"
      ]
     },
     "metadata": {},
     "output_type": "display_data"
    }
   ],
   "source": [
    "auth_rdd = edge_rdd.select(\"*\", lit(1).alias(\"auth\"))\n",
    "hub_rdd = edge_rdd.select(\"*\", lit(1).alias(\"hub\"))\n",
    "\n",
    "for i in range(5):\n",
    "\n",
    "    t = hub_rdd.withColumn(\"score\", hub_rdd.retweet_ratio * hub_rdd.hub).groupby(\"to_user\").agg(_sum(\"score\").alias(\"a\"))\n",
    "\n",
    "    norm = t.rdd.map(lambda x: (1, x[1])).reduceByKey(lambda a, b: a + b).collect()[0][1]\n",
    "    auth_rdd = auth_rdd.join(t, \"to_user\").select(\"from_user\", \"to_user\", \"retweet_ratio\",\n",
    "                                                  (col(\"a\") / norm).alias(\"auth\"))\n",
    "    del t\n",
    "    del norm\n",
    "    gc.collect()\n",
    "\n",
    "    # update hub\n",
    "    t = auth_rdd.withColumn(\"score\", auth_rdd.retweet_ratio * auth_rdd.auth).groupby(\"from_user\").agg(\n",
    "        _sum(\"score\").alias(\"h\"))\n",
    "\n",
    "    norm = t.rdd.map(lambda x: (1, x[1])).reduceByKey(lambda a, b: a + b).collect()[0][1]\n",
    "    hub_rdd = hub_rdd.join(t, \"from_user\").select(\"from_user\", \"to_user\", \"retweet_ratio\",\n",
    "                                                  (col(\"h\") / norm).alias(\"hub\"))\n",
    "    del t\n",
    "    del norm\n",
    "    gc.collect()\n",
    "\n",
    "auth_result = auth_rdd.join(id_name, id_name.user_id_str == auth_rdd.to_user).sort(col(\"auth\").desc())\\\n",
    "    .select('to_user', 'auth', 'user_twitter_handle').distinct().limit(200)\n",
    "# auth_result.show(50)"
   ]
  },
  {
   "cell_type": "code",
   "execution_count": 6,
   "id": "89337708-4531-4452-bc25-833bc324cd23",
   "metadata": {
    "execution": {
     "iopub.execute_input": "2023-04-03T09:59:56.572161Z",
     "iopub.status.busy": "2023-04-03T09:59:56.571446Z",
     "iopub.status.idle": "2023-04-03T10:00:26.871699Z",
     "shell.execute_reply": "2023-04-03T10:00:26.870374Z",
     "shell.execute_reply.started": "2023-04-03T09:59:56.572119Z"
    },
    "tags": []
   },
   "outputs": [
    {
     "data": {
      "application/vnd.jupyter.widget-view+json": {
       "model_id": "778bbc9d8cfa415fa0d88e53e546f9e4",
       "version_major": 2,
       "version_minor": 0
      },
      "text/plain": [
       "VBox()"
      ]
     },
     "metadata": {},
     "output_type": "display_data"
    },
    {
     "data": {
      "application/vnd.jupyter.widget-view+json": {
       "model_id": "",
       "version_major": 2,
       "version_minor": 0
      },
      "text/plain": [
       "FloatProgress(value=0.0, bar_style='info', description='Progress:', layout=Layout(height='25px', width='50%'),…"
      ]
     },
     "metadata": {},
     "output_type": "display_data"
    },
    {
     "name": "stdout",
     "output_type": "stream",
     "text": [
      "+-------------------+--------------------+-------------------+\n",
      "|            to_user|                auth|user_twitter_handle|\n",
      "+-------------------+--------------------+-------------------+\n",
      "|1016822205785632768| 9.44569510037704E-8|      chibashi_game|\n",
      "|1018767717531299840|2.278889490099215E-8|     butterflyxflew|\n",
      "|1026363803741577216|7.196103411931095...|           gggoturi|\n",
      "|1003949032606232576|5.535297361130571E-9|        MayroHuerta|\n",
      "|1024025263586172928|3.273388628290853...|        LEGENDSLima|\n",
      "|1010173616124846080|1.461702265236683...|         pixel_poem|\n",
      "|1019274431410012160|6.619366891925705...|          koingyeal|\n",
      "|1015469914390315009|5.737814942275034...|    LegendaryPrizes|\n",
      "|         1013640066|4.966728687038877...|      augc_juridico|\n",
      "|1033546544778117120|2.579141989770504...|        YuichiroKun|\n",
      "|1005062109032480768|2.406579072688340...|            1UPconf|\n",
      "|          100073363|1.303427937909756...|    MarcSeresCrypto|\n",
      "|1024408162655293440|9.069428886899742...|      protectedpick|\n",
      "|1003606898837352449|5.636965371651647...|    8t5UMMDUhUDR6tI|\n",
      "|1012242746877177861|3.772780345693163...|     LakeShowSeason|\n",
      "|1014305804994916357|3.42263422517155E-11|          Mossworm1|\n",
      "|1000440108993036288|3.29250232218914E-11|      Hiyori_tokiwa|\n",
      "|1021643080208801792|2.893242043991351...|         beincrypto|\n",
      "|1034119870915534848|4.971768074726808...|          ASurebets|\n",
      "|1032527609370800129|4.765974337734702...|           suraelis|\n",
      "+-------------------+--------------------+-------------------+\n",
      "only showing top 20 rows"
     ]
    }
   ],
   "source": [
    "auth_result.sort(col(\"auth\").desc()).show()"
   ]
  },
  {
   "cell_type": "code",
   "execution_count": 7,
   "id": "0ce4eaa7-2680-4168-bfaa-190b937576c0",
   "metadata": {
    "execution": {
     "iopub.execute_input": "2023-04-03T10:00:26.875671Z",
     "iopub.status.busy": "2023-04-03T10:00:26.873719Z",
     "iopub.status.idle": "2023-04-03T10:00:53.165218Z",
     "shell.execute_reply": "2023-04-03T10:00:53.163880Z",
     "shell.execute_reply.started": "2023-04-03T10:00:26.875621Z"
    },
    "tags": []
   },
   "outputs": [
    {
     "data": {
      "application/vnd.jupyter.widget-view+json": {
       "model_id": "f4cc7d3a0a9848fa83d52ded7e788974",
       "version_major": 2,
       "version_minor": 0
      },
      "text/plain": [
       "VBox()"
      ]
     },
     "metadata": {},
     "output_type": "display_data"
    },
    {
     "data": {
      "application/vnd.jupyter.widget-view+json": {
       "model_id": "",
       "version_major": 2,
       "version_minor": 0
      },
      "text/plain": [
       "FloatProgress(value=0.0, bar_style='info', description='Progress:', layout=Layout(height='25px', width='50%'),…"
      ]
     },
     "metadata": {},
     "output_type": "display_data"
    }
   ],
   "source": [
    "# write to CSV\n",
    "auth_result.sort(col(\"auth\").desc()).limit(200).write.mode('overwrite').csv(input_bucket+\"test_pokemon_hits\")"
   ]
  },
  {
   "cell_type": "code",
   "execution_count": null,
   "id": "3e348c84-27f7-4337-bf5c-e5b4f01e40db",
   "metadata": {
    "execution": {
     "iopub.execute_input": "2023-04-03T10:00:53.167095Z",
     "iopub.status.busy": "2023-04-03T10:00:53.166739Z"
    },
    "tags": []
   },
   "outputs": [
    {
     "data": {
      "application/vnd.jupyter.widget-view+json": {
       "model_id": "ceaba34271a944329823597248b5dfb4",
       "version_major": 2,
       "version_minor": 0
      },
      "text/plain": [
       "VBox()"
      ]
     },
     "metadata": {},
     "output_type": "display_data"
    },
    {
     "data": {
      "application/vnd.jupyter.widget-view+json": {
       "model_id": "11b9af760e1046a7ac78eda36afd7825",
       "version_major": 2,
       "version_minor": 0
      },
      "text/plain": [
       "FloatProgress(value=0.0, bar_style='info', description='Progress:', layout=Layout(height='25px', width='50%'),…"
      ]
     },
     "metadata": {},
     "output_type": "display_data"
    }
   ],
   "source": [
    "hub_result = hub_rdd.join(id_name, id_name.user_id_str == hub_rdd.from_user).sort(col(\"hub\").desc())\\\n",
    "    .select('from_user', 'hub', 'user_twitter_handle').distinct().limit(200)\n",
    "# write to CSV\n",
    "hub_result.sort(col(\"hub\").desc()).limit(200).write.mode('overwrite').csv(input_bucket+\"test_pokemon_hits_hubs\")"
   ]
  },
  {
   "cell_type": "code",
   "execution_count": null,
   "id": "41475b35-ea0d-4125-a799-2b2a6c20eea7",
   "metadata": {},
   "outputs": [],
   "source": []
  }
 ],
 "metadata": {
  "kernelspec": {
   "display_name": "PySpark",
   "language": "",
   "name": "pysparkkernel"
  },
  "language_info": {
   "codemirror_mode": {
    "name": "python",
    "version": 2
   },
   "mimetype": "text/x-python",
   "name": "pyspark",
   "pygments_lexer": "python2"
  }
 },
 "nbformat": 4,
 "nbformat_minor": 5
}
