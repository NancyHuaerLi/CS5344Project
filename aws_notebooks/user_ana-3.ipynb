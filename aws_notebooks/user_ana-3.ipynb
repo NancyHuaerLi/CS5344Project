{
 "cells": [
  {
   "cell_type": "code",
   "execution_count": null,
   "metadata": {
    "tags": []
   },
   "outputs": [],
   "source": [
    "# from pyspark.sql import functions"
   ]
  },
  {
   "cell_type": "code",
   "execution_count": 1,
   "metadata": {
    "execution": {
     "iopub.execute_input": "2023-04-14T10:21:42.044397Z",
     "iopub.status.busy": "2023-04-14T10:21:42.044088Z",
     "iopub.status.idle": "2023-04-14T10:22:26.374731Z",
     "shell.execute_reply": "2023-04-14T10:22:26.374059Z",
     "shell.execute_reply.started": "2023-04-14T10:21:42.044371Z"
    },
    "tags": []
   },
   "outputs": [
    {
     "data": {
      "application/vnd.jupyter.widget-view+json": {
       "model_id": "e3e65542c0ce4c3f82a0af18dd282add",
       "version_major": 2,
       "version_minor": 0
      },
      "text/plain": [
       "VBox()"
      ]
     },
     "metadata": {},
     "output_type": "display_data"
    },
    {
     "name": "stdout",
     "output_type": "stream",
     "text": [
      "Starting Spark application\n"
     ]
    },
    {
     "data": {
      "text/html": [
       "<table>\n<tbody><tr><th>ID</th><th>YARN Application ID</th><th>Kind</th><th>State</th><th>Spark UI</th><th>Driver log</th><th>User</th><th>Current session?</th></tr><tr><td>0</td><td>application_1681467224689_0001</td><td>pyspark</td><td>idle</td><td><a target=\"_blank\" href=\"http://ip-172-31-34-140.ap-southeast-1.compute.internal:20888/proxy/application_1681467224689_0001/\" class=\"emr-proxy-link j-1BF3Z3M1UBUN2 application_1681467224689_0001\" emr-resource=\"j-1BF3Z3M1UBUN2\n\" application-id=\"application_1681467224689_0001\">Link</a></td><td><a target=\"_blank\" href=\"http://ip-172-31-33-86.ap-southeast-1.compute.internal:8042/node/containerlogs/container_1681467224689_0001_01_000001/livy\">Link</a></td><td>None</td><td>✔</td></tr></tbody></table>"
      ],
      "text/plain": [
       "<IPython.core.display.HTML object>"
      ]
     },
     "metadata": {},
     "output_type": "display_data"
    },
    {
     "data": {
      "application/vnd.jupyter.widget-view+json": {
       "model_id": "",
       "version_major": 2,
       "version_minor": 0
      },
      "text/plain": [
       "FloatProgress(value=0.0, bar_style='info', description='Progress:', layout=Layout(height='25px', width='50%'),…"
      ]
     },
     "metadata": {},
     "output_type": "display_data"
    },
    {
     "name": "stdout",
     "output_type": "stream",
     "text": [
      "SparkSession available as 'spark'.\n"
     ]
    },
    {
     "data": {
      "application/vnd.jupyter.widget-view+json": {
       "model_id": "",
       "version_major": 2,
       "version_minor": 0
      },
      "text/plain": [
       "FloatProgress(value=0.0, bar_style='info', description='Progress:', layout=Layout(height='25px', width='50%'),…"
      ]
     },
     "metadata": {},
     "output_type": "display_data"
    }
   ],
   "source": [
    "from py4j.protocol import Py4JJavaError\n",
    "from pyspark import SparkConf, SparkContext\n",
    "import pyspark\n",
    "from pyspark.sql import functions,SparkSession, SQLContext\n",
    "from pyspark.sql.functions import explode, col, udf, concat_ws, from_json, lit, array, expr, size\n",
    "from pyspark.sql.functions import sum as _sum\n",
    "from pyspark.sql.types import *\n",
    "import json\n",
    "import os\n",
    "import gc\n",
    "from pyspark.sql.types import BooleanType\n",
    "# from pyspark.sql import SparkSession\n",
    "spark = SparkSession.builder.master(\"local[*]\").getOrCreate()"
   ]
  },
  {
   "cell_type": "code",
   "execution_count": 2,
   "metadata": {
    "execution": {
     "iopub.execute_input": "2023-04-14T10:22:26.376053Z",
     "iopub.status.busy": "2023-04-14T10:22:26.375819Z",
     "iopub.status.idle": "2023-04-14T10:22:35.714316Z",
     "shell.execute_reply": "2023-04-14T10:22:35.713530Z",
     "shell.execute_reply.started": "2023-04-14T10:22:26.376030Z"
    },
    "tags": []
   },
   "outputs": [
    {
     "data": {
      "application/vnd.jupyter.widget-view+json": {
       "model_id": "e60b934bafef4ddeb438afd20736a845",
       "version_major": 2,
       "version_minor": 0
      },
      "text/plain": [
       "VBox()"
      ]
     },
     "metadata": {},
     "output_type": "display_data"
    },
    {
     "data": {
      "application/vnd.jupyter.widget-view+json": {
       "model_id": "",
       "version_major": 2,
       "version_minor": 0
      },
      "text/plain": [
       "FloatProgress(value=0.0, bar_style='info', description='Progress:', layout=Layout(height='25px', width='50%'),…"
      ]
     },
     "metadata": {},
     "output_type": "display_data"
    }
   ],
   "source": [
    "input_bucket = 's3://cs5344-twitter-project'\n",
    "path = '/{}/*.json.gz'\n",
    "folder_list = ['20220122', '20220123','20220124','20220125', \n",
    "               '20220126', '20220127','20220128', '20220129',\n",
    "               '20220130', '20220131', '20220201', '20220202',\n",
    "               '20220203', '20220204', '20220205', '20220206',\n",
    "               '20220207', '20220208', '20220209', '20220210',\n",
    "               '20220211', '20220212', '20220213', '20220214',\n",
    "               '20220215']\n",
    "\n",
    "\n",
    "input_bucket = 's3://cs5344-twitter-project'\n",
    "test_pokemon_damping_sdf = spark.read.format('csv').options(header='False').load('s3://cs5344-twitter-project/test_pokemon_damping').cache()\n",
    "pokemon = test_pokemon_damping_sdf.select(col(\"_c0\").alias(\"user_id_str\")).cache()\n",
    "pokemon.createOrReplaceTempView(\"pokemon\")"
   ]
  },
  {
   "cell_type": "code",
   "execution_count": null,
   "metadata": {},
   "outputs": [],
   "source": [
    "#  \"user.verified\",\n",
    "#         \"user.followers_count\",\n",
    "#         \"user.friends_count\",\n",
    "#         \"user.favourites_count\",\n",
    "#         \"user.statuses_count\",\n",
    "#         \"user.created_at\","
   ]
  },
  {
   "cell_type": "code",
   "execution_count": 3,
   "metadata": {
    "execution": {
     "iopub.execute_input": "2023-04-14T10:24:17.340960Z",
     "iopub.status.busy": "2023-04-14T10:24:17.340648Z",
     "iopub.status.idle": "2023-04-14T10:24:17.398962Z",
     "shell.execute_reply": "2023-04-14T10:24:17.398257Z",
     "shell.execute_reply.started": "2023-04-14T10:24:17.340934Z"
    },
    "tags": []
   },
   "outputs": [
    {
     "data": {
      "application/vnd.jupyter.widget-view+json": {
       "model_id": "0f908adf53714c6595f9c460e634cf24",
       "version_major": 2,
       "version_minor": 0
      },
      "text/plain": [
       "VBox()"
      ]
     },
     "metadata": {},
     "output_type": "display_data"
    },
    {
     "data": {
      "application/vnd.jupyter.widget-view+json": {
       "model_id": "",
       "version_major": 2,
       "version_minor": 0
      },
      "text/plain": [
       "FloatProgress(value=0.0, bar_style='info', description='Progress:', layout=Layout(height='25px', width='50%'),…"
      ]
     },
     "metadata": {},
     "output_type": "display_data"
    }
   ],
   "source": [
    "def pre_process(folder):\n",
    "    raw = spark.read.json(folder, allowBackslashEscapingAnyCharacter=True)\n",
    "\n",
    "    user_df = raw.select(\n",
    "        col(\"user.id_str\").alias(\"user_id_str\"),\n",
    "        col(\"user.screen_name\").alias(\"user_twitter_handle\"),\n",
    "        \"id_str\",\n",
    "        col(\"created_at\").alias(\"tweet_created_at\"),\n",
    "        \"quote_count\",\n",
    "        \"reply_count\",\n",
    "        \"retweet_count\",\n",
    "        col(\"favorite_count\").alias(\"tweet_favorite_count\")\n",
    "    )\n",
    "    user_df.cache()\n",
    "    user_df.createOrReplaceTempView(\"user_df\")\n",
    "    \n",
    "#     ier prepare\n",
    "    tweet_interact =  spark.sql(\"\"\"\n",
    "    select a.user_id_str,\n",
    "            a.id_str,\n",
    "           a.interact_cnt\n",
    "    from \n",
    "    (select  user_id_str,\n",
    "            id_str,\n",
    "           (max_quotes_count +  max_replies_count +  max_retweets_count) as interact_cnt\n",
    "    from \n",
    "        (select user_id_str,\n",
    "               id_str,\n",
    "            max(quote_count) max_quotes_count,\n",
    "            max(reply_count) max_replies_count,\n",
    "            max(retweet_count) max_retweets_count\n",
    "        from user_df\n",
    "        group by user_id_str,id_str) \n",
    "    where (max_quotes_count + max_replies_count +  max_retweets_count) > 0) a\n",
    "    join pokemon b\n",
    "    on a.user_id_str = b.user_id_str\n",
    "    \"\"\")\n",
    "    # latest info of influ    \n",
    "#     user_join = spark.sql(\"\"\"\n",
    "#     select user_filter.*\n",
    "#     from\n",
    "#         (select *\n",
    "#         from\n",
    "#             (select user_id_str, \n",
    "#                     user_twitter_handle, \n",
    "#                     verified, \n",
    "#                     followers_count, \n",
    "#                     friends_count, \n",
    "#                     favourites_count, \n",
    "#                     statuses_count, \n",
    "#                     created_at,\n",
    "#                     tweet_created_at,\n",
    "#                     rank() over(partition by user_id_str order by tweet_created_at desc) create_rank\n",
    "#             from user_df\n",
    "#             where user_id_str is not null) u\n",
    "#         where create_rank = 1) user_filter\n",
    "#     join diff\n",
    "#     on user_filter.user_id_str = diff.user_id_str\n",
    "#     \"\"\")\n",
    "#     user_filter.createOrReplaceTempView(\"user_filter\")\n",
    "\n",
    "#     user_join = spark.sql(\"\"\"\n",
    "#     select user_filter.*\n",
    "#     from\n",
    "#     user_filter\n",
    "#     join\n",
    "#     diff\n",
    "#     on user_filter.user_id_str = diff.user_id_str\"\"\")\n",
    "#     return user_join, tweet_interact\n",
    "#     return user_join\n",
    "    return tweet_interact\n",
    "\n"
   ]
  },
  {
   "cell_type": "code",
   "execution_count": 7,
   "metadata": {
    "execution": {
     "iopub.execute_input": "2023-04-14T10:29:15.986548Z",
     "iopub.status.busy": "2023-04-14T10:29:15.986239Z",
     "iopub.status.idle": "2023-04-14T10:30:31.535237Z",
     "shell.execute_reply": "2023-04-14T10:30:31.534508Z",
     "shell.execute_reply.started": "2023-04-14T10:29:15.986524Z"
    },
    "tags": []
   },
   "outputs": [
    {
     "data": {
      "application/vnd.jupyter.widget-view+json": {
       "model_id": "bbe262ea93ef4dd28830a9775db21271",
       "version_major": 2,
       "version_minor": 0
      },
      "text/plain": [
       "VBox()"
      ]
     },
     "metadata": {},
     "output_type": "display_data"
    },
    {
     "data": {
      "application/vnd.jupyter.widget-view+json": {
       "model_id": "",
       "version_major": 2,
       "version_minor": 0
      },
      "text/plain": [
       "FloatProgress(value=0.0, bar_style='info', description='Progress:', layout=Layout(height='25px', width='50%'),…"
      ]
     },
     "metadata": {},
     "output_type": "display_data"
    },
    {
     "name": "stdout",
     "output_type": "stream",
     "text": [
      "+----------------+----------------+------------------+\n",
      "|max(quote_count)|max(reply_count)|max(retweet_count)|\n",
      "+----------------+----------------+------------------+\n",
      "|               0|               0|                 0|\n",
      "+----------------+----------------+------------------+"
     ]
    }
   ],
   "source": [
    "f = folder_list[2]\n",
    "folder = input_bucket + path.format(f)\n",
    "\n",
    "raw = spark.read.json(folder, allowBackslashEscapingAnyCharacter=True)\n",
    "\n",
    "user_df = raw.select(\n",
    "    col(\"user.id_str\").alias(\"user_id_str\"),\n",
    "    col(\"user.screen_name\").alias(\"user_twitter_handle\"),\n",
    "    \"id_str\",\n",
    "    col(\"created_at\").alias(\"tweet_created_at\"),\n",
    "    \"quote_count\",\n",
    "    \"reply_count\",\n",
    "    \"retweet_count\",\n",
    "    col(\"favorite_count\").alias(\"tweet_favorite_count\")\n",
    ")\n",
    "# user_df.cache()\n",
    "user_df.createOrReplaceTempView(\"user_df\")\n",
    "tmp =  spark.sql(\"\"\"\n",
    "select max(quote_count),\n",
    "    max(reply_count),\n",
    "    max(retweet_count)\n",
    "    from user_df\"\"\")\n",
    "tmp.show()"
   ]
  },
  {
   "cell_type": "code",
   "execution_count": 22,
   "metadata": {
    "execution": {
     "iopub.execute_input": "2023-04-11T14:22:22.516095Z",
     "iopub.status.busy": "2023-04-11T14:22:22.515794Z",
     "iopub.status.idle": "2023-04-11T14:22:24.776080Z",
     "shell.execute_reply": "2023-04-11T14:22:24.775367Z",
     "shell.execute_reply.started": "2023-04-11T14:22:22.516068Z"
    }
   },
   "outputs": [
    {
     "data": {
      "application/vnd.jupyter.widget-view+json": {
       "model_id": "7fde559a56044ed3841f9bc3caf632b0",
       "version_major": 2,
       "version_minor": 0
      },
      "text/plain": [
       "VBox()"
      ]
     },
     "metadata": {},
     "output_type": "display_data"
    },
    {
     "data": {
      "application/vnd.jupyter.widget-view+json": {
       "model_id": "",
       "version_major": 2,
       "version_minor": 0
      },
      "text/plain": [
       "FloatProgress(value=0.0, bar_style='info', description='Progress:', layout=Layout(height='25px', width='50%'),…"
      ]
     },
     "metadata": {},
     "output_type": "display_data"
    },
    {
     "name": "stdout",
     "output_type": "stream",
     "text": [
      "+-------------------+-------------------+----------------+----------------+------------------+\n",
      "|        user_id_str|             id_str|max(quote_count)|max(reply_count)|max(retweet_count)|\n",
      "+-------------------+-------------------+----------------+----------------+------------------+\n",
      "|1346314039459258368|1484904307099058176|               0|               0|                 0|\n",
      "|1464749508785545218|1484904361646071814|               0|               0|                 0|\n",
      "|         4882676778|1484904017725583362|               0|               0|                 0|\n",
      "|1228262977557516289|1484904055474647040|               0|               0|                 0|\n",
      "|1364981724480856065|1484904076425175045|               0|               0|                 0|\n",
      "|1348492234841149442|1484904080606523392|               0|               0|                 0|\n",
      "|1249338947169214464|1484904147744788482|               0|               0|                 0|\n",
      "| 957873352596602881|1484904487479169030|               0|               0|                 0|\n",
      "|1350471686785667074|1484904546199490569|               0|               0|                 0|\n",
      "|          172568706|1484904642664230912|               0|               0|                 0|\n",
      "|1423376786889523205|1484903665370636295|               0|               0|                 0|\n",
      "|1324059902277570569|1484903719929925634|               0|               0|                 0|\n",
      "|1378703430538067968|1484903724103659520|               0|               0|                 0|\n",
      "|1475111026668494852|1484903891863019523|               0|               0|                 0|\n",
      "|1345740630488539137|1484904898504564737|               0|               0|                 0|\n",
      "|           18048921|1484905020151955460|               0|               0|                 0|\n",
      "|1244870631348453377|1484905057904885760|               0|               0|                 0|\n",
      "|1337970024405929984|1484905095632412674|               0|               0|                 0|\n",
      "|          516139180|1484905158576422912|               0|               0|                 0|\n",
      "|1157023108026589197|1484905972241948678|               0|               0|                 0|\n",
      "+-------------------+-------------------+----------------+----------------+------------------+\n",
      "only showing top 20 rows"
     ]
    }
   ],
   "source": [
    "# user_df\n",
    "tweet_interact =  spark.sql(\"\"\"\n",
    "select user_id_str,id_str, max(quote_count),max(reply_count),max(retweet_count) from user_df group by user_id_str, id_str\"\"\")\n",
    "tweet_interact.show()"
   ]
  },
  {
   "cell_type": "code",
   "execution_count": null,
   "metadata": {},
   "outputs": [],
   "source": []
  },
  {
   "cell_type": "code",
   "execution_count": 9,
   "metadata": {
    "execution": {
     "iopub.execute_input": "2023-04-11T13:17:59.879525Z",
     "iopub.status.busy": "2023-04-11T13:17:59.879178Z",
     "iopub.status.idle": "2023-04-11T13:34:22.782315Z",
     "shell.execute_reply": "2023-04-11T13:34:22.781345Z",
     "shell.execute_reply.started": "2023-04-11T13:17:59.879498Z"
    },
    "tags": []
   },
   "outputs": [
    {
     "data": {
      "application/vnd.jupyter.widget-view+json": {
       "model_id": "750d58ff39014114ad690c08eb899cf8",
       "version_major": 2,
       "version_minor": 0
      },
      "text/plain": [
       "VBox()"
      ]
     },
     "metadata": {},
     "output_type": "display_data"
    },
    {
     "data": {
      "application/vnd.jupyter.widget-view+json": {
       "model_id": "",
       "version_major": 2,
       "version_minor": 0
      },
      "text/plain": [
       "FloatProgress(value=0.0, bar_style='info', description='Progress:', layout=Layout(height='25px', width='50%'),…"
      ]
     },
     "metadata": {},
     "output_type": "display_data"
    },
    {
     "name": "stdout",
     "output_type": "stream",
     "text": [
      "668\n",
      "204\n",
      "204\n",
      "204\n",
      "204\n",
      "204\n",
      "204\n",
      "204\n",
      "204\n",
      "204\n",
      "204\n",
      "204\n",
      "204\n",
      "204\n",
      "204\n",
      "204\n",
      "204\n",
      "204\n",
      "204\n",
      "204\n",
      "204\n",
      "204\n",
      "204\n",
      "204\n",
      "204"
     ]
    }
   ],
   "source": [
    "diff = pokemon.alias(\"diff\")\n",
    "tweet_interact_info = None\n",
    "pokemon_inf = None\n",
    "for f in folder_list:\n",
    "    folder = input_bucket + path.format(f)\n",
    "    try:\n",
    "#         user_join, tweet_interact = pre_process(folder, diff)\n",
    "#         user_join = pre_process(folder, diff)\n",
    "        tweet_interact = pre_process(folder, diff)\n",
    "\n",
    "    #         if diff.count() == 0:\n",
    "    #             print('--------------------all influ have been found--------------------')\n",
    "    #             break\n",
    "#         diff = diff.join(user_join, on=\"user_id_str\", how=\"left_anti\")\n",
    "#         if pokemon_inf:\n",
    "#             pokemon_inf = pokemon_inf.union(user_join)\n",
    "#         else:\n",
    "#             pokemon_inf = user_join.alias(\"pokemon_inf\")\n",
    "\n",
    "        if tweet_interact_info:\n",
    "            tweet_interact_info =tweet_interact_info.union(tweet_interact)\n",
    "        else:\n",
    "            tweet_interact_info =tweet_interact.alias(\"tweet_interact\")\n",
    "#         del user_join\n",
    "        del tweet_interact\n",
    "        gc.collect()\n",
    "    except Py4JJavaError:\n",
    "        print(folder+\" failed\")"
   ]
  },
  {
   "cell_type": "code",
   "execution_count": null,
   "metadata": {
    "execution": {
     "iopub.status.busy": "2023-04-08T14:11:33.087438Z",
     "iopub.status.idle": "2023-04-08T14:11:33.087853Z",
     "shell.execute_reply": "2023-04-08T14:11:33.087672Z"
    },
    "tags": []
   },
   "outputs": [],
   "source": [
    "tweet_interact_info.show(50)"
   ]
  },
  {
   "cell_type": "code",
   "execution_count": 11,
   "metadata": {
    "execution": {
     "iopub.execute_input": "2023-04-11T13:43:39.840840Z",
     "iopub.status.busy": "2023-04-11T13:43:39.840525Z",
     "iopub.status.idle": "2023-04-11T13:52:02.833809Z",
     "shell.execute_reply": "2023-04-11T13:52:02.833109Z",
     "shell.execute_reply.started": "2023-04-11T13:43:39.840813Z"
    },
    "tags": []
   },
   "outputs": [
    {
     "data": {
      "application/vnd.jupyter.widget-view+json": {
       "model_id": "df4bdb4a6acb4dd7bad452f8a91369cb",
       "version_major": 2,
       "version_minor": 0
      },
      "text/plain": [
       "VBox()"
      ]
     },
     "metadata": {},
     "output_type": "display_data"
    },
    {
     "data": {
      "application/vnd.jupyter.widget-view+json": {
       "model_id": "",
       "version_major": 2,
       "version_minor": 0
      },
      "text/plain": [
       "FloatProgress(value=0.0, bar_style='info', description='Progress:', layout=Layout(height='25px', width='50%'),…"
      ]
     },
     "metadata": {},
     "output_type": "display_data"
    }
   ],
   "source": [
    "output_bucket = 's3://cs5344-twitter-project/'\n",
    "# pokemon_inf.toDF().write.mode('overwrite').csv(output_bucket+'pokemon_inf_24_aws') \n",
    "tweet_interact_info.write.format(\"csv\").save(output_bucket+'user_ana/tweet_interact') "
   ]
  },
  {
   "cell_type": "code",
   "execution_count": 12,
   "metadata": {
    "execution": {
     "iopub.execute_input": "2023-04-11T13:56:10.122096Z",
     "iopub.status.busy": "2023-04-11T13:56:10.121764Z",
     "iopub.status.idle": "2023-04-11T13:56:10.368339Z",
     "shell.execute_reply": "2023-04-11T13:56:10.367679Z",
     "shell.execute_reply.started": "2023-04-11T13:56:10.122069Z"
    }
   },
   "outputs": [
    {
     "data": {
      "application/vnd.jupyter.widget-view+json": {
       "model_id": "cadeb8b27fbd47478f5a60598f92e59e",
       "version_major": 2,
       "version_minor": 0
      },
      "text/plain": [
       "VBox()"
      ]
     },
     "metadata": {},
     "output_type": "display_data"
    },
    {
     "data": {
      "application/vnd.jupyter.widget-view+json": {
       "model_id": "",
       "version_major": 2,
       "version_minor": 0
      },
      "text/plain": [
       "FloatProgress(value=0.0, bar_style='info', description='Progress:', layout=Layout(height='25px', width='50%'),…"
      ]
     },
     "metadata": {},
     "output_type": "display_data"
    }
   ],
   "source": [
    "tweet_interact_info.createOrReplaceTempView(\"tweet_interact_info\")\n",
    "ier_0 = spark.sql(\"\"\"\n",
    "select user_id_str, sum(interact_cnt) from(select user_id_str, id_str, max(interact_cnt)\n",
    "from tweet_interact_info\n",
    "group by user_id_str, id_str)\n",
    "group by user_id_str\"\"\")"
   ]
  },
  {
   "cell_type": "code",
   "execution_count": 13,
   "metadata": {
    "execution": {
     "iopub.execute_input": "2023-04-11T13:56:11.735999Z",
     "iopub.status.busy": "2023-04-11T13:56:11.735677Z",
     "iopub.status.idle": "2023-04-11T14:03:42.863371Z",
     "shell.execute_reply": "2023-04-11T14:03:42.862550Z",
     "shell.execute_reply.started": "2023-04-11T13:56:11.735972Z"
    }
   },
   "outputs": [
    {
     "data": {
      "application/vnd.jupyter.widget-view+json": {
       "model_id": "fb5d4c74d1ca48c49ea297b29d56c932",
       "version_major": 2,
       "version_minor": 0
      },
      "text/plain": [
       "VBox()"
      ]
     },
     "metadata": {},
     "output_type": "display_data"
    },
    {
     "data": {
      "application/vnd.jupyter.widget-view+json": {
       "model_id": "",
       "version_major": 2,
       "version_minor": 0
      },
      "text/plain": [
       "FloatProgress(value=0.0, bar_style='info', description='Progress:', layout=Layout(height='25px', width='50%'),…"
      ]
     },
     "metadata": {},
     "output_type": "display_data"
    },
    {
     "name": "stdout",
     "output_type": "stream",
     "text": [
      "+-----------+-----------------+\n",
      "|user_id_str|sum(interact_cnt)|\n",
      "+-----------+-----------------+\n",
      "+-----------+-----------------+"
     ]
    }
   ],
   "source": [
    "ier_0.show()"
   ]
  },
  {
   "cell_type": "code",
   "execution_count": null,
   "metadata": {
    "tags": []
   },
   "outputs": [],
   "source": [
    "# tweet_interact_info.show()"
   ]
  },
  {
   "cell_type": "code",
   "execution_count": null,
   "metadata": {
    "tags": []
   },
   "outputs": [],
   "source": [
    "diff = pokemon.alias(\"diff\")\n",
    "pokemon_inf = None\n",
    "for f in folder_list[-6:-16:-1]:\n",
    "    folder = input_bucket + path.format(f)\n",
    "    try:\n",
    "        user_join = pre_process(folder)\n",
    "#         diff = diff.join(user_join, on=\"user_id_str\", how=\"left_anti\")\n",
    "        pokemon_inf = user_join.alias(\"pokemon_inf\")\n",
    "        del user_join\n",
    "        gc.collect()\n",
    "    except Py4JJavaError:\n",
    "        print(folder+\" failed\")"
   ]
  },
  {
   "cell_type": "code",
   "execution_count": null,
   "metadata": {
    "tags": []
   },
   "outputs": [],
   "source": [
    "pokemon_inf.show(50, truncate= False)"
   ]
  },
  {
   "cell_type": "code",
   "execution_count": null,
   "metadata": {},
   "outputs": [],
   "source": [
    "# diff = pokemon.alias(\"diff\")\n",
    "pokemon_inf = None\n",
    "for f in folder_list[-16:-26:-1]:\n",
    "    folder = input_bucket + path.format(f)\n",
    "    try:\n",
    "        user_join_2 = pre_process(folder)\n",
    "#         diff = diff.join(user_join, on=\"user_id_str\", how=\"left_anti\")\n",
    "#         pokemon_inf = user_join.alias(\"pokemon_inf\")\n",
    "#         del user_join\n",
    "        gc.collect()\n",
    "    except Py4JJavaError:\n",
    "        print(folder+\" failed\")"
   ]
  },
  {
   "cell_type": "code",
   "execution_count": null,
   "metadata": {},
   "outputs": [],
   "source": [
    "user_join_2.show(50, truncate= False)"
   ]
  },
  {
   "cell_type": "code",
   "execution_count": null,
   "metadata": {},
   "outputs": [],
   "source": []
  },
  {
   "cell_type": "code",
   "execution_count": null,
   "metadata": {},
   "outputs": [],
   "source": []
  },
  {
   "cell_type": "code",
   "execution_count": null,
   "metadata": {},
   "outputs": [],
   "source": []
  },
  {
   "cell_type": "code",
   "execution_count": null,
   "metadata": {
    "tags": []
   },
   "outputs": [],
   "source": [
    "folder_list[-16:-26:-1]"
   ]
  },
  {
   "cell_type": "code",
   "execution_count": null,
   "metadata": {
    "tags": []
   },
   "outputs": [],
   "source": [
    "for f in folder_list[-11:-16:-1]:\n",
    "    folder = input_bucket + path.format(f)\n",
    "    try:\n",
    "        user_join, diff = pre_process(folder,diff)\n",
    "        if diff.count() == 0:\n",
    "            print('--------------------all influ have been found--------------------')\n",
    "            break\n",
    "        diff = diff.join(user_join, on=\"user_id_str\", how=\"left_anti\")\n",
    "        if pokemon_inf:\n",
    "            pokemon_inf = pokemon_inf.union(user_join)\n",
    "        else:\n",
    "            pokemon_inf = user_join.alias(\"pokemon_inf\")\n",
    "        del user_join\n",
    "        gc.collect()\n",
    "    except Py4JJavaError:\n",
    "        print(folder+\" failed\")"
   ]
  },
  {
   "cell_type": "code",
   "execution_count": null,
   "metadata": {},
   "outputs": [],
   "source": [
    "pokemon_inf.show()"
   ]
  },
  {
   "cell_type": "code",
   "execution_count": null,
   "metadata": {
    "tags": []
   },
   "outputs": [],
   "source": [
    "for f in folder_list[-16:-21:-1]:\n",
    "    folder = input_bucket + path.format(f)\n",
    "    try:\n",
    "        user_join, diff = pre_process(folder,diff)\n",
    "        if diff.count() == 0:\n",
    "            print('--------------------all influ have been found--------------------')\n",
    "            break\n",
    "        diff = diff.join(user_join, on=\"user_id_str\", how=\"left_anti\")\n",
    "        if pokemon_inf:\n",
    "            pokemon_inf = pokemon_inf.union(user_join)\n",
    "        else:\n",
    "            pokemon_inf = user_join.alias(\"pokemon_inf\")\n",
    "        del user_join\n",
    "        gc.collect()\n",
    "    except Py4JJavaError:\n",
    "        print(folder+\" failed\")"
   ]
  },
  {
   "cell_type": "code",
   "execution_count": null,
   "metadata": {},
   "outputs": [],
   "source": [
    "pokemon_inf.show()"
   ]
  },
  {
   "cell_type": "code",
   "execution_count": null,
   "metadata": {
    "tags": []
   },
   "outputs": [],
   "source": [
    "for f in folder_list[-21:-26:-1]:\n",
    "    folder = input_bucket + path.format(f)\n",
    "    try:\n",
    "        user_join, diff = pre_process(folder,diff)\n",
    "        if diff.count() == 0:\n",
    "            print('--------------------all influ have been found--------------------')\n",
    "            break\n",
    "        diff = diff.join(user_join, on=\"user_id_str\", how=\"left_anti\")\n",
    "        if pokemon_inf:\n",
    "            pokemon_inf = pokemon_inf.union(user_join)\n",
    "        else:\n",
    "            pokemon_inf = user_join.alias(\"pokemon_inf\")\n",
    "        del user_join\n",
    "        gc.collect()\n",
    "    except Py4JJavaError:\n",
    "        print(folder+\" failed\")"
   ]
  },
  {
   "cell_type": "code",
   "execution_count": null,
   "metadata": {
    "tags": []
   },
   "outputs": [],
   "source": [
    "pokemon_inf.show()"
   ]
  },
  {
   "cell_type": "code",
   "execution_count": null,
   "metadata": {
    "tags": []
   },
   "outputs": [],
   "source": [
    "pokemon_inf.count()"
   ]
  },
  {
   "cell_type": "code",
   "execution_count": null,
   "metadata": {},
   "outputs": [],
   "source": [
    "diff.count()"
   ]
  },
  {
   "cell_type": "code",
   "execution_count": null,
   "metadata": {},
   "outputs": [],
   "source": []
  },
  {
   "cell_type": "code",
   "execution_count": null,
   "metadata": {},
   "outputs": [],
   "source": [
    "diff.show()"
   ]
  },
  {
   "cell_type": "code",
   "execution_count": null,
   "metadata": {},
   "outputs": [],
   "source": [
    "user_join.show()"
   ]
  },
  {
   "cell_type": "code",
   "execution_count": null,
   "metadata": {},
   "outputs": [],
   "source": [
    "pokemon_inf.show()"
   ]
  },
  {
   "cell_type": "code",
   "execution_count": null,
   "metadata": {},
   "outputs": [],
   "source": []
  },
  {
   "cell_type": "code",
   "execution_count": null,
   "metadata": {},
   "outputs": [],
   "source": [
    "# IER = (retweets + favorites) / followers"
   ]
  },
  {
   "cell_type": "code",
   "execution_count": null,
   "metadata": {},
   "outputs": [],
   "source": [
    "# raw.select().show()"
   ]
  },
  {
   "cell_type": "code",
   "execution_count": null,
   "metadata": {},
   "outputs": [],
   "source": [
    "from pyspark.sql.functions import sum, first\n",
    "\n",
    "# Filter DataFrame to include only tweets by a particular influencer\n",
    "influencer_tweets = tweets_df.filter(tweets_df.user_id == influencer_id)\n",
    "\n",
    "# Calculate total number of retweets and favorites for the influencer's tweets\n",
    "total_retweets = influencer_tweets.agg(sum(\"retweets\")).first()[0]\n",
    "total_favorites = influencer_tweets.agg(sum(\"favorites\")).first()[0]\n",
    "\n",
    "# Get the number of followers for the influencer\n",
    "follower_count = influencer_tweets.select(\"followers\").distinct().first()[0]\n",
    "\n",
    "# Calculate the IER\n",
    "ier = (total_retweets + total_favorites) / follower_count"
   ]
  },
  {
   "cell_type": "code",
   "execution_count": null,
   "metadata": {},
   "outputs": [],
   "source": []
  },
  {
   "cell_type": "code",
   "execution_count": null,
   "metadata": {},
   "outputs": [],
   "source": []
  },
  {
   "cell_type": "code",
   "execution_count": null,
   "metadata": {},
   "outputs": [],
   "source": []
  },
  {
   "cell_type": "code",
   "execution_count": null,
   "metadata": {},
   "outputs": [],
   "source": []
  },
  {
   "cell_type": "code",
   "execution_count": null,
   "metadata": {},
   "outputs": [],
   "source": [
    "diff.count(), pokemon_inf.count()"
   ]
  },
  {
   "cell_type": "code",
   "execution_count": null,
   "metadata": {},
   "outputs": [],
   "source": [
    "pokemon.count() == 0"
   ]
  },
  {
   "cell_type": "code",
   "execution_count": null,
   "metadata": {},
   "outputs": [],
   "source": [
    "pokemon_inf.show()"
   ]
  },
  {
   "cell_type": "code",
   "execution_count": null,
   "metadata": {},
   "outputs": [],
   "source": []
  },
  {
   "cell_type": "code",
   "execution_count": null,
   "metadata": {},
   "outputs": [],
   "source": [
    "res.show()"
   ]
  },
  {
   "cell_type": "code",
   "execution_count": null,
   "metadata": {},
   "outputs": [],
   "source": [
    "res.count()"
   ]
  },
  {
   "cell_type": "code",
   "execution_count": null,
   "metadata": {},
   "outputs": [],
   "source": [
    "print(\"-\"*20 + \"user_filter\" + \"-\"*20)\n"
   ]
  },
  {
   "cell_type": "code",
   "execution_count": null,
   "metadata": {},
   "outputs": [],
   "source": []
  }
 ],
 "metadata": {
  "kernelspec": {
   "display_name": "PySpark",
   "language": "python",
   "name": "pysparkkernel"
  },
  "language_info": {
   "codemirror_mode": {
    "name": "python",
    "version": 3
   },
   "file_extension": ".py",
   "mimetype": "text/x-python",
   "name": "pyspark",
   "pygments_lexer": "python3"
  }
 },
 "nbformat": 4,
 "nbformat_minor": 4
}
