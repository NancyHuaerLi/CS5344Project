{
 "cells": [
  {
   "cell_type": "code",
   "execution_count": null,
   "metadata": {},
   "outputs": [],
   "source": [
    "# from pyspark.sql import functions"
   ]
  },
  {
   "cell_type": "code",
   "execution_count": null,
   "metadata": {},
   "outputs": [
    {
     "data": {
      "application/vnd.jupyter.widget-view+json": {
       "model_id": "179f8ca200194e6da128ae2ba42bfa80",
       "version_major": 2,
       "version_minor": 0
      },
      "text/plain": [
       "VBox()"
      ]
     },
     "metadata": {},
     "output_type": "display_data"
    },
    {
     "data": {
      "application/vnd.jupyter.widget-view+json": {
       "model_id": "",
       "version_major": 2,
       "version_minor": 0
      },
      "text/plain": [
       "FloatProgress(value=0.0, bar_style='info', description='Progress:', layout=Layout(height='25px', width='50%'),…"
      ]
     },
     "metadata": {},
     "output_type": "display_data"
    }
   ],
   "source": [
    "input_bucket = 's3://cs5344-twitter-project'\n",
    "res1 = spark.read.format('csv').options(header='False').load('s3://cs5344-twitter-project/pokemon_inf_24_aws').cache()\n",
    "# pokemon = test_pokemon_damping_sdf.select(col(\"_c0\").alias(\"user_id_str\"))\n",
    "# pokemon.createOrReplaceTempView(\"pokemon\")"
   ]
  },
  {
   "cell_type": "code",
   "execution_count": null,
   "metadata": {},
   "outputs": [
    {
     "data": {
      "application/vnd.jupyter.widget-view+json": {
       "model_id": "2d2ce65e145c43f79c547e1e0e36a7fa",
       "version_major": 2,
       "version_minor": 0
      },
      "text/plain": [
       "VBox()"
      ]
     },
     "metadata": {},
     "output_type": "display_data"
    },
    {
     "data": {
      "application/vnd.jupyter.widget-view+json": {
       "model_id": "",
       "version_major": 2,
       "version_minor": 0
      },
      "text/plain": [
       "FloatProgress(value=0.0, bar_style='info', description='Progress:', layout=Layout(height='25px', width='50%'),…"
      ]
     },
     "metadata": {},
     "output_type": "display_data"
    },
    {
     "name": "stdout",
     "output_type": "stream",
     "text": [
      "+-------------------+--------------+-----+--------+-----+------+------+------------------------------+------------------------------+---+\n",
      "|_c0                |_c1           |_c2  |_c3     |_c4  |_c5   |_c6   |_c7                           |_c8                           |_c9|\n",
      "+-------------------+--------------+-----+--------+-----+------+------+------------------------------+------------------------------+---+\n",
      "|1156269110545793024|ladyincrypto  |false|353342  |726  |1546  |13953 |Tue Jul 30 18:23:33 +0000 2019|Tue Feb 15 06:52:54 +0000 2022|1  |\n",
      "|18927441           |IGN           |true |8618524 |1372 |16341 |160711|Tue Jan 13 03:56:38 +0000 2009|Tue Feb 15 16:01:03 +0000 2022|1  |\n",
      "|501558917          |TheJenus      |false|1048839 |1019 |7316  |5945  |Fri Feb 24 07:53:19 +0000 2012|Tue Feb 15 23:02:24 +0000 2022|1  |\n",
      "|1302006102364745728|strokegamexxx |false|185542  |1917 |1310  |71732 |Fri Sep 04 22:10:31 +0000 2020|Tue Feb 15 18:02:06 +0000 2022|1  |\n",
      "|297169759          |SamsungMobile |true |12443079|424  |522   |8772  |Thu May 12 01:59:25 +0000 2011|Tue Feb 15 09:33:31 +0000 2022|1  |\n",
      "|1449414811436023812|chitaglorya__ |false|231770  |441  |296   |12526 |Sat Oct 16 16:40:14 +0000 2021|Tue Feb 15 10:17:15 +0000 2022|1  |\n",
      "|26257166           |SportsCenter  |true |39519520|732  |1984  |132561|Tue Mar 24 15:28:02 +0000 2009|Tue Feb 15 21:38:10 +0000 2022|1  |\n",
      "|1409917553514848257|PokemonGems   |false|48683   |383  |6517  |1041  |Tue Jun 29 16:52:39 +0000 2021|Tue Feb 15 23:27:23 +0000 2022|1  |\n",
      "|4920946291         |sof1azara03   |false|282622  |3404 |22789 |72950 |Wed Feb 17 12:34:53 +0000 2016|Tue Feb 15 22:52:52 +0000 2022|1  |\n",
      "|1235177017441529861|game7400      |false|18430   |2215 |8277  |7677  |Wed Mar 04 12:15:36 +0000 2020|Tue Feb 15 15:23:48 +0000 2022|1  |\n",
      "|1483999454244274178|ashward_game  |false|54211   |4    |17    |27    |Thu Jan 20 03:07:09 +0000 2022|Tue Feb 15 09:49:49 +0000 2022|1  |\n",
      "|2597010860         |arigameplays  |true |5167878 |1634 |103143|78675 |Mon Jun 30 22:41:10 +0000 2014|Sun Feb 13 03:11:45 +0000 2022|1  |\n",
      "|96879107           |Pokemon       |true |6884322 |44   |511   |94101 |Tue Dec 15 00:53:03 +0000 2009|Sun Feb 13 20:00:29 +0000 2022|1  |\n",
      "|19426551           |NFL           |true |28837319|2723 |3080  |234547|Sat Jan 24 01:28:06 +0000 2009|Tue Feb 15 22:55:33 +0000 2022|1  |\n",
      "|34429906           |SoulRebornGame|false|72990   |59   |210   |99    |Wed Apr 22 22:48:59 +0000 2009|Tue Feb 15 08:44:16 +0000 2022|1  |\n",
      "|1200355745600069635|GiveAwayHost  |false|308830  |798  |7874  |40311 |Fri Nov 29 10:08:11 +0000 2019|Tue Feb 15 21:55:32 +0000 2022|1  |\n",
      "|1282594694095134720|Braindompuzzle|false|76207   |716  |12    |170   |Mon Jul 13 08:37:07 +0000 2020|Sun Feb 13 20:37:31 +0000 2022|1  |\n",
      "|347831597          |TheSandboxGame|true |829845  |1151 |7370  |10875 |Wed Aug 03 12:46:21 +0000 2011|Sun Feb 13 02:02:08 +0000 2022|1  |\n",
      "|19631395           |videogamedeals|true |461007  |429  |3087  |141423|Wed Jan 28 02:21:53 +0000 2009|Sun Feb 13 14:10:06 +0000 2022|1  |\n",
      "|890891             |BleacherReport|true |11034356|714  |401   |150602|Sat Mar 10 23:52:36 +0000 2007|Sun Feb 13 20:05:46 +0000 2022|1  |\n",
      "|1149178590         |MarDGamero    |false|29117   |626  |145033|7436  |Mon Feb 04 22:05:23 +0000 2013|Mon Feb 14 20:27:38 +0000 2022|1  |\n",
      "|252087695          |ggame_____    |false|209794  |415  |5623  |215915|Mon Feb 14 13:23:18 +0000 2011|Sat Feb 12 11:03:11 +0000 2022|1  |\n",
      "|7157132            |GameSpot      |true |4670967 |707  |21694 |155232|Fri Jun 29 17:54:14 +0000 2007|Tue Feb 15 21:46:04 +0000 2022|1  |\n",
      "|5921162            |famitsu       |true |902131  |44835|70    |265474|Thu May 10 05:03:05 +0000 2007|Tue Feb 15 06:30:18 +0000 2022|1  |\n",
      "+-------------------+--------------+-----+--------+-----+------+------+------------------------------+------------------------------+---+"
     ]
    }
   ],
   "source": [
    "res1.show(50, truncate= False)"
   ]
  },
  {
   "cell_type": "code",
   "execution_count": null,
   "metadata": {},
   "outputs": [
    {
     "data": {
      "application/vnd.jupyter.widget-view+json": {
       "model_id": "da9c3e9ad5bc4e81a466a4907b5a2d03",
       "version_major": 2,
       "version_minor": 0
      },
      "text/plain": [
       "VBox()"
      ]
     },
     "metadata": {},
     "output_type": "display_data"
    },
    {
     "name": "stdout",
     "output_type": "stream",
     "text": [
      "Starting Spark application\n"
     ]
    },
    {
     "data": {
      "text/html": [
       "<table>\n",
       "<tbody><tr><th>ID</th><th>YARN Application ID</th><th>Kind</th><th>State</th><th>Spark UI</th><th>Driver log</th><th>User</th><th>Current session?</th></tr><tr><td>8</td><td>application_1680916650044_0009</td><td>pyspark</td><td>idle</td><td><a target=\"_blank\" href=\"http://ip-172-31-37-162.ap-southeast-1.compute.internal:20888/proxy/application_1680916650044_0009/\" class=\"emr-proxy-link j-2YG2CTXA6Z0KR application_1680916650044_0009\" emr-resource=\"j-2YG2CTXA6Z0KR\n",
       "\" application-id=\"application_1680916650044_0009\">Link</a></td><td><a target=\"_blank\" href=\"http://ip-172-31-43-5.ap-southeast-1.compute.internal:8042/node/containerlogs/container_1680916650044_0009_01_000001/livy\">Link</a></td><td>None</td><td>✔</td></tr></tbody></table>"
      ],
      "text/plain": [
       "<IPython.core.display.HTML object>"
      ]
     },
     "metadata": {},
     "output_type": "display_data"
    },
    {
     "data": {
      "application/vnd.jupyter.widget-view+json": {
       "model_id": "",
       "version_major": 2,
       "version_minor": 0
      },
      "text/plain": [
       "FloatProgress(value=0.0, bar_style='info', description='Progress:', layout=Layout(height='25px', width='50%'),…"
      ]
     },
     "metadata": {},
     "output_type": "display_data"
    },
    {
     "name": "stdout",
     "output_type": "stream",
     "text": [
      "SparkSession available as 'spark'.\n"
     ]
    },
    {
     "data": {
      "application/vnd.jupyter.widget-view+json": {
       "model_id": "",
       "version_major": 2,
       "version_minor": 0
      },
      "text/plain": [
       "FloatProgress(value=0.0, bar_style='info', description='Progress:', layout=Layout(height='25px', width='50%'),…"
      ]
     },
     "metadata": {},
     "output_type": "display_data"
    }
   ],
   "source": [
    "from py4j.protocol import Py4JJavaError\n",
    "from pyspark import SparkConf, SparkContext\n",
    "import pyspark\n",
    "from pyspark.sql import functions,SparkSession, SQLContext\n",
    "from pyspark.sql.functions import explode, col, udf, concat_ws, from_json, lit, array, expr, size\n",
    "from pyspark.sql.functions import sum as _sum\n",
    "from pyspark.sql.types import *\n",
    "import json\n",
    "import os\n",
    "import gc\n",
    "from pyspark.sql.types import BooleanType\n",
    "# from pyspark.sql import SparkSession\n",
    "spark = SparkSession.builder.master(\"local[*]\").getOrCreate()"
   ]
  },
  {
   "cell_type": "code",
   "execution_count": null,
   "metadata": {},
   "outputs": [
    {
     "data": {
      "application/vnd.jupyter.widget-view+json": {
       "model_id": "8a43ddce64dc441a8469f9665cacc455",
       "version_major": 2,
       "version_minor": 0
      },
      "text/plain": [
       "VBox()"
      ]
     },
     "metadata": {},
     "output_type": "display_data"
    },
    {
     "data": {
      "application/vnd.jupyter.widget-view+json": {
       "model_id": "",
       "version_major": 2,
       "version_minor": 0
      },
      "text/plain": [
       "FloatProgress(value=0.0, bar_style='info', description='Progress:', layout=Layout(height='25px', width='50%'),…"
      ]
     },
     "metadata": {},
     "output_type": "display_data"
    }
   ],
   "source": [
    "def pre_process(folder):\n",
    "# folder=folder_list[-1]\n",
    "#     folder_path = input_bucket + path.format(folder)\n",
    "    raw = spark.read.json(folder, allowBackslashEscapingAnyCharacter=True)\n",
    "\n",
    "    user_df = raw.select(\n",
    "        col(\"user.id_str\").alias(\"user_id_str\"),\n",
    "        col(\"user.screen_name\").alias(\"user_twitter_handle\"),\n",
    "        \"user.verified\",\n",
    "        \"user.followers_count\",\n",
    "        \"user.friends_count\",\n",
    "        \"user.favourites_count\",\n",
    "        \"user.statuses_count\",\n",
    "        \"user.created_at\",\n",
    "        col(\"created_at\").alias(\"tweet_created_at\"),\n",
    "        \"retweet_count\"\n",
    "    )\n",
    "\n",
    "    user_df.createOrReplaceTempView(\"user_df\")\n",
    "\n",
    "    user_filter = spark.sql(\"\"\"\n",
    "    select *\n",
    "        from\n",
    "            (select user_id_str, \n",
    "                    user_twitter_handle, \n",
    "                    verified, \n",
    "                    followers_count, \n",
    "                    friends_count, \n",
    "                    favourites_count, \n",
    "                    statuses_count, \n",
    "                    created_at,\n",
    "                    tweet_created_at,\n",
    "                    rank() over(partition by user_id_str order by tweet_created_at desc) create_rank\n",
    "            from user_df\n",
    "            where user_id_str is not null) u\n",
    "        where create_rank = 1\n",
    "    \"\"\")\n",
    "    user_filter.createOrReplaceTempView(\"user_filter\")\n",
    "\n",
    "#     diff.createOrReplaceTempView(\"diff\")\n",
    "    user_join = spark.sql(\"\"\"\n",
    "    select user_filter.*\n",
    "    from\n",
    "    user_filter\n",
    "    join\n",
    "    pokemon\n",
    "    on user_filter.user_id_str = pokemon.user_id_str\"\"\")\n",
    "#     user_join.createOrReplaceTempView(\"user_join\")\n",
    "#     return user_join, diff\n",
    "    return user_join\n",
    "\n",
    "\n"
   ]
  },
  {
   "cell_type": "code",
   "execution_count": null,
   "metadata": {},
   "outputs": [
    {
     "data": {
      "application/vnd.jupyter.widget-view+json": {
       "model_id": "74faa40c9f62447bad065d9000f84200",
       "version_major": 2,
       "version_minor": 0
      },
      "text/plain": [
       "VBox()"
      ]
     },
     "metadata": {},
     "output_type": "display_data"
    },
    {
     "data": {
      "application/vnd.jupyter.widget-view+json": {
       "model_id": "",
       "version_major": 2,
       "version_minor": 0
      },
      "text/plain": [
       "FloatProgress(value=0.0, bar_style='info', description='Progress:', layout=Layout(height='25px', width='50%'),…"
      ]
     },
     "metadata": {},
     "output_type": "display_data"
    }
   ],
   "source": [
    "input_bucket = 's3://cs5344-twitter-project'\n",
    "path = '/{}/*.json.gz'\n",
    "folder_list = ['20220122', '20220123','20220124','20220125', \n",
    "               '20220126', '20220127','20220128', '20220129',\n",
    "               '20220130', '20220131', '20220201', '20220202',\n",
    "               '20220203', '20220204', '20220205', '20220206',\n",
    "               '20220207', '20220208', '20220209', '20220210',\n",
    "               '20220211', '20220212', '20220213', '20220214',\n",
    "               '20220215']\n"
   ]
  },
  {
   "cell_type": "code",
   "execution_count": null,
   "metadata": {},
   "outputs": [
    {
     "data": {
      "application/vnd.jupyter.widget-view+json": {
       "model_id": "b8a7b26dd1b7479d9afee90035f851f3",
       "version_major": 2,
       "version_minor": 0
      },
      "text/plain": [
       "VBox()"
      ]
     },
     "metadata": {},
     "output_type": "display_data"
    },
    {
     "data": {
      "application/vnd.jupyter.widget-view+json": {
       "model_id": "",
       "version_major": 2,
       "version_minor": 0
      },
      "text/plain": [
       "FloatProgress(value=0.0, bar_style='info', description='Progress:', layout=Layout(height='25px', width='50%'),…"
      ]
     },
     "metadata": {},
     "output_type": "display_data"
    }
   ],
   "source": [
    "pokemon_u = spark.sql(\"\"\"\n",
    "    select count(distinct user_id_str)\n",
    "    from pokemon\n",
    "    group by user_id_str\"\"\")"
   ]
  },
  {
   "cell_type": "code",
   "execution_count": null,
   "metadata": {},
   "outputs": [
    {
     "data": {
      "application/vnd.jupyter.widget-view+json": {
       "model_id": "830cc94a59214292b68c3e4f9b18caba",
       "version_major": 2,
       "version_minor": 0
      },
      "text/plain": [
       "VBox()"
      ]
     },
     "metadata": {},
     "output_type": "display_data"
    },
    {
     "data": {
      "application/vnd.jupyter.widget-view+json": {
       "model_id": "",
       "version_major": 2,
       "version_minor": 0
      },
      "text/plain": [
       "FloatProgress(value=0.0, bar_style='info', description='Progress:', layout=Layout(height='25px', width='50%'),…"
      ]
     },
     "metadata": {},
     "output_type": "display_data"
    },
    {
     "name": "stdout",
     "output_type": "stream",
     "text": [
      "49"
     ]
    }
   ],
   "source": [
    "pokemon_u.count()"
   ]
  },
  {
   "cell_type": "code",
   "execution_count": null,
   "metadata": {},
   "outputs": [
    {
     "data": {
      "application/vnd.jupyter.widget-view+json": {
       "model_id": "f1cdb265f93d415e8372a4a8ad02afc5",
       "version_major": 2,
       "version_minor": 0
      },
      "text/plain": [
       "VBox()"
      ]
     },
     "metadata": {},
     "output_type": "display_data"
    },
    {
     "data": {
      "application/vnd.jupyter.widget-view+json": {
       "model_id": "",
       "version_major": 2,
       "version_minor": 0
      },
      "text/plain": [
       "FloatProgress(value=0.0, bar_style='info', description='Progress:', layout=Layout(height='25px', width='50%'),…"
      ]
     },
     "metadata": {},
     "output_type": "display_data"
    }
   ],
   "source": [
    "input_bucket = 's3://cs5344-twitter-project'\n",
    "test_pokemon_damping_sdf = spark.read.format('csv').options(header='False').load('s3://cs5344-twitter-project/test_pokemon_damping').cache()\n",
    "pokemon = test_pokemon_damping_sdf.select(col(\"_c0\").alias(\"user_id_str\"))\n",
    "pokemon.createOrReplaceTempView(\"pokemon\")"
   ]
  },
  {
   "cell_type": "code",
   "execution_count": null,
   "metadata": {},
   "outputs": [
    {
     "data": {
      "application/vnd.jupyter.widget-view+json": {
       "model_id": "b99202e850184929855faf183164e185",
       "version_major": 2,
       "version_minor": 0
      },
      "text/plain": [
       "VBox()"
      ]
     },
     "metadata": {},
     "output_type": "display_data"
    },
    {
     "data": {
      "application/vnd.jupyter.widget-view+json": {
       "model_id": "",
       "version_major": 2,
       "version_minor": 0
      },
      "text/plain": [
       "FloatProgress(value=0.0, bar_style='info', description='Progress:', layout=Layout(height='25px', width='50%'),…"
      ]
     },
     "metadata": {},
     "output_type": "display_data"
    },
    {
     "name": "stderr",
     "output_type": "stream",
     "text": [
      "An error was encountered:\n",
      "name 'conn_sdf' is not defined\n",
      "Traceback (most recent call last):\n",
      "NameError: name 'conn_sdf' is not defined\n",
      "\n"
     ]
    }
   ],
   "source": []
  },
  {
   "cell_type": "code",
   "execution_count": null,
   "metadata": {},
   "outputs": [
    {
     "data": {
      "application/vnd.jupyter.widget-view+json": {
       "model_id": "e95250e4c37147a8b5ee40e4d83a6a1b",
       "version_major": 2,
       "version_minor": 0
      },
      "text/plain": [
       "VBox()"
      ]
     },
     "metadata": {},
     "output_type": "display_data"
    },
    {
     "data": {
      "application/vnd.jupyter.widget-view+json": {
       "model_id": "",
       "version_major": 2,
       "version_minor": 0
      },
      "text/plain": [
       "FloatProgress(value=0.0, bar_style='info', description='Progress:', layout=Layout(height='25px', width='50%'),…"
      ]
     },
     "metadata": {},
     "output_type": "display_data"
    }
   ],
   "source": [
    "# retweets\n",
    "input_bucket = 's3://cs5344-twitter-project'\n",
    "# original_sdf = spark.read.format('csv').options(header='True').load('s3://cs5344-twitter-project/input/original_tweet_intermediate_full').cache()\n",
    "conn_sdf = spark.read.format('json').options(header='True').load('s3://cs5344-twitter-project/input/retweeted_tweet_intermediate_full').cache()\n",
    "conn_sdf.createOrReplaceTempView(\"conn_sdf\")\n",
    "retweets_cnt = spark.sql(\"\"\"\n",
    "    select user_id_str, count(1)\n",
    "    from conn_sdf\n",
    "    group by user_id_str\"\"\")\n",
    "retweets_cnt.createOrReplaceTempView(\"retweets_cnt\")"
   ]
  },
  {
   "cell_type": "code",
   "execution_count": null,
   "metadata": {},
   "outputs": [],
   "source": [
    "retweets_cnt.show()"
   ]
  },
  {
   "cell_type": "code",
   "execution_count": null,
   "metadata": {},
   "outputs": [],
   "source": [
    "#  diff = diff.join(user_join, on=\"user_id_str\", how=\"left_anti\")\n",
    "\n",
    "#     if pokemon_inf:\n",
    "#         pokemon_inf = pokemon_inf.union(user_join)\n",
    "#     else:\n",
    "#         pokemon_inf = user_join.alias(\"pokemon_inf\")\n",
    "        \n",
    "        #     if diff.count() == 0:\n",
    "#         print('okaykkk')\n",
    "#         break"
   ]
  },
  {
   "cell_type": "code",
   "execution_count": null,
   "metadata": {},
   "outputs": [],
   "source": [
    "# folder_list[:-6:-1]\n",
    "\n",
    "# folder_list[-6:-11:-1]\n",
    "\n",
    "# folder_list[-11:-16:-1]\n",
    "\n",
    "# folder_list[-16:-21:-1]\n",
    "\n",
    "# folder_list[-21:-26:-1]"
   ]
  },
  {
   "cell_type": "code",
   "execution_count": null,
   "metadata": {},
   "outputs": [
    {
     "data": {
      "application/vnd.jupyter.widget-view+json": {
       "model_id": "1ce6ba4bb8ff4ce3b4d41b773ac0f61a",
       "version_major": 2,
       "version_minor": 0
      },
      "text/plain": [
       "VBox()"
      ]
     },
     "metadata": {},
     "output_type": "display_data"
    },
    {
     "data": {
      "application/vnd.jupyter.widget-view+json": {
       "model_id": "",
       "version_major": 2,
       "version_minor": 0
      },
      "text/plain": [
       "FloatProgress(value=0.0, bar_style='info', description='Progress:', layout=Layout(height='25px', width='50%'),…"
      ]
     },
     "metadata": {},
     "output_type": "display_data"
    },
    {
     "name": "stderr",
     "output_type": "stream",
     "text": [
      "An error was encountered:\n",
      "name 'folder_list' is not defined\n",
      "Traceback (most recent call last):\n",
      "NameError: name 'folder_list' is not defined\n",
      "\n"
     ]
    }
   ],
   "source": [
    "folder_list[:-15:-1]"
   ]
  },
  {
   "cell_type": "code",
   "execution_count": null,
   "metadata": {},
   "outputs": [
    {
     "data": {
      "application/vnd.jupyter.widget-view+json": {
       "model_id": "fc4e0cc34cc047309248f0344d0e751d",
       "version_major": 2,
       "version_minor": 0
      },
      "text/plain": [
       "VBox()"
      ]
     },
     "metadata": {},
     "output_type": "display_data"
    },
    {
     "data": {
      "application/vnd.jupyter.widget-view+json": {
       "model_id": "",
       "version_major": 2,
       "version_minor": 0
      },
      "text/plain": [
       "FloatProgress(value=0.0, bar_style='info', description='Progress:', layout=Layout(height='25px', width='50%'),…"
      ]
     },
     "metadata": {},
     "output_type": "display_data"
    },
    {
     "name": "stdout",
     "output_type": "stream",
     "text": [
      "(['20220215', '20220214', '20220213', '20220212', '20220211'], ['20220210', '20220209', '20220208', '20220207', '20220206', '20220205', '20220204', '20220203', '20220202', '20220201'], ['20220131', '20220130', '20220129', '20220128', '20220127', '20220126', '20220125', '20220124', '20220123', '20220122'])"
     ]
    }
   ],
   "source": [
    "folder_list[:-6:-1],folder_list[-6:-16:-1], folder_list[-16:-26:-1]"
   ]
  },
  {
   "cell_type": "code",
   "execution_count": null,
   "metadata": {},
   "outputs": [
    {
     "data": {
      "application/vnd.jupyter.widget-view+json": {
       "model_id": "fdd6d7401ee0495bb3313db8c0512db9",
       "version_major": 2,
       "version_minor": 0
      },
      "text/plain": [
       "VBox()"
      ]
     },
     "metadata": {},
     "output_type": "display_data"
    },
    {
     "data": {
      "application/vnd.jupyter.widget-view+json": {
       "model_id": "",
       "version_major": 2,
       "version_minor": 0
      },
      "text/plain": [
       "FloatProgress(value=0.0, bar_style='info', description='Progress:', layout=Layout(height='25px', width='50%'),…"
      ]
     },
     "metadata": {},
     "output_type": "display_data"
    },
    {
     "name": "stdout",
     "output_type": "stream",
     "text": [
      "201\n",
      "204\n",
      "204\n",
      "204\n",
      "204"
     ]
    }
   ],
   "source": [
    "# diff = pokemon.alias(\"diff\")\n",
    "pokemon_inf = None\n",
    "i = 0\n",
    "for f in folder_list[:-6:-1]:\n",
    "    folder = input_bucket + path.format(f)\n",
    "    try:\n",
    "        user_join, diff = pre_process(folder,diff)\n",
    "        if diff.count() == 0:\n",
    "            print('--------------------all influ have been found--------------------')\n",
    "            break\n",
    "        diff = diff.join(user_join, on=\"user_id_str\", how=\"left_anti\")\n",
    "        if pokemon_inf:\n",
    "            pokemon_inf = pokemon_inf.union(user_join)\n",
    "        else:\n",
    "            pokemon_inf = user_join.alias(\"pokemon_inf\")\n",
    "        del user_join\n",
    "        gc.collect()\n",
    "    except Py4JJavaError:\n",
    "        print(folder+\" failed\")\n"
   ]
  },
  {
   "cell_type": "code",
   "execution_count": null,
   "metadata": {},
   "outputs": [
    {
     "data": {
      "application/vnd.jupyter.widget-view+json": {
       "model_id": "ac66edc7dd664504803edd9c9dcdd33b",
       "version_major": 2,
       "version_minor": 0
      },
      "text/plain": [
       "VBox()"
      ]
     },
     "metadata": {},
     "output_type": "display_data"
    },
    {
     "data": {
      "application/vnd.jupyter.widget-view+json": {
       "model_id": "",
       "version_major": 2,
       "version_minor": 0
      },
      "text/plain": [
       "FloatProgress(value=0.0, bar_style='info', description='Progress:', layout=Layout(height='25px', width='50%'),…"
      ]
     },
     "metadata": {},
     "output_type": "display_data"
    },
    {
     "name": "stdout",
     "output_type": "stream",
     "text": [
      "DataFrame[user_id_str: string, user_twitter_handle: string, verified: boolean, followers_count: bigint, friends_count: bigint, favourites_count: bigint, statuses_count: bigint, created_at: string, tweet_created_at: string, create_rank: int]"
     ]
    }
   ],
   "source": [
    "pokemon_inf.cache()"
   ]
  },
  {
   "cell_type": "code",
   "execution_count": null,
   "metadata": {},
   "outputs": [],
   "source": [
    "# pokemon_inf.write.format(\"csv\").save(\"path/to/csv\")"
   ]
  },
  {
   "cell_type": "code",
   "execution_count": null,
   "metadata": {},
   "outputs": [
    {
     "data": {
      "application/vnd.jupyter.widget-view+json": {
       "model_id": "360fa6b89b3c4cd8a09d74b9b65090c1",
       "version_major": 2,
       "version_minor": 0
      },
      "text/plain": [
       "VBox()"
      ]
     },
     "metadata": {},
     "output_type": "display_data"
    },
    {
     "data": {
      "application/vnd.jupyter.widget-view+json": {
       "model_id": "",
       "version_major": 2,
       "version_minor": 0
      },
      "text/plain": [
       "FloatProgress(value=0.0, bar_style='info', description='Progress:', layout=Layout(height='25px', width='50%'),…"
      ]
     },
     "metadata": {},
     "output_type": "display_data"
    }
   ],
   "source": [
    "# output_bucket = 's3://cs5344-twitter-project/'\n",
    "# # pokemon_inf.toDF().write.mode('overwrite').csv(output_bucket+'pokemon_inf_24_aws') \n",
    "# pokemon_inf.write.format(\"csv\").save(output_bucket+'pokemon_inf_24_aws') "
   ]
  },
  {
   "cell_type": "code",
   "execution_count": null,
   "metadata": {},
   "outputs": [
    {
     "data": {
      "application/vnd.jupyter.widget-view+json": {
       "model_id": "877d6f060897419ba57c6a38ec31bdeb",
       "version_major": 2,
       "version_minor": 0
      },
      "text/plain": [
       "VBox()"
      ]
     },
     "metadata": {},
     "output_type": "display_data"
    },
    {
     "data": {
      "application/vnd.jupyter.widget-view+json": {
       "model_id": "",
       "version_major": 2,
       "version_minor": 0
      },
      "text/plain": [
       "FloatProgress(value=0.0, bar_style='info', description='Progress:', layout=Layout(height='25px', width='50%'),…"
      ]
     },
     "metadata": {},
     "output_type": "display_data"
    },
    {
     "name": "stdout",
     "output_type": "stream",
     "text": [
      "24"
     ]
    }
   ],
   "source": [
    "# pokemon_inf.count()"
   ]
  },
  {
   "cell_type": "code",
   "execution_count": null,
   "metadata": {},
   "outputs": [],
   "source": []
  },
  {
   "cell_type": "code",
   "execution_count": null,
   "metadata": {},
   "outputs": [
    {
     "data": {
      "application/vnd.jupyter.widget-view+json": {
       "model_id": "a4c9e30194b548768f43619f081c034c",
       "version_major": 2,
       "version_minor": 0
      },
      "text/plain": [
       "VBox()"
      ]
     },
     "metadata": {},
     "output_type": "display_data"
    },
    {
     "data": {
      "application/vnd.jupyter.widget-view+json": {
       "model_id": "",
       "version_major": 2,
       "version_minor": 0
      },
      "text/plain": [
       "FloatProgress(value=0.0, bar_style='info', description='Progress:', layout=Layout(height='25px', width='50%'),…"
      ]
     },
     "metadata": {},
     "output_type": "display_data"
    },
    {
     "name": "stdout",
     "output_type": "stream",
     "text": [
      "138\n",
      "167\n",
      "167\n",
      "167\n",
      "167\n",
      "167\n",
      "167\n",
      "167\n",
      "167\n",
      "167"
     ]
    }
   ],
   "source": [
    "diff = pokemon.alias(\"diff\")\n",
    "pokemon_inf = None\n",
    "for f in folder_list[-6:-16:-1]:\n",
    "    folder = input_bucket + path.format(f)\n",
    "    try:\n",
    "        user_join = pre_process(folder)\n",
    "#         diff = diff.join(user_join, on=\"user_id_str\", how=\"left_anti\")\n",
    "        pokemon_inf = user_join.alias(\"pokemon_inf\")\n",
    "        del user_join\n",
    "        gc.collect()\n",
    "    except Py4JJavaError:\n",
    "        print(folder+\" failed\")"
   ]
  },
  {
   "cell_type": "code",
   "execution_count": null,
   "metadata": {},
   "outputs": [
    {
     "data": {
      "application/vnd.jupyter.widget-view+json": {
       "model_id": "e8f6ef9fbba541aca0f6397c94d9d9cd",
       "version_major": 2,
       "version_minor": 0
      },
      "text/plain": [
       "VBox()"
      ]
     },
     "metadata": {},
     "output_type": "display_data"
    },
    {
     "data": {
      "application/vnd.jupyter.widget-view+json": {
       "model_id": "",
       "version_major": 2,
       "version_minor": 0
      },
      "text/plain": [
       "FloatProgress(value=0.0, bar_style='info', description='Progress:', layout=Layout(height='25px', width='50%'),…"
      ]
     },
     "metadata": {},
     "output_type": "display_data"
    }
   ],
   "source": []
  },
  {
   "cell_type": "code",
   "execution_count": null,
   "metadata": {},
   "outputs": [
    {
     "data": {
      "application/vnd.jupyter.widget-view+json": {
       "model_id": "738d7ac8f5784dd1b686c3ad18504277",
       "version_major": 2,
       "version_minor": 0
      },
      "text/plain": [
       "VBox()"
      ]
     },
     "metadata": {},
     "output_type": "display_data"
    },
    {
     "data": {
      "application/vnd.jupyter.widget-view+json": {
       "model_id": "",
       "version_major": 2,
       "version_minor": 0
      },
      "text/plain": [
       "FloatProgress(value=0.0, bar_style='info', description='Progress:', layout=Layout(height='25px', width='50%'),…"
      ]
     },
     "metadata": {},
     "output_type": "display_data"
    }
   ],
   "source": [
    "output_bucket = 's3://cs5344-twitter-project/'\n",
    "# # pokemon_inf.toDF().write.mode('overwrite').csv(output_bucket+'pokemon_inf_24_aws') \n",
    "user_join_2.write.format(\"csv\").save(output_bucket+'user_ana/pokemon_inf_16_26_aws') "
   ]
  },
  {
   "cell_type": "code",
   "execution_count": null,
   "metadata": {},
   "outputs": [
    {
     "data": {
      "application/vnd.jupyter.widget-view+json": {
       "model_id": "e0720f4bd10c4a60824cbefdfaa2ba99",
       "version_major": 2,
       "version_minor": 0
      },
      "text/plain": [
       "VBox()"
      ]
     },
     "metadata": {},
     "output_type": "display_data"
    },
    {
     "data": {
      "application/vnd.jupyter.widget-view+json": {
       "model_id": "",
       "version_major": 2,
       "version_minor": 0
      },
      "text/plain": [
       "FloatProgress(value=0.0, bar_style='info', description='Progress:', layout=Layout(height='25px', width='50%'),…"
      ]
     },
     "metadata": {},
     "output_type": "display_data"
    },
    {
     "name": "stderr",
     "output_type": "stream",
     "text": [
      "An error was encountered:\n",
      "'NoneType' object has no attribute 'show'\n",
      "Traceback (most recent call last):\n",
      "AttributeError: 'NoneType' object has no attribute 'show'\n",
      "\n"
     ]
    }
   ],
   "source": [
    "pokemon_inf.show(50, truncate= False)"
   ]
  },
  {
   "cell_type": "code",
   "execution_count": null,
   "metadata": {},
   "outputs": [
    {
     "data": {
      "application/vnd.jupyter.widget-view+json": {
       "model_id": "6c5a5570b46644b7ba120a5826776ea6",
       "version_major": 2,
       "version_minor": 0
      },
      "text/plain": [
       "VBox()"
      ]
     },
     "metadata": {},
     "output_type": "display_data"
    },
    {
     "data": {
      "application/vnd.jupyter.widget-view+json": {
       "model_id": "",
       "version_major": 2,
       "version_minor": 0
      },
      "text/plain": [
       "FloatProgress(value=0.0, bar_style='info', description='Progress:', layout=Layout(height='25px', width='50%'),…"
      ]
     },
     "metadata": {},
     "output_type": "display_data"
    },
    {
     "name": "stdout",
     "output_type": "stream",
     "text": [
      "+-------------------+-------------------+--------+---------------+-------------+----------------+--------------+------------------------------+------------------------------+-----------+\n",
      "|user_id_str        |user_twitter_handle|verified|followers_count|friends_count|favourites_count|statuses_count|created_at                    |tweet_created_at              |create_rank|\n",
      "+-------------------+-------------------+--------+---------------+-------------+----------------+--------------+------------------------------+------------------------------+-----------+\n",
      "|1235177017441529861|game7400           |false   |15830          |2217         |8265            |7577          |Wed Mar 04 12:15:36 +0000 2020|Tue Feb 01 05:31:43 +0000 2022|1          |\n",
      "|2786677338         |denfaminicogame    |true    |419250         |3327         |8409            |44114         |Tue Sep 02 21:20:04 +0000 2014|Tue Feb 01 11:16:05 +0000 2022|1          |\n",
      "|19426551           |NFL                |true    |28515096       |2719         |3051            |233446        |Sat Jan 24 01:28:06 +0000 2009|Tue Feb 01 00:03:08 +0000 2022|1          |\n",
      "|1302006102364745728|strokegamexxx      |false   |179261         |1908         |1265            |69627         |Fri Sep 04 22:10:31 +0000 2020|Tue Feb 01 17:27:57 +0000 2022|1          |\n",
      "|1200355745600069635|GiveAwayHost       |false   |302312         |797          |7892            |39058         |Fri Nov 29 10:08:11 +0000 2019|Tue Feb 01 18:35:12 +0000 2022|1          |\n",
      "|890891             |BleacherReport     |true    |10952465       |714          |398             |150209        |Sat Mar 10 23:52:36 +0000 2007|Tue Feb 01 17:06:25 +0000 2022|1          |\n",
      "|19631395           |videogamedeals     |true    |460405         |429          |3085            |140686        |Wed Jan 28 02:21:53 +0000 2009|Tue Feb 01 06:41:08 +0000 2022|1          |\n",
      "|1156269110545793024|ladyincrypto       |false   |350551         |714          |1530            |13344         |Tue Jul 30 18:23:33 +0000 2019|Tue Feb 01 05:48:00 +0000 2022|1          |\n",
      "|18927441           |IGN                |true    |8575499        |1370         |16312           |159991        |Tue Jan 13 03:56:38 +0000 2009|Tue Feb 01 21:01:03 +0000 2022|1          |\n",
      "|501558917          |TheJenus           |false   |1042428        |962          |7249            |5113          |Fri Feb 24 07:53:19 +0000 2012|Tue Feb 01 18:56:35 +0000 2022|1          |\n",
      "|7157132            |GameSpot           |true    |4645675        |706          |21710           |154735        |Fri Jun 29 17:54:14 +0000 2007|Tue Feb 01 08:00:11 +0000 2022|1          |\n",
      "|4920946291         |sof1azara03        |false   |268897         |3410         |22154           |70515         |Wed Feb 17 12:34:53 +0000 2016|Tue Feb 01 23:10:04 +0000 2022|1          |\n",
      "|252087695          |ggame_____         |false   |209644         |423          |5565            |215220        |Mon Feb 14 13:23:18 +0000 2011|Tue Feb 01 06:57:45 +0000 2022|1          |\n",
      "|1449414811436023812|chitaglorya__      |false   |216799         |427          |261             |11473         |Sat Oct 16 16:40:14 +0000 2021|Tue Feb 01 03:27:44 +0000 2022|1          |\n",
      "+-------------------+-------------------+--------+---------------+-------------+----------------+--------------+------------------------------+------------------------------+-----------+"
     ]
    }
   ],
   "source": [
    "pokemon_inf.show(50, truncate= False)"
   ]
  },
  {
   "cell_type": "code",
   "execution_count": null,
   "metadata": {},
   "outputs": [
    {
     "data": {
      "application/vnd.jupyter.widget-view+json": {
       "model_id": "2445ce62172541198a3849c0228bb558",
       "version_major": 2,
       "version_minor": 0
      },
      "text/plain": [
       "VBox()"
      ]
     },
     "metadata": {},
     "output_type": "display_data"
    },
    {
     "data": {
      "application/vnd.jupyter.widget-view+json": {
       "model_id": "",
       "version_major": 2,
       "version_minor": 0
      },
      "text/plain": [
       "FloatProgress(value=0.0, bar_style='info', description='Progress:', layout=Layout(height='25px', width='50%'),…"
      ]
     },
     "metadata": {},
     "output_type": "display_data"
    },
    {
     "name": "stdout",
     "output_type": "stream",
     "text": [
      "187\n",
      "160\n",
      "160\n",
      "160\n",
      "160\n",
      "160\n",
      "160\n",
      "160\n",
      "160\n",
      "160"
     ]
    }
   ],
   "source": [
    "# diff = pokemon.alias(\"diff\")\n",
    "pokemon_inf = None\n",
    "for f in folder_list[-16:-26:-1]:\n",
    "    folder = input_bucket + path.format(f)\n",
    "    try:\n",
    "        user_join_2 = pre_process(folder)\n",
    "#         diff = diff.join(user_join, on=\"user_id_str\", how=\"left_anti\")\n",
    "#         pokemon_inf = user_join.alias(\"pokemon_inf\")\n",
    "#         del user_join\n",
    "        gc.collect()\n",
    "    except Py4JJavaError:\n",
    "        print(folder+\" failed\")"
   ]
  },
  {
   "cell_type": "code",
   "execution_count": null,
   "metadata": {},
   "outputs": [
    {
     "data": {
      "application/vnd.jupyter.widget-view+json": {
       "model_id": "a67435904e714568b291816715f5266d",
       "version_major": 2,
       "version_minor": 0
      },
      "text/plain": [
       "VBox()"
      ]
     },
     "metadata": {},
     "output_type": "display_data"
    },
    {
     "data": {
      "application/vnd.jupyter.widget-view+json": {
       "model_id": "",
       "version_major": 2,
       "version_minor": 0
      },
      "text/plain": [
       "FloatProgress(value=0.0, bar_style='info', description='Progress:', layout=Layout(height='25px', width='50%'),…"
      ]
     },
     "metadata": {},
     "output_type": "display_data"
    },
    {
     "name": "stdout",
     "output_type": "stream",
     "text": [
      "+-------------------+-------------------+--------+---------------+-------------+----------------+--------------+------------------------------+------------------------------+-----------+\n",
      "|user_id_str        |user_twitter_handle|verified|followers_count|friends_count|favourites_count|statuses_count|created_at                    |tweet_created_at              |create_rank|\n",
      "+-------------------+-------------------+--------+---------------+-------------+----------------+--------------+------------------------------+------------------------------+-----------+\n",
      "|1302006102364745728|strokegamexxx      |false   |175502         |1911         |1238            |67741         |Fri Sep 04 22:10:31 +0000 2020|Sat Jan 22 20:42:30 +0000 2022|1          |\n",
      "|1200355745600069635|GiveAwayHost       |false   |296187         |788          |7876            |38286         |Fri Nov 29 10:08:11 +0000 2019|Sat Jan 22 20:09:25 +0000 2022|1          |\n",
      "|19631395           |videogamedeals     |true    |459783         |430          |3087            |140084        |Wed Jan 28 02:21:53 +0000 2009|Sat Jan 22 18:01:33 +0000 2022|1          |\n",
      "|347831597          |TheSandboxGame     |true    |766382         |1147         |7097            |10662         |Wed Aug 03 12:46:21 +0000 2011|Sat Jan 22 18:54:13 +0000 2022|1          |\n",
      "|1156269110545793024|ladyincrypto       |false   |347889         |702          |1515            |13012         |Tue Jul 30 18:23:33 +0000 2019|Sat Jan 22 11:29:49 +0000 2022|1          |\n",
      "|18927441           |IGN                |true    |8553999        |1369         |16296           |159518        |Tue Jan 13 03:56:38 +0000 2009|Sat Jan 22 17:01:01 +0000 2022|1          |\n",
      "|501558917          |TheJenus           |false   |1038471        |795          |7093            |4508          |Fri Feb 24 07:53:19 +0000 2012|Sat Jan 22 13:21:48 +0000 2022|1          |\n",
      "|7157132            |GameSpot           |true    |4635608        |706          |21719           |154430        |Fri Jun 29 17:54:14 +0000 2007|Sat Jan 22 23:00:18 +0000 2022|1          |\n",
      "|252087695          |ggame_____         |false   |209589         |421          |5497            |214537        |Mon Feb 14 13:23:18 +0000 2011|Sat Jan 22 02:35:27 +0000 2022|1          |\n",
      "|1449414811436023812|chitaglorya__      |false   |209034         |419          |243             |10603         |Sat Oct 16 16:40:14 +0000 2021|Sat Jan 22 13:14:38 +0000 2022|1          |\n",
      "+-------------------+-------------------+--------+---------------+-------------+----------------+--------------+------------------------------+------------------------------+-----------+"
     ]
    }
   ],
   "source": [
    "user_join_2.show(50, truncate= False)"
   ]
  },
  {
   "cell_type": "code",
   "execution_count": null,
   "metadata": {},
   "outputs": [],
   "source": []
  },
  {
   "cell_type": "code",
   "execution_count": null,
   "metadata": {},
   "outputs": [],
   "source": []
  },
  {
   "cell_type": "code",
   "execution_count": null,
   "metadata": {},
   "outputs": [],
   "source": []
  },
  {
   "cell_type": "code",
   "execution_count": null,
   "metadata": {},
   "outputs": [
    {
     "data": {
      "application/vnd.jupyter.widget-view+json": {
       "model_id": "afa1a8df00334c6f8dabc7b626ae54a3",
       "version_major": 2,
       "version_minor": 0
      },
      "text/plain": [
       "VBox()"
      ]
     },
     "metadata": {},
     "output_type": "display_data"
    },
    {
     "data": {
      "application/vnd.jupyter.widget-view+json": {
       "model_id": "",
       "version_major": 2,
       "version_minor": 0
      },
      "text/plain": [
       "FloatProgress(value=0.0, bar_style='info', description='Progress:', layout=Layout(height='25px', width='50%'),…"
      ]
     },
     "metadata": {},
     "output_type": "display_data"
    },
    {
     "name": "stdout",
     "output_type": "stream",
     "text": [
      "['20220131', '20220130', '20220129', '20220128', '20220127', '20220126', '20220125', '20220124', '20220123', '20220122']"
     ]
    }
   ],
   "source": [
    "folder_list[-16:-26:-1]"
   ]
  },
  {
   "cell_type": "code",
   "execution_count": null,
   "metadata": {},
   "outputs": [
    {
     "data": {
      "application/vnd.jupyter.widget-view+json": {
       "model_id": "80e78cf9d25b49fe8fb1c29a992bff20",
       "version_major": 2,
       "version_minor": 0
      },
      "text/plain": [
       "VBox()"
      ]
     },
     "metadata": {},
     "output_type": "display_data"
    },
    {
     "name": "stderr",
     "output_type": "stream",
     "text": [
      "An error was encountered:\n",
      "Session 1 unexpectedly reached final status 'dead'. See logs:\n",
      "stdout: \n",
      "\n",
      "stderr: \n",
      "23/04/08 03:30:11 WARN NativeCodeLoader: Unable to load native-hadoop library for your platform... using builtin-java classes where applicable\n",
      "23/04/08 03:30:12 INFO DefaultNoHARMFailoverProxyProvider: Connecting to ResourceManager at ip-172-31-37-162.ap-southeast-1.compute.internal/172.31.37.162:8032\n",
      "23/04/08 03:30:12 INFO Configuration: resource-types.xml not found\n",
      "23/04/08 03:30:12 INFO ResourceUtils: Unable to find 'resource-types.xml'.\n",
      "23/04/08 03:30:12 INFO Client: Verifying our application has not requested more than the maximum memory capability of the cluster (12288 MB per container)\n",
      "23/04/08 03:30:12 INFO Client: Will allocate AM container, with 2432 MB memory including 384 MB overhead\n",
      "23/04/08 03:30:12 INFO Client: Setting up container launch context for our AM\n",
      "23/04/08 03:30:12 INFO Client: Setting up the launch environment for our AM container\n",
      "23/04/08 03:30:12 INFO Client: Preparing resources for our AM container\n",
      "23/04/08 03:30:12 WARN Client: Neither spark.yarn.jars nor spark.yarn.archive is set, falling back to uploading libraries under SPARK_HOME.\n",
      "23/04/08 03:30:15 INFO Client: Uploading resource file:/mnt/tmp/spark-cdd2700f-9dba-4b81-96fe-ca9ecb914473/__spark_libs__2055157281245084756.zip -> hdfs://ip-172-31-37-162.ap-southeast-1.compute.internal:8020/user/livy/.sparkStaging/application_1680916650044_0002/__spark_libs__2055157281245084756.zip\n",
      "23/04/08 03:30:16 INFO Client: Uploading resource file:/usr/lib/livy/rsc-jars/arpack_combined_all-0.1.jar -> hdfs://ip-172-31-37-162.ap-southeast-1.compute.internal:8020/user/livy/.sparkStaging/application_1680916650044_0002/arpack_combined_all-0.1.jar\n",
      "23/04/08 03:30:16 INFO Client: Uploading resource file:/usr/lib/livy/rsc-jars/core-1.1.2.jar -> hdfs://ip-172-31-37-162.ap-southeast-1.compute.internal:8020/user/livy/.sparkStaging/application_1680916650044_0002/core-1.1.2.jar\n",
      "23/04/08 03:30:16 INFO Client: Uploading resource file:/usr/lib/livy/rsc-jars/jniloader-1.1.jar -> hdfs://ip-172-31-37-162.ap-southeast-1.compute.internal:8020/user/livy/.sparkStaging/application_1680916650044_0002/jniloader-1.1.jar\n",
      "23/04/08 03:30:16 INFO Client: Uploading resource file:/usr/lib/livy/rsc-jars/livy-api-0.7.1-incubating.jar -> hdfs://ip-172-31-37-162.ap-southeast-1.compute.internal:8020/user/livy/.sparkStaging/application_1680916650044_0002/livy-api-0.7.1-incubating.jar\n",
      "23/04/08 03:30:16 INFO Client: Uploading resource file:/usr/lib/livy/rsc-jars/livy-rsc-0.7.1-incubating.jar -> hdfs://ip-172-31-37-162.ap-southeast-1.compute.internal:8020/user/livy/.sparkStaging/application_1680916650044_0002/livy-rsc-0.7.1-incubating.jar\n",
      "23/04/08 03:30:16 INFO Client: Uploading resource file:/usr/lib/livy/rsc-jars/livy-thriftserver-session-0.7.1-incubating.jar -> hdfs://ip-172-31-37-162.ap-southeast-1.compute.internal:8020/user/livy/.sparkStaging/application_1680916650044_0002/livy-thriftserver-session-0.7.1-incubating.jar\n",
      "23/04/08 03:30:16 INFO Client: Uploading resource file:/usr/lib/livy/rsc-jars/native_ref-java-1.1.jar -> hdfs://ip-172-31-37-162.ap-southeast-1.compute.internal:8020/user/livy/.sparkStaging/application_1680916650044_0002/native_ref-java-1.1.jar\n",
      "23/04/08 03:30:16 INFO Client: Uploading resource file:/usr/lib/livy/rsc-jars/native_system-java-1.1.jar -> hdfs://ip-172-31-37-162.ap-southeast-1.compute.internal:8020/user/livy/.sparkStaging/application_1680916650044_0002/native_system-java-1.1.jar\n",
      "23/04/08 03:30:17 INFO Client: Uploading resource file:/usr/lib/livy/rsc-jars/netlib-native_ref-linux-armhf-1.1-natives.jar -> hdfs://ip-172-31-37-162.ap-southeast-1.compute.internal:8020/user/livy/.sparkStaging/application_1680916650044_0002/netlib-native_ref-linux-armhf-1.1-natives.jar\n",
      "23/04/08 03:30:17 INFO Client: Uploading resource file:/usr/lib/livy/rsc-jars/netlib-native_ref-linux-i686-1.1-natives.jar -> hdfs://ip-172-31-37-162.ap-southeast-1.compute.internal:8020/user/livy/.sparkStaging/application_1680916650044_0002/netlib-native_ref-linux-i686-1.1-natives.jar\n",
      "23/04/08 03:30:17 INFO Client: Uploading resource file:/usr/lib/livy/rsc-jars/netlib-native_ref-linux-x86_64-1.1-natives.jar -> hdfs://ip-172-31-37-162.ap-southeast-1.compute.internal:8020/user/livy/.sparkStaging/application_1680916650044_0002/netlib-native_ref-linux-x86_64-1.1-natives.jar\n",
      "23/04/08 03:30:17 INFO Client: Uploading resource file:/usr/lib/livy/rsc-jars/netlib-native_ref-osx-x86_64-1.1-natives.jar -> hdfs://ip-172-31-37-162.ap-southeast-1.compute.internal:8020/user/livy/.sparkStaging/application_1680916650044_0002/netlib-native_ref-osx-x86_64-1.1-natives.jar\n",
      "23/04/08 03:30:17 INFO Client: Uploading resource file:/usr/lib/livy/rsc-jars/netlib-native_ref-win-i686-1.1-natives.jar -> hdfs://ip-172-31-37-162.ap-southeast-1.compute.internal:8020/user/livy/.sparkStaging/application_1680916650044_0002/netlib-native_ref-win-i686-1.1-natives.jar\n",
      "23/04/08 03:30:17 INFO Client: Uploading resource file:/usr/lib/livy/rsc-jars/netlib-native_ref-win-x86_64-1.1-natives.jar -> hdfs://ip-172-31-37-162.ap-southeast-1.compute.internal:8020/user/livy/.sparkStaging/application_1680916650044_0002/netlib-native_ref-win-x86_64-1.1-natives.jar\n",
      "23/04/08 03:30:17 INFO Client: Uploading resource file:/usr/lib/livy/rsc-jars/netlib-native_system-linux-armhf-1.1-natives.jar -> hdfs://ip-172-31-37-162.ap-southeast-1.compute.internal:8020/user/livy/.sparkStaging/application_1680916650044_0002/netlib-native_system-linux-armhf-1.1-natives.jar\n",
      "23/04/08 03:30:17 INFO Client: Uploading resource file:/usr/lib/livy/rsc-jars/netlib-native_system-linux-i686-1.1-natives.jar -> hdfs://ip-172-31-37-162.ap-southeast-1.compute.internal:8020/user/livy/.sparkStaging/application_1680916650044_0002/netlib-native_system-linux-i686-1.1-natives.jar\n",
      "23/04/08 03:30:17 INFO Client: Uploading resource file:/usr/lib/livy/rsc-jars/netlib-native_system-linux-x86_64-1.1-natives.jar -> hdfs://ip-172-31-37-162.ap-southeast-1.compute.internal:8020/user/livy/.sparkStaging/application_1680916650044_0002/netlib-native_system-linux-x86_64-1.1-natives.jar\n",
      "23/04/08 03:30:17 INFO Client: Uploading resource file:/usr/lib/livy/rsc-jars/netlib-native_system-osx-x86_64-1.1-natives.jar -> hdfs://ip-172-31-37-162.ap-southeast-1.compute.internal:8020/user/livy/.sparkStaging/application_1680916650044_0002/netlib-native_system-osx-x86_64-1.1-natives.jar\n",
      "23/04/08 03:30:17 INFO Client: Uploading resource file:/usr/lib/livy/rsc-jars/netlib-native_system-win-i686-1.1-natives.jar -> hdfs://ip-172-31-37-162.ap-southeast-1.compute.internal:8020/user/livy/.sparkStaging/application_1680916650044_0002/netlib-native_system-win-i686-1.1-natives.jar\n",
      "23/04/08 03:30:17 INFO Client: Uploading resource file:/usr/lib/livy/rsc-jars/netlib-native_system-win-x86_64-1.1-natives.jar -> hdfs://ip-172-31-37-162.ap-southeast-1.compute.internal:8020/user/livy/.sparkStaging/application_1680916650044_0002/netlib-native_system-win-x86_64-1.1-natives.jar\n",
      "23/04/08 03:30:17 INFO Client: Uploading resource file:/usr/lib/livy/rsc-jars/netty-all-4.1.17.Final.jar -> hdfs://ip-172-31-37-162.ap-southeast-1.compute.internal:8020/user/livy/.sparkStaging/application_1680916650044_0002/netty-all-4.1.17.Final.jar\n",
      "23/04/08 03:30:17 INFO Client: Uploading resource file:/usr/lib/livy/repl_2.12-jars/commons-codec-1.9.jar -> hdfs://ip-172-31-37-162.ap-southeast-1.compute.internal:8020/user/livy/.sparkStaging/application_1680916650044_0002/commons-codec-1.9.jar\n",
      "23/04/08 03:30:17 INFO Client: Uploading resource file:/usr/lib/livy/repl_2.12-jars/livy-core_2.12-0.7.1-incubating.jar -> hdfs://ip-172-31-37-162.ap-southeast-1.compute.internal:8020/user/livy/.sparkStaging/application_1680916650044_0002/livy-core_2.12-0.7.1-incubating.jar\n",
      "23/04/08 03:30:17 INFO Client: Uploading resource file:/usr/lib/livy/repl_2.12-jars/livy-repl_2.12-0.7.1-incubating.jar -> hdfs://ip-172-31-37-162.ap-southeast-1.compute.internal:8020/user/livy/.sparkStaging/application_1680916650044_0002/livy-repl_2.12-0.7.1-incubating.jar\n",
      "23/04/08 03:30:17 INFO Client: Uploading resource file:/etc/hudi/conf.dist/hudi-defaults.conf -> hdfs://ip-172-31-37-162.ap-southeast-1.compute.internal:8020/user/livy/.sparkStaging/application_1680916650044_0002/hudi-defaults.conf\n",
      "23/04/08 03:30:17 INFO Client: Uploading resource file:/usr/lib/spark/R/lib/sparkr.zip#sparkr -> hdfs://ip-172-31-37-162.ap-southeast-1.compute.internal:8020/user/livy/.sparkStaging/application_1680916650044_0002/sparkr.zip\n",
      "23/04/08 03:30:17 INFO Client: Uploading resource file:/usr/lib/spark/python/lib/pyspark.zip -> hdfs://ip-172-31-37-162.ap-southeast-1.compute.internal:8020/user/livy/.sparkStaging/application_1680916650044_0002/pyspark.zip\n",
      "23/04/08 03:30:17 INFO Client: Uploading resource file:/usr/lib/spark/python/lib/py4j-0.10.9.5-src.zip -> hdfs://ip-172-31-37-162.ap-southeast-1.compute.internal:8020/user/livy/.sparkStaging/application_1680916650044_0002/py4j-0.10.9.5-src.zip\n",
      "23/04/08 03:30:17 INFO Client: Uploading resource file:/mnt/tmp/spark-cdd2700f-9dba-4b81-96fe-ca9ecb914473/__spark_conf__8763799049417668656.zip -> hdfs://ip-172-31-37-162.ap-southeast-1.compute.internal:8020/user/livy/.sparkStaging/application_1680916650044_0002/__spark_conf__.zip\n",
      "23/04/08 03:30:17 INFO SecurityManager: Changing view acls to: livy\n",
      "23/04/08 03:30:17 INFO SecurityManager: Changing modify acls to: livy\n",
      "23/04/08 03:30:17 INFO SecurityManager: Changing view acls groups to: \n",
      "23/04/08 03:30:17 INFO SecurityManager: Changing modify acls groups to: \n",
      "23/04/08 03:30:17 INFO SecurityManager: SecurityManager: authentication disabled; ui acls disabled; users  with view permissions: Set(livy); groups with view permissions: Set(); users  with modify permissions: Set(livy); groups with modify permissions: Set()\n",
      "23/04/08 03:30:18 INFO Client: Submitting application application_1680916650044_0002 to ResourceManager\n",
      "23/04/08 03:30:18 INFO YarnClientImpl: Submitted application application_1680916650044_0002\n",
      "23/04/08 03:30:18 INFO Client: Application report for application_1680916650044_0002 (state: ACCEPTED)\n",
      "23/04/08 03:30:18 INFO Client: \n",
      "\t client token: N/A\n",
      "\t diagnostics: [Sat Apr 08 03:30:18 +0000 2023] Application is Activated, waiting for resources to be assigned for AM.  Details : AM Partition = <DEFAULT_PARTITION> ; Partition Resource = <memory:61440, vCores:20> ; Queue's Absolute capacity = 100.0 % ; Queue's Absolute used capacity = 0.0 % ; Queue's Absolute max capacity = 100.0 % ; Queue's capacity (absolute resource) = <memory:61440, vCores:20> ; Queue's used capacity (absolute resource) = <memory:0, vCores:0> ; Queue's max capacity (absolute resource) = <memory:61440, vCores:20> ; \n",
      "\t ApplicationMaster host: N/A\n",
      "\t ApplicationMaster RPC port: -1\n",
      "\t queue: default\n",
      "\t start time: 1680924618089\n",
      "\t final status: UNDEFINED\n",
      "\t tracking URL: http://ip-172-31-37-162.ap-southeast-1.compute.internal:20888/proxy/application_1680916650044_0002/\n",
      "\t user: livy\n",
      "23/04/08 03:30:18 INFO ShutdownHookManager: Shutdown hook called\n",
      "23/04/08 03:30:18 INFO ShutdownHookManager: Deleting directory /mnt/tmp/spark-cdd2700f-9dba-4b81-96fe-ca9ecb914473\n",
      "23/04/08 03:30:18 INFO ShutdownHookManager: Deleting directory /mnt/tmp/spark-21a85c60-3c89-493a-b5c7-31fd293e90ff\n",
      "\n",
      "YARN Diagnostics: \n",
      "Application application_1680916650044_0002 failed 1 times (global limit =2; local limit is =1) due to AM Container for appattempt_1680916650044_0002_000001 exited with  exitCode: 137\n",
      "Failing this attempt.Diagnostics: [2023-04-08 03:59:16.438]Container killed on request. Exit code is 137\n",
      "[2023-04-08 03:59:16.438]Container exited with a non-zero exit code 137. \n",
      "[2023-04-08 03:59:16.439]Killed by external signal\n",
      "For more detailed output, check the application tracking page: http://ip-172-31-37-162.ap-southeast-1.compute.internal:8088/cluster/app/application_1680916650044_0002 Then click on links to logs of each attempt.\n",
      ". Failing the application.\n"
     ]
    }
   ],
   "source": [
    "for f in folder_list[-11:-16:-1]:\n",
    "    folder = input_bucket + path.format(f)\n",
    "    try:\n",
    "        user_join, diff = pre_process(folder,diff)\n",
    "        if diff.count() == 0:\n",
    "            print('--------------------all influ have been found--------------------')\n",
    "            break\n",
    "        diff = diff.join(user_join, on=\"user_id_str\", how=\"left_anti\")\n",
    "        if pokemon_inf:\n",
    "            pokemon_inf = pokemon_inf.union(user_join)\n",
    "        else:\n",
    "            pokemon_inf = user_join.alias(\"pokemon_inf\")\n",
    "        del user_join\n",
    "        gc.collect()\n",
    "    except Py4JJavaError:\n",
    "        print(folder+\" failed\")"
   ]
  },
  {
   "cell_type": "code",
   "execution_count": null,
   "metadata": {},
   "outputs": [
    {
     "data": {
      "application/vnd.jupyter.widget-view+json": {
       "model_id": "6595fce251f94209a8440b1a2f059143",
       "version_major": 2,
       "version_minor": 0
      },
      "text/plain": [
       "VBox()"
      ]
     },
     "metadata": {},
     "output_type": "display_data"
    },
    {
     "name": "stderr",
     "output_type": "stream",
     "text": [
      "An error was encountered:\n",
      "Session 1 unexpectedly reached final status 'dead'. See logs:\n",
      "stdout: \n",
      "\n",
      "stderr: \n",
      "23/04/08 03:30:11 WARN NativeCodeLoader: Unable to load native-hadoop library for your platform... using builtin-java classes where applicable\n",
      "23/04/08 03:30:12 INFO DefaultNoHARMFailoverProxyProvider: Connecting to ResourceManager at ip-172-31-37-162.ap-southeast-1.compute.internal/172.31.37.162:8032\n",
      "23/04/08 03:30:12 INFO Configuration: resource-types.xml not found\n",
      "23/04/08 03:30:12 INFO ResourceUtils: Unable to find 'resource-types.xml'.\n",
      "23/04/08 03:30:12 INFO Client: Verifying our application has not requested more than the maximum memory capability of the cluster (12288 MB per container)\n",
      "23/04/08 03:30:12 INFO Client: Will allocate AM container, with 2432 MB memory including 384 MB overhead\n",
      "23/04/08 03:30:12 INFO Client: Setting up container launch context for our AM\n",
      "23/04/08 03:30:12 INFO Client: Setting up the launch environment for our AM container\n",
      "23/04/08 03:30:12 INFO Client: Preparing resources for our AM container\n",
      "23/04/08 03:30:12 WARN Client: Neither spark.yarn.jars nor spark.yarn.archive is set, falling back to uploading libraries under SPARK_HOME.\n",
      "23/04/08 03:30:15 INFO Client: Uploading resource file:/mnt/tmp/spark-cdd2700f-9dba-4b81-96fe-ca9ecb914473/__spark_libs__2055157281245084756.zip -> hdfs://ip-172-31-37-162.ap-southeast-1.compute.internal:8020/user/livy/.sparkStaging/application_1680916650044_0002/__spark_libs__2055157281245084756.zip\n",
      "23/04/08 03:30:16 INFO Client: Uploading resource file:/usr/lib/livy/rsc-jars/arpack_combined_all-0.1.jar -> hdfs://ip-172-31-37-162.ap-southeast-1.compute.internal:8020/user/livy/.sparkStaging/application_1680916650044_0002/arpack_combined_all-0.1.jar\n",
      "23/04/08 03:30:16 INFO Client: Uploading resource file:/usr/lib/livy/rsc-jars/core-1.1.2.jar -> hdfs://ip-172-31-37-162.ap-southeast-1.compute.internal:8020/user/livy/.sparkStaging/application_1680916650044_0002/core-1.1.2.jar\n",
      "23/04/08 03:30:16 INFO Client: Uploading resource file:/usr/lib/livy/rsc-jars/jniloader-1.1.jar -> hdfs://ip-172-31-37-162.ap-southeast-1.compute.internal:8020/user/livy/.sparkStaging/application_1680916650044_0002/jniloader-1.1.jar\n",
      "23/04/08 03:30:16 INFO Client: Uploading resource file:/usr/lib/livy/rsc-jars/livy-api-0.7.1-incubating.jar -> hdfs://ip-172-31-37-162.ap-southeast-1.compute.internal:8020/user/livy/.sparkStaging/application_1680916650044_0002/livy-api-0.7.1-incubating.jar\n",
      "23/04/08 03:30:16 INFO Client: Uploading resource file:/usr/lib/livy/rsc-jars/livy-rsc-0.7.1-incubating.jar -> hdfs://ip-172-31-37-162.ap-southeast-1.compute.internal:8020/user/livy/.sparkStaging/application_1680916650044_0002/livy-rsc-0.7.1-incubating.jar\n",
      "23/04/08 03:30:16 INFO Client: Uploading resource file:/usr/lib/livy/rsc-jars/livy-thriftserver-session-0.7.1-incubating.jar -> hdfs://ip-172-31-37-162.ap-southeast-1.compute.internal:8020/user/livy/.sparkStaging/application_1680916650044_0002/livy-thriftserver-session-0.7.1-incubating.jar\n",
      "23/04/08 03:30:16 INFO Client: Uploading resource file:/usr/lib/livy/rsc-jars/native_ref-java-1.1.jar -> hdfs://ip-172-31-37-162.ap-southeast-1.compute.internal:8020/user/livy/.sparkStaging/application_1680916650044_0002/native_ref-java-1.1.jar\n",
      "23/04/08 03:30:16 INFO Client: Uploading resource file:/usr/lib/livy/rsc-jars/native_system-java-1.1.jar -> hdfs://ip-172-31-37-162.ap-southeast-1.compute.internal:8020/user/livy/.sparkStaging/application_1680916650044_0002/native_system-java-1.1.jar\n",
      "23/04/08 03:30:17 INFO Client: Uploading resource file:/usr/lib/livy/rsc-jars/netlib-native_ref-linux-armhf-1.1-natives.jar -> hdfs://ip-172-31-37-162.ap-southeast-1.compute.internal:8020/user/livy/.sparkStaging/application_1680916650044_0002/netlib-native_ref-linux-armhf-1.1-natives.jar\n",
      "23/04/08 03:30:17 INFO Client: Uploading resource file:/usr/lib/livy/rsc-jars/netlib-native_ref-linux-i686-1.1-natives.jar -> hdfs://ip-172-31-37-162.ap-southeast-1.compute.internal:8020/user/livy/.sparkStaging/application_1680916650044_0002/netlib-native_ref-linux-i686-1.1-natives.jar\n",
      "23/04/08 03:30:17 INFO Client: Uploading resource file:/usr/lib/livy/rsc-jars/netlib-native_ref-linux-x86_64-1.1-natives.jar -> hdfs://ip-172-31-37-162.ap-southeast-1.compute.internal:8020/user/livy/.sparkStaging/application_1680916650044_0002/netlib-native_ref-linux-x86_64-1.1-natives.jar\n",
      "23/04/08 03:30:17 INFO Client: Uploading resource file:/usr/lib/livy/rsc-jars/netlib-native_ref-osx-x86_64-1.1-natives.jar -> hdfs://ip-172-31-37-162.ap-southeast-1.compute.internal:8020/user/livy/.sparkStaging/application_1680916650044_0002/netlib-native_ref-osx-x86_64-1.1-natives.jar\n",
      "23/04/08 03:30:17 INFO Client: Uploading resource file:/usr/lib/livy/rsc-jars/netlib-native_ref-win-i686-1.1-natives.jar -> hdfs://ip-172-31-37-162.ap-southeast-1.compute.internal:8020/user/livy/.sparkStaging/application_1680916650044_0002/netlib-native_ref-win-i686-1.1-natives.jar\n",
      "23/04/08 03:30:17 INFO Client: Uploading resource file:/usr/lib/livy/rsc-jars/netlib-native_ref-win-x86_64-1.1-natives.jar -> hdfs://ip-172-31-37-162.ap-southeast-1.compute.internal:8020/user/livy/.sparkStaging/application_1680916650044_0002/netlib-native_ref-win-x86_64-1.1-natives.jar\n",
      "23/04/08 03:30:17 INFO Client: Uploading resource file:/usr/lib/livy/rsc-jars/netlib-native_system-linux-armhf-1.1-natives.jar -> hdfs://ip-172-31-37-162.ap-southeast-1.compute.internal:8020/user/livy/.sparkStaging/application_1680916650044_0002/netlib-native_system-linux-armhf-1.1-natives.jar\n",
      "23/04/08 03:30:17 INFO Client: Uploading resource file:/usr/lib/livy/rsc-jars/netlib-native_system-linux-i686-1.1-natives.jar -> hdfs://ip-172-31-37-162.ap-southeast-1.compute.internal:8020/user/livy/.sparkStaging/application_1680916650044_0002/netlib-native_system-linux-i686-1.1-natives.jar\n",
      "23/04/08 03:30:17 INFO Client: Uploading resource file:/usr/lib/livy/rsc-jars/netlib-native_system-linux-x86_64-1.1-natives.jar -> hdfs://ip-172-31-37-162.ap-southeast-1.compute.internal:8020/user/livy/.sparkStaging/application_1680916650044_0002/netlib-native_system-linux-x86_64-1.1-natives.jar\n",
      "23/04/08 03:30:17 INFO Client: Uploading resource file:/usr/lib/livy/rsc-jars/netlib-native_system-osx-x86_64-1.1-natives.jar -> hdfs://ip-172-31-37-162.ap-southeast-1.compute.internal:8020/user/livy/.sparkStaging/application_1680916650044_0002/netlib-native_system-osx-x86_64-1.1-natives.jar\n",
      "23/04/08 03:30:17 INFO Client: Uploading resource file:/usr/lib/livy/rsc-jars/netlib-native_system-win-i686-1.1-natives.jar -> hdfs://ip-172-31-37-162.ap-southeast-1.compute.internal:8020/user/livy/.sparkStaging/application_1680916650044_0002/netlib-native_system-win-i686-1.1-natives.jar\n",
      "23/04/08 03:30:17 INFO Client: Uploading resource file:/usr/lib/livy/rsc-jars/netlib-native_system-win-x86_64-1.1-natives.jar -> hdfs://ip-172-31-37-162.ap-southeast-1.compute.internal:8020/user/livy/.sparkStaging/application_1680916650044_0002/netlib-native_system-win-x86_64-1.1-natives.jar\n",
      "23/04/08 03:30:17 INFO Client: Uploading resource file:/usr/lib/livy/rsc-jars/netty-all-4.1.17.Final.jar -> hdfs://ip-172-31-37-162.ap-southeast-1.compute.internal:8020/user/livy/.sparkStaging/application_1680916650044_0002/netty-all-4.1.17.Final.jar\n",
      "23/04/08 03:30:17 INFO Client: Uploading resource file:/usr/lib/livy/repl_2.12-jars/commons-codec-1.9.jar -> hdfs://ip-172-31-37-162.ap-southeast-1.compute.internal:8020/user/livy/.sparkStaging/application_1680916650044_0002/commons-codec-1.9.jar\n",
      "23/04/08 03:30:17 INFO Client: Uploading resource file:/usr/lib/livy/repl_2.12-jars/livy-core_2.12-0.7.1-incubating.jar -> hdfs://ip-172-31-37-162.ap-southeast-1.compute.internal:8020/user/livy/.sparkStaging/application_1680916650044_0002/livy-core_2.12-0.7.1-incubating.jar\n",
      "23/04/08 03:30:17 INFO Client: Uploading resource file:/usr/lib/livy/repl_2.12-jars/livy-repl_2.12-0.7.1-incubating.jar -> hdfs://ip-172-31-37-162.ap-southeast-1.compute.internal:8020/user/livy/.sparkStaging/application_1680916650044_0002/livy-repl_2.12-0.7.1-incubating.jar\n",
      "23/04/08 03:30:17 INFO Client: Uploading resource file:/etc/hudi/conf.dist/hudi-defaults.conf -> hdfs://ip-172-31-37-162.ap-southeast-1.compute.internal:8020/user/livy/.sparkStaging/application_1680916650044_0002/hudi-defaults.conf\n",
      "23/04/08 03:30:17 INFO Client: Uploading resource file:/usr/lib/spark/R/lib/sparkr.zip#sparkr -> hdfs://ip-172-31-37-162.ap-southeast-1.compute.internal:8020/user/livy/.sparkStaging/application_1680916650044_0002/sparkr.zip\n",
      "23/04/08 03:30:17 INFO Client: Uploading resource file:/usr/lib/spark/python/lib/pyspark.zip -> hdfs://ip-172-31-37-162.ap-southeast-1.compute.internal:8020/user/livy/.sparkStaging/application_1680916650044_0002/pyspark.zip\n",
      "23/04/08 03:30:17 INFO Client: Uploading resource file:/usr/lib/spark/python/lib/py4j-0.10.9.5-src.zip -> hdfs://ip-172-31-37-162.ap-southeast-1.compute.internal:8020/user/livy/.sparkStaging/application_1680916650044_0002/py4j-0.10.9.5-src.zip\n",
      "23/04/08 03:30:17 INFO Client: Uploading resource file:/mnt/tmp/spark-cdd2700f-9dba-4b81-96fe-ca9ecb914473/__spark_conf__8763799049417668656.zip -> hdfs://ip-172-31-37-162.ap-southeast-1.compute.internal:8020/user/livy/.sparkStaging/application_1680916650044_0002/__spark_conf__.zip\n",
      "23/04/08 03:30:17 INFO SecurityManager: Changing view acls to: livy\n",
      "23/04/08 03:30:17 INFO SecurityManager: Changing modify acls to: livy\n",
      "23/04/08 03:30:17 INFO SecurityManager: Changing view acls groups to: \n",
      "23/04/08 03:30:17 INFO SecurityManager: Changing modify acls groups to: \n",
      "23/04/08 03:30:17 INFO SecurityManager: SecurityManager: authentication disabled; ui acls disabled; users  with view permissions: Set(livy); groups with view permissions: Set(); users  with modify permissions: Set(livy); groups with modify permissions: Set()\n",
      "23/04/08 03:30:18 INFO Client: Submitting application application_1680916650044_0002 to ResourceManager\n",
      "23/04/08 03:30:18 INFO YarnClientImpl: Submitted application application_1680916650044_0002\n",
      "23/04/08 03:30:18 INFO Client: Application report for application_1680916650044_0002 (state: ACCEPTED)\n",
      "23/04/08 03:30:18 INFO Client: \n",
      "\t client token: N/A\n",
      "\t diagnostics: [Sat Apr 08 03:30:18 +0000 2023] Application is Activated, waiting for resources to be assigned for AM.  Details : AM Partition = <DEFAULT_PARTITION> ; Partition Resource = <memory:61440, vCores:20> ; Queue's Absolute capacity = 100.0 % ; Queue's Absolute used capacity = 0.0 % ; Queue's Absolute max capacity = 100.0 % ; Queue's capacity (absolute resource) = <memory:61440, vCores:20> ; Queue's used capacity (absolute resource) = <memory:0, vCores:0> ; Queue's max capacity (absolute resource) = <memory:61440, vCores:20> ; \n",
      "\t ApplicationMaster host: N/A\n",
      "\t ApplicationMaster RPC port: -1\n",
      "\t queue: default\n",
      "\t start time: 1680924618089\n",
      "\t final status: UNDEFINED\n",
      "\t tracking URL: http://ip-172-31-37-162.ap-southeast-1.compute.internal:20888/proxy/application_1680916650044_0002/\n",
      "\t user: livy\n",
      "23/04/08 03:30:18 INFO ShutdownHookManager: Shutdown hook called\n",
      "23/04/08 03:30:18 INFO ShutdownHookManager: Deleting directory /mnt/tmp/spark-cdd2700f-9dba-4b81-96fe-ca9ecb914473\n",
      "23/04/08 03:30:18 INFO ShutdownHookManager: Deleting directory /mnt/tmp/spark-21a85c60-3c89-493a-b5c7-31fd293e90ff\n",
      "\n",
      "YARN Diagnostics: \n",
      "Application application_1680916650044_0002 failed 1 times (global limit =2; local limit is =1) due to AM Container for appattempt_1680916650044_0002_000001 exited with  exitCode: 137\n",
      "Failing this attempt.Diagnostics: [2023-04-08 03:59:16.438]Container killed on request. Exit code is 137\n",
      "[2023-04-08 03:59:16.438]Container exited with a non-zero exit code 137. \n",
      "[2023-04-08 03:59:16.439]Killed by external signal\n",
      "For more detailed output, check the application tracking page: http://ip-172-31-37-162.ap-southeast-1.compute.internal:8088/cluster/app/application_1680916650044_0002 Then click on links to logs of each attempt.\n",
      ". Failing the application.\n"
     ]
    }
   ],
   "source": [
    "pokemon_inf.show()"
   ]
  },
  {
   "cell_type": "code",
   "execution_count": null,
   "metadata": {},
   "outputs": [
    {
     "data": {
      "application/vnd.jupyter.widget-view+json": {
       "model_id": "eceb54fba60943e295e33db2b038bdb9",
       "version_major": 2,
       "version_minor": 0
      },
      "text/plain": [
       "VBox()"
      ]
     },
     "metadata": {},
     "output_type": "display_data"
    },
    {
     "name": "stderr",
     "output_type": "stream",
     "text": [
      "An error was encountered:\n",
      "Session 1 unexpectedly reached final status 'dead'. See logs:\n",
      "stdout: \n",
      "\n",
      "stderr: \n",
      "23/04/08 03:30:11 WARN NativeCodeLoader: Unable to load native-hadoop library for your platform... using builtin-java classes where applicable\n",
      "23/04/08 03:30:12 INFO DefaultNoHARMFailoverProxyProvider: Connecting to ResourceManager at ip-172-31-37-162.ap-southeast-1.compute.internal/172.31.37.162:8032\n",
      "23/04/08 03:30:12 INFO Configuration: resource-types.xml not found\n",
      "23/04/08 03:30:12 INFO ResourceUtils: Unable to find 'resource-types.xml'.\n",
      "23/04/08 03:30:12 INFO Client: Verifying our application has not requested more than the maximum memory capability of the cluster (12288 MB per container)\n",
      "23/04/08 03:30:12 INFO Client: Will allocate AM container, with 2432 MB memory including 384 MB overhead\n",
      "23/04/08 03:30:12 INFO Client: Setting up container launch context for our AM\n",
      "23/04/08 03:30:12 INFO Client: Setting up the launch environment for our AM container\n",
      "23/04/08 03:30:12 INFO Client: Preparing resources for our AM container\n",
      "23/04/08 03:30:12 WARN Client: Neither spark.yarn.jars nor spark.yarn.archive is set, falling back to uploading libraries under SPARK_HOME.\n",
      "23/04/08 03:30:15 INFO Client: Uploading resource file:/mnt/tmp/spark-cdd2700f-9dba-4b81-96fe-ca9ecb914473/__spark_libs__2055157281245084756.zip -> hdfs://ip-172-31-37-162.ap-southeast-1.compute.internal:8020/user/livy/.sparkStaging/application_1680916650044_0002/__spark_libs__2055157281245084756.zip\n",
      "23/04/08 03:30:16 INFO Client: Uploading resource file:/usr/lib/livy/rsc-jars/arpack_combined_all-0.1.jar -> hdfs://ip-172-31-37-162.ap-southeast-1.compute.internal:8020/user/livy/.sparkStaging/application_1680916650044_0002/arpack_combined_all-0.1.jar\n",
      "23/04/08 03:30:16 INFO Client: Uploading resource file:/usr/lib/livy/rsc-jars/core-1.1.2.jar -> hdfs://ip-172-31-37-162.ap-southeast-1.compute.internal:8020/user/livy/.sparkStaging/application_1680916650044_0002/core-1.1.2.jar\n",
      "23/04/08 03:30:16 INFO Client: Uploading resource file:/usr/lib/livy/rsc-jars/jniloader-1.1.jar -> hdfs://ip-172-31-37-162.ap-southeast-1.compute.internal:8020/user/livy/.sparkStaging/application_1680916650044_0002/jniloader-1.1.jar\n",
      "23/04/08 03:30:16 INFO Client: Uploading resource file:/usr/lib/livy/rsc-jars/livy-api-0.7.1-incubating.jar -> hdfs://ip-172-31-37-162.ap-southeast-1.compute.internal:8020/user/livy/.sparkStaging/application_1680916650044_0002/livy-api-0.7.1-incubating.jar\n",
      "23/04/08 03:30:16 INFO Client: Uploading resource file:/usr/lib/livy/rsc-jars/livy-rsc-0.7.1-incubating.jar -> hdfs://ip-172-31-37-162.ap-southeast-1.compute.internal:8020/user/livy/.sparkStaging/application_1680916650044_0002/livy-rsc-0.7.1-incubating.jar\n",
      "23/04/08 03:30:16 INFO Client: Uploading resource file:/usr/lib/livy/rsc-jars/livy-thriftserver-session-0.7.1-incubating.jar -> hdfs://ip-172-31-37-162.ap-southeast-1.compute.internal:8020/user/livy/.sparkStaging/application_1680916650044_0002/livy-thriftserver-session-0.7.1-incubating.jar\n",
      "23/04/08 03:30:16 INFO Client: Uploading resource file:/usr/lib/livy/rsc-jars/native_ref-java-1.1.jar -> hdfs://ip-172-31-37-162.ap-southeast-1.compute.internal:8020/user/livy/.sparkStaging/application_1680916650044_0002/native_ref-java-1.1.jar\n",
      "23/04/08 03:30:16 INFO Client: Uploading resource file:/usr/lib/livy/rsc-jars/native_system-java-1.1.jar -> hdfs://ip-172-31-37-162.ap-southeast-1.compute.internal:8020/user/livy/.sparkStaging/application_1680916650044_0002/native_system-java-1.1.jar\n",
      "23/04/08 03:30:17 INFO Client: Uploading resource file:/usr/lib/livy/rsc-jars/netlib-native_ref-linux-armhf-1.1-natives.jar -> hdfs://ip-172-31-37-162.ap-southeast-1.compute.internal:8020/user/livy/.sparkStaging/application_1680916650044_0002/netlib-native_ref-linux-armhf-1.1-natives.jar\n",
      "23/04/08 03:30:17 INFO Client: Uploading resource file:/usr/lib/livy/rsc-jars/netlib-native_ref-linux-i686-1.1-natives.jar -> hdfs://ip-172-31-37-162.ap-southeast-1.compute.internal:8020/user/livy/.sparkStaging/application_1680916650044_0002/netlib-native_ref-linux-i686-1.1-natives.jar\n",
      "23/04/08 03:30:17 INFO Client: Uploading resource file:/usr/lib/livy/rsc-jars/netlib-native_ref-linux-x86_64-1.1-natives.jar -> hdfs://ip-172-31-37-162.ap-southeast-1.compute.internal:8020/user/livy/.sparkStaging/application_1680916650044_0002/netlib-native_ref-linux-x86_64-1.1-natives.jar\n",
      "23/04/08 03:30:17 INFO Client: Uploading resource file:/usr/lib/livy/rsc-jars/netlib-native_ref-osx-x86_64-1.1-natives.jar -> hdfs://ip-172-31-37-162.ap-southeast-1.compute.internal:8020/user/livy/.sparkStaging/application_1680916650044_0002/netlib-native_ref-osx-x86_64-1.1-natives.jar\n",
      "23/04/08 03:30:17 INFO Client: Uploading resource file:/usr/lib/livy/rsc-jars/netlib-native_ref-win-i686-1.1-natives.jar -> hdfs://ip-172-31-37-162.ap-southeast-1.compute.internal:8020/user/livy/.sparkStaging/application_1680916650044_0002/netlib-native_ref-win-i686-1.1-natives.jar\n",
      "23/04/08 03:30:17 INFO Client: Uploading resource file:/usr/lib/livy/rsc-jars/netlib-native_ref-win-x86_64-1.1-natives.jar -> hdfs://ip-172-31-37-162.ap-southeast-1.compute.internal:8020/user/livy/.sparkStaging/application_1680916650044_0002/netlib-native_ref-win-x86_64-1.1-natives.jar\n",
      "23/04/08 03:30:17 INFO Client: Uploading resource file:/usr/lib/livy/rsc-jars/netlib-native_system-linux-armhf-1.1-natives.jar -> hdfs://ip-172-31-37-162.ap-southeast-1.compute.internal:8020/user/livy/.sparkStaging/application_1680916650044_0002/netlib-native_system-linux-armhf-1.1-natives.jar\n",
      "23/04/08 03:30:17 INFO Client: Uploading resource file:/usr/lib/livy/rsc-jars/netlib-native_system-linux-i686-1.1-natives.jar -> hdfs://ip-172-31-37-162.ap-southeast-1.compute.internal:8020/user/livy/.sparkStaging/application_1680916650044_0002/netlib-native_system-linux-i686-1.1-natives.jar\n",
      "23/04/08 03:30:17 INFO Client: Uploading resource file:/usr/lib/livy/rsc-jars/netlib-native_system-linux-x86_64-1.1-natives.jar -> hdfs://ip-172-31-37-162.ap-southeast-1.compute.internal:8020/user/livy/.sparkStaging/application_1680916650044_0002/netlib-native_system-linux-x86_64-1.1-natives.jar\n",
      "23/04/08 03:30:17 INFO Client: Uploading resource file:/usr/lib/livy/rsc-jars/netlib-native_system-osx-x86_64-1.1-natives.jar -> hdfs://ip-172-31-37-162.ap-southeast-1.compute.internal:8020/user/livy/.sparkStaging/application_1680916650044_0002/netlib-native_system-osx-x86_64-1.1-natives.jar\n",
      "23/04/08 03:30:17 INFO Client: Uploading resource file:/usr/lib/livy/rsc-jars/netlib-native_system-win-i686-1.1-natives.jar -> hdfs://ip-172-31-37-162.ap-southeast-1.compute.internal:8020/user/livy/.sparkStaging/application_1680916650044_0002/netlib-native_system-win-i686-1.1-natives.jar\n",
      "23/04/08 03:30:17 INFO Client: Uploading resource file:/usr/lib/livy/rsc-jars/netlib-native_system-win-x86_64-1.1-natives.jar -> hdfs://ip-172-31-37-162.ap-southeast-1.compute.internal:8020/user/livy/.sparkStaging/application_1680916650044_0002/netlib-native_system-win-x86_64-1.1-natives.jar\n",
      "23/04/08 03:30:17 INFO Client: Uploading resource file:/usr/lib/livy/rsc-jars/netty-all-4.1.17.Final.jar -> hdfs://ip-172-31-37-162.ap-southeast-1.compute.internal:8020/user/livy/.sparkStaging/application_1680916650044_0002/netty-all-4.1.17.Final.jar\n",
      "23/04/08 03:30:17 INFO Client: Uploading resource file:/usr/lib/livy/repl_2.12-jars/commons-codec-1.9.jar -> hdfs://ip-172-31-37-162.ap-southeast-1.compute.internal:8020/user/livy/.sparkStaging/application_1680916650044_0002/commons-codec-1.9.jar\n",
      "23/04/08 03:30:17 INFO Client: Uploading resource file:/usr/lib/livy/repl_2.12-jars/livy-core_2.12-0.7.1-incubating.jar -> hdfs://ip-172-31-37-162.ap-southeast-1.compute.internal:8020/user/livy/.sparkStaging/application_1680916650044_0002/livy-core_2.12-0.7.1-incubating.jar\n",
      "23/04/08 03:30:17 INFO Client: Uploading resource file:/usr/lib/livy/repl_2.12-jars/livy-repl_2.12-0.7.1-incubating.jar -> hdfs://ip-172-31-37-162.ap-southeast-1.compute.internal:8020/user/livy/.sparkStaging/application_1680916650044_0002/livy-repl_2.12-0.7.1-incubating.jar\n",
      "23/04/08 03:30:17 INFO Client: Uploading resource file:/etc/hudi/conf.dist/hudi-defaults.conf -> hdfs://ip-172-31-37-162.ap-southeast-1.compute.internal:8020/user/livy/.sparkStaging/application_1680916650044_0002/hudi-defaults.conf\n",
      "23/04/08 03:30:17 INFO Client: Uploading resource file:/usr/lib/spark/R/lib/sparkr.zip#sparkr -> hdfs://ip-172-31-37-162.ap-southeast-1.compute.internal:8020/user/livy/.sparkStaging/application_1680916650044_0002/sparkr.zip\n",
      "23/04/08 03:30:17 INFO Client: Uploading resource file:/usr/lib/spark/python/lib/pyspark.zip -> hdfs://ip-172-31-37-162.ap-southeast-1.compute.internal:8020/user/livy/.sparkStaging/application_1680916650044_0002/pyspark.zip\n",
      "23/04/08 03:30:17 INFO Client: Uploading resource file:/usr/lib/spark/python/lib/py4j-0.10.9.5-src.zip -> hdfs://ip-172-31-37-162.ap-southeast-1.compute.internal:8020/user/livy/.sparkStaging/application_1680916650044_0002/py4j-0.10.9.5-src.zip\n",
      "23/04/08 03:30:17 INFO Client: Uploading resource file:/mnt/tmp/spark-cdd2700f-9dba-4b81-96fe-ca9ecb914473/__spark_conf__8763799049417668656.zip -> hdfs://ip-172-31-37-162.ap-southeast-1.compute.internal:8020/user/livy/.sparkStaging/application_1680916650044_0002/__spark_conf__.zip\n",
      "23/04/08 03:30:17 INFO SecurityManager: Changing view acls to: livy\n",
      "23/04/08 03:30:17 INFO SecurityManager: Changing modify acls to: livy\n",
      "23/04/08 03:30:17 INFO SecurityManager: Changing view acls groups to: \n",
      "23/04/08 03:30:17 INFO SecurityManager: Changing modify acls groups to: \n",
      "23/04/08 03:30:17 INFO SecurityManager: SecurityManager: authentication disabled; ui acls disabled; users  with view permissions: Set(livy); groups with view permissions: Set(); users  with modify permissions: Set(livy); groups with modify permissions: Set()\n",
      "23/04/08 03:30:18 INFO Client: Submitting application application_1680916650044_0002 to ResourceManager\n",
      "23/04/08 03:30:18 INFO YarnClientImpl: Submitted application application_1680916650044_0002\n",
      "23/04/08 03:30:18 INFO Client: Application report for application_1680916650044_0002 (state: ACCEPTED)\n",
      "23/04/08 03:30:18 INFO Client: \n",
      "\t client token: N/A\n",
      "\t diagnostics: [Sat Apr 08 03:30:18 +0000 2023] Application is Activated, waiting for resources to be assigned for AM.  Details : AM Partition = <DEFAULT_PARTITION> ; Partition Resource = <memory:61440, vCores:20> ; Queue's Absolute capacity = 100.0 % ; Queue's Absolute used capacity = 0.0 % ; Queue's Absolute max capacity = 100.0 % ; Queue's capacity (absolute resource) = <memory:61440, vCores:20> ; Queue's used capacity (absolute resource) = <memory:0, vCores:0> ; Queue's max capacity (absolute resource) = <memory:61440, vCores:20> ; \n",
      "\t ApplicationMaster host: N/A\n",
      "\t ApplicationMaster RPC port: -1\n",
      "\t queue: default\n",
      "\t start time: 1680924618089\n",
      "\t final status: UNDEFINED\n",
      "\t tracking URL: http://ip-172-31-37-162.ap-southeast-1.compute.internal:20888/proxy/application_1680916650044_0002/\n",
      "\t user: livy\n",
      "23/04/08 03:30:18 INFO ShutdownHookManager: Shutdown hook called\n",
      "23/04/08 03:30:18 INFO ShutdownHookManager: Deleting directory /mnt/tmp/spark-cdd2700f-9dba-4b81-96fe-ca9ecb914473\n",
      "23/04/08 03:30:18 INFO ShutdownHookManager: Deleting directory /mnt/tmp/spark-21a85c60-3c89-493a-b5c7-31fd293e90ff\n",
      "\n",
      "YARN Diagnostics: \n",
      "Application application_1680916650044_0002 failed 1 times (global limit =2; local limit is =1) due to AM Container for appattempt_1680916650044_0002_000001 exited with  exitCode: 137\n",
      "Failing this attempt.Diagnostics: [2023-04-08 03:59:16.438]Container killed on request. Exit code is 137\n",
      "[2023-04-08 03:59:16.438]Container exited with a non-zero exit code 137. \n",
      "[2023-04-08 03:59:16.439]Killed by external signal\n",
      "For more detailed output, check the application tracking page: http://ip-172-31-37-162.ap-southeast-1.compute.internal:8088/cluster/app/application_1680916650044_0002 Then click on links to logs of each attempt.\n",
      ". Failing the application.\n"
     ]
    }
   ],
   "source": [
    "for f in folder_list[-16:-21:-1]:\n",
    "    folder = input_bucket + path.format(f)\n",
    "    try:\n",
    "        user_join, diff = pre_process(folder,diff)\n",
    "        if diff.count() == 0:\n",
    "            print('--------------------all influ have been found--------------------')\n",
    "            break\n",
    "        diff = diff.join(user_join, on=\"user_id_str\", how=\"left_anti\")\n",
    "        if pokemon_inf:\n",
    "            pokemon_inf = pokemon_inf.union(user_join)\n",
    "        else:\n",
    "            pokemon_inf = user_join.alias(\"pokemon_inf\")\n",
    "        del user_join\n",
    "        gc.collect()\n",
    "    except Py4JJavaError:\n",
    "        print(folder+\" failed\")"
   ]
  },
  {
   "cell_type": "code",
   "execution_count": null,
   "metadata": {},
   "outputs": [
    {
     "data": {
      "application/vnd.jupyter.widget-view+json": {
       "model_id": "1cb9429e7d124fb4b7032653f588b5ac",
       "version_major": 2,
       "version_minor": 0
      },
      "text/plain": [
       "VBox()"
      ]
     },
     "metadata": {},
     "output_type": "display_data"
    },
    {
     "name": "stderr",
     "output_type": "stream",
     "text": [
      "An error was encountered:\n",
      "Session 1 unexpectedly reached final status 'dead'. See logs:\n",
      "stdout: \n",
      "\n",
      "stderr: \n",
      "23/04/08 03:30:11 WARN NativeCodeLoader: Unable to load native-hadoop library for your platform... using builtin-java classes where applicable\n",
      "23/04/08 03:30:12 INFO DefaultNoHARMFailoverProxyProvider: Connecting to ResourceManager at ip-172-31-37-162.ap-southeast-1.compute.internal/172.31.37.162:8032\n",
      "23/04/08 03:30:12 INFO Configuration: resource-types.xml not found\n",
      "23/04/08 03:30:12 INFO ResourceUtils: Unable to find 'resource-types.xml'.\n",
      "23/04/08 03:30:12 INFO Client: Verifying our application has not requested more than the maximum memory capability of the cluster (12288 MB per container)\n",
      "23/04/08 03:30:12 INFO Client: Will allocate AM container, with 2432 MB memory including 384 MB overhead\n",
      "23/04/08 03:30:12 INFO Client: Setting up container launch context for our AM\n",
      "23/04/08 03:30:12 INFO Client: Setting up the launch environment for our AM container\n",
      "23/04/08 03:30:12 INFO Client: Preparing resources for our AM container\n",
      "23/04/08 03:30:12 WARN Client: Neither spark.yarn.jars nor spark.yarn.archive is set, falling back to uploading libraries under SPARK_HOME.\n",
      "23/04/08 03:30:15 INFO Client: Uploading resource file:/mnt/tmp/spark-cdd2700f-9dba-4b81-96fe-ca9ecb914473/__spark_libs__2055157281245084756.zip -> hdfs://ip-172-31-37-162.ap-southeast-1.compute.internal:8020/user/livy/.sparkStaging/application_1680916650044_0002/__spark_libs__2055157281245084756.zip\n",
      "23/04/08 03:30:16 INFO Client: Uploading resource file:/usr/lib/livy/rsc-jars/arpack_combined_all-0.1.jar -> hdfs://ip-172-31-37-162.ap-southeast-1.compute.internal:8020/user/livy/.sparkStaging/application_1680916650044_0002/arpack_combined_all-0.1.jar\n",
      "23/04/08 03:30:16 INFO Client: Uploading resource file:/usr/lib/livy/rsc-jars/core-1.1.2.jar -> hdfs://ip-172-31-37-162.ap-southeast-1.compute.internal:8020/user/livy/.sparkStaging/application_1680916650044_0002/core-1.1.2.jar\n",
      "23/04/08 03:30:16 INFO Client: Uploading resource file:/usr/lib/livy/rsc-jars/jniloader-1.1.jar -> hdfs://ip-172-31-37-162.ap-southeast-1.compute.internal:8020/user/livy/.sparkStaging/application_1680916650044_0002/jniloader-1.1.jar\n",
      "23/04/08 03:30:16 INFO Client: Uploading resource file:/usr/lib/livy/rsc-jars/livy-api-0.7.1-incubating.jar -> hdfs://ip-172-31-37-162.ap-southeast-1.compute.internal:8020/user/livy/.sparkStaging/application_1680916650044_0002/livy-api-0.7.1-incubating.jar\n",
      "23/04/08 03:30:16 INFO Client: Uploading resource file:/usr/lib/livy/rsc-jars/livy-rsc-0.7.1-incubating.jar -> hdfs://ip-172-31-37-162.ap-southeast-1.compute.internal:8020/user/livy/.sparkStaging/application_1680916650044_0002/livy-rsc-0.7.1-incubating.jar\n",
      "23/04/08 03:30:16 INFO Client: Uploading resource file:/usr/lib/livy/rsc-jars/livy-thriftserver-session-0.7.1-incubating.jar -> hdfs://ip-172-31-37-162.ap-southeast-1.compute.internal:8020/user/livy/.sparkStaging/application_1680916650044_0002/livy-thriftserver-session-0.7.1-incubating.jar\n",
      "23/04/08 03:30:16 INFO Client: Uploading resource file:/usr/lib/livy/rsc-jars/native_ref-java-1.1.jar -> hdfs://ip-172-31-37-162.ap-southeast-1.compute.internal:8020/user/livy/.sparkStaging/application_1680916650044_0002/native_ref-java-1.1.jar\n",
      "23/04/08 03:30:16 INFO Client: Uploading resource file:/usr/lib/livy/rsc-jars/native_system-java-1.1.jar -> hdfs://ip-172-31-37-162.ap-southeast-1.compute.internal:8020/user/livy/.sparkStaging/application_1680916650044_0002/native_system-java-1.1.jar\n",
      "23/04/08 03:30:17 INFO Client: Uploading resource file:/usr/lib/livy/rsc-jars/netlib-native_ref-linux-armhf-1.1-natives.jar -> hdfs://ip-172-31-37-162.ap-southeast-1.compute.internal:8020/user/livy/.sparkStaging/application_1680916650044_0002/netlib-native_ref-linux-armhf-1.1-natives.jar\n",
      "23/04/08 03:30:17 INFO Client: Uploading resource file:/usr/lib/livy/rsc-jars/netlib-native_ref-linux-i686-1.1-natives.jar -> hdfs://ip-172-31-37-162.ap-southeast-1.compute.internal:8020/user/livy/.sparkStaging/application_1680916650044_0002/netlib-native_ref-linux-i686-1.1-natives.jar\n",
      "23/04/08 03:30:17 INFO Client: Uploading resource file:/usr/lib/livy/rsc-jars/netlib-native_ref-linux-x86_64-1.1-natives.jar -> hdfs://ip-172-31-37-162.ap-southeast-1.compute.internal:8020/user/livy/.sparkStaging/application_1680916650044_0002/netlib-native_ref-linux-x86_64-1.1-natives.jar\n",
      "23/04/08 03:30:17 INFO Client: Uploading resource file:/usr/lib/livy/rsc-jars/netlib-native_ref-osx-x86_64-1.1-natives.jar -> hdfs://ip-172-31-37-162.ap-southeast-1.compute.internal:8020/user/livy/.sparkStaging/application_1680916650044_0002/netlib-native_ref-osx-x86_64-1.1-natives.jar\n",
      "23/04/08 03:30:17 INFO Client: Uploading resource file:/usr/lib/livy/rsc-jars/netlib-native_ref-win-i686-1.1-natives.jar -> hdfs://ip-172-31-37-162.ap-southeast-1.compute.internal:8020/user/livy/.sparkStaging/application_1680916650044_0002/netlib-native_ref-win-i686-1.1-natives.jar\n",
      "23/04/08 03:30:17 INFO Client: Uploading resource file:/usr/lib/livy/rsc-jars/netlib-native_ref-win-x86_64-1.1-natives.jar -> hdfs://ip-172-31-37-162.ap-southeast-1.compute.internal:8020/user/livy/.sparkStaging/application_1680916650044_0002/netlib-native_ref-win-x86_64-1.1-natives.jar\n",
      "23/04/08 03:30:17 INFO Client: Uploading resource file:/usr/lib/livy/rsc-jars/netlib-native_system-linux-armhf-1.1-natives.jar -> hdfs://ip-172-31-37-162.ap-southeast-1.compute.internal:8020/user/livy/.sparkStaging/application_1680916650044_0002/netlib-native_system-linux-armhf-1.1-natives.jar\n",
      "23/04/08 03:30:17 INFO Client: Uploading resource file:/usr/lib/livy/rsc-jars/netlib-native_system-linux-i686-1.1-natives.jar -> hdfs://ip-172-31-37-162.ap-southeast-1.compute.internal:8020/user/livy/.sparkStaging/application_1680916650044_0002/netlib-native_system-linux-i686-1.1-natives.jar\n",
      "23/04/08 03:30:17 INFO Client: Uploading resource file:/usr/lib/livy/rsc-jars/netlib-native_system-linux-x86_64-1.1-natives.jar -> hdfs://ip-172-31-37-162.ap-southeast-1.compute.internal:8020/user/livy/.sparkStaging/application_1680916650044_0002/netlib-native_system-linux-x86_64-1.1-natives.jar\n",
      "23/04/08 03:30:17 INFO Client: Uploading resource file:/usr/lib/livy/rsc-jars/netlib-native_system-osx-x86_64-1.1-natives.jar -> hdfs://ip-172-31-37-162.ap-southeast-1.compute.internal:8020/user/livy/.sparkStaging/application_1680916650044_0002/netlib-native_system-osx-x86_64-1.1-natives.jar\n",
      "23/04/08 03:30:17 INFO Client: Uploading resource file:/usr/lib/livy/rsc-jars/netlib-native_system-win-i686-1.1-natives.jar -> hdfs://ip-172-31-37-162.ap-southeast-1.compute.internal:8020/user/livy/.sparkStaging/application_1680916650044_0002/netlib-native_system-win-i686-1.1-natives.jar\n",
      "23/04/08 03:30:17 INFO Client: Uploading resource file:/usr/lib/livy/rsc-jars/netlib-native_system-win-x86_64-1.1-natives.jar -> hdfs://ip-172-31-37-162.ap-southeast-1.compute.internal:8020/user/livy/.sparkStaging/application_1680916650044_0002/netlib-native_system-win-x86_64-1.1-natives.jar\n",
      "23/04/08 03:30:17 INFO Client: Uploading resource file:/usr/lib/livy/rsc-jars/netty-all-4.1.17.Final.jar -> hdfs://ip-172-31-37-162.ap-southeast-1.compute.internal:8020/user/livy/.sparkStaging/application_1680916650044_0002/netty-all-4.1.17.Final.jar\n",
      "23/04/08 03:30:17 INFO Client: Uploading resource file:/usr/lib/livy/repl_2.12-jars/commons-codec-1.9.jar -> hdfs://ip-172-31-37-162.ap-southeast-1.compute.internal:8020/user/livy/.sparkStaging/application_1680916650044_0002/commons-codec-1.9.jar\n",
      "23/04/08 03:30:17 INFO Client: Uploading resource file:/usr/lib/livy/repl_2.12-jars/livy-core_2.12-0.7.1-incubating.jar -> hdfs://ip-172-31-37-162.ap-southeast-1.compute.internal:8020/user/livy/.sparkStaging/application_1680916650044_0002/livy-core_2.12-0.7.1-incubating.jar\n",
      "23/04/08 03:30:17 INFO Client: Uploading resource file:/usr/lib/livy/repl_2.12-jars/livy-repl_2.12-0.7.1-incubating.jar -> hdfs://ip-172-31-37-162.ap-southeast-1.compute.internal:8020/user/livy/.sparkStaging/application_1680916650044_0002/livy-repl_2.12-0.7.1-incubating.jar\n",
      "23/04/08 03:30:17 INFO Client: Uploading resource file:/etc/hudi/conf.dist/hudi-defaults.conf -> hdfs://ip-172-31-37-162.ap-southeast-1.compute.internal:8020/user/livy/.sparkStaging/application_1680916650044_0002/hudi-defaults.conf\n",
      "23/04/08 03:30:17 INFO Client: Uploading resource file:/usr/lib/spark/R/lib/sparkr.zip#sparkr -> hdfs://ip-172-31-37-162.ap-southeast-1.compute.internal:8020/user/livy/.sparkStaging/application_1680916650044_0002/sparkr.zip\n",
      "23/04/08 03:30:17 INFO Client: Uploading resource file:/usr/lib/spark/python/lib/pyspark.zip -> hdfs://ip-172-31-37-162.ap-southeast-1.compute.internal:8020/user/livy/.sparkStaging/application_1680916650044_0002/pyspark.zip\n",
      "23/04/08 03:30:17 INFO Client: Uploading resource file:/usr/lib/spark/python/lib/py4j-0.10.9.5-src.zip -> hdfs://ip-172-31-37-162.ap-southeast-1.compute.internal:8020/user/livy/.sparkStaging/application_1680916650044_0002/py4j-0.10.9.5-src.zip\n",
      "23/04/08 03:30:17 INFO Client: Uploading resource file:/mnt/tmp/spark-cdd2700f-9dba-4b81-96fe-ca9ecb914473/__spark_conf__8763799049417668656.zip -> hdfs://ip-172-31-37-162.ap-southeast-1.compute.internal:8020/user/livy/.sparkStaging/application_1680916650044_0002/__spark_conf__.zip\n",
      "23/04/08 03:30:17 INFO SecurityManager: Changing view acls to: livy\n",
      "23/04/08 03:30:17 INFO SecurityManager: Changing modify acls to: livy\n",
      "23/04/08 03:30:17 INFO SecurityManager: Changing view acls groups to: \n",
      "23/04/08 03:30:17 INFO SecurityManager: Changing modify acls groups to: \n",
      "23/04/08 03:30:17 INFO SecurityManager: SecurityManager: authentication disabled; ui acls disabled; users  with view permissions: Set(livy); groups with view permissions: Set(); users  with modify permissions: Set(livy); groups with modify permissions: Set()\n",
      "23/04/08 03:30:18 INFO Client: Submitting application application_1680916650044_0002 to ResourceManager\n",
      "23/04/08 03:30:18 INFO YarnClientImpl: Submitted application application_1680916650044_0002\n",
      "23/04/08 03:30:18 INFO Client: Application report for application_1680916650044_0002 (state: ACCEPTED)\n",
      "23/04/08 03:30:18 INFO Client: \n",
      "\t client token: N/A\n",
      "\t diagnostics: [Sat Apr 08 03:30:18 +0000 2023] Application is Activated, waiting for resources to be assigned for AM.  Details : AM Partition = <DEFAULT_PARTITION> ; Partition Resource = <memory:61440, vCores:20> ; Queue's Absolute capacity = 100.0 % ; Queue's Absolute used capacity = 0.0 % ; Queue's Absolute max capacity = 100.0 % ; Queue's capacity (absolute resource) = <memory:61440, vCores:20> ; Queue's used capacity (absolute resource) = <memory:0, vCores:0> ; Queue's max capacity (absolute resource) = <memory:61440, vCores:20> ; \n",
      "\t ApplicationMaster host: N/A\n",
      "\t ApplicationMaster RPC port: -1\n",
      "\t queue: default\n",
      "\t start time: 1680924618089\n",
      "\t final status: UNDEFINED\n",
      "\t tracking URL: http://ip-172-31-37-162.ap-southeast-1.compute.internal:20888/proxy/application_1680916650044_0002/\n",
      "\t user: livy\n",
      "23/04/08 03:30:18 INFO ShutdownHookManager: Shutdown hook called\n",
      "23/04/08 03:30:18 INFO ShutdownHookManager: Deleting directory /mnt/tmp/spark-cdd2700f-9dba-4b81-96fe-ca9ecb914473\n",
      "23/04/08 03:30:18 INFO ShutdownHookManager: Deleting directory /mnt/tmp/spark-21a85c60-3c89-493a-b5c7-31fd293e90ff\n",
      "\n",
      "YARN Diagnostics: \n",
      "Application application_1680916650044_0002 failed 1 times (global limit =2; local limit is =1) due to AM Container for appattempt_1680916650044_0002_000001 exited with  exitCode: 137\n",
      "Failing this attempt.Diagnostics: [2023-04-08 03:59:16.438]Container killed on request. Exit code is 137\n",
      "[2023-04-08 03:59:16.438]Container exited with a non-zero exit code 137. \n",
      "[2023-04-08 03:59:16.439]Killed by external signal\n",
      "For more detailed output, check the application tracking page: http://ip-172-31-37-162.ap-southeast-1.compute.internal:8088/cluster/app/application_1680916650044_0002 Then click on links to logs of each attempt.\n",
      ". Failing the application.\n"
     ]
    }
   ],
   "source": [
    "pokemon_inf.show()"
   ]
  },
  {
   "cell_type": "code",
   "execution_count": null,
   "metadata": {},
   "outputs": [
    {
     "data": {
      "application/vnd.jupyter.widget-view+json": {
       "model_id": "99b6ddcca39746b4bd043fd4080f1575",
       "version_major": 2,
       "version_minor": 0
      },
      "text/plain": [
       "VBox()"
      ]
     },
     "metadata": {},
     "output_type": "display_data"
    },
    {
     "name": "stderr",
     "output_type": "stream",
     "text": [
      "An error was encountered:\n",
      "Session 1 unexpectedly reached final status 'dead'. See logs:\n",
      "stdout: \n",
      "\n",
      "stderr: \n",
      "23/04/08 03:30:11 WARN NativeCodeLoader: Unable to load native-hadoop library for your platform... using builtin-java classes where applicable\n",
      "23/04/08 03:30:12 INFO DefaultNoHARMFailoverProxyProvider: Connecting to ResourceManager at ip-172-31-37-162.ap-southeast-1.compute.internal/172.31.37.162:8032\n",
      "23/04/08 03:30:12 INFO Configuration: resource-types.xml not found\n",
      "23/04/08 03:30:12 INFO ResourceUtils: Unable to find 'resource-types.xml'.\n",
      "23/04/08 03:30:12 INFO Client: Verifying our application has not requested more than the maximum memory capability of the cluster (12288 MB per container)\n",
      "23/04/08 03:30:12 INFO Client: Will allocate AM container, with 2432 MB memory including 384 MB overhead\n",
      "23/04/08 03:30:12 INFO Client: Setting up container launch context for our AM\n",
      "23/04/08 03:30:12 INFO Client: Setting up the launch environment for our AM container\n",
      "23/04/08 03:30:12 INFO Client: Preparing resources for our AM container\n",
      "23/04/08 03:30:12 WARN Client: Neither spark.yarn.jars nor spark.yarn.archive is set, falling back to uploading libraries under SPARK_HOME.\n",
      "23/04/08 03:30:15 INFO Client: Uploading resource file:/mnt/tmp/spark-cdd2700f-9dba-4b81-96fe-ca9ecb914473/__spark_libs__2055157281245084756.zip -> hdfs://ip-172-31-37-162.ap-southeast-1.compute.internal:8020/user/livy/.sparkStaging/application_1680916650044_0002/__spark_libs__2055157281245084756.zip\n",
      "23/04/08 03:30:16 INFO Client: Uploading resource file:/usr/lib/livy/rsc-jars/arpack_combined_all-0.1.jar -> hdfs://ip-172-31-37-162.ap-southeast-1.compute.internal:8020/user/livy/.sparkStaging/application_1680916650044_0002/arpack_combined_all-0.1.jar\n",
      "23/04/08 03:30:16 INFO Client: Uploading resource file:/usr/lib/livy/rsc-jars/core-1.1.2.jar -> hdfs://ip-172-31-37-162.ap-southeast-1.compute.internal:8020/user/livy/.sparkStaging/application_1680916650044_0002/core-1.1.2.jar\n",
      "23/04/08 03:30:16 INFO Client: Uploading resource file:/usr/lib/livy/rsc-jars/jniloader-1.1.jar -> hdfs://ip-172-31-37-162.ap-southeast-1.compute.internal:8020/user/livy/.sparkStaging/application_1680916650044_0002/jniloader-1.1.jar\n",
      "23/04/08 03:30:16 INFO Client: Uploading resource file:/usr/lib/livy/rsc-jars/livy-api-0.7.1-incubating.jar -> hdfs://ip-172-31-37-162.ap-southeast-1.compute.internal:8020/user/livy/.sparkStaging/application_1680916650044_0002/livy-api-0.7.1-incubating.jar\n",
      "23/04/08 03:30:16 INFO Client: Uploading resource file:/usr/lib/livy/rsc-jars/livy-rsc-0.7.1-incubating.jar -> hdfs://ip-172-31-37-162.ap-southeast-1.compute.internal:8020/user/livy/.sparkStaging/application_1680916650044_0002/livy-rsc-0.7.1-incubating.jar\n",
      "23/04/08 03:30:16 INFO Client: Uploading resource file:/usr/lib/livy/rsc-jars/livy-thriftserver-session-0.7.1-incubating.jar -> hdfs://ip-172-31-37-162.ap-southeast-1.compute.internal:8020/user/livy/.sparkStaging/application_1680916650044_0002/livy-thriftserver-session-0.7.1-incubating.jar\n",
      "23/04/08 03:30:16 INFO Client: Uploading resource file:/usr/lib/livy/rsc-jars/native_ref-java-1.1.jar -> hdfs://ip-172-31-37-162.ap-southeast-1.compute.internal:8020/user/livy/.sparkStaging/application_1680916650044_0002/native_ref-java-1.1.jar\n",
      "23/04/08 03:30:16 INFO Client: Uploading resource file:/usr/lib/livy/rsc-jars/native_system-java-1.1.jar -> hdfs://ip-172-31-37-162.ap-southeast-1.compute.internal:8020/user/livy/.sparkStaging/application_1680916650044_0002/native_system-java-1.1.jar\n",
      "23/04/08 03:30:17 INFO Client: Uploading resource file:/usr/lib/livy/rsc-jars/netlib-native_ref-linux-armhf-1.1-natives.jar -> hdfs://ip-172-31-37-162.ap-southeast-1.compute.internal:8020/user/livy/.sparkStaging/application_1680916650044_0002/netlib-native_ref-linux-armhf-1.1-natives.jar\n",
      "23/04/08 03:30:17 INFO Client: Uploading resource file:/usr/lib/livy/rsc-jars/netlib-native_ref-linux-i686-1.1-natives.jar -> hdfs://ip-172-31-37-162.ap-southeast-1.compute.internal:8020/user/livy/.sparkStaging/application_1680916650044_0002/netlib-native_ref-linux-i686-1.1-natives.jar\n",
      "23/04/08 03:30:17 INFO Client: Uploading resource file:/usr/lib/livy/rsc-jars/netlib-native_ref-linux-x86_64-1.1-natives.jar -> hdfs://ip-172-31-37-162.ap-southeast-1.compute.internal:8020/user/livy/.sparkStaging/application_1680916650044_0002/netlib-native_ref-linux-x86_64-1.1-natives.jar\n",
      "23/04/08 03:30:17 INFO Client: Uploading resource file:/usr/lib/livy/rsc-jars/netlib-native_ref-osx-x86_64-1.1-natives.jar -> hdfs://ip-172-31-37-162.ap-southeast-1.compute.internal:8020/user/livy/.sparkStaging/application_1680916650044_0002/netlib-native_ref-osx-x86_64-1.1-natives.jar\n",
      "23/04/08 03:30:17 INFO Client: Uploading resource file:/usr/lib/livy/rsc-jars/netlib-native_ref-win-i686-1.1-natives.jar -> hdfs://ip-172-31-37-162.ap-southeast-1.compute.internal:8020/user/livy/.sparkStaging/application_1680916650044_0002/netlib-native_ref-win-i686-1.1-natives.jar\n",
      "23/04/08 03:30:17 INFO Client: Uploading resource file:/usr/lib/livy/rsc-jars/netlib-native_ref-win-x86_64-1.1-natives.jar -> hdfs://ip-172-31-37-162.ap-southeast-1.compute.internal:8020/user/livy/.sparkStaging/application_1680916650044_0002/netlib-native_ref-win-x86_64-1.1-natives.jar\n",
      "23/04/08 03:30:17 INFO Client: Uploading resource file:/usr/lib/livy/rsc-jars/netlib-native_system-linux-armhf-1.1-natives.jar -> hdfs://ip-172-31-37-162.ap-southeast-1.compute.internal:8020/user/livy/.sparkStaging/application_1680916650044_0002/netlib-native_system-linux-armhf-1.1-natives.jar\n",
      "23/04/08 03:30:17 INFO Client: Uploading resource file:/usr/lib/livy/rsc-jars/netlib-native_system-linux-i686-1.1-natives.jar -> hdfs://ip-172-31-37-162.ap-southeast-1.compute.internal:8020/user/livy/.sparkStaging/application_1680916650044_0002/netlib-native_system-linux-i686-1.1-natives.jar\n",
      "23/04/08 03:30:17 INFO Client: Uploading resource file:/usr/lib/livy/rsc-jars/netlib-native_system-linux-x86_64-1.1-natives.jar -> hdfs://ip-172-31-37-162.ap-southeast-1.compute.internal:8020/user/livy/.sparkStaging/application_1680916650044_0002/netlib-native_system-linux-x86_64-1.1-natives.jar\n",
      "23/04/08 03:30:17 INFO Client: Uploading resource file:/usr/lib/livy/rsc-jars/netlib-native_system-osx-x86_64-1.1-natives.jar -> hdfs://ip-172-31-37-162.ap-southeast-1.compute.internal:8020/user/livy/.sparkStaging/application_1680916650044_0002/netlib-native_system-osx-x86_64-1.1-natives.jar\n",
      "23/04/08 03:30:17 INFO Client: Uploading resource file:/usr/lib/livy/rsc-jars/netlib-native_system-win-i686-1.1-natives.jar -> hdfs://ip-172-31-37-162.ap-southeast-1.compute.internal:8020/user/livy/.sparkStaging/application_1680916650044_0002/netlib-native_system-win-i686-1.1-natives.jar\n",
      "23/04/08 03:30:17 INFO Client: Uploading resource file:/usr/lib/livy/rsc-jars/netlib-native_system-win-x86_64-1.1-natives.jar -> hdfs://ip-172-31-37-162.ap-southeast-1.compute.internal:8020/user/livy/.sparkStaging/application_1680916650044_0002/netlib-native_system-win-x86_64-1.1-natives.jar\n",
      "23/04/08 03:30:17 INFO Client: Uploading resource file:/usr/lib/livy/rsc-jars/netty-all-4.1.17.Final.jar -> hdfs://ip-172-31-37-162.ap-southeast-1.compute.internal:8020/user/livy/.sparkStaging/application_1680916650044_0002/netty-all-4.1.17.Final.jar\n",
      "23/04/08 03:30:17 INFO Client: Uploading resource file:/usr/lib/livy/repl_2.12-jars/commons-codec-1.9.jar -> hdfs://ip-172-31-37-162.ap-southeast-1.compute.internal:8020/user/livy/.sparkStaging/application_1680916650044_0002/commons-codec-1.9.jar\n",
      "23/04/08 03:30:17 INFO Client: Uploading resource file:/usr/lib/livy/repl_2.12-jars/livy-core_2.12-0.7.1-incubating.jar -> hdfs://ip-172-31-37-162.ap-southeast-1.compute.internal:8020/user/livy/.sparkStaging/application_1680916650044_0002/livy-core_2.12-0.7.1-incubating.jar\n",
      "23/04/08 03:30:17 INFO Client: Uploading resource file:/usr/lib/livy/repl_2.12-jars/livy-repl_2.12-0.7.1-incubating.jar -> hdfs://ip-172-31-37-162.ap-southeast-1.compute.internal:8020/user/livy/.sparkStaging/application_1680916650044_0002/livy-repl_2.12-0.7.1-incubating.jar\n",
      "23/04/08 03:30:17 INFO Client: Uploading resource file:/etc/hudi/conf.dist/hudi-defaults.conf -> hdfs://ip-172-31-37-162.ap-southeast-1.compute.internal:8020/user/livy/.sparkStaging/application_1680916650044_0002/hudi-defaults.conf\n",
      "23/04/08 03:30:17 INFO Client: Uploading resource file:/usr/lib/spark/R/lib/sparkr.zip#sparkr -> hdfs://ip-172-31-37-162.ap-southeast-1.compute.internal:8020/user/livy/.sparkStaging/application_1680916650044_0002/sparkr.zip\n",
      "23/04/08 03:30:17 INFO Client: Uploading resource file:/usr/lib/spark/python/lib/pyspark.zip -> hdfs://ip-172-31-37-162.ap-southeast-1.compute.internal:8020/user/livy/.sparkStaging/application_1680916650044_0002/pyspark.zip\n",
      "23/04/08 03:30:17 INFO Client: Uploading resource file:/usr/lib/spark/python/lib/py4j-0.10.9.5-src.zip -> hdfs://ip-172-31-37-162.ap-southeast-1.compute.internal:8020/user/livy/.sparkStaging/application_1680916650044_0002/py4j-0.10.9.5-src.zip\n",
      "23/04/08 03:30:17 INFO Client: Uploading resource file:/mnt/tmp/spark-cdd2700f-9dba-4b81-96fe-ca9ecb914473/__spark_conf__8763799049417668656.zip -> hdfs://ip-172-31-37-162.ap-southeast-1.compute.internal:8020/user/livy/.sparkStaging/application_1680916650044_0002/__spark_conf__.zip\n",
      "23/04/08 03:30:17 INFO SecurityManager: Changing view acls to: livy\n",
      "23/04/08 03:30:17 INFO SecurityManager: Changing modify acls to: livy\n",
      "23/04/08 03:30:17 INFO SecurityManager: Changing view acls groups to: \n",
      "23/04/08 03:30:17 INFO SecurityManager: Changing modify acls groups to: \n",
      "23/04/08 03:30:17 INFO SecurityManager: SecurityManager: authentication disabled; ui acls disabled; users  with view permissions: Set(livy); groups with view permissions: Set(); users  with modify permissions: Set(livy); groups with modify permissions: Set()\n",
      "23/04/08 03:30:18 INFO Client: Submitting application application_1680916650044_0002 to ResourceManager\n",
      "23/04/08 03:30:18 INFO YarnClientImpl: Submitted application application_1680916650044_0002\n",
      "23/04/08 03:30:18 INFO Client: Application report for application_1680916650044_0002 (state: ACCEPTED)\n",
      "23/04/08 03:30:18 INFO Client: \n",
      "\t client token: N/A\n",
      "\t diagnostics: [Sat Apr 08 03:30:18 +0000 2023] Application is Activated, waiting for resources to be assigned for AM.  Details : AM Partition = <DEFAULT_PARTITION> ; Partition Resource = <memory:61440, vCores:20> ; Queue's Absolute capacity = 100.0 % ; Queue's Absolute used capacity = 0.0 % ; Queue's Absolute max capacity = 100.0 % ; Queue's capacity (absolute resource) = <memory:61440, vCores:20> ; Queue's used capacity (absolute resource) = <memory:0, vCores:0> ; Queue's max capacity (absolute resource) = <memory:61440, vCores:20> ; \n",
      "\t ApplicationMaster host: N/A\n",
      "\t ApplicationMaster RPC port: -1\n",
      "\t queue: default\n",
      "\t start time: 1680924618089\n",
      "\t final status: UNDEFINED\n",
      "\t tracking URL: http://ip-172-31-37-162.ap-southeast-1.compute.internal:20888/proxy/application_1680916650044_0002/\n",
      "\t user: livy\n",
      "23/04/08 03:30:18 INFO ShutdownHookManager: Shutdown hook called\n",
      "23/04/08 03:30:18 INFO ShutdownHookManager: Deleting directory /mnt/tmp/spark-cdd2700f-9dba-4b81-96fe-ca9ecb914473\n",
      "23/04/08 03:30:18 INFO ShutdownHookManager: Deleting directory /mnt/tmp/spark-21a85c60-3c89-493a-b5c7-31fd293e90ff\n",
      "\n",
      "YARN Diagnostics: \n",
      "Application application_1680916650044_0002 failed 1 times (global limit =2; local limit is =1) due to AM Container for appattempt_1680916650044_0002_000001 exited with  exitCode: 137\n",
      "Failing this attempt.Diagnostics: [2023-04-08 03:59:16.438]Container killed on request. Exit code is 137\n",
      "[2023-04-08 03:59:16.438]Container exited with a non-zero exit code 137. \n",
      "[2023-04-08 03:59:16.439]Killed by external signal\n",
      "For more detailed output, check the application tracking page: http://ip-172-31-37-162.ap-southeast-1.compute.internal:8088/cluster/app/application_1680916650044_0002 Then click on links to logs of each attempt.\n",
      ". Failing the application.\n"
     ]
    }
   ],
   "source": [
    "for f in folder_list[-21:-26:-1]:\n",
    "    folder = input_bucket + path.format(f)\n",
    "    try:\n",
    "        user_join, diff = pre_process(folder,diff)\n",
    "        if diff.count() == 0:\n",
    "            print('--------------------all influ have been found--------------------')\n",
    "            break\n",
    "        diff = diff.join(user_join, on=\"user_id_str\", how=\"left_anti\")\n",
    "        if pokemon_inf:\n",
    "            pokemon_inf = pokemon_inf.union(user_join)\n",
    "        else:\n",
    "            pokemon_inf = user_join.alias(\"pokemon_inf\")\n",
    "        del user_join\n",
    "        gc.collect()\n",
    "    except Py4JJavaError:\n",
    "        print(folder+\" failed\")"
   ]
  },
  {
   "cell_type": "code",
   "execution_count": null,
   "metadata": {},
   "outputs": [
    {
     "data": {
      "application/vnd.jupyter.widget-view+json": {
       "model_id": "2ab0371d514844209c83774446d6288b",
       "version_major": 2,
       "version_minor": 0
      },
      "text/plain": [
       "VBox()"
      ]
     },
     "metadata": {},
     "output_type": "display_data"
    },
    {
     "name": "stderr",
     "output_type": "stream",
     "text": [
      "An error was encountered:\n",
      "Session 1 unexpectedly reached final status 'dead'. See logs:\n",
      "stdout: \n",
      "\n",
      "stderr: \n",
      "23/04/08 03:30:11 WARN NativeCodeLoader: Unable to load native-hadoop library for your platform... using builtin-java classes where applicable\n",
      "23/04/08 03:30:12 INFO DefaultNoHARMFailoverProxyProvider: Connecting to ResourceManager at ip-172-31-37-162.ap-southeast-1.compute.internal/172.31.37.162:8032\n",
      "23/04/08 03:30:12 INFO Configuration: resource-types.xml not found\n",
      "23/04/08 03:30:12 INFO ResourceUtils: Unable to find 'resource-types.xml'.\n",
      "23/04/08 03:30:12 INFO Client: Verifying our application has not requested more than the maximum memory capability of the cluster (12288 MB per container)\n",
      "23/04/08 03:30:12 INFO Client: Will allocate AM container, with 2432 MB memory including 384 MB overhead\n",
      "23/04/08 03:30:12 INFO Client: Setting up container launch context for our AM\n",
      "23/04/08 03:30:12 INFO Client: Setting up the launch environment for our AM container\n",
      "23/04/08 03:30:12 INFO Client: Preparing resources for our AM container\n",
      "23/04/08 03:30:12 WARN Client: Neither spark.yarn.jars nor spark.yarn.archive is set, falling back to uploading libraries under SPARK_HOME.\n",
      "23/04/08 03:30:15 INFO Client: Uploading resource file:/mnt/tmp/spark-cdd2700f-9dba-4b81-96fe-ca9ecb914473/__spark_libs__2055157281245084756.zip -> hdfs://ip-172-31-37-162.ap-southeast-1.compute.internal:8020/user/livy/.sparkStaging/application_1680916650044_0002/__spark_libs__2055157281245084756.zip\n",
      "23/04/08 03:30:16 INFO Client: Uploading resource file:/usr/lib/livy/rsc-jars/arpack_combined_all-0.1.jar -> hdfs://ip-172-31-37-162.ap-southeast-1.compute.internal:8020/user/livy/.sparkStaging/application_1680916650044_0002/arpack_combined_all-0.1.jar\n",
      "23/04/08 03:30:16 INFO Client: Uploading resource file:/usr/lib/livy/rsc-jars/core-1.1.2.jar -> hdfs://ip-172-31-37-162.ap-southeast-1.compute.internal:8020/user/livy/.sparkStaging/application_1680916650044_0002/core-1.1.2.jar\n",
      "23/04/08 03:30:16 INFO Client: Uploading resource file:/usr/lib/livy/rsc-jars/jniloader-1.1.jar -> hdfs://ip-172-31-37-162.ap-southeast-1.compute.internal:8020/user/livy/.sparkStaging/application_1680916650044_0002/jniloader-1.1.jar\n",
      "23/04/08 03:30:16 INFO Client: Uploading resource file:/usr/lib/livy/rsc-jars/livy-api-0.7.1-incubating.jar -> hdfs://ip-172-31-37-162.ap-southeast-1.compute.internal:8020/user/livy/.sparkStaging/application_1680916650044_0002/livy-api-0.7.1-incubating.jar\n",
      "23/04/08 03:30:16 INFO Client: Uploading resource file:/usr/lib/livy/rsc-jars/livy-rsc-0.7.1-incubating.jar -> hdfs://ip-172-31-37-162.ap-southeast-1.compute.internal:8020/user/livy/.sparkStaging/application_1680916650044_0002/livy-rsc-0.7.1-incubating.jar\n",
      "23/04/08 03:30:16 INFO Client: Uploading resource file:/usr/lib/livy/rsc-jars/livy-thriftserver-session-0.7.1-incubating.jar -> hdfs://ip-172-31-37-162.ap-southeast-1.compute.internal:8020/user/livy/.sparkStaging/application_1680916650044_0002/livy-thriftserver-session-0.7.1-incubating.jar\n",
      "23/04/08 03:30:16 INFO Client: Uploading resource file:/usr/lib/livy/rsc-jars/native_ref-java-1.1.jar -> hdfs://ip-172-31-37-162.ap-southeast-1.compute.internal:8020/user/livy/.sparkStaging/application_1680916650044_0002/native_ref-java-1.1.jar\n",
      "23/04/08 03:30:16 INFO Client: Uploading resource file:/usr/lib/livy/rsc-jars/native_system-java-1.1.jar -> hdfs://ip-172-31-37-162.ap-southeast-1.compute.internal:8020/user/livy/.sparkStaging/application_1680916650044_0002/native_system-java-1.1.jar\n",
      "23/04/08 03:30:17 INFO Client: Uploading resource file:/usr/lib/livy/rsc-jars/netlib-native_ref-linux-armhf-1.1-natives.jar -> hdfs://ip-172-31-37-162.ap-southeast-1.compute.internal:8020/user/livy/.sparkStaging/application_1680916650044_0002/netlib-native_ref-linux-armhf-1.1-natives.jar\n",
      "23/04/08 03:30:17 INFO Client: Uploading resource file:/usr/lib/livy/rsc-jars/netlib-native_ref-linux-i686-1.1-natives.jar -> hdfs://ip-172-31-37-162.ap-southeast-1.compute.internal:8020/user/livy/.sparkStaging/application_1680916650044_0002/netlib-native_ref-linux-i686-1.1-natives.jar\n",
      "23/04/08 03:30:17 INFO Client: Uploading resource file:/usr/lib/livy/rsc-jars/netlib-native_ref-linux-x86_64-1.1-natives.jar -> hdfs://ip-172-31-37-162.ap-southeast-1.compute.internal:8020/user/livy/.sparkStaging/application_1680916650044_0002/netlib-native_ref-linux-x86_64-1.1-natives.jar\n",
      "23/04/08 03:30:17 INFO Client: Uploading resource file:/usr/lib/livy/rsc-jars/netlib-native_ref-osx-x86_64-1.1-natives.jar -> hdfs://ip-172-31-37-162.ap-southeast-1.compute.internal:8020/user/livy/.sparkStaging/application_1680916650044_0002/netlib-native_ref-osx-x86_64-1.1-natives.jar\n",
      "23/04/08 03:30:17 INFO Client: Uploading resource file:/usr/lib/livy/rsc-jars/netlib-native_ref-win-i686-1.1-natives.jar -> hdfs://ip-172-31-37-162.ap-southeast-1.compute.internal:8020/user/livy/.sparkStaging/application_1680916650044_0002/netlib-native_ref-win-i686-1.1-natives.jar\n",
      "23/04/08 03:30:17 INFO Client: Uploading resource file:/usr/lib/livy/rsc-jars/netlib-native_ref-win-x86_64-1.1-natives.jar -> hdfs://ip-172-31-37-162.ap-southeast-1.compute.internal:8020/user/livy/.sparkStaging/application_1680916650044_0002/netlib-native_ref-win-x86_64-1.1-natives.jar\n",
      "23/04/08 03:30:17 INFO Client: Uploading resource file:/usr/lib/livy/rsc-jars/netlib-native_system-linux-armhf-1.1-natives.jar -> hdfs://ip-172-31-37-162.ap-southeast-1.compute.internal:8020/user/livy/.sparkStaging/application_1680916650044_0002/netlib-native_system-linux-armhf-1.1-natives.jar\n",
      "23/04/08 03:30:17 INFO Client: Uploading resource file:/usr/lib/livy/rsc-jars/netlib-native_system-linux-i686-1.1-natives.jar -> hdfs://ip-172-31-37-162.ap-southeast-1.compute.internal:8020/user/livy/.sparkStaging/application_1680916650044_0002/netlib-native_system-linux-i686-1.1-natives.jar\n",
      "23/04/08 03:30:17 INFO Client: Uploading resource file:/usr/lib/livy/rsc-jars/netlib-native_system-linux-x86_64-1.1-natives.jar -> hdfs://ip-172-31-37-162.ap-southeast-1.compute.internal:8020/user/livy/.sparkStaging/application_1680916650044_0002/netlib-native_system-linux-x86_64-1.1-natives.jar\n",
      "23/04/08 03:30:17 INFO Client: Uploading resource file:/usr/lib/livy/rsc-jars/netlib-native_system-osx-x86_64-1.1-natives.jar -> hdfs://ip-172-31-37-162.ap-southeast-1.compute.internal:8020/user/livy/.sparkStaging/application_1680916650044_0002/netlib-native_system-osx-x86_64-1.1-natives.jar\n",
      "23/04/08 03:30:17 INFO Client: Uploading resource file:/usr/lib/livy/rsc-jars/netlib-native_system-win-i686-1.1-natives.jar -> hdfs://ip-172-31-37-162.ap-southeast-1.compute.internal:8020/user/livy/.sparkStaging/application_1680916650044_0002/netlib-native_system-win-i686-1.1-natives.jar\n",
      "23/04/08 03:30:17 INFO Client: Uploading resource file:/usr/lib/livy/rsc-jars/netlib-native_system-win-x86_64-1.1-natives.jar -> hdfs://ip-172-31-37-162.ap-southeast-1.compute.internal:8020/user/livy/.sparkStaging/application_1680916650044_0002/netlib-native_system-win-x86_64-1.1-natives.jar\n",
      "23/04/08 03:30:17 INFO Client: Uploading resource file:/usr/lib/livy/rsc-jars/netty-all-4.1.17.Final.jar -> hdfs://ip-172-31-37-162.ap-southeast-1.compute.internal:8020/user/livy/.sparkStaging/application_1680916650044_0002/netty-all-4.1.17.Final.jar\n",
      "23/04/08 03:30:17 INFO Client: Uploading resource file:/usr/lib/livy/repl_2.12-jars/commons-codec-1.9.jar -> hdfs://ip-172-31-37-162.ap-southeast-1.compute.internal:8020/user/livy/.sparkStaging/application_1680916650044_0002/commons-codec-1.9.jar\n",
      "23/04/08 03:30:17 INFO Client: Uploading resource file:/usr/lib/livy/repl_2.12-jars/livy-core_2.12-0.7.1-incubating.jar -> hdfs://ip-172-31-37-162.ap-southeast-1.compute.internal:8020/user/livy/.sparkStaging/application_1680916650044_0002/livy-core_2.12-0.7.1-incubating.jar\n",
      "23/04/08 03:30:17 INFO Client: Uploading resource file:/usr/lib/livy/repl_2.12-jars/livy-repl_2.12-0.7.1-incubating.jar -> hdfs://ip-172-31-37-162.ap-southeast-1.compute.internal:8020/user/livy/.sparkStaging/application_1680916650044_0002/livy-repl_2.12-0.7.1-incubating.jar\n",
      "23/04/08 03:30:17 INFO Client: Uploading resource file:/etc/hudi/conf.dist/hudi-defaults.conf -> hdfs://ip-172-31-37-162.ap-southeast-1.compute.internal:8020/user/livy/.sparkStaging/application_1680916650044_0002/hudi-defaults.conf\n",
      "23/04/08 03:30:17 INFO Client: Uploading resource file:/usr/lib/spark/R/lib/sparkr.zip#sparkr -> hdfs://ip-172-31-37-162.ap-southeast-1.compute.internal:8020/user/livy/.sparkStaging/application_1680916650044_0002/sparkr.zip\n",
      "23/04/08 03:30:17 INFO Client: Uploading resource file:/usr/lib/spark/python/lib/pyspark.zip -> hdfs://ip-172-31-37-162.ap-southeast-1.compute.internal:8020/user/livy/.sparkStaging/application_1680916650044_0002/pyspark.zip\n",
      "23/04/08 03:30:17 INFO Client: Uploading resource file:/usr/lib/spark/python/lib/py4j-0.10.9.5-src.zip -> hdfs://ip-172-31-37-162.ap-southeast-1.compute.internal:8020/user/livy/.sparkStaging/application_1680916650044_0002/py4j-0.10.9.5-src.zip\n",
      "23/04/08 03:30:17 INFO Client: Uploading resource file:/mnt/tmp/spark-cdd2700f-9dba-4b81-96fe-ca9ecb914473/__spark_conf__8763799049417668656.zip -> hdfs://ip-172-31-37-162.ap-southeast-1.compute.internal:8020/user/livy/.sparkStaging/application_1680916650044_0002/__spark_conf__.zip\n",
      "23/04/08 03:30:17 INFO SecurityManager: Changing view acls to: livy\n",
      "23/04/08 03:30:17 INFO SecurityManager: Changing modify acls to: livy\n",
      "23/04/08 03:30:17 INFO SecurityManager: Changing view acls groups to: \n",
      "23/04/08 03:30:17 INFO SecurityManager: Changing modify acls groups to: \n",
      "23/04/08 03:30:17 INFO SecurityManager: SecurityManager: authentication disabled; ui acls disabled; users  with view permissions: Set(livy); groups with view permissions: Set(); users  with modify permissions: Set(livy); groups with modify permissions: Set()\n",
      "23/04/08 03:30:18 INFO Client: Submitting application application_1680916650044_0002 to ResourceManager\n",
      "23/04/08 03:30:18 INFO YarnClientImpl: Submitted application application_1680916650044_0002\n",
      "23/04/08 03:30:18 INFO Client: Application report for application_1680916650044_0002 (state: ACCEPTED)\n",
      "23/04/08 03:30:18 INFO Client: \n",
      "\t client token: N/A\n",
      "\t diagnostics: [Sat Apr 08 03:30:18 +0000 2023] Application is Activated, waiting for resources to be assigned for AM.  Details : AM Partition = <DEFAULT_PARTITION> ; Partition Resource = <memory:61440, vCores:20> ; Queue's Absolute capacity = 100.0 % ; Queue's Absolute used capacity = 0.0 % ; Queue's Absolute max capacity = 100.0 % ; Queue's capacity (absolute resource) = <memory:61440, vCores:20> ; Queue's used capacity (absolute resource) = <memory:0, vCores:0> ; Queue's max capacity (absolute resource) = <memory:61440, vCores:20> ; \n",
      "\t ApplicationMaster host: N/A\n",
      "\t ApplicationMaster RPC port: -1\n",
      "\t queue: default\n",
      "\t start time: 1680924618089\n",
      "\t final status: UNDEFINED\n",
      "\t tracking URL: http://ip-172-31-37-162.ap-southeast-1.compute.internal:20888/proxy/application_1680916650044_0002/\n",
      "\t user: livy\n",
      "23/04/08 03:30:18 INFO ShutdownHookManager: Shutdown hook called\n",
      "23/04/08 03:30:18 INFO ShutdownHookManager: Deleting directory /mnt/tmp/spark-cdd2700f-9dba-4b81-96fe-ca9ecb914473\n",
      "23/04/08 03:30:18 INFO ShutdownHookManager: Deleting directory /mnt/tmp/spark-21a85c60-3c89-493a-b5c7-31fd293e90ff\n",
      "\n",
      "YARN Diagnostics: \n",
      "Application application_1680916650044_0002 failed 1 times (global limit =2; local limit is =1) due to AM Container for appattempt_1680916650044_0002_000001 exited with  exitCode: 137\n",
      "Failing this attempt.Diagnostics: [2023-04-08 03:59:16.438]Container killed on request. Exit code is 137\n",
      "[2023-04-08 03:59:16.438]Container exited with a non-zero exit code 137. \n",
      "[2023-04-08 03:59:16.439]Killed by external signal\n",
      "For more detailed output, check the application tracking page: http://ip-172-31-37-162.ap-southeast-1.compute.internal:8088/cluster/app/application_1680916650044_0002 Then click on links to logs of each attempt.\n",
      ". Failing the application.\n"
     ]
    }
   ],
   "source": [
    "pokemon_inf.show()"
   ]
  },
  {
   "cell_type": "code",
   "execution_count": null,
   "metadata": {},
   "outputs": [
    {
     "data": {
      "application/vnd.jupyter.widget-view+json": {
       "model_id": "43b6f59cc2e44715b7eec1d518f85dd3",
       "version_major": 2,
       "version_minor": 0
      },
      "text/plain": [
       "VBox()"
      ]
     },
     "metadata": {},
     "output_type": "display_data"
    },
    {
     "name": "stderr",
     "output_type": "stream",
     "text": [
      "An error was encountered:\n",
      "Session 1 unexpectedly reached final status 'dead'. See logs:\n",
      "stdout: \n",
      "\n",
      "stderr: \n",
      "23/04/08 03:30:11 WARN NativeCodeLoader: Unable to load native-hadoop library for your platform... using builtin-java classes where applicable\n",
      "23/04/08 03:30:12 INFO DefaultNoHARMFailoverProxyProvider: Connecting to ResourceManager at ip-172-31-37-162.ap-southeast-1.compute.internal/172.31.37.162:8032\n",
      "23/04/08 03:30:12 INFO Configuration: resource-types.xml not found\n",
      "23/04/08 03:30:12 INFO ResourceUtils: Unable to find 'resource-types.xml'.\n",
      "23/04/08 03:30:12 INFO Client: Verifying our application has not requested more than the maximum memory capability of the cluster (12288 MB per container)\n",
      "23/04/08 03:30:12 INFO Client: Will allocate AM container, with 2432 MB memory including 384 MB overhead\n",
      "23/04/08 03:30:12 INFO Client: Setting up container launch context for our AM\n",
      "23/04/08 03:30:12 INFO Client: Setting up the launch environment for our AM container\n",
      "23/04/08 03:30:12 INFO Client: Preparing resources for our AM container\n",
      "23/04/08 03:30:12 WARN Client: Neither spark.yarn.jars nor spark.yarn.archive is set, falling back to uploading libraries under SPARK_HOME.\n",
      "23/04/08 03:30:15 INFO Client: Uploading resource file:/mnt/tmp/spark-cdd2700f-9dba-4b81-96fe-ca9ecb914473/__spark_libs__2055157281245084756.zip -> hdfs://ip-172-31-37-162.ap-southeast-1.compute.internal:8020/user/livy/.sparkStaging/application_1680916650044_0002/__spark_libs__2055157281245084756.zip\n",
      "23/04/08 03:30:16 INFO Client: Uploading resource file:/usr/lib/livy/rsc-jars/arpack_combined_all-0.1.jar -> hdfs://ip-172-31-37-162.ap-southeast-1.compute.internal:8020/user/livy/.sparkStaging/application_1680916650044_0002/arpack_combined_all-0.1.jar\n",
      "23/04/08 03:30:16 INFO Client: Uploading resource file:/usr/lib/livy/rsc-jars/core-1.1.2.jar -> hdfs://ip-172-31-37-162.ap-southeast-1.compute.internal:8020/user/livy/.sparkStaging/application_1680916650044_0002/core-1.1.2.jar\n",
      "23/04/08 03:30:16 INFO Client: Uploading resource file:/usr/lib/livy/rsc-jars/jniloader-1.1.jar -> hdfs://ip-172-31-37-162.ap-southeast-1.compute.internal:8020/user/livy/.sparkStaging/application_1680916650044_0002/jniloader-1.1.jar\n",
      "23/04/08 03:30:16 INFO Client: Uploading resource file:/usr/lib/livy/rsc-jars/livy-api-0.7.1-incubating.jar -> hdfs://ip-172-31-37-162.ap-southeast-1.compute.internal:8020/user/livy/.sparkStaging/application_1680916650044_0002/livy-api-0.7.1-incubating.jar\n",
      "23/04/08 03:30:16 INFO Client: Uploading resource file:/usr/lib/livy/rsc-jars/livy-rsc-0.7.1-incubating.jar -> hdfs://ip-172-31-37-162.ap-southeast-1.compute.internal:8020/user/livy/.sparkStaging/application_1680916650044_0002/livy-rsc-0.7.1-incubating.jar\n",
      "23/04/08 03:30:16 INFO Client: Uploading resource file:/usr/lib/livy/rsc-jars/livy-thriftserver-session-0.7.1-incubating.jar -> hdfs://ip-172-31-37-162.ap-southeast-1.compute.internal:8020/user/livy/.sparkStaging/application_1680916650044_0002/livy-thriftserver-session-0.7.1-incubating.jar\n",
      "23/04/08 03:30:16 INFO Client: Uploading resource file:/usr/lib/livy/rsc-jars/native_ref-java-1.1.jar -> hdfs://ip-172-31-37-162.ap-southeast-1.compute.internal:8020/user/livy/.sparkStaging/application_1680916650044_0002/native_ref-java-1.1.jar\n",
      "23/04/08 03:30:16 INFO Client: Uploading resource file:/usr/lib/livy/rsc-jars/native_system-java-1.1.jar -> hdfs://ip-172-31-37-162.ap-southeast-1.compute.internal:8020/user/livy/.sparkStaging/application_1680916650044_0002/native_system-java-1.1.jar\n",
      "23/04/08 03:30:17 INFO Client: Uploading resource file:/usr/lib/livy/rsc-jars/netlib-native_ref-linux-armhf-1.1-natives.jar -> hdfs://ip-172-31-37-162.ap-southeast-1.compute.internal:8020/user/livy/.sparkStaging/application_1680916650044_0002/netlib-native_ref-linux-armhf-1.1-natives.jar\n",
      "23/04/08 03:30:17 INFO Client: Uploading resource file:/usr/lib/livy/rsc-jars/netlib-native_ref-linux-i686-1.1-natives.jar -> hdfs://ip-172-31-37-162.ap-southeast-1.compute.internal:8020/user/livy/.sparkStaging/application_1680916650044_0002/netlib-native_ref-linux-i686-1.1-natives.jar\n",
      "23/04/08 03:30:17 INFO Client: Uploading resource file:/usr/lib/livy/rsc-jars/netlib-native_ref-linux-x86_64-1.1-natives.jar -> hdfs://ip-172-31-37-162.ap-southeast-1.compute.internal:8020/user/livy/.sparkStaging/application_1680916650044_0002/netlib-native_ref-linux-x86_64-1.1-natives.jar\n",
      "23/04/08 03:30:17 INFO Client: Uploading resource file:/usr/lib/livy/rsc-jars/netlib-native_ref-osx-x86_64-1.1-natives.jar -> hdfs://ip-172-31-37-162.ap-southeast-1.compute.internal:8020/user/livy/.sparkStaging/application_1680916650044_0002/netlib-native_ref-osx-x86_64-1.1-natives.jar\n",
      "23/04/08 03:30:17 INFO Client: Uploading resource file:/usr/lib/livy/rsc-jars/netlib-native_ref-win-i686-1.1-natives.jar -> hdfs://ip-172-31-37-162.ap-southeast-1.compute.internal:8020/user/livy/.sparkStaging/application_1680916650044_0002/netlib-native_ref-win-i686-1.1-natives.jar\n",
      "23/04/08 03:30:17 INFO Client: Uploading resource file:/usr/lib/livy/rsc-jars/netlib-native_ref-win-x86_64-1.1-natives.jar -> hdfs://ip-172-31-37-162.ap-southeast-1.compute.internal:8020/user/livy/.sparkStaging/application_1680916650044_0002/netlib-native_ref-win-x86_64-1.1-natives.jar\n",
      "23/04/08 03:30:17 INFO Client: Uploading resource file:/usr/lib/livy/rsc-jars/netlib-native_system-linux-armhf-1.1-natives.jar -> hdfs://ip-172-31-37-162.ap-southeast-1.compute.internal:8020/user/livy/.sparkStaging/application_1680916650044_0002/netlib-native_system-linux-armhf-1.1-natives.jar\n",
      "23/04/08 03:30:17 INFO Client: Uploading resource file:/usr/lib/livy/rsc-jars/netlib-native_system-linux-i686-1.1-natives.jar -> hdfs://ip-172-31-37-162.ap-southeast-1.compute.internal:8020/user/livy/.sparkStaging/application_1680916650044_0002/netlib-native_system-linux-i686-1.1-natives.jar\n",
      "23/04/08 03:30:17 INFO Client: Uploading resource file:/usr/lib/livy/rsc-jars/netlib-native_system-linux-x86_64-1.1-natives.jar -> hdfs://ip-172-31-37-162.ap-southeast-1.compute.internal:8020/user/livy/.sparkStaging/application_1680916650044_0002/netlib-native_system-linux-x86_64-1.1-natives.jar\n",
      "23/04/08 03:30:17 INFO Client: Uploading resource file:/usr/lib/livy/rsc-jars/netlib-native_system-osx-x86_64-1.1-natives.jar -> hdfs://ip-172-31-37-162.ap-southeast-1.compute.internal:8020/user/livy/.sparkStaging/application_1680916650044_0002/netlib-native_system-osx-x86_64-1.1-natives.jar\n",
      "23/04/08 03:30:17 INFO Client: Uploading resource file:/usr/lib/livy/rsc-jars/netlib-native_system-win-i686-1.1-natives.jar -> hdfs://ip-172-31-37-162.ap-southeast-1.compute.internal:8020/user/livy/.sparkStaging/application_1680916650044_0002/netlib-native_system-win-i686-1.1-natives.jar\n",
      "23/04/08 03:30:17 INFO Client: Uploading resource file:/usr/lib/livy/rsc-jars/netlib-native_system-win-x86_64-1.1-natives.jar -> hdfs://ip-172-31-37-162.ap-southeast-1.compute.internal:8020/user/livy/.sparkStaging/application_1680916650044_0002/netlib-native_system-win-x86_64-1.1-natives.jar\n",
      "23/04/08 03:30:17 INFO Client: Uploading resource file:/usr/lib/livy/rsc-jars/netty-all-4.1.17.Final.jar -> hdfs://ip-172-31-37-162.ap-southeast-1.compute.internal:8020/user/livy/.sparkStaging/application_1680916650044_0002/netty-all-4.1.17.Final.jar\n",
      "23/04/08 03:30:17 INFO Client: Uploading resource file:/usr/lib/livy/repl_2.12-jars/commons-codec-1.9.jar -> hdfs://ip-172-31-37-162.ap-southeast-1.compute.internal:8020/user/livy/.sparkStaging/application_1680916650044_0002/commons-codec-1.9.jar\n",
      "23/04/08 03:30:17 INFO Client: Uploading resource file:/usr/lib/livy/repl_2.12-jars/livy-core_2.12-0.7.1-incubating.jar -> hdfs://ip-172-31-37-162.ap-southeast-1.compute.internal:8020/user/livy/.sparkStaging/application_1680916650044_0002/livy-core_2.12-0.7.1-incubating.jar\n",
      "23/04/08 03:30:17 INFO Client: Uploading resource file:/usr/lib/livy/repl_2.12-jars/livy-repl_2.12-0.7.1-incubating.jar -> hdfs://ip-172-31-37-162.ap-southeast-1.compute.internal:8020/user/livy/.sparkStaging/application_1680916650044_0002/livy-repl_2.12-0.7.1-incubating.jar\n",
      "23/04/08 03:30:17 INFO Client: Uploading resource file:/etc/hudi/conf.dist/hudi-defaults.conf -> hdfs://ip-172-31-37-162.ap-southeast-1.compute.internal:8020/user/livy/.sparkStaging/application_1680916650044_0002/hudi-defaults.conf\n",
      "23/04/08 03:30:17 INFO Client: Uploading resource file:/usr/lib/spark/R/lib/sparkr.zip#sparkr -> hdfs://ip-172-31-37-162.ap-southeast-1.compute.internal:8020/user/livy/.sparkStaging/application_1680916650044_0002/sparkr.zip\n",
      "23/04/08 03:30:17 INFO Client: Uploading resource file:/usr/lib/spark/python/lib/pyspark.zip -> hdfs://ip-172-31-37-162.ap-southeast-1.compute.internal:8020/user/livy/.sparkStaging/application_1680916650044_0002/pyspark.zip\n",
      "23/04/08 03:30:17 INFO Client: Uploading resource file:/usr/lib/spark/python/lib/py4j-0.10.9.5-src.zip -> hdfs://ip-172-31-37-162.ap-southeast-1.compute.internal:8020/user/livy/.sparkStaging/application_1680916650044_0002/py4j-0.10.9.5-src.zip\n",
      "23/04/08 03:30:17 INFO Client: Uploading resource file:/mnt/tmp/spark-cdd2700f-9dba-4b81-96fe-ca9ecb914473/__spark_conf__8763799049417668656.zip -> hdfs://ip-172-31-37-162.ap-southeast-1.compute.internal:8020/user/livy/.sparkStaging/application_1680916650044_0002/__spark_conf__.zip\n",
      "23/04/08 03:30:17 INFO SecurityManager: Changing view acls to: livy\n",
      "23/04/08 03:30:17 INFO SecurityManager: Changing modify acls to: livy\n",
      "23/04/08 03:30:17 INFO SecurityManager: Changing view acls groups to: \n",
      "23/04/08 03:30:17 INFO SecurityManager: Changing modify acls groups to: \n",
      "23/04/08 03:30:17 INFO SecurityManager: SecurityManager: authentication disabled; ui acls disabled; users  with view permissions: Set(livy); groups with view permissions: Set(); users  with modify permissions: Set(livy); groups with modify permissions: Set()\n",
      "23/04/08 03:30:18 INFO Client: Submitting application application_1680916650044_0002 to ResourceManager\n",
      "23/04/08 03:30:18 INFO YarnClientImpl: Submitted application application_1680916650044_0002\n",
      "23/04/08 03:30:18 INFO Client: Application report for application_1680916650044_0002 (state: ACCEPTED)\n",
      "23/04/08 03:30:18 INFO Client: \n",
      "\t client token: N/A\n",
      "\t diagnostics: [Sat Apr 08 03:30:18 +0000 2023] Application is Activated, waiting for resources to be assigned for AM.  Details : AM Partition = <DEFAULT_PARTITION> ; Partition Resource = <memory:61440, vCores:20> ; Queue's Absolute capacity = 100.0 % ; Queue's Absolute used capacity = 0.0 % ; Queue's Absolute max capacity = 100.0 % ; Queue's capacity (absolute resource) = <memory:61440, vCores:20> ; Queue's used capacity (absolute resource) = <memory:0, vCores:0> ; Queue's max capacity (absolute resource) = <memory:61440, vCores:20> ; \n",
      "\t ApplicationMaster host: N/A\n",
      "\t ApplicationMaster RPC port: -1\n",
      "\t queue: default\n",
      "\t start time: 1680924618089\n",
      "\t final status: UNDEFINED\n",
      "\t tracking URL: http://ip-172-31-37-162.ap-southeast-1.compute.internal:20888/proxy/application_1680916650044_0002/\n",
      "\t user: livy\n",
      "23/04/08 03:30:18 INFO ShutdownHookManager: Shutdown hook called\n",
      "23/04/08 03:30:18 INFO ShutdownHookManager: Deleting directory /mnt/tmp/spark-cdd2700f-9dba-4b81-96fe-ca9ecb914473\n",
      "23/04/08 03:30:18 INFO ShutdownHookManager: Deleting directory /mnt/tmp/spark-21a85c60-3c89-493a-b5c7-31fd293e90ff\n",
      "\n",
      "YARN Diagnostics: \n",
      "Application application_1680916650044_0002 failed 1 times (global limit =2; local limit is =1) due to AM Container for appattempt_1680916650044_0002_000001 exited with  exitCode: 137\n",
      "Failing this attempt.Diagnostics: [2023-04-08 03:59:16.438]Container killed on request. Exit code is 137\n",
      "[2023-04-08 03:59:16.438]Container exited with a non-zero exit code 137. \n",
      "[2023-04-08 03:59:16.439]Killed by external signal\n",
      "For more detailed output, check the application tracking page: http://ip-172-31-37-162.ap-southeast-1.compute.internal:8088/cluster/app/application_1680916650044_0002 Then click on links to logs of each attempt.\n",
      ". Failing the application.\n"
     ]
    }
   ],
   "source": [
    "pokemon_inf.count()"
   ]
  },
  {
   "cell_type": "code",
   "execution_count": null,
   "metadata": {},
   "outputs": [
    {
     "data": {
      "application/vnd.jupyter.widget-view+json": {
       "model_id": "b9d3ebc68ae341d38a0824d7a65f2f1d",
       "version_major": 2,
       "version_minor": 0
      },
      "text/plain": [
       "VBox()"
      ]
     },
     "metadata": {},
     "output_type": "display_data"
    },
    {
     "data": {
      "application/vnd.jupyter.widget-view+json": {
       "model_id": "",
       "version_major": 2,
       "version_minor": 0
      },
      "text/plain": [
       "FloatProgress(value=0.0, bar_style='info', description='Progress:', layout=Layout(height='25px', width='50%'),…"
      ]
     },
     "metadata": {},
     "output_type": "display_data"
    },
    {
     "name": "stdout",
     "output_type": "stream",
     "text": [
      "34"
     ]
    }
   ],
   "source": [
    "diff.count()"
   ]
  },
  {
   "cell_type": "code",
   "execution_count": null,
   "metadata": {},
   "outputs": [],
   "source": []
  },
  {
   "cell_type": "code",
   "execution_count": null,
   "metadata": {},
   "outputs": [
    {
     "data": {
      "application/vnd.jupyter.widget-view+json": {
       "model_id": "15056719478b4a9da5bd1e659ee73c52",
       "version_major": 2,
       "version_minor": 0
      },
      "text/plain": [
       "VBox()"
      ]
     },
     "metadata": {},
     "output_type": "display_data"
    },
    {
     "data": {
      "application/vnd.jupyter.widget-view+json": {
       "model_id": "",
       "version_major": 2,
       "version_minor": 0
      },
      "text/plain": [
       "FloatProgress(value=0.0, bar_style='info', description='Progress:', layout=Layout(height='25px', width='50%'),…"
      ]
     },
     "metadata": {},
     "output_type": "display_data"
    },
    {
     "name": "stdout",
     "output_type": "stream",
     "text": [
      "+-------------------+\n",
      "|        user_id_str|\n",
      "+-------------------+\n",
      "|          130447415|\n",
      "|         2786677338|\n",
      "|          307902310|\n",
      "| 811765148595535872|\n",
      "|          323091128|\n",
      "|           29758446|\n",
      "| 909119962572242944|\n",
      "|            5162861|\n",
      "| 987228577522376704|\n",
      "|1470439914953011204|\n",
      "|         3095001124|\n",
      "|1349579108187992071|\n",
      "|1441557548427927554|\n",
      "|1441557548427927554|\n",
      "|          252087695|\n",
      "|         1149178590|\n",
      "|         2597010860|\n",
      "|             890891|\n",
      "|1365337673074933765|\n",
      "|1432825944259973123|\n",
      "+-------------------+\n",
      "only showing top 20 rows"
     ]
    }
   ],
   "source": [
    "diff.show()"
   ]
  },
  {
   "cell_type": "code",
   "execution_count": null,
   "metadata": {},
   "outputs": [
    {
     "data": {
      "application/vnd.jupyter.widget-view+json": {
       "model_id": "91acdfc760a0431b8406c4585f34c1d4",
       "version_major": 2,
       "version_minor": 0
      },
      "text/plain": [
       "VBox()"
      ]
     },
     "metadata": {},
     "output_type": "display_data"
    },
    {
     "data": {
      "application/vnd.jupyter.widget-view+json": {
       "model_id": "",
       "version_major": 2,
       "version_minor": 0
      },
      "text/plain": [
       "FloatProgress(value=0.0, bar_style='info', description='Progress:', layout=Layout(height='25px', width='50%'),…"
      ]
     },
     "metadata": {},
     "output_type": "display_data"
    },
    {
     "name": "stderr",
     "output_type": "stream",
     "text": [
      "An error was encountered:\n",
      "name 'user_join' is not defined\n",
      "Traceback (most recent call last):\n",
      "NameError: name 'user_join' is not defined\n",
      "\n"
     ]
    }
   ],
   "source": [
    "user_join.show()"
   ]
  },
  {
   "cell_type": "code",
   "execution_count": null,
   "metadata": {},
   "outputs": [
    {
     "data": {
      "application/vnd.jupyter.widget-view+json": {
       "model_id": "fc0623a7479a4e46851a64962f078d87",
       "version_major": 2,
       "version_minor": 0
      },
      "text/plain": [
       "VBox()"
      ]
     },
     "metadata": {},
     "output_type": "display_data"
    },
    {
     "data": {
      "application/vnd.jupyter.widget-view+json": {
       "model_id": "",
       "version_major": 2,
       "version_minor": 0
      },
      "text/plain": [
       "FloatProgress(value=0.0, bar_style='info', description='Progress:', layout=Layout(height='25px', width='50%'),…"
      ]
     },
     "metadata": {},
     "output_type": "display_data"
    },
    {
     "name": "stdout",
     "output_type": "stream",
     "text": [
      "+-------------------+-------------------+--------+---------------+-------------+----------------+--------------+--------------------+--------------------+-----------+--------------+-------------------------------------------------------+\n",
      "|        user_id_str|user_twitter_handle|verified|followers_count|friends_count|favourites_count|statuses_count|          created_at|    tweet_created_at|create_rank|retweets_count|((retweets_count + favourites_count) / followers_count)|\n",
      "+-------------------+-------------------+--------+---------------+-------------+----------------+--------------+--------------------+--------------------+-----------+--------------+-------------------------------------------------------+\n",
      "|1409917553514848257|        PokemonGems|   false|          48683|          383|            6517|          1041|Tue Jun 29 16:52:...|Tue Feb 15 23:27:...|          1|             0|                                    0.13386603126348007|\n",
      "|           19426551|                NFL|    true|       28837319|         2723|            3080|        234547|Sat Jan 24 01:28:...|Tue Feb 15 22:55:...|          1|             0|                                   1.068060453192614...|\n",
      "|           26257166|       SportsCenter|    true|       39519520|          732|            1984|        132561|Tue Mar 24 15:28:...|Tue Feb 15 21:38:...|          1|             0|                                   5.020303890330652E-5|\n",
      "|           34429906|     SoulRebornGame|   false|          72990|           59|             210|            99|Wed Apr 22 22:48:...|Tue Feb 15 08:44:...|          1|             0|                                   0.002877106452938759|\n",
      "|1200355745600069635|       GiveAwayHost|   false|         308830|          798|            7874|         40311|Fri Nov 29 10:08:...|Tue Feb 15 21:55:...|          1|             0|                                   0.025496227698086325|\n",
      "|1156269110545793024|       ladyincrypto|   false|         353342|          726|            1546|         13953|Tue Jul 30 18:23:...|Tue Feb 15 06:52:...|          1|             0|                                   0.004375364377854...|\n",
      "|         4920946291|        sof1azara03|   false|         282622|         3404|           22789|         72950|Wed Feb 17 12:34:...|Tue Feb 15 22:52:...|          1|             0|                                     0.0806342039897814|\n",
      "|          501558917|           TheJenus|   false|        1048839|         1019|            7316|          5945|Fri Feb 24 07:53:...|Tue Feb 15 23:02:...|          1|             0|                                    0.00697533177160651|\n",
      "|            7157132|           GameSpot|    true|        4670967|          707|           21694|        155232|Fri Jun 29 17:54:...|Tue Feb 15 21:46:...|          1|             0|                                   0.004644434439378...|\n",
      "|1483999454244274178|       ashward_game|   false|          54211|            4|              17|            27|Thu Jan 20 03:07:...|Tue Feb 15 09:49:...|          1|             0|                                   3.135894929073435...|\n",
      "|1449414811436023812|      chitaglorya__|   false|         231770|          441|             296|         12526|Sat Oct 16 16:40:...|Tue Feb 15 10:17:...|          1|             0|                                   0.001277128187427...|\n",
      "|            5921162|            famitsu|    true|         902131|        44835|              70|        265474|Thu May 10 05:03:...|Tue Feb 15 06:30:...|          1|             0|                                   7.759405230504218E-5|\n",
      "|           18927441|                IGN|    true|        8618524|         1372|           16341|        160711|Tue Jan 13 03:56:...|Tue Feb 15 16:01:...|          1|             0|                                   0.001896032313653707|\n",
      "|          297169759|      SamsungMobile|    true|       12443079|          424|             522|          8772|Thu May 12 01:59:...|Tue Feb 15 09:33:...|          1|             0|                                   4.195103157345541E-5|\n",
      "|1302006102364745728|      strokegamexxx|   false|         185542|         1917|            1310|         71732|Fri Sep 04 22:10:...|Tue Feb 15 18:02:...|          1|             0|                                   0.007060396028931...|\n",
      "|1235177017441529861|           game7400|   false|          18430|         2215|            8277|          7677|Wed Mar 04 12:15:...|Tue Feb 15 15:23:...|          1|             0|                                    0.44910472056429734|\n",
      "+-------------------+-------------------+--------+---------------+-------------+----------------+--------------+--------------------+--------------------+-----------+--------------+-------------------------------------------------------+"
     ]
    }
   ],
   "source": [
    "pokemon_inf.show()"
   ]
  },
  {
   "cell_type": "code",
   "execution_count": null,
   "metadata": {},
   "outputs": [],
   "source": []
  },
  {
   "cell_type": "code",
   "execution_count": null,
   "metadata": {},
   "outputs": [],
   "source": [
    "# IER = (retweets + favorites) / followers"
   ]
  },
  {
   "cell_type": "code",
   "execution_count": null,
   "metadata": {},
   "outputs": [
    {
     "data": {
      "application/vnd.jupyter.widget-view+json": {
       "model_id": "5063aa2a6a6c4606a5546c05772b8cb0",
       "version_major": 2,
       "version_minor": 0
      },
      "text/plain": [
       "VBox()"
      ]
     },
     "metadata": {},
     "output_type": "display_data"
    },
    {
     "data": {
      "application/vnd.jupyter.widget-view+json": {
       "model_id": "",
       "version_major": 2,
       "version_minor": 0
      },
      "text/plain": [
       "FloatProgress(value=0.0, bar_style='info', description='Progress:', layout=Layout(height='25px', width='50%'),…"
      ]
     },
     "metadata": {},
     "output_type": "display_data"
    },
    {
     "name": "stdout",
     "output_type": "stream",
     "text": [
      "+-------------+--------------+\n",
      "|retweet_count|favorite_count|\n",
      "+-------------+--------------+\n",
      "|            0|             0|\n",
      "|            0|             0|\n",
      "|            0|             0|\n",
      "|            0|             0|\n",
      "|            0|             0|\n",
      "|            0|             0|\n",
      "|            0|             0|\n",
      "|            0|             0|\n",
      "|            0|             0|\n",
      "|            0|             0|\n",
      "|            0|             0|\n",
      "|            0|             0|\n",
      "|            0|             0|\n",
      "|            0|             0|\n",
      "|            0|             0|\n",
      "|            0|             0|\n",
      "|            0|             0|\n",
      "|            0|             0|\n",
      "|            0|             0|\n",
      "|            0|             0|\n",
      "+-------------+--------------+\n",
      "only showing top 20 rows"
     ]
    }
   ],
   "source": [
    "# raw.select().show()"
   ]
  },
  {
   "cell_type": "code",
   "execution_count": null,
   "metadata": {},
   "outputs": [],
   "source": [
    "from pyspark.sql.functions import sum, first\n",
    "\n",
    "# Filter DataFrame to include only tweets by a particular influencer\n",
    "influencer_tweets = tweets_df.filter(tweets_df.user_id == influencer_id)\n",
    "\n",
    "# Calculate total number of retweets and favorites for the influencer's tweets\n",
    "total_retweets = influencer_tweets.agg(sum(\"retweets\")).first()[0]\n",
    "total_favorites = influencer_tweets.agg(sum(\"favorites\")).first()[0]\n",
    "\n",
    "# Get the number of followers for the influencer\n",
    "follower_count = influencer_tweets.select(\"followers\").distinct().first()[0]\n",
    "\n",
    "# Calculate the IER\n",
    "ier = (total_retweets + total_favorites) / follower_count"
   ]
  },
  {
   "cell_type": "code",
   "execution_count": null,
   "metadata": {},
   "outputs": [],
   "source": []
  },
  {
   "cell_type": "code",
   "execution_count": null,
   "metadata": {},
   "outputs": [],
   "source": []
  },
  {
   "cell_type": "code",
   "execution_count": null,
   "metadata": {},
   "outputs": [],
   "source": []
  },
  {
   "cell_type": "code",
   "execution_count": null,
   "metadata": {},
   "outputs": [],
   "source": []
  },
  {
   "cell_type": "code",
   "execution_count": null,
   "metadata": {},
   "outputs": [],
   "source": [
    "diff.count(), pokemon_inf.count()"
   ]
  },
  {
   "cell_type": "code",
   "execution_count": null,
   "metadata": {},
   "outputs": [
    {
     "data": {
      "application/vnd.jupyter.widget-view+json": {
       "model_id": "fba1e239fda44f16bb21f0b56a694bb6",
       "version_major": 2,
       "version_minor": 0
      },
      "text/plain": [
       "VBox()"
      ]
     },
     "metadata": {},
     "output_type": "display_data"
    },
    {
     "data": {
      "application/vnd.jupyter.widget-view+json": {
       "model_id": "",
       "version_major": 2,
       "version_minor": 0
      },
      "text/plain": [
       "FloatProgress(value=0.0, bar_style='info', description='Progress:', layout=Layout(height='25px', width='50%'),…"
      ]
     },
     "metadata": {},
     "output_type": "display_data"
    },
    {
     "name": "stdout",
     "output_type": "stream",
     "text": [
      "False"
     ]
    }
   ],
   "source": [
    "pokemon.count() == 0"
   ]
  },
  {
   "cell_type": "code",
   "execution_count": null,
   "metadata": {},
   "outputs": [
    {
     "data": {
      "application/vnd.jupyter.widget-view+json": {
       "model_id": "7f69d9a2443b4383a562ad7832630535",
       "version_major": 2,
       "version_minor": 0
      },
      "text/plain": [
       "VBox()"
      ]
     },
     "metadata": {},
     "output_type": "display_data"
    },
    {
     "data": {
      "application/vnd.jupyter.widget-view+json": {
       "model_id": "",
       "version_major": 2,
       "version_minor": 0
      },
      "text/plain": [
       "FloatProgress(value=0.0, bar_style='info', description='Progress:', layout=Layout(height='25px', width='50%'),…"
      ]
     },
     "metadata": {},
     "output_type": "display_data"
    },
    {
     "name": "stdout",
     "output_type": "stream",
     "text": [
      "+-------------------+-------------------+--------+---------------+-------------+----------------+--------------+--------------------+--------------------+-----------+\n",
      "|        user_id_str|user_twitter_handle|verified|followers_count|friends_count|favourites_count|statuses_count|          created_at|    tweet_created_at|create_rank|\n",
      "+-------------------+-------------------+--------+---------------+-------------+----------------+--------------+--------------------+--------------------+-----------+\n",
      "|1235177017441529861|           game7400|   false|          18430|         2215|            8277|          7677|Wed Mar 04 12:15:...|Tue Feb 15 15:23:...|          1|\n",
      "|1483999454244274178|       ashward_game|   false|          54211|            4|              17|            27|Thu Jan 20 03:07:...|Tue Feb 15 09:49:...|          1|\n",
      "|           19426551|                NFL|    true|       28837319|         2723|            3080|        234547|Sat Jan 24 01:28:...|Tue Feb 15 22:55:...|          1|\n",
      "|            5921162|            famitsu|    true|         902131|        44835|              70|        265474|Thu May 10 05:03:...|Tue Feb 15 06:30:...|          1|\n",
      "|           34429906|     SoulRebornGame|   false|          72990|           59|             210|            99|Wed Apr 22 22:48:...|Tue Feb 15 08:44:...|          1|\n",
      "|          297169759|      SamsungMobile|    true|       12443079|          424|             522|          8772|Thu May 12 01:59:...|Tue Feb 15 09:33:...|          1|\n",
      "|1302006102364745728|      strokegamexxx|   false|         185542|         1917|            1310|         71732|Fri Sep 04 22:10:...|Tue Feb 15 18:02:...|          1|\n",
      "|1200355745600069635|       GiveAwayHost|   false|         308830|          798|            7874|         40311|Fri Nov 29 10:08:...|Tue Feb 15 21:55:...|          1|\n",
      "|1156269110545793024|       ladyincrypto|   false|         353342|          726|            1546|         13953|Tue Jul 30 18:23:...|Tue Feb 15 06:52:...|          1|\n",
      "|           18927441|                IGN|    true|        8618524|         1372|           16341|        160711|Tue Jan 13 03:56:...|Tue Feb 15 16:01:...|          1|\n",
      "|          501558917|           TheJenus|   false|        1048839|         1019|            7316|          5945|Fri Feb 24 07:53:...|Tue Feb 15 23:02:...|          1|\n",
      "|            7157132|           GameSpot|    true|        4670967|          707|           21694|        155232|Fri Jun 29 17:54:...|Tue Feb 15 21:46:...|          1|\n",
      "|1409917553514848257|        PokemonGems|   false|          48683|          383|            6517|          1041|Tue Jun 29 16:52:...|Tue Feb 15 23:27:...|          1|\n",
      "|         4920946291|        sof1azara03|   false|         282622|         3404|           22789|         72950|Wed Feb 17 12:34:...|Tue Feb 15 22:52:...|          1|\n",
      "|1449414811436023812|      chitaglorya__|   false|         231770|          441|             296|         12526|Sat Oct 16 16:40:...|Tue Feb 15 10:17:...|          1|\n",
      "|           26257166|       SportsCenter|    true|       39519520|          732|            1984|        132561|Tue Mar 24 15:28:...|Tue Feb 15 21:38:...|          1|\n",
      "+-------------------+-------------------+--------+---------------+-------------+----------------+--------------+--------------------+--------------------+-----------+"
     ]
    }
   ],
   "source": [
    "pokemon_inf.show()"
   ]
  },
  {
   "cell_type": "code",
   "execution_count": null,
   "metadata": {},
   "outputs": [
    {
     "data": {
      "application/vnd.jupyter.widget-view+json": {
       "model_id": "2e2e8201e0224084859563fd216e4188",
       "version_major": 2,
       "version_minor": 0
      },
      "text/plain": [
       "VBox()"
      ]
     },
     "metadata": {},
     "output_type": "display_data"
    },
    {
     "data": {
      "application/vnd.jupyter.widget-view+json": {
       "model_id": "",
       "version_major": 2,
       "version_minor": 0
      },
      "text/plain": [
       "FloatProgress(value=0.0, bar_style='info', description='Progress:', layout=Layout(height='25px', width='50%'),…"
      ]
     },
     "metadata": {},
     "output_type": "display_data"
    }
   ],
   "source": []
  },
  {
   "cell_type": "code",
   "execution_count": null,
   "metadata": {},
   "outputs": [
    {
     "data": {
      "application/vnd.jupyter.widget-view+json": {
       "model_id": "2173744a2dcf41cdb4a2d82674c5f988",
       "version_major": 2,
       "version_minor": 0
      },
      "text/plain": [
       "VBox()"
      ]
     },
     "metadata": {},
     "output_type": "display_data"
    },
    {
     "data": {
      "application/vnd.jupyter.widget-view+json": {
       "model_id": "",
       "version_major": 2,
       "version_minor": 0
      },
      "text/plain": [
       "FloatProgress(value=0.0, bar_style='info', description='Progress:', layout=Layout(height='25px', width='50%'),…"
      ]
     },
     "metadata": {},
     "output_type": "display_data"
    },
    {
     "name": "stdout",
     "output_type": "stream",
     "text": [
      "+-------------------+-------------------+--------+---------------+-------------+----------------+--------------+--------------------+--------------------+-----------+\n",
      "|        user_id_str|user_twitter_handle|verified|followers_count|friends_count|favourites_count|statuses_count|          created_at|    tweet_created_at|create_rank|\n",
      "+-------------------+-------------------+--------+---------------+-------------+----------------+--------------+--------------------+--------------------+-----------+\n",
      "|1235177017441529861|           game7400|   false|          18430|         2215|            8277|          7677|Wed Mar 04 12:15:...|Tue Feb 15 15:23:...|          1|\n",
      "|1483999454244274178|       ashward_game|   false|          54211|            4|              17|            27|Thu Jan 20 03:07:...|Tue Feb 15 09:49:...|          1|\n",
      "|           19426551|                NFL|    true|       28837319|         2723|            3080|        234547|Sat Jan 24 01:28:...|Tue Feb 15 22:55:...|          1|\n",
      "|            5921162|            famitsu|    true|         902131|        44835|              70|        265474|Thu May 10 05:03:...|Tue Feb 15 06:30:...|          1|\n",
      "|           34429906|     SoulRebornGame|   false|          72990|           59|             210|            99|Wed Apr 22 22:48:...|Tue Feb 15 08:44:...|          1|\n",
      "|          297169759|      SamsungMobile|    true|       12443079|          424|             522|          8772|Thu May 12 01:59:...|Tue Feb 15 09:33:...|          1|\n",
      "|1302006102364745728|      strokegamexxx|   false|         185542|         1917|            1310|         71732|Fri Sep 04 22:10:...|Tue Feb 15 18:02:...|          1|\n",
      "|1200355745600069635|       GiveAwayHost|   false|         308830|          798|            7874|         40311|Fri Nov 29 10:08:...|Tue Feb 15 21:55:...|          1|\n",
      "|1156269110545793024|       ladyincrypto|   false|         353342|          726|            1546|         13953|Tue Jul 30 18:23:...|Tue Feb 15 06:52:...|          1|\n",
      "|           18927441|                IGN|    true|        8618524|         1372|           16341|        160711|Tue Jan 13 03:56:...|Tue Feb 15 16:01:...|          1|\n",
      "|          501558917|           TheJenus|   false|        1048839|         1019|            7316|          5945|Fri Feb 24 07:53:...|Tue Feb 15 23:02:...|          1|\n",
      "|            7157132|           GameSpot|    true|        4670967|          707|           21694|        155232|Fri Jun 29 17:54:...|Tue Feb 15 21:46:...|          1|\n",
      "|1409917553514848257|        PokemonGems|   false|          48683|          383|            6517|          1041|Tue Jun 29 16:52:...|Tue Feb 15 23:27:...|          1|\n",
      "|         4920946291|        sof1azara03|   false|         282622|         3404|           22789|         72950|Wed Feb 17 12:34:...|Tue Feb 15 22:52:...|          1|\n",
      "|1449414811436023812|      chitaglorya__|   false|         231770|          441|             296|         12526|Sat Oct 16 16:40:...|Tue Feb 15 10:17:...|          1|\n",
      "|           26257166|       SportsCenter|    true|       39519520|          732|            1984|        132561|Tue Mar 24 15:28:...|Tue Feb 15 21:38:...|          1|\n",
      "+-------------------+-------------------+--------+---------------+-------------+----------------+--------------+--------------------+--------------------+-----------+"
     ]
    }
   ],
   "source": [
    "res.show()"
   ]
  },
  {
   "cell_type": "code",
   "execution_count": null,
   "metadata": {},
   "outputs": [
    {
     "data": {
      "application/vnd.jupyter.widget-view+json": {
       "model_id": "581e807ce0c9471fb12421071f34d222",
       "version_major": 2,
       "version_minor": 0
      },
      "text/plain": [
       "VBox()"
      ]
     },
     "metadata": {},
     "output_type": "display_data"
    },
    {
     "data": {
      "application/vnd.jupyter.widget-view+json": {
       "model_id": "",
       "version_major": 2,
       "version_minor": 0
      },
      "text/plain": [
       "FloatProgress(value=0.0, bar_style='info', description='Progress:', layout=Layout(height='25px', width='50%'),…"
      ]
     },
     "metadata": {},
     "output_type": "display_data"
    },
    {
     "name": "stdout",
     "output_type": "stream",
     "text": [
      "16"
     ]
    }
   ],
   "source": [
    "res.count()"
   ]
  },
  {
   "cell_type": "code",
   "execution_count": null,
   "metadata": {},
   "outputs": [
    {
     "data": {
      "application/vnd.jupyter.widget-view+json": {
       "model_id": "70bc5ccb57c449f2a1cfac7923f5fa17",
       "version_major": 2,
       "version_minor": 0
      },
      "text/plain": [
       "VBox()"
      ]
     },
     "metadata": {},
     "output_type": "display_data"
    },
    {
     "data": {
      "application/vnd.jupyter.widget-view+json": {
       "model_id": "",
       "version_major": 2,
       "version_minor": 0
      },
      "text/plain": [
       "FloatProgress(value=0.0, bar_style='info', description='Progress:', layout=Layout(height='25px', width='50%'),…"
      ]
     },
     "metadata": {},
     "output_type": "display_data"
    },
    {
     "name": "stdout",
     "output_type": "stream",
     "text": [
      "--------------------user_filter--------------------"
     ]
    }
   ],
   "source": [
    "print(\"-\"*20 + \"user_filter\" + \"-\"*20)\n"
   ]
  },
  {
   "cell_type": "code",
   "execution_count": null,
   "metadata": {},
   "outputs": [],
   "source": []
  }
 ],
 "metadata": {
  "kernelspec": {
   "display_name": "PySpark",
   "language": "python",
   "name": "pysparkkernel"
  },
  "language_info": {
   "codemirror_mode": {
    "name": "python",
    "version": 3
   },
   "file_extension": ".py",
   "mimetype": "text/x-python",
   "name": "pyspark",
   "pygments_lexer": "python3"
  }
 },
 "nbformat": 4,
 "nbformat_minor": 4
}
